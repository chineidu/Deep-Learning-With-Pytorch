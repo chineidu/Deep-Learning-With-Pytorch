{
 "cells": [
  {
   "cell_type": "markdown",
   "metadata": {},
   "source": [
    "# Transfer Learning\n",
    "\n",
    "```text\n",
    "- Transfer learning is a machine learning technique where a model trained on a source task is reused as the starting point for a model on a related target task. \n",
    "- This can be done by freezing the weights of the pretrained model and then fine-tuning them on the target task.\n",
    "\n",
    "Benefits\n",
    "--------\n",
    "- It can improve the performance of machine learning models on a variety of tasks.\n",
    "- It can be especially useful when there is limited data available for the target task.\n",
    "- It can save time and resources by reusing a pretrained model.\n",
    "\n",
    "Challenges\n",
    "----------\n",
    "- The pretrained model may not be suitable for the target task.\n",
    "- The pretrained model may need to be fine-tuned on the target task, which can be time-consuming.\n",
    "- The pretrained model may not be available for the specific task at hand.\n",
    "```"
   ]
  },
  {
   "cell_type": "code",
   "execution_count": 22,
   "metadata": {},
   "outputs": [
    {
     "name": "stdout",
     "output_type": "stream",
     "text": [
      "The lab_black extension is already loaded. To reload it, use:\n",
      "  %reload_ext lab_black\n",
      "The autoreload extension is already loaded. To reload it, use:\n",
      "  %reload_ext autoreload\n"
     ]
    }
   ],
   "source": [
    "# Built-in library\n",
    "import copy\n",
    "import logging\n",
    "from typing import Any, Optional, Sequence, Union\n",
    "\n",
    "# Standard imports\n",
    "import numpy as np\n",
    "import numpy.typing as npt\n",
    "import pandas as pd\n",
    "from sklearn.model_selection import train_test_split\n",
    "import torch\n",
    "from torch import nn\n",
    "import torch.nn.functional as F\n",
    "from torchsummary import summary\n",
    "from torch.utils.data import DataLoader, TensorDataset, random_split\n",
    "from torchvision.datasets import FashionMNIST, MNIST, CIFAR10\n",
    "from torchvision import datasets\n",
    "import torchvision.transforms as T\n",
    "from tqdm.auto import tqdm\n",
    "import matplotlib.pyplot as plt\n",
    "\n",
    "# Configure the backend\n",
    "import matplotlib_inline.backend_inline\n",
    "\n",
    "# Pandas settings\n",
    "pd.options.display.max_rows = 1_000\n",
    "pd.options.display.max_columns = 1_000\n",
    "pd.options.display.max_colwidth = 2_000\n",
    "\n",
    "matplotlib_inline.backend_inline.set_matplotlib_formats(\"svg\")\n",
    "import seaborn as sns\n",
    "\n",
    "# Custom import\n",
    "from src.utilities import (\n",
    "    set_up_logger,\n",
    "    create_iris_data,\n",
    "    create_qwerties_data,\n",
    "    smooth,\n",
    ")\n",
    "from src.data_manager import (\n",
    "    load_data,\n",
    "    create_data_loader,\n",
    "    split_into_train_n_validation,\n",
    ")\n",
    "from src.preprocessor import Standardizer, Normalizer\n",
    "\n",
    "\n",
    "# Black code formatter (Optional)\n",
    "%load_ext lab_black\n",
    "# auto reload imports\n",
    "%load_ext autoreload\n",
    "%autoreload 2"
   ]
  },
  {
   "cell_type": "markdown",
   "metadata": {},
   "source": [
    "## 1. Transfer The Weights of MNSIT Digits Model To FMNIST Model\n",
    "\n",
    "<br>\n",
    "\n",
    "#### Load Data"
   ]
  },
  {
   "cell_type": "code",
   "execution_count": 2,
   "metadata": {},
   "outputs": [],
   "source": [
    "# MNIST Data\n",
    "fp = \"../../data/mnist_digit\"\n",
    "\n",
    "# Chain multiple transformations\n",
    "transform = T.Compose(\n",
    "    [\n",
    "        # Convert to PyTorch tensors\n",
    "        T.ToTensor(),\n",
    "        #  It performs per-channel normalization, where each channel\n",
    "        # (e.g., red, green, blue for an RGB image) is normalized independently.\n",
    "        # Since it's a single channel, we have (0.5,)\n",
    "        T.Normalize(mean=(0.5,), std=(0.5,)),\n",
    "    ]\n",
    ")\n",
    "\n",
    "train_data = MNIST(root=fp, train=True, transform=transform, download=True)\n",
    "test_data = MNIST(root=fp, train=False, transform=transform, download=True)\n",
    "\n",
    "train_size = int(0.8 * len(train_data))  # 80% of training data\n",
    "val_size = len(train_data) - train_size  # 20% of training data\n",
    "batch_size = 64\n",
    "\n",
    "# Split the training dataset into training and validation sets\n",
    "train_dataset, val_dataset = random_split(\n",
    "    dataset=train_data,\n",
    "    lengths=[train_size, val_size],\n",
    ")\n",
    "\n",
    "# Create DataLoader for each dataset\n",
    "train_loader_mnist = DataLoader(train_dataset, batch_size=batch_size, shuffle=True)\n",
    "val_loader_mnist = DataLoader(val_dataset, batch_size=batch_size)\n",
    "test_loader_mnist = DataLoader(test_data, batch_size=batch_size)"
   ]
  },
  {
   "cell_type": "code",
   "execution_count": 3,
   "metadata": {},
   "outputs": [],
   "source": [
    "# Fashion MNIST Data\n",
    "fp = \"../../data/fashion_mnist\"\n",
    "\n",
    "# Chain multiple transformations\n",
    "transform = T.Compose(\n",
    "    [\n",
    "        # Convert to PyTorch tensors\n",
    "        T.ToTensor(),\n",
    "        #  It performs per-channel normalization, where each channel\n",
    "        # (e.g., red, green, blue for an RGB image) is normalized independently.\n",
    "        # Since it's a single channel, we have (0.5,)\n",
    "        T.Normalize(mean=(0.5,), std=(0.5,)),\n",
    "    ]\n",
    ")\n",
    "\n",
    "train_data = FashionMNIST(root=fp, train=True, transform=transform, download=True)\n",
    "test_data = FashionMNIST(root=fp, train=False, transform=transform, download=True)\n",
    "\n",
    "train_size = int(0.8 * len(train_data))  # 80% of training data\n",
    "val_size = len(train_data) - train_size  # 20% of training data\n",
    "batch_size = 64\n",
    "\n",
    "# Split the training dataset into training and validation sets\n",
    "train_dataset, val_dataset = random_split(\n",
    "    dataset=train_data,\n",
    "    lengths=[train_size, val_size],\n",
    ")\n",
    "\n",
    "# Create DataLoader for each dataset\n",
    "train_loader_f_mnist = DataLoader(train_dataset, batch_size=batch_size, shuffle=True)\n",
    "val_loader_f_mnist = DataLoader(val_dataset, batch_size=batch_size)\n",
    "test_loader_f_mnist = DataLoader(test_data, batch_size=batch_size)"
   ]
  },
  {
   "cell_type": "code",
   "execution_count": 4,
   "metadata": {},
   "outputs": [
    {
     "data": {
      "text/plain": [
       "torch.Size([60000, 28, 28])"
      ]
     },
     "execution_count": 4,
     "metadata": {},
     "output_type": "execute_result"
    }
   ],
   "source": [
    "train_data.data.shape"
   ]
  },
  {
   "cell_type": "code",
   "execution_count": 5,
   "metadata": {},
   "outputs": [],
   "source": [
    "# Set random seeds for reproducibility\n",
    "RANDOM_STATE = 123\n",
    "\n",
    "torch.manual_seed(RANDOM_STATE)\n",
    "torch.cuda.manual_seed(RANDOM_STATE)\n",
    "np.random.seed(RANDOM_STATE)\n",
    "\n",
    "\n",
    "# Each MNSIT image is 1x28x28, so it is an 2D array [28,28]\n",
    "# I'll flatten the image as vector dim=1*28*28\n",
    "input_size = 1 * 28 * 28\n",
    "num_classes = 10\n",
    "num_epochs = 5\n",
    "batch_size = 64\n",
    "learning_rate = 0.001"
   ]
  },
  {
   "cell_type": "markdown",
   "metadata": {},
   "source": [
    "<hr><br>\n",
    "\n",
    "### Steps For Calculating The Output of The Layer \n",
    "\n",
    "#### Formula For The Size of Image At The Current Layer\n",
    "\n",
    "$$ N = \\lfloor{(\\frac{M + 2p - k}{S})}\\rfloor + 1$$\n",
    "\n",
    "```text\n",
    "N = Number of pixels in the current layer.\n",
    "M = Number of pixels in the previous layer.\n",
    "2p = Padding (it's multiplied by 2 because it's symmetric)\n",
    "K = Number of pixels in the kernel/filter.\n",
    "S = Stride parameter\n",
    "⌊⌋ = floor (i.e 2.2 becomes 2.0)\n",
    "```\n",
    "<br>\n",
    "\n",
    "```python\n",
    "class CNNModel(nn.Module):\n",
    "    def __init__(self, display_shape: bool = False) -> None:\n",
    "        super().__init__()\n",
    "        self.display_shape = display_shape\n",
    "        # Conv layer\n",
    "        self.conv_1 = nn.Conv2d(\n",
    "            in_channels=1, out_channels=10, kernel_size=5, stride=1, padding=1\n",
    "        )\n",
    "        # Size of the output of the conv layer (equation is shown above)\n",
    "        # Step 1\n",
    "        # NB: 28 (this is the size of the image. i.e 28X28)\n",
    "        # size_1 = np.floor((28 + (2*1) - 5) / 1 ) + 1 = 26/2 = 13 (/2 cox of maxpool)\n",
    "\n",
    "        self.conv_2 = nn.Conv2d(\n",
    "            in_channels=10, out_channels=20, kernel_size=5, stride=1, padding=1\n",
    "        )\n",
    "        # Step 2\n",
    "        # NB: 13 (this is the output of conv_1. i.e size_1)\n",
    "        # size_2 = np.floor((13 + (2 * 1) - 5) / 1) + 1 = 11/2 = 5 (/2 cox of maxpool)\n",
    "\n",
    "        # ========== Fully Connected Layer ==========\n",
    "        # Compute the number of units in the FCLayer (i.e. output of conv_2)\n",
    "        # NB: This FCLayer has no padding or stride\n",
    "        expected_size = 5 # (size_2)\n",
    "        # Find the square since it's symmetrical\n",
    "        expected_size = 20 * int(np.square(expected_size))\n",
    "        self.fc_layer_3 = nn.Linear(expected_size, 50)\n",
    "\n",
    "        # ========== Output Layer ==========\n",
    "        self.output = nn.Linear(50, 10)\n",
    "\n",
    "```\n",
    "\n",
    "#### Steps\n",
    "\n",
    "```text\n",
    "Step 1: Calculate the output of conv_1\n",
    "    - size_1 = np.floor((28 + (2*1) - 5) / 1 ) + 1 = 26/2 = 13 (/2 cox of maxpool)\n",
    "\n",
    "Step 2: Calculate the output of conv_2\n",
    "    - size_2 = np.floor((13 + (2 * 1) - 5) / 1) + 1 = 11/2 = 5 (/2 cox of maxpool)\n",
    "\n",
    "Step 3: Calculate the input of the fully connected layer\n",
    "    - input_size = size_2 * size_2\n",
    "      self.fc_layer_3 = nn.Linear(input_size x n_channels, 50)\n",
    "\n",
    "```\n",
    "\n",
    "<br>\n",
    "\n"
   ]
  },
  {
   "cell_type": "markdown",
   "metadata": {},
   "source": [
    "### Create MNIST Model\n",
    "\n",
    "```text\n",
    "- The model weights will be transferred to another model (FashionMNIST model)\n",
    "```"
   ]
  },
  {
   "cell_type": "code",
   "execution_count": 6,
   "metadata": {},
   "outputs": [],
   "source": [
    "def _calculate_size(\n",
    "    image_input: int, padding: int, kernel_size: int, stride: int\n",
    ") -> int:\n",
    "    \"\"\"This is used to calculate the output of the CNN.\"\"\"\n",
    "    output = np.floor(((image_input + 2 * padding - kernel_size) / stride)) + 1\n",
    "    return np.floor(output / 2)\n",
    "\n",
    "\n",
    "def calculate_layer_input(\n",
    "    image_input: int, padding: int, kernel_size: int, stride: int\n",
    ") -> int:\n",
    "    \"\"\"This is used to calculate the input of the fully connected layer in a CNN.\"\"\"\n",
    "    step_1 = _calculate_size(\n",
    "        image_input=image_input, padding=padding, kernel_size=kernel_size, stride=stride\n",
    "    )\n",
    "    step_2 = _calculate_size(\n",
    "        image_input=step_1, padding=padding, kernel_size=kernel_size, stride=stride\n",
    "    )\n",
    "    output = int(step_2)\n",
    "    return output\n",
    "\n",
    "\n",
    "class MNISTModel(nn.Module):\n",
    "    \"\"\"This is used to build a Convolutional Neutral Network architecture that\n",
    "    is used for classification of the MNIST data.\n",
    "\n",
    "    Params:\n",
    "        input_size: This is the output of the final conv layer.\n",
    "        num_classes (int): This is the number of class labels in the input data.\n",
    "    \"\"\"\n",
    "\n",
    "    def __init__(self, input_size: int, num_classes: int) -> None:\n",
    "        super().__init__()\n",
    "        self.conv_1 = nn.Conv2d(\n",
    "            in_channels=1, out_channels=10, kernel_size=5, stride=1, padding=1\n",
    "        )\n",
    "        self.pool = nn.MaxPool2d(kernel_size=2, stride=2)\n",
    "        self.conv_2 = nn.Conv2d(\n",
    "            in_channels=10, out_channels=20, kernel_size=5, stride=1, padding=1\n",
    "        )\n",
    "        self.fc_1 = nn.Linear((20 * input_size * input_size), 50)\n",
    "        self.fc_2 = nn.Linear(50, num_classes)\n",
    "\n",
    "    def forward(self, x: torch.Tensor) -> torch.Tensor:\n",
    "        \"\"\"This performs the forward propagation.\"\"\"\n",
    "\n",
    "        # Conv -> pool\n",
    "        x = self.pool(F.relu(self.conv_1(x)))\n",
    "        x = self.pool(F.relu(self.conv_2(x)))\n",
    "\n",
    "        # Flatten the input images to have the dim:\n",
    "        # (num_samples, n_channels, n_input, n_input)\n",
    "        x = x.view(x.size(0), -1)\n",
    "        x = self.fc_1(x)\n",
    "        x = self.fc_2(x)\n",
    "\n",
    "        return x"
   ]
  },
  {
   "cell_type": "code",
   "execution_count": 7,
   "metadata": {},
   "outputs": [
    {
     "name": "stdout",
     "output_type": "stream",
     "text": [
      "Output of Conv Layer: 5\n",
      "\n"
     ]
    },
    {
     "data": {
      "text/plain": [
       "torch.Size([1000, 10])"
      ]
     },
     "execution_count": 7,
     "metadata": {},
     "output_type": "execute_result"
    }
   ],
   "source": [
    "# Test the model with random data\n",
    "# (1_000, 1, 28, 28): (n_samples, n_channels, image_size, image_size)\n",
    "conv_output_size = calculate_layer_input(\n",
    "    image_input=28, padding=1, kernel_size=5, stride=1\n",
    ")\n",
    "print(f\"Output of Conv Layer: {conv_output_size}\\n\")\n",
    "cnn_model = MNISTModel(input_size=conv_output_size, num_classes=num_classes)\n",
    "X_ = torch.rand(size=(1_000, 1, 28, 28))\n",
    "\n",
    "result = cnn_model.forward(x=X_)\n",
    "result.shape"
   ]
  },
  {
   "cell_type": "markdown",
   "metadata": {},
   "source": [
    "### Train The MNIST Model"
   ]
  },
  {
   "cell_type": "code",
   "execution_count": 8,
   "metadata": {},
   "outputs": [],
   "source": [
    "def train(\n",
    "    model: MNISTModel,\n",
    "    device: Any,\n",
    "    train_loader: DataLoader,\n",
    "    val_loader: DataLoader,\n",
    "    criterion: Any,\n",
    "    optimizer: torch.optim,\n",
    "    num_epochs: int,\n",
    ") -> MNISTModel:\n",
    "    \"\"\"This is used for training the model.\"\"\"\n",
    "    for epoch in tqdm(range(num_epochs)):\n",
    "        model.train()\n",
    "        running_loss = 0.0\n",
    "\n",
    "        # ==== Batch training loop ====\n",
    "        for images, labels in train_loader:\n",
    "            # Push the data to GPU if available\n",
    "            images, labels = images.to(device), labels.to(device)\n",
    "\n",
    "            # ==== Forwardprop ====\n",
    "            outputs = model(images)\n",
    "            loss: nn.CrossEntropyLoss = criterion(outputs, labels)\n",
    "\n",
    "            # ==== Backprop ====\n",
    "            optimizer.zero_grad()\n",
    "            loss.backward()\n",
    "            optimizer.step()\n",
    "            # Update the loss\n",
    "            running_loss += loss.item()\n",
    "\n",
    "        # ==== Validation loop ====\n",
    "        model.eval()\n",
    "        val_loss = 0.0\n",
    "        val_correct = 0\n",
    "        val_total = 0\n",
    "\n",
    "        with torch.no_grad():\n",
    "            for images, labels in val_loader:\n",
    "                # Push the data to GPU if available\n",
    "                images, labels = images.to(device), labels.to(device)\n",
    "                outputs = model(images)\n",
    "                val_loss = criterion(outputs, labels).item()\n",
    "                # It returns the value and the index.\n",
    "                # We're interested in the index\n",
    "                _, predicted = torch.max(outputs, dim=1)\n",
    "                val_total += labels.size(0)  # or labels.shape[0]\n",
    "                val_correct += (predicted == labels).sum().item()\n",
    "        val_accuracy = (val_correct / val_total) * 100\n",
    "\n",
    "        print(\n",
    "            f\"Epoch {epoch + 1}/{num_epochs}, \"\n",
    "            f\"Training Loss: {running_loss / len(train_loader)}, \"\n",
    "            f\"Validation Loss: {val_loss / len(val_loader)}, \"\n",
    "            f\"Validation Accuracy: {val_accuracy:.2f}%\"\n",
    "        )\n",
    "    return model\n",
    "\n",
    "\n",
    "def test(model: MNISTModel, device: Any, test_loader: DataLoader):\n",
    "    \"\"\"This is used to the model on the test dataset.\"\"\"\n",
    "    model.eval()\n",
    "    test_correct = 0\n",
    "    test_total = 0\n",
    "    with torch.no_grad():\n",
    "        for images, labels in test_loader:\n",
    "            # Push the data to GPU if available\n",
    "            images, labels = images.to(device), labels.to(device)\n",
    "            outputs = model(images)\n",
    "            predicted = torch.argmax(outputs, dim=1)\n",
    "            test_total += labels.size(0)\n",
    "            test_correct += (predicted == labels).sum().item()\n",
    "\n",
    "    test_accuracy = (test_correct / test_total) * 100\n",
    "    print(f\"Test Accuracy: {test_accuracy:.2f}%\")"
   ]
  },
  {
   "cell_type": "code",
   "execution_count": 9,
   "metadata": {},
   "outputs": [],
   "source": [
    "def main():\n",
    "    \"\"\"This is the main function.\"\"\"\n",
    "    # Device configuration\n",
    "    device = torch.device(\"cuda\" if torch.cuda.is_available() else \"cpu\")\n",
    "\n",
    "    # If we're on a CUDA machine, this should print a CUDA device:\n",
    "    print(f\"Working on device={device!r}\")\n",
    "\n",
    "    # ==== Init model ====\n",
    "    model = MNISTModel(\n",
    "        input_size=conv_output_size,\n",
    "        num_classes=num_classes,\n",
    "    ).to(device=device)\n",
    "\n",
    "    # ==== Define loss function and optimizer ====\n",
    "    criterion = nn.CrossEntropyLoss()\n",
    "    optimizer = torch.optim.Adam(params=model.parameters(), lr=learning_rate)\n",
    "\n",
    "    # ==== Train the model ====\n",
    "    model = train(\n",
    "        model,\n",
    "        device=device,\n",
    "        train_loader=train_loader_mnist,\n",
    "        val_loader=val_loader_mnist,\n",
    "        criterion=criterion,\n",
    "        optimizer=optimizer,\n",
    "        num_epochs=num_epochs,\n",
    "    )\n",
    "\n",
    "    # ==== Evaluate the model ====\n",
    "    test(model, device=device, test_loader=test_loader_mnist)\n",
    "    return model"
   ]
  },
  {
   "cell_type": "code",
   "execution_count": 10,
   "metadata": {},
   "outputs": [
    {
     "name": "stdout",
     "output_type": "stream",
     "text": [
      "Working on device=device(type='cpu')\n"
     ]
    },
    {
     "data": {
      "application/vnd.jupyter.widget-view+json": {
       "model_id": "572478b9fbc04811a94991218c050812",
       "version_major": 2,
       "version_minor": 0
      },
      "text/plain": [
       "  0%|          | 0/5 [00:00<?, ?it/s]"
      ]
     },
     "metadata": {},
     "output_type": "display_data"
    },
    {
     "name": "stdout",
     "output_type": "stream",
     "text": [
      "Epoch 1/5, Training Loss: 0.22236178043608865, Validation Loss: 0.0001227181464275147, Validation Accuracy: 97.52%\n",
      "Epoch 2/5, Training Loss: 0.06364271127882724, Validation Loss: 5.3120033934395366e-05, Validation Accuracy: 98.12%\n",
      "Epoch 3/5, Training Loss: 0.045613968019373716, Validation Loss: 2.933987862172913e-05, Validation Accuracy: 98.32%\n",
      "Epoch 4/5, Training Loss: 0.03791267141296218, Validation Loss: 3.084124244273977e-05, Validation Accuracy: 98.81%\n",
      "Epoch 5/5, Training Loss: 0.03114697021866838, Validation Loss: 9.347980673563608e-06, Validation Accuracy: 98.64%\n",
      "Test Accuracy: 99.07%\n"
     ]
    }
   ],
   "source": [
    "# Train and evaluate\n",
    "mnist_model = main()"
   ]
  },
  {
   "cell_type": "markdown",
   "metadata": {},
   "source": [
    "### Test The Model\n",
    "\n",
    "```text\n",
    "- Test the MNIST model on the Fashion MNIST data.\n",
    "```"
   ]
  },
  {
   "cell_type": "code",
   "execution_count": 11,
   "metadata": {},
   "outputs": [
    {
     "name": "stdout",
     "output_type": "stream",
     "text": [
      "MNIST Digits model performance on FASHION data: 15.62%\n"
     ]
    }
   ],
   "source": [
    "# Extract X, y from FASHION test dataloader\n",
    "X, y = next(iter(test_loader_f_mnist))\n",
    "y_proba = mnist_model(X)\n",
    "y_pred = torch.argmax(y_proba, axis=1)\n",
    "fashion_acc = 100 * (torch.mean((y_pred == y).float()))\n",
    "\n",
    "print(f\"MNIST Digits model performance on FASHION data: {fashion_acc:.2f}%\")"
   ]
  },
  {
   "cell_type": "code",
   "execution_count": 12,
   "metadata": {},
   "outputs": [
    {
     "data": {
      "text/plain": [
       "MNISTModel(\n",
       "  (conv_1): Conv2d(1, 10, kernel_size=(5, 5), stride=(1, 1), padding=(1, 1))\n",
       "  (pool): MaxPool2d(kernel_size=2, stride=2, padding=0, dilation=1, ceil_mode=False)\n",
       "  (conv_2): Conv2d(10, 20, kernel_size=(5, 5), stride=(1, 1), padding=(1, 1))\n",
       "  (fc_1): Linear(in_features=500, out_features=50, bias=True)\n",
       "  (fc_2): Linear(in_features=50, out_features=10, bias=True)\n",
       ")"
      ]
     },
     "execution_count": 12,
     "metadata": {},
     "output_type": "execute_result"
    }
   ],
   "source": [
    "mnist_model"
   ]
  },
  {
   "cell_type": "markdown",
   "metadata": {},
   "source": [
    "### 1. Fine-tune The Model with One Training Batch"
   ]
  },
  {
   "cell_type": "code",
   "execution_count": 13,
   "metadata": {},
   "outputs": [
    {
     "name": "stdout",
     "output_type": "stream",
     "text": [
      "1st (Non-zero): \n",
      "tensor([[[-5.0515e-02, -3.0436e-01,  4.1554e-02, -2.9614e-01,  8.6978e-02],\n",
      "         [-3.1389e-01, -2.1803e-01, -2.6253e-01,  3.0337e-01, -5.2898e-02],\n",
      "         [ 1.9131e-01, -1.5062e-01,  4.3029e-03, -6.6835e-02,  1.5565e-01],\n",
      "         [-7.6559e-02,  7.2208e-03, -1.4116e-01,  1.2844e-01, -5.6489e-03],\n",
      "         [ 2.3686e-04, -2.1828e-01, -2.2357e-01,  1.6261e-01,  2.0629e-01]]],\n",
      "       grad_fn=<SubBackward0>)\n",
      "================================================================================\n",
      "\n",
      "2nd (Zero-matrix): \n",
      "tensor([[[0., 0., 0., 0., 0.],\n",
      "         [0., 0., 0., 0., 0.],\n",
      "         [0., 0., 0., 0., 0.],\n",
      "         [0., 0., 0., 0., 0.],\n",
      "         [0., 0., 0., 0., 0.]]], grad_fn=<SubBackward0>)\n"
     ]
    }
   ],
   "source": [
    "# Note:\n",
    "# The first print function will show a non-zeros matrix because the weights of the two models differ.\n",
    "# The second print function shows the zeros matrix because the two models have identical weights.\n",
    "\n",
    "# Create the target model\n",
    "fashion_net = MNISTModel(input_size=conv_output_size, num_classes=num_classes)\n",
    "matrix = fashion_net.conv_1.weight[0] - mnist_model.conv_1.weight[0]\n",
    "print(f\"1st (Non-zero): \\n{matrix}\")\n",
    "\n",
    "# Then replace all the weights in TARGET model from SOURCE model\n",
    "for source, target in zip(\n",
    "    mnist_model.named_parameters(), fashion_net.named_parameters()\n",
    "):\n",
    "    target[1].data = copy.deepcopy(source[1].data)\n",
    "\n",
    "matrix = fashion_net.conv_1.weight[0] - mnist_model.conv_1.weight[0]\n",
    "\n",
    "print(\"=\" * 80)\n",
    "print(f\"\\n2nd (Zero-matrix): \\n{matrix}\")"
   ]
  },
  {
   "cell_type": "code",
   "execution_count": 14,
   "metadata": {},
   "outputs": [
    {
     "name": "stdout",
     "output_type": "stream",
     "text": [
      "----------------------------------------------------------------\n",
      "        Layer (type)               Output Shape         Param #\n",
      "================================================================\n",
      "            Conv2d-1           [-1, 10, 26, 26]             260\n",
      "         MaxPool2d-2           [-1, 10, 13, 13]               0\n",
      "            Conv2d-3           [-1, 20, 11, 11]           5,020\n",
      "         MaxPool2d-4             [-1, 20, 5, 5]               0\n",
      "            Linear-5                   [-1, 50]          25,050\n",
      "            Linear-6                   [-1, 10]             510\n",
      "================================================================\n",
      "Total params: 30,840\n",
      "Trainable params: 30,840\n",
      "Non-trainable params: 0\n",
      "----------------------------------------------------------------\n",
      "Input size (MB): 0.00\n",
      "Forward/backward pass size (MB): 0.09\n",
      "Params size (MB): 0.12\n",
      "Estimated Total Size (MB): 0.21\n",
      "----------------------------------------------------------------\n"
     ]
    }
   ],
   "source": [
    "summary(mnist_model, input_size=(1, 28, 28))"
   ]
  },
  {
   "cell_type": "code",
   "execution_count": 15,
   "metadata": {},
   "outputs": [
    {
     "name": "stdout",
     "output_type": "stream",
     "text": [
      "----------------------------------------------------------------\n",
      "        Layer (type)               Output Shape         Param #\n",
      "================================================================\n",
      "            Conv2d-1           [-1, 10, 26, 26]             260\n",
      "         MaxPool2d-2           [-1, 10, 13, 13]               0\n",
      "            Conv2d-3           [-1, 20, 11, 11]           5,020\n",
      "         MaxPool2d-4             [-1, 20, 5, 5]               0\n",
      "            Linear-5                   [-1, 50]          25,050\n",
      "            Linear-6                   [-1, 10]             510\n",
      "================================================================\n",
      "Total params: 30,840\n",
      "Trainable params: 30,840\n",
      "Non-trainable params: 0\n",
      "----------------------------------------------------------------\n",
      "Input size (MB): 0.00\n",
      "Forward/backward pass size (MB): 0.09\n",
      "Params size (MB): 0.12\n",
      "Estimated Total Size (MB): 0.21\n",
      "----------------------------------------------------------------\n"
     ]
    }
   ],
   "source": [
    "summary(fashion_net, input_size=(1, 28, 28))"
   ]
  },
  {
   "cell_type": "markdown",
   "metadata": {},
   "source": [
    "#### Re-train The Copied Model (fashion_net) \n",
    "text\n",
    "```\n",
    "- Re-train the copied model using the Fashion MNIST data.\n",
    "```"
   ]
  },
  {
   "cell_type": "code",
   "execution_count": 16,
   "metadata": {},
   "outputs": [
    {
     "data": {
      "application/vnd.jupyter.widget-view+json": {
       "model_id": "087a4892f8174a0eb7a2915cd789aebd",
       "version_major": 2,
       "version_minor": 0
      },
      "text/plain": [
       "  0%|          | 0/5 [00:00<?, ?it/s]"
      ]
     },
     "metadata": {},
     "output_type": "display_data"
    },
    {
     "name": "stdout",
     "output_type": "stream",
     "text": [
      "Epoch 1/5, Training Loss: 0.5470346232652664, Validation Loss: 0.0015083234360877503, Validation Accuracy: 86.42%\n",
      "Epoch 2/5, Training Loss: 0.345637819459041, Validation Loss: 0.0010313773725895172, Validation Accuracy: 88.69%\n",
      "Epoch 3/5, Training Loss: 0.3061181615094344, Validation Loss: 0.0011674218830910134, Validation Accuracy: 88.84%\n",
      "Epoch 4/5, Training Loss: 0.2849910481572151, Validation Loss: 0.0007020186712133124, Validation Accuracy: 89.35%\n",
      "Epoch 5/5, Training Loss: 0.2678710467616717, Validation Loss: 0.0008637752938777842, Validation Accuracy: 89.16%\n"
     ]
    }
   ],
   "source": [
    "device = torch.device(\"cuda\" if torch.cuda.is_available() else \"cpu\")\n",
    "criterion = nn.CrossEntropyLoss()\n",
    "optimizer = torch.optim.Adam(params=fashion_net.parameters(), lr=learning_rate)\n",
    "\n",
    "fashion_net = train(\n",
    "    model=fashion_net,\n",
    "    device=device,\n",
    "    train_loader=train_loader_f_mnist,\n",
    "    val_loader=val_loader_f_mnist,\n",
    "    criterion=criterion,\n",
    "    optimizer=optimizer,\n",
    "    num_epochs=num_epochs,\n",
    ")"
   ]
  },
  {
   "cell_type": "code",
   "execution_count": 17,
   "metadata": {},
   "outputs": [
    {
     "name": "stdout",
     "output_type": "stream",
     "text": [
      "Test Accuracy: 88.45%\n"
     ]
    }
   ],
   "source": [
    "# ==== Evaluate the model ====\n",
    "test(fashion_net, device=device, test_loader=test_loader_f_mnist)"
   ]
  },
  {
   "cell_type": "markdown",
   "metadata": {},
   "source": [
    "### 2. Train Only The Output Layer"
   ]
  },
  {
   "cell_type": "code",
   "execution_count": 18,
   "metadata": {},
   "outputs": [],
   "source": [
    "# ==== Create the target model ====\n",
    "fashion_net = MNISTModel(input_size=conv_output_size, num_classes=num_classes)\n",
    "\n",
    "# ==== Replace all the weights in TARGET model from SOURCE model ====\n",
    "for source, target in zip(\n",
    "    mnist_model.named_parameters(), fashion_net.named_parameters()\n",
    "):\n",
    "    target[1].data = copy.deepcopy(source[1].data)\n",
    "\n",
    "# Adjust the number of output units (Final layer)\n",
    "fashion_net.fc_2 = nn.Linear(50, num_classes)\n",
    "\n",
    "# ==== Freeze convolution and batch-norm layers ====\n",
    "for _param in fashion_net.named_parameters():\n",
    "    if (\"conv\" in _param[0]) or (\"bnorm\" in _param[0]):\n",
    "        _param[1].requires_grad = False"
   ]
  },
  {
   "cell_type": "code",
   "execution_count": 19,
   "metadata": {},
   "outputs": [
    {
     "data": {
      "application/vnd.jupyter.widget-view+json": {
       "model_id": "6d847b19661f4b00a7631d76edc99364",
       "version_major": 2,
       "version_minor": 0
      },
      "text/plain": [
       "  0%|          | 0/5 [00:00<?, ?it/s]"
      ]
     },
     "metadata": {},
     "output_type": "display_data"
    },
    {
     "name": "stdout",
     "output_type": "stream",
     "text": [
      "Epoch 1/5, Training Loss: 0.5369026172955831, Validation Loss: 0.001318495403578941, Validation Accuracy: 85.13%\n",
      "Epoch 2/5, Training Loss: 0.3918050659298897, Validation Loss: 0.0014470904431444533, Validation Accuracy: 86.53%\n",
      "Epoch 3/5, Training Loss: 0.3650636683603128, Validation Loss: 0.0013575189291162694, Validation Accuracy: 87.18%\n",
      "Epoch 4/5, Training Loss: 0.3521836158931255, Validation Loss: 0.0010353727068038697, Validation Accuracy: 86.97%\n",
      "Epoch 5/5, Training Loss: 0.3446938945055008, Validation Loss: 0.000949744610710347, Validation Accuracy: 86.99%\n"
     ]
    }
   ],
   "source": [
    "# ==== Retrain the model ====\n",
    "\n",
    "device = torch.device(\"cuda\" if torch.cuda.is_available() else \"cpu\")\n",
    "criterion = nn.CrossEntropyLoss()\n",
    "optimizer = torch.optim.Adam(params=fashion_net.parameters(), lr=learning_rate)\n",
    "\n",
    "fashion_net = train(\n",
    "    model=fashion_net,\n",
    "    device=device,\n",
    "    train_loader=train_loader_f_mnist,\n",
    "    val_loader=val_loader_f_mnist,\n",
    "    criterion=criterion,\n",
    "    optimizer=optimizer,\n",
    "    num_epochs=num_epochs,\n",
    ")"
   ]
  },
  {
   "cell_type": "code",
   "execution_count": 20,
   "metadata": {},
   "outputs": [
    {
     "name": "stdout",
     "output_type": "stream",
     "text": [
      "Test Accuracy: 85.73%\n"
     ]
    }
   ],
   "source": [
    "# ==== Evaluate the model ====\n",
    "test(fashion_net, device=device, test_loader=test_loader_f_mnist)"
   ]
  },
  {
   "cell_type": "code",
   "execution_count": null,
   "metadata": {},
   "outputs": [],
   "source": []
  },
  {
   "cell_type": "markdown",
   "metadata": {},
   "source": [
    "## Load State of The Art Models And Fine-tune The Model.\n",
    "\n",
    "<br>\n",
    "\n",
    "### 1. ResNet"
   ]
  },
  {
   "cell_type": "code",
   "execution_count": 25,
   "metadata": {},
   "outputs": [
    {
     "name": "stdout",
     "output_type": "stream",
     "text": [
      "Downloading http://ai.stanford.edu/~acoates/stl10/stl10_binary.tar.gz to ../../data/stl_10/stl10_binary.tar.gz\n"
     ]
    },
    {
     "name": "stderr",
     "output_type": "stream",
     "text": [
      "100%|██████████| 2640397119/2640397119 [18:28<00:00, 2381542.09it/s]\n"
     ]
    },
    {
     "name": "stdout",
     "output_type": "stream",
     "text": [
      "Extracting ../../data/stl_10/stl10_binary.tar.gz to ../../data/stl_10\n",
      "Files already downloaded and verified\n"
     ]
    }
   ],
   "source": [
    "import torchvision.models as models\n",
    "\n",
    "\n",
    "# Fashion MNIST Data\n",
    "fp = \"../../data/stl_10\"\n",
    "\n",
    "# Chain multiple transformations\n",
    "transform = T.Compose(\n",
    "    [\n",
    "        # Convert to PyTorch tensors\n",
    "        T.ToTensor(),\n",
    "        #  It performs per-channel normalization, where each channel\n",
    "        # (e.g., red, green, blue for an RGB image) is normalized independently.\n",
    "        # Since it's a single channel, we have (0.5,)\n",
    "        T.Normalize(mean=(0.5,), std=(0.5,)),\n",
    "    ]\n",
    ")\n",
    "\n",
    "train_data = datasets.STL10(root=fp, split=\"train\", transform=transform, download=True)\n",
    "test_data = datasets.STL10(root=fp, split=\"test\", transform=transform, download=True)\n",
    "\n",
    "train_size = int(0.8 * len(train_data))  # 80% of training data\n",
    "val_size = len(train_data) - train_size  # 20% of training data\n",
    "batch_size = 64\n",
    "\n",
    "# Split the training dataset into training and validation sets\n",
    "train_dataset, val_dataset = random_split(\n",
    "    dataset=train_data,\n",
    "    lengths=[train_size, val_size],\n",
    ")\n",
    "\n",
    "# Create DataLoader for each dataset\n",
    "train_loader_stl_10 = DataLoader(train_dataset, batch_size=batch_size, shuffle=True)\n",
    "val_loader_stl_10 = DataLoader(val_dataset, batch_size=batch_size)\n",
    "test_loader_stl_10 = DataLoader(test_data, batch_size=batch_size)"
   ]
  },
  {
   "cell_type": "code",
   "execution_count": 41,
   "metadata": {},
   "outputs": [
    {
     "data": {
      "text/plain": [
       "(5000, 3, 96, 96)"
      ]
     },
     "execution_count": 41,
     "metadata": {},
     "output_type": "execute_result"
    }
   ],
   "source": [
    "train_data.data.shape"
   ]
  },
  {
   "cell_type": "code",
   "execution_count": 26,
   "metadata": {},
   "outputs": [
    {
     "name": "stderr",
     "output_type": "stream",
     "text": [
      "/Users/neidu/miniconda3/envs/torch_p310/lib/python3.10/site-packages/torchvision/models/_utils.py:208: UserWarning: The parameter 'pretrained' is deprecated since 0.13 and may be removed in the future, please use 'weights' instead.\n",
      "  warnings.warn(\n",
      "/Users/neidu/miniconda3/envs/torch_p310/lib/python3.10/site-packages/torchvision/models/_utils.py:223: UserWarning: Arguments other than a weight enum or `None` for 'weights' are deprecated since 0.13 and may be removed in the future. The current behavior is equivalent to passing `weights=ResNet18_Weights.IMAGENET1K_V1`. You can also use `weights=ResNet18_Weights.DEFAULT` to get the most up-to-date weights.\n",
      "  warnings.warn(msg)\n",
      "Downloading: \"https://download.pytorch.org/models/resnet18-f37072fd.pth\" to /Users/neidu/.cache/torch/hub/checkpoints/resnet18-f37072fd.pth\n",
      "100%|██████████| 44.7M/44.7M [00:11<00:00, 4.00MB/s]\n"
     ]
    },
    {
     "data": {
      "text/plain": [
       "ResNet(\n",
       "  (conv1): Conv2d(3, 64, kernel_size=(7, 7), stride=(2, 2), padding=(3, 3), bias=False)\n",
       "  (bn1): BatchNorm2d(64, eps=1e-05, momentum=0.1, affine=True, track_running_stats=True)\n",
       "  (relu): ReLU(inplace=True)\n",
       "  (maxpool): MaxPool2d(kernel_size=3, stride=2, padding=1, dilation=1, ceil_mode=False)\n",
       "  (layer1): Sequential(\n",
       "    (0): BasicBlock(\n",
       "      (conv1): Conv2d(64, 64, kernel_size=(3, 3), stride=(1, 1), padding=(1, 1), bias=False)\n",
       "      (bn1): BatchNorm2d(64, eps=1e-05, momentum=0.1, affine=True, track_running_stats=True)\n",
       "      (relu): ReLU(inplace=True)\n",
       "      (conv2): Conv2d(64, 64, kernel_size=(3, 3), stride=(1, 1), padding=(1, 1), bias=False)\n",
       "      (bn2): BatchNorm2d(64, eps=1e-05, momentum=0.1, affine=True, track_running_stats=True)\n",
       "    )\n",
       "    (1): BasicBlock(\n",
       "      (conv1): Conv2d(64, 64, kernel_size=(3, 3), stride=(1, 1), padding=(1, 1), bias=False)\n",
       "      (bn1): BatchNorm2d(64, eps=1e-05, momentum=0.1, affine=True, track_running_stats=True)\n",
       "      (relu): ReLU(inplace=True)\n",
       "      (conv2): Conv2d(64, 64, kernel_size=(3, 3), stride=(1, 1), padding=(1, 1), bias=False)\n",
       "      (bn2): BatchNorm2d(64, eps=1e-05, momentum=0.1, affine=True, track_running_stats=True)\n",
       "    )\n",
       "  )\n",
       "  (layer2): Sequential(\n",
       "    (0): BasicBlock(\n",
       "      (conv1): Conv2d(64, 128, kernel_size=(3, 3), stride=(2, 2), padding=(1, 1), bias=False)\n",
       "      (bn1): BatchNorm2d(128, eps=1e-05, momentum=0.1, affine=True, track_running_stats=True)\n",
       "      (relu): ReLU(inplace=True)\n",
       "      (conv2): Conv2d(128, 128, kernel_size=(3, 3), stride=(1, 1), padding=(1, 1), bias=False)\n",
       "      (bn2): BatchNorm2d(128, eps=1e-05, momentum=0.1, affine=True, track_running_stats=True)\n",
       "      (downsample): Sequential(\n",
       "        (0): Conv2d(64, 128, kernel_size=(1, 1), stride=(2, 2), bias=False)\n",
       "        (1): BatchNorm2d(128, eps=1e-05, momentum=0.1, affine=True, track_running_stats=True)\n",
       "      )\n",
       "    )\n",
       "    (1): BasicBlock(\n",
       "      (conv1): Conv2d(128, 128, kernel_size=(3, 3), stride=(1, 1), padding=(1, 1), bias=False)\n",
       "      (bn1): BatchNorm2d(128, eps=1e-05, momentum=0.1, affine=True, track_running_stats=True)\n",
       "      (relu): ReLU(inplace=True)\n",
       "      (conv2): Conv2d(128, 128, kernel_size=(3, 3), stride=(1, 1), padding=(1, 1), bias=False)\n",
       "      (bn2): BatchNorm2d(128, eps=1e-05, momentum=0.1, affine=True, track_running_stats=True)\n",
       "    )\n",
       "  )\n",
       "  (layer3): Sequential(\n",
       "    (0): BasicBlock(\n",
       "      (conv1): Conv2d(128, 256, kernel_size=(3, 3), stride=(2, 2), padding=(1, 1), bias=False)\n",
       "      (bn1): BatchNorm2d(256, eps=1e-05, momentum=0.1, affine=True, track_running_stats=True)\n",
       "      (relu): ReLU(inplace=True)\n",
       "      (conv2): Conv2d(256, 256, kernel_size=(3, 3), stride=(1, 1), padding=(1, 1), bias=False)\n",
       "      (bn2): BatchNorm2d(256, eps=1e-05, momentum=0.1, affine=True, track_running_stats=True)\n",
       "      (downsample): Sequential(\n",
       "        (0): Conv2d(128, 256, kernel_size=(1, 1), stride=(2, 2), bias=False)\n",
       "        (1): BatchNorm2d(256, eps=1e-05, momentum=0.1, affine=True, track_running_stats=True)\n",
       "      )\n",
       "    )\n",
       "    (1): BasicBlock(\n",
       "      (conv1): Conv2d(256, 256, kernel_size=(3, 3), stride=(1, 1), padding=(1, 1), bias=False)\n",
       "      (bn1): BatchNorm2d(256, eps=1e-05, momentum=0.1, affine=True, track_running_stats=True)\n",
       "      (relu): ReLU(inplace=True)\n",
       "      (conv2): Conv2d(256, 256, kernel_size=(3, 3), stride=(1, 1), padding=(1, 1), bias=False)\n",
       "      (bn2): BatchNorm2d(256, eps=1e-05, momentum=0.1, affine=True, track_running_stats=True)\n",
       "    )\n",
       "  )\n",
       "  (layer4): Sequential(\n",
       "    (0): BasicBlock(\n",
       "      (conv1): Conv2d(256, 512, kernel_size=(3, 3), stride=(2, 2), padding=(1, 1), bias=False)\n",
       "      (bn1): BatchNorm2d(512, eps=1e-05, momentum=0.1, affine=True, track_running_stats=True)\n",
       "      (relu): ReLU(inplace=True)\n",
       "      (conv2): Conv2d(512, 512, kernel_size=(3, 3), stride=(1, 1), padding=(1, 1), bias=False)\n",
       "      (bn2): BatchNorm2d(512, eps=1e-05, momentum=0.1, affine=True, track_running_stats=True)\n",
       "      (downsample): Sequential(\n",
       "        (0): Conv2d(256, 512, kernel_size=(1, 1), stride=(2, 2), bias=False)\n",
       "        (1): BatchNorm2d(512, eps=1e-05, momentum=0.1, affine=True, track_running_stats=True)\n",
       "      )\n",
       "    )\n",
       "    (1): BasicBlock(\n",
       "      (conv1): Conv2d(512, 512, kernel_size=(3, 3), stride=(1, 1), padding=(1, 1), bias=False)\n",
       "      (bn1): BatchNorm2d(512, eps=1e-05, momentum=0.1, affine=True, track_running_stats=True)\n",
       "      (relu): ReLU(inplace=True)\n",
       "      (conv2): Conv2d(512, 512, kernel_size=(3, 3), stride=(1, 1), padding=(1, 1), bias=False)\n",
       "      (bn2): BatchNorm2d(512, eps=1e-05, momentum=0.1, affine=True, track_running_stats=True)\n",
       "    )\n",
       "  )\n",
       "  (avgpool): AdaptiveAvgPool2d(output_size=(1, 1))\n",
       "  (fc): Linear(in_features=512, out_features=1000, bias=True)\n",
       ")"
      ]
     },
     "execution_count": 26,
     "metadata": {},
     "output_type": "execute_result"
    }
   ],
   "source": [
    "# Load and inspect this network\n",
    "resnet_18 = models.resnet18(pretrained=True)\n",
    "resnet_18"
   ]
  },
  {
   "cell_type": "code",
   "execution_count": 40,
   "metadata": {},
   "outputs": [
    {
     "name": "stdout",
     "output_type": "stream",
     "text": [
      "----------------------------------------------------------------\n",
      "        Layer (type)               Output Shape         Param #\n",
      "================================================================\n",
      "            Conv2d-1           [-1, 64, 48, 48]           9,408\n",
      "       BatchNorm2d-2           [-1, 64, 48, 48]             128\n",
      "              ReLU-3           [-1, 64, 48, 48]               0\n",
      "         MaxPool2d-4           [-1, 64, 24, 24]               0\n",
      "            Conv2d-5           [-1, 64, 24, 24]          36,864\n",
      "       BatchNorm2d-6           [-1, 64, 24, 24]             128\n",
      "              ReLU-7           [-1, 64, 24, 24]               0\n",
      "            Conv2d-8           [-1, 64, 24, 24]          36,864\n",
      "       BatchNorm2d-9           [-1, 64, 24, 24]             128\n",
      "             ReLU-10           [-1, 64, 24, 24]               0\n",
      "       BasicBlock-11           [-1, 64, 24, 24]               0\n",
      "           Conv2d-12           [-1, 64, 24, 24]          36,864\n",
      "      BatchNorm2d-13           [-1, 64, 24, 24]             128\n",
      "             ReLU-14           [-1, 64, 24, 24]               0\n",
      "           Conv2d-15           [-1, 64, 24, 24]          36,864\n",
      "      BatchNorm2d-16           [-1, 64, 24, 24]             128\n",
      "             ReLU-17           [-1, 64, 24, 24]               0\n",
      "       BasicBlock-18           [-1, 64, 24, 24]               0\n",
      "           Conv2d-19          [-1, 128, 12, 12]          73,728\n",
      "      BatchNorm2d-20          [-1, 128, 12, 12]             256\n",
      "             ReLU-21          [-1, 128, 12, 12]               0\n",
      "           Conv2d-22          [-1, 128, 12, 12]         147,456\n",
      "      BatchNorm2d-23          [-1, 128, 12, 12]             256\n",
      "           Conv2d-24          [-1, 128, 12, 12]           8,192\n",
      "      BatchNorm2d-25          [-1, 128, 12, 12]             256\n",
      "             ReLU-26          [-1, 128, 12, 12]               0\n",
      "       BasicBlock-27          [-1, 128, 12, 12]               0\n",
      "           Conv2d-28          [-1, 128, 12, 12]         147,456\n",
      "      BatchNorm2d-29          [-1, 128, 12, 12]             256\n",
      "             ReLU-30          [-1, 128, 12, 12]               0\n",
      "           Conv2d-31          [-1, 128, 12, 12]         147,456\n",
      "      BatchNorm2d-32          [-1, 128, 12, 12]             256\n",
      "             ReLU-33          [-1, 128, 12, 12]               0\n",
      "       BasicBlock-34          [-1, 128, 12, 12]               0\n",
      "           Conv2d-35            [-1, 256, 6, 6]         294,912\n",
      "      BatchNorm2d-36            [-1, 256, 6, 6]             512\n",
      "             ReLU-37            [-1, 256, 6, 6]               0\n",
      "           Conv2d-38            [-1, 256, 6, 6]         589,824\n",
      "      BatchNorm2d-39            [-1, 256, 6, 6]             512\n",
      "           Conv2d-40            [-1, 256, 6, 6]          32,768\n",
      "      BatchNorm2d-41            [-1, 256, 6, 6]             512\n",
      "             ReLU-42            [-1, 256, 6, 6]               0\n",
      "       BasicBlock-43            [-1, 256, 6, 6]               0\n",
      "           Conv2d-44            [-1, 256, 6, 6]         589,824\n",
      "      BatchNorm2d-45            [-1, 256, 6, 6]             512\n",
      "             ReLU-46            [-1, 256, 6, 6]               0\n",
      "           Conv2d-47            [-1, 256, 6, 6]         589,824\n",
      "      BatchNorm2d-48            [-1, 256, 6, 6]             512\n",
      "             ReLU-49            [-1, 256, 6, 6]               0\n",
      "       BasicBlock-50            [-1, 256, 6, 6]               0\n",
      "           Conv2d-51            [-1, 512, 3, 3]       1,179,648\n",
      "      BatchNorm2d-52            [-1, 512, 3, 3]           1,024\n",
      "             ReLU-53            [-1, 512, 3, 3]               0\n",
      "           Conv2d-54            [-1, 512, 3, 3]       2,359,296\n",
      "      BatchNorm2d-55            [-1, 512, 3, 3]           1,024\n",
      "           Conv2d-56            [-1, 512, 3, 3]         131,072\n",
      "      BatchNorm2d-57            [-1, 512, 3, 3]           1,024\n",
      "             ReLU-58            [-1, 512, 3, 3]               0\n",
      "       BasicBlock-59            [-1, 512, 3, 3]               0\n",
      "           Conv2d-60            [-1, 512, 3, 3]       2,359,296\n",
      "      BatchNorm2d-61            [-1, 512, 3, 3]           1,024\n",
      "             ReLU-62            [-1, 512, 3, 3]               0\n",
      "           Conv2d-63            [-1, 512, 3, 3]       2,359,296\n",
      "      BatchNorm2d-64            [-1, 512, 3, 3]           1,024\n",
      "             ReLU-65            [-1, 512, 3, 3]               0\n",
      "       BasicBlock-66            [-1, 512, 3, 3]               0\n",
      "AdaptiveAvgPool2d-67            [-1, 512, 1, 1]               0\n",
      "           Linear-68                 [-1, 1000]         513,000\n",
      "================================================================\n",
      "Total params: 11,689,512\n",
      "Trainable params: 11,689,512\n",
      "Non-trainable params: 0\n",
      "----------------------------------------------------------------\n",
      "Input size (MB): 0.11\n",
      "Forward/backward pass size (MB): 11.54\n",
      "Params size (MB): 44.59\n",
      "Estimated Total Size (MB): 56.24\n",
      "----------------------------------------------------------------\n"
     ]
    }
   ],
   "source": [
    "summary(resnet_18.to(device), input_size=(3, 96, 96))"
   ]
  },
  {
   "cell_type": "code",
   "execution_count": 44,
   "metadata": {},
   "outputs": [],
   "source": [
    "# Define transfer learning class\n",
    "class TransferLearningModel(nn.Module):\n",
    "    \"\"\"This is used to load the pre-trained ResNet model.\"\"\"\n",
    "\n",
    "    def __init__(self, num_classes: int) -> None:\n",
    "        super().__init__()\n",
    "        self.model = models.resnet18(pretrained=True)\n",
    "\n",
    "        # Freeze all the layers in the pre-trained model\n",
    "        for param in self.model.parameters():\n",
    "            param.requires_grad = False\n",
    "\n",
    "        # Modify the last fully connected layer for the new task (classification)\n",
    "        in_features = self.model.fc.in_features\n",
    "        self.model.fc = nn.Linear(in_features=in_features, out_features=num_classes)\n",
    "\n",
    "    def forward(self, x: torch.Tensor) -> torch.Tensor:\n",
    "        \"\"\"This performs the forward propagation.\"\"\"\n",
    "        return self.model(x)"
   ]
  },
  {
   "cell_type": "code",
   "execution_count": 48,
   "metadata": {},
   "outputs": [
    {
     "name": "stdout",
     "output_type": "stream",
     "text": [
      "Output of Conv Layer: 5\n",
      "\n"
     ]
    },
    {
     "data": {
      "text/plain": [
       "torch.Size([1000, 10])"
      ]
     },
     "execution_count": 48,
     "metadata": {},
     "output_type": "execute_result"
    }
   ],
   "source": [
    "# Test the model with random data\n",
    "# (1_000, 1, 28, 28): (n_samples, n_channels, image_size, image_size)\n",
    "conv_output_size = calculate_layer_input(\n",
    "    image_input=28, padding=1, kernel_size=5, stride=1\n",
    ")\n",
    "print(f\"Output of Conv Layer: {conv_output_size}\\n\")\n",
    "transf_model = TransferLearningModel(num_classes=num_classes)\n",
    "X_ = torch.rand(size=(1_000, 3, 96, 96))\n",
    "\n",
    "result = transf_model.forward(x=X_)\n",
    "result.shape"
   ]
  },
  {
   "cell_type": "code",
   "execution_count": 49,
   "metadata": {},
   "outputs": [],
   "source": [
    "def train_transfer_learning(\n",
    "    model: TransferLearningModel,\n",
    "    device: Any,\n",
    "    train_loader: DataLoader,\n",
    "    val_loader: DataLoader,\n",
    "    criterion: Any,\n",
    "    optimizer: torch.optim,\n",
    "    num_epochs: int,\n",
    ") -> TransferLearningModel:\n",
    "    \"\"\"This is used for training the pre-trained model.\"\"\"\n",
    "    for epoch in tqdm(range(num_epochs)):\n",
    "        model.train()\n",
    "        running_loss = 0.0\n",
    "\n",
    "        # ==== Batch training loop ====\n",
    "        for images, labels in train_loader:\n",
    "            # Push the data to GPU if available\n",
    "            images, labels = images.to(device), labels.to(device)\n",
    "\n",
    "            # ==== Forwardprop ====\n",
    "            outputs = model(images)\n",
    "            loss: nn.CrossEntropyLoss = criterion(outputs, labels)\n",
    "\n",
    "            # ==== Backprop ====\n",
    "            optimizer.zero_grad()\n",
    "            loss.backward()\n",
    "            optimizer.step()\n",
    "            # Update the loss\n",
    "            running_loss += loss.item()\n",
    "\n",
    "        # ==== Validation loop ====\n",
    "        model.eval()\n",
    "        val_loss = 0.0\n",
    "        val_correct = 0\n",
    "        val_total = 0\n",
    "\n",
    "        with torch.no_grad():\n",
    "            for images, labels in val_loader:\n",
    "                # Push the data to GPU if available\n",
    "                images, labels = images.to(device), labels.to(device)\n",
    "                outputs = model(images)\n",
    "                val_loss = criterion(outputs, labels).item()\n",
    "                # It returns the value and the index.\n",
    "                # We're interested in the index\n",
    "                _, predicted = torch.max(outputs, dim=1)\n",
    "                val_total += labels.size(0)  # or labels.shape[0]\n",
    "                val_correct += (predicted == labels).sum().item()\n",
    "        val_accuracy = (val_correct / val_total) * 100\n",
    "\n",
    "        print(\n",
    "            f\"Epoch {epoch + 1}/{num_epochs}, \"\n",
    "            f\"Training Loss: {running_loss / len(train_loader)}, \"\n",
    "            f\"Validation Loss: {val_loss / len(val_loader)}, \"\n",
    "            f\"Validation Accuracy: {val_accuracy:.2f}%\"\n",
    "        )\n",
    "    return model\n",
    "\n",
    "\n",
    "def test(model: TransferLearningModel, device: Any, test_loader: DataLoader):\n",
    "    \"\"\"This is used to the model on the test dataset.\"\"\"\n",
    "    model.eval()\n",
    "    test_correct = 0\n",
    "    test_total = 0\n",
    "    with torch.no_grad():\n",
    "        for images, labels in test_loader:\n",
    "            # Push the data to GPU if available\n",
    "            images, labels = images.to(device), labels.to(device)\n",
    "            outputs = model(images)\n",
    "            predicted = torch.argmax(outputs, dim=1)\n",
    "            test_total += labels.size(0)\n",
    "            test_correct += (predicted == labels).sum().item()\n",
    "\n",
    "    test_accuracy = (test_correct / test_total) * 100\n",
    "    print(f\"Test Accuracy: {test_accuracy:.2f}%\")"
   ]
  },
  {
   "cell_type": "code",
   "execution_count": 50,
   "metadata": {},
   "outputs": [],
   "source": [
    "def main():\n",
    "    \"\"\"This is the main function.\"\"\"\n",
    "    # Device configuration\n",
    "    device = torch.device(\"cuda\" if torch.cuda.is_available() else \"cpu\")\n",
    "\n",
    "    # If we're on a CUDA machine, this should print a CUDA device:\n",
    "    print(f\"Working on device={device!r}\")\n",
    "\n",
    "    # ==== Init model ====\n",
    "    model = TransferLearningModel(num_classes=num_classes).to(device=device)\n",
    "\n",
    "    # ==== Define loss function and optimizer ====\n",
    "    criterion = nn.CrossEntropyLoss()\n",
    "    optimizer = torch.optim.Adam(params=model.parameters(), lr=learning_rate)\n",
    "\n",
    "    # ==== Train the model ====\n",
    "    model = train_transfer_learning(\n",
    "        model,\n",
    "        device=device,\n",
    "        train_loader=train_loader_stl_10,\n",
    "        val_loader=val_loader_stl_10,\n",
    "        criterion=criterion,\n",
    "        optimizer=optimizer,\n",
    "        num_epochs=num_epochs,\n",
    "    )\n",
    "\n",
    "    # ==== Evaluate the model ====\n",
    "    test(model, device=device, test_loader=test_loader_stl_10)\n",
    "    return model"
   ]
  },
  {
   "cell_type": "code",
   "execution_count": 51,
   "metadata": {},
   "outputs": [
    {
     "name": "stdout",
     "output_type": "stream",
     "text": [
      "Working on device=device(type='cpu')\n"
     ]
    },
    {
     "data": {
      "application/vnd.jupyter.widget-view+json": {
       "model_id": "3a3ea135a72a4bc48ac698b44f2464dc",
       "version_major": 2,
       "version_minor": 0
      },
      "text/plain": [
       "  0%|          | 0/5 [00:00<?, ?it/s]"
      ]
     },
     "metadata": {},
     "output_type": "display_data"
    },
    {
     "name": "stdout",
     "output_type": "stream",
     "text": [
      "Epoch 1/5, Training Loss: 1.416323531241644, Validation Loss: 0.06494010984897614, Validation Accuracy: 70.80%\n",
      "Epoch 2/5, Training Loss: 0.8007853191996378, Validation Loss: 0.05132629722356796, Validation Accuracy: 75.10%\n",
      "Epoch 3/5, Training Loss: 0.6694839894771576, Validation Loss: 0.04335065186023712, Validation Accuracy: 76.90%\n",
      "Epoch 4/5, Training Loss: 0.5988558440927475, Validation Loss: 0.04236869513988495, Validation Accuracy: 76.70%\n",
      "Epoch 5/5, Training Loss: 0.5514242029379285, Validation Loss: 0.040829259902238846, Validation Accuracy: 77.70%\n",
      "Test Accuracy: 78.35%\n"
     ]
    },
    {
     "data": {
      "text/plain": [
       "TransferLearningModel(\n",
       "  (model): ResNet(\n",
       "    (conv1): Conv2d(3, 64, kernel_size=(7, 7), stride=(2, 2), padding=(3, 3), bias=False)\n",
       "    (bn1): BatchNorm2d(64, eps=1e-05, momentum=0.1, affine=True, track_running_stats=True)\n",
       "    (relu): ReLU(inplace=True)\n",
       "    (maxpool): MaxPool2d(kernel_size=3, stride=2, padding=1, dilation=1, ceil_mode=False)\n",
       "    (layer1): Sequential(\n",
       "      (0): BasicBlock(\n",
       "        (conv1): Conv2d(64, 64, kernel_size=(3, 3), stride=(1, 1), padding=(1, 1), bias=False)\n",
       "        (bn1): BatchNorm2d(64, eps=1e-05, momentum=0.1, affine=True, track_running_stats=True)\n",
       "        (relu): ReLU(inplace=True)\n",
       "        (conv2): Conv2d(64, 64, kernel_size=(3, 3), stride=(1, 1), padding=(1, 1), bias=False)\n",
       "        (bn2): BatchNorm2d(64, eps=1e-05, momentum=0.1, affine=True, track_running_stats=True)\n",
       "      )\n",
       "      (1): BasicBlock(\n",
       "        (conv1): Conv2d(64, 64, kernel_size=(3, 3), stride=(1, 1), padding=(1, 1), bias=False)\n",
       "        (bn1): BatchNorm2d(64, eps=1e-05, momentum=0.1, affine=True, track_running_stats=True)\n",
       "        (relu): ReLU(inplace=True)\n",
       "        (conv2): Conv2d(64, 64, kernel_size=(3, 3), stride=(1, 1), padding=(1, 1), bias=False)\n",
       "        (bn2): BatchNorm2d(64, eps=1e-05, momentum=0.1, affine=True, track_running_stats=True)\n",
       "      )\n",
       "    )\n",
       "    (layer2): Sequential(\n",
       "      (0): BasicBlock(\n",
       "        (conv1): Conv2d(64, 128, kernel_size=(3, 3), stride=(2, 2), padding=(1, 1), bias=False)\n",
       "        (bn1): BatchNorm2d(128, eps=1e-05, momentum=0.1, affine=True, track_running_stats=True)\n",
       "        (relu): ReLU(inplace=True)\n",
       "        (conv2): Conv2d(128, 128, kernel_size=(3, 3), stride=(1, 1), padding=(1, 1), bias=False)\n",
       "        (bn2): BatchNorm2d(128, eps=1e-05, momentum=0.1, affine=True, track_running_stats=True)\n",
       "        (downsample): Sequential(\n",
       "          (0): Conv2d(64, 128, kernel_size=(1, 1), stride=(2, 2), bias=False)\n",
       "          (1): BatchNorm2d(128, eps=1e-05, momentum=0.1, affine=True, track_running_stats=True)\n",
       "        )\n",
       "      )\n",
       "      (1): BasicBlock(\n",
       "        (conv1): Conv2d(128, 128, kernel_size=(3, 3), stride=(1, 1), padding=(1, 1), bias=False)\n",
       "        (bn1): BatchNorm2d(128, eps=1e-05, momentum=0.1, affine=True, track_running_stats=True)\n",
       "        (relu): ReLU(inplace=True)\n",
       "        (conv2): Conv2d(128, 128, kernel_size=(3, 3), stride=(1, 1), padding=(1, 1), bias=False)\n",
       "        (bn2): BatchNorm2d(128, eps=1e-05, momentum=0.1, affine=True, track_running_stats=True)\n",
       "      )\n",
       "    )\n",
       "    (layer3): Sequential(\n",
       "      (0): BasicBlock(\n",
       "        (conv1): Conv2d(128, 256, kernel_size=(3, 3), stride=(2, 2), padding=(1, 1), bias=False)\n",
       "        (bn1): BatchNorm2d(256, eps=1e-05, momentum=0.1, affine=True, track_running_stats=True)\n",
       "        (relu): ReLU(inplace=True)\n",
       "        (conv2): Conv2d(256, 256, kernel_size=(3, 3), stride=(1, 1), padding=(1, 1), bias=False)\n",
       "        (bn2): BatchNorm2d(256, eps=1e-05, momentum=0.1, affine=True, track_running_stats=True)\n",
       "        (downsample): Sequential(\n",
       "          (0): Conv2d(128, 256, kernel_size=(1, 1), stride=(2, 2), bias=False)\n",
       "          (1): BatchNorm2d(256, eps=1e-05, momentum=0.1, affine=True, track_running_stats=True)\n",
       "        )\n",
       "      )\n",
       "      (1): BasicBlock(\n",
       "        (conv1): Conv2d(256, 256, kernel_size=(3, 3), stride=(1, 1), padding=(1, 1), bias=False)\n",
       "        (bn1): BatchNorm2d(256, eps=1e-05, momentum=0.1, affine=True, track_running_stats=True)\n",
       "        (relu): ReLU(inplace=True)\n",
       "        (conv2): Conv2d(256, 256, kernel_size=(3, 3), stride=(1, 1), padding=(1, 1), bias=False)\n",
       "        (bn2): BatchNorm2d(256, eps=1e-05, momentum=0.1, affine=True, track_running_stats=True)\n",
       "      )\n",
       "    )\n",
       "    (layer4): Sequential(\n",
       "      (0): BasicBlock(\n",
       "        (conv1): Conv2d(256, 512, kernel_size=(3, 3), stride=(2, 2), padding=(1, 1), bias=False)\n",
       "        (bn1): BatchNorm2d(512, eps=1e-05, momentum=0.1, affine=True, track_running_stats=True)\n",
       "        (relu): ReLU(inplace=True)\n",
       "        (conv2): Conv2d(512, 512, kernel_size=(3, 3), stride=(1, 1), padding=(1, 1), bias=False)\n",
       "        (bn2): BatchNorm2d(512, eps=1e-05, momentum=0.1, affine=True, track_running_stats=True)\n",
       "        (downsample): Sequential(\n",
       "          (0): Conv2d(256, 512, kernel_size=(1, 1), stride=(2, 2), bias=False)\n",
       "          (1): BatchNorm2d(512, eps=1e-05, momentum=0.1, affine=True, track_running_stats=True)\n",
       "        )\n",
       "      )\n",
       "      (1): BasicBlock(\n",
       "        (conv1): Conv2d(512, 512, kernel_size=(3, 3), stride=(1, 1), padding=(1, 1), bias=False)\n",
       "        (bn1): BatchNorm2d(512, eps=1e-05, momentum=0.1, affine=True, track_running_stats=True)\n",
       "        (relu): ReLU(inplace=True)\n",
       "        (conv2): Conv2d(512, 512, kernel_size=(3, 3), stride=(1, 1), padding=(1, 1), bias=False)\n",
       "        (bn2): BatchNorm2d(512, eps=1e-05, momentum=0.1, affine=True, track_running_stats=True)\n",
       "      )\n",
       "    )\n",
       "    (avgpool): AdaptiveAvgPool2d(output_size=(1, 1))\n",
       "    (fc): Linear(in_features=512, out_features=10, bias=True)\n",
       "  )\n",
       ")"
      ]
     },
     "execution_count": 51,
     "metadata": {},
     "output_type": "execute_result"
    }
   ],
   "source": [
    "main()"
   ]
  },
  {
   "cell_type": "markdown",
   "metadata": {},
   "source": [
    "<hr><br>\n",
    "\n",
    "### 2. VggNet (Visual Geometry Group Network)\n",
    "\n",
    "```text\n",
    "- The model size is ~600MB so I won't download the pre-trained model.\n",
    "- I also will NOT fine-tune the model due to the model size.\n",
    "- The code below is a code snippet on how to fine-tune the model.\n",
    "```\n",
    "\n",
    "<br>\n",
    "\n",
    "```python\n",
    "# ==== Note ====:\n",
    "# The model size is ~600MB so I won't download the pre-trained model.\n",
    "vggnet = models.vgg16(pretrained=True)\n",
    "vggnet\n",
    "\n",
    "# The last fully connected layer\n",
    "vggnet.classifier[6].in_features\n",
    "\n",
    "# Define transfer learning class\n",
    "class TransferLearningModel(nn.Module):\n",
    "    \"\"\"This is used to load the pre-trained VggNet model.\"\"\"\n",
    "\n",
    "    def __init__(self, num_classes: int) -> None:\n",
    "        super().__init__()\n",
    "        self.model = models.vgg16(pretrained=True)\n",
    "\n",
    "        # Freeze all the layers in the pre-trained model\n",
    "        for param in self.model.parameters():\n",
    "            param.requires_grad = False\n",
    "\n",
    "        # Modify the last fully connected layer for the new task (classification)\n",
    "        in_features = self.model.classifier[6].in_features\n",
    "        self.model.classifier[6] = nn.Linear(\n",
    "            in_features=in_features, out_features=num_classes\n",
    "        )\n",
    "\n",
    "    def forward(self, x: torch.Tensor) -> torch.Tensor:\n",
    "        \"\"\"This performs the forward propagation.\"\"\"\n",
    "        return self.model(x)\n",
    "\n",
    "def main():\n",
    "    \"\"\"This is the main function.\"\"\"\n",
    "    # Device configuration\n",
    "    device = torch.device(\"cuda\" if torch.cuda.is_available() else \"cpu\")\n",
    "\n",
    "    # If we're on a CUDA machine, this should print a CUDA device:\n",
    "    print(f\"Working on device={device!r}\")\n",
    "\n",
    "    # ==== Init model ====\n",
    "    model = TransferLearningModel(num_classes=num_classes).to(device=device)\n",
    "\n",
    "    # ==== Define loss function and optimizer ====\n",
    "    criterion = nn.CrossEntropyLoss()\n",
    "    optimizer = torch.optim.Adam(params=model.parameters(), lr=learning_rate)\n",
    "\n",
    "    # ==== Train the model ====\n",
    "    model = train_transfer_learning(\n",
    "        model,\n",
    "        device=device,\n",
    "        train_loader=train_loader_stl_10,\n",
    "        val_loader=val_loader_stl_10,\n",
    "        criterion=criterion,\n",
    "        optimizer=optimizer,\n",
    "        num_epochs=num_epochs,\n",
    "    )\n",
    "\n",
    "    # ==== Evaluate the model ====\n",
    "    test(model, device=device, test_loader=test_loader_stl_10)\n",
    "    return model\n",
    "\n",
    "    \n",
    "# ==== Fine-tune the model ====\n",
    "main()\n",
    "```"
   ]
  },
  {
   "cell_type": "code",
   "execution_count": null,
   "metadata": {},
   "outputs": [],
   "source": []
  },
  {
   "cell_type": "code",
   "execution_count": null,
   "metadata": {},
   "outputs": [],
   "source": []
  }
 ],
 "metadata": {
  "kernelspec": {
   "display_name": "torch_p310",
   "language": "python",
   "name": "python3"
  },
  "language_info": {
   "codemirror_mode": {
    "name": "ipython",
    "version": 3
   },
   "file_extension": ".py",
   "mimetype": "text/x-python",
   "name": "python",
   "nbconvert_exporter": "python",
   "pygments_lexer": "ipython3",
   "version": "3.10.10"
  },
  "orig_nbformat": 4
 },
 "nbformat": 4,
 "nbformat_minor": 2
}
