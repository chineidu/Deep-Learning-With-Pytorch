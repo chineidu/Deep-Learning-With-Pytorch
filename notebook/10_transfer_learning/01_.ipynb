{
 "cells": [
  {
   "cell_type": "markdown",
   "metadata": {},
   "source": [
    "# Transfer Learning\n",
    "\n",
    "```text\n",
    "- Transfer learning is a machine learning technique where a model trained on a source task is reused as the starting point for a model on a related target task. \n",
    "- This can be done by freezing the weights of the pretrained model and then fine-tuning them on the target task.\n",
    "\n",
    "Benefits\n",
    "--------\n",
    "- It can improve the performance of machine learning models on a variety of tasks.\n",
    "- It can be especially useful when there is limited data available for the target task.\n",
    "- It can save time and resources by reusing a pretrained model.\n",
    "\n",
    "Challenges\n",
    "----------\n",
    "- The pretrained model may not be suitable for the target task.\n",
    "- The pretrained model may need to be fine-tuned on the target task, which can be time-consuming.\n",
    "- The pretrained model may not be available for the specific task at hand.\n",
    "```"
   ]
  },
  {
   "cell_type": "code",
   "execution_count": 1,
   "metadata": {},
   "outputs": [],
   "source": [
    "# Built-in library\n",
    "import copy\n",
    "import logging\n",
    "from typing import Any, Optional, Sequence, Union\n",
    "\n",
    "# Standard imports\n",
    "import numpy as np\n",
    "import numpy.typing as npt\n",
    "import pandas as pd\n",
    "from sklearn.model_selection import train_test_split\n",
    "import torch\n",
    "from torch import nn\n",
    "import torch.nn.functional as F\n",
    "from torchsummary import summary\n",
    "from torch.utils.data import DataLoader, TensorDataset, random_split\n",
    "from torchvision.datasets import FashionMNIST, MNIST, CIFAR10\n",
    "import torchvision.transforms as T\n",
    "from tqdm.auto import tqdm\n",
    "import matplotlib.pyplot as plt\n",
    "\n",
    "# Configure the backend\n",
    "import matplotlib_inline.backend_inline\n",
    "\n",
    "# Pandas settings\n",
    "pd.options.display.max_rows = 1_000\n",
    "pd.options.display.max_columns = 1_000\n",
    "pd.options.display.max_colwidth = 2_000\n",
    "\n",
    "matplotlib_inline.backend_inline.set_matplotlib_formats(\"svg\")\n",
    "import seaborn as sns\n",
    "\n",
    "# Custom import\n",
    "from src.utilities import (\n",
    "    set_up_logger,\n",
    "    create_iris_data,\n",
    "    create_qwerties_data,\n",
    "    smooth,\n",
    ")\n",
    "from src.data_manager import (\n",
    "    load_data,\n",
    "    create_data_loader,\n",
    "    split_into_train_n_validation,\n",
    ")\n",
    "from src.preprocessor import Standardizer, Normalizer\n",
    "\n",
    "\n",
    "# Black code formatter (Optional)\n",
    "%load_ext lab_black\n",
    "# auto reload imports\n",
    "%load_ext autoreload\n",
    "%autoreload 2"
   ]
  },
  {
   "cell_type": "markdown",
   "metadata": {},
   "source": [
    "## 1. Transfer The Weights of MNSIT Digits Model To FMNIST Model\n",
    "\n",
    "<br>\n",
    "\n",
    "#### Load Data"
   ]
  },
  {
   "cell_type": "code",
   "execution_count": 2,
   "metadata": {},
   "outputs": [],
   "source": [
    "# MNIST Data\n",
    "fp = \"../../data/mnist_digit\"\n",
    "\n",
    "# Chain multiple transformations\n",
    "transform = T.Compose(\n",
    "    [\n",
    "        # Convert to PyTorch tensors\n",
    "        T.ToTensor(),\n",
    "        #  It performs per-channel normalization, where each channel\n",
    "        # (e.g., red, green, blue for an RGB image) is normalized independently.\n",
    "        # Since it's a single channel, we have (0.5,)\n",
    "        T.Normalize(mean=(0.5,), std=(0.5,)),\n",
    "    ]\n",
    ")\n",
    "\n",
    "train_data = MNIST(root=fp, train=True, transform=transform, download=True)\n",
    "test_data = MNIST(root=fp, train=False, transform=transform, download=True)\n",
    "\n",
    "train_size = int(0.8 * len(train_data))  # 80% of training data\n",
    "val_size = len(train_data) - train_size  # 20% of training data\n",
    "batch_size = 64\n",
    "\n",
    "# Split the training dataset into training and validation sets\n",
    "train_dataset, val_dataset = random_split(\n",
    "    dataset=train_data,\n",
    "    lengths=[train_size, val_size],\n",
    ")\n",
    "\n",
    "# Create DataLoader for each dataset\n",
    "train_loader_mnist = DataLoader(train_dataset, batch_size=batch_size, shuffle=True)\n",
    "val_loader_mnist = DataLoader(val_dataset, batch_size=batch_size)\n",
    "test_loader_mnist = DataLoader(test_data, batch_size=batch_size)"
   ]
  },
  {
   "cell_type": "code",
   "execution_count": 3,
   "metadata": {},
   "outputs": [],
   "source": [
    "# Fashion MNIST Data\n",
    "fp = \"../../data/fashion_mnist\"\n",
    "\n",
    "# Chain multiple transformations\n",
    "transform = T.Compose(\n",
    "    [\n",
    "        # Convert to PyTorch tensors\n",
    "        T.ToTensor(),\n",
    "        #  It performs per-channel normalization, where each channel\n",
    "        # (e.g., red, green, blue for an RGB image) is normalized independently.\n",
    "        # Since it's a single channel, we have (0.5,)\n",
    "        T.Normalize(mean=(0.5,), std=(0.5,)),\n",
    "    ]\n",
    ")\n",
    "\n",
    "train_data = FashionMNIST(root=fp, train=True, transform=transform, download=True)\n",
    "test_data = FashionMNIST(root=fp, train=False, transform=transform, download=True)\n",
    "\n",
    "train_size = int(0.8 * len(train_data))  # 80% of training data\n",
    "val_size = len(train_data) - train_size  # 20% of training data\n",
    "batch_size = 64\n",
    "\n",
    "# Split the training dataset into training and validation sets\n",
    "train_dataset, val_dataset = random_split(\n",
    "    dataset=train_data,\n",
    "    lengths=[train_size, val_size],\n",
    ")\n",
    "\n",
    "# Create DataLoader for each dataset\n",
    "train_loader_f_mnist = DataLoader(train_dataset, batch_size=batch_size, shuffle=True)\n",
    "val_loader_f_mnist = DataLoader(val_dataset, batch_size=batch_size)\n",
    "test_loader_f_mnist = DataLoader(test_data, batch_size=batch_size)"
   ]
  },
  {
   "cell_type": "code",
   "execution_count": 4,
   "metadata": {},
   "outputs": [
    {
     "data": {
      "text/plain": [
       "torch.Size([60000, 28, 28])"
      ]
     },
     "execution_count": 4,
     "metadata": {},
     "output_type": "execute_result"
    }
   ],
   "source": [
    "train_data.data.shape"
   ]
  },
  {
   "cell_type": "code",
   "execution_count": 5,
   "metadata": {},
   "outputs": [],
   "source": [
    "# Set random seeds for reproducibility\n",
    "RANDOM_STATE = 123\n",
    "\n",
    "torch.manual_seed(RANDOM_STATE)\n",
    "torch.cuda.manual_seed(RANDOM_STATE)\n",
    "np.random.seed(RANDOM_STATE)\n",
    "\n",
    "\n",
    "# Each MNSIT image is 1x28x28, so it is an 2D array [28,28]\n",
    "# I'll flatten the image as vector dim=1*28*28\n",
    "input_size = 1 * 28 * 28\n",
    "num_classes = 10\n",
    "num_epochs = 5\n",
    "batch_size = 64\n",
    "learning_rate = 0.001"
   ]
  },
  {
   "cell_type": "markdown",
   "metadata": {},
   "source": [
    "<hr><br>\n",
    "\n",
    "### Steps For Calculating The Output of The Layer \n",
    "\n",
    "#### Formula For The Size of Image At The Current Layer\n",
    "\n",
    "$$ N = \\lfloor{(\\frac{M + 2p - k}{S})}\\rfloor + 1$$\n",
    "\n",
    "```text\n",
    "N = Number of pixels in the current layer.\n",
    "M = Number of pixels in the previous layer.\n",
    "2p = Padding (it's multiplied by 2 because it's symmetric)\n",
    "K = Number of pixels in the kernel/filter.\n",
    "S = Stride parameter\n",
    "⌊⌋ = floor (i.e 2.2 becomes 2.0)\n",
    "```\n",
    "<br>\n",
    "\n",
    "```python\n",
    "class CNNModel(nn.Module):\n",
    "    def __init__(self, display_shape: bool = False) -> None:\n",
    "        super().__init__()\n",
    "        self.display_shape = display_shape\n",
    "        # Conv layer\n",
    "        self.conv_1 = nn.Conv2d(\n",
    "            in_channels=1, out_channels=10, kernel_size=5, stride=1, padding=1\n",
    "        )\n",
    "        # Size of the output of the conv layer (equation is shown above)\n",
    "        # Step 1\n",
    "        # NB: 28 (this is the size of the image. i.e 28X28)\n",
    "        # size_1 = np.floor((28 + (2*1) - 5) / 1 ) + 1 = 26/2 = 13 (/2 cox of maxpool)\n",
    "\n",
    "        self.conv_2 = nn.Conv2d(\n",
    "            in_channels=10, out_channels=20, kernel_size=5, stride=1, padding=1\n",
    "        )\n",
    "        # Step 2\n",
    "        # NB: 13 (this is the output of conv_1. i.e size_1)\n",
    "        # size_2 = np.floor((13 + (2 * 1) - 5) / 1) + 1 = 11/2 = 5 (/2 cox of maxpool)\n",
    "\n",
    "        # ========== Fully Connected Layer ==========\n",
    "        # Compute the number of units in the FCLayer (i.e. output of conv_2)\n",
    "        # NB: This FCLayer has no padding or stride\n",
    "        expected_size = 5 # (size_2)\n",
    "        # Find the square since it's symmetrical\n",
    "        expected_size = 20 * int(np.square(expected_size))\n",
    "        self.fc_layer_3 = nn.Linear(expected_size, 50)\n",
    "\n",
    "        # ========== Output Layer ==========\n",
    "        self.output = nn.Linear(50, 10)\n",
    "\n",
    "```\n",
    "\n",
    "#### Steps\n",
    "\n",
    "```text\n",
    "Step 1: Calculate the output of conv_1\n",
    "    - size_1 = np.floor((28 + (2*1) - 5) / 1 ) + 1 = 26/2 = 13 (/2 cox of maxpool)\n",
    "\n",
    "Step 2: Calculate the output of conv_2\n",
    "    - size_2 = np.floor((13 + (2 * 1) - 5) / 1) + 1 = 11/2 = 5 (/2 cox of maxpool)\n",
    "\n",
    "Step 3: Calculate the input of the fully connected layer\n",
    "    - input_size = size_2 * size_2\n",
    "      self.fc_layer_3 = nn.Linear(input_size x n_channels, 50)\n",
    "\n",
    "```\n",
    "\n",
    "<br>\n",
    "\n"
   ]
  },
  {
   "cell_type": "markdown",
   "metadata": {},
   "source": [
    "### Create MNIST Model\n",
    "\n",
    "```text\n",
    "- The model weights will be transferred to another model (FashionMNIST model)\n",
    "```"
   ]
  },
  {
   "cell_type": "code",
   "execution_count": 6,
   "metadata": {},
   "outputs": [],
   "source": [
    "def _calculate_size(\n",
    "    image_input: int, padding: int, kernel_size: int, stride: int\n",
    ") -> int:\n",
    "    \"\"\"This is used to calculate the output of the CNN.\"\"\"\n",
    "    output = np.floor(((image_input + 2 * padding - kernel_size) / stride)) + 1\n",
    "    return np.floor(output / 2)\n",
    "\n",
    "\n",
    "def calculate_layer_input(\n",
    "    image_input: int, padding: int, kernel_size: int, stride: int\n",
    ") -> int:\n",
    "    \"\"\"This is used to calculate the input of the fully connected layer in a CNN.\"\"\"\n",
    "    step_1 = _calculate_size(\n",
    "        image_input=image_input, padding=padding, kernel_size=kernel_size, stride=stride\n",
    "    )\n",
    "    step_2 = _calculate_size(\n",
    "        image_input=step_1, padding=padding, kernel_size=kernel_size, stride=stride\n",
    "    )\n",
    "    output = int(step_2)\n",
    "    return output\n",
    "\n",
    "\n",
    "class MNISTModel(nn.Module):\n",
    "    \"\"\"This is used to build a Convolutional Neutral Network architecture that\n",
    "    is used for classification of the MNIST data.\n",
    "\n",
    "    Params:\n",
    "        input_size: This is the output of the final conv layer.\n",
    "        num_classes (int): This is the number of class labels in the input data.\n",
    "    \"\"\"\n",
    "\n",
    "    def __init__(self, input_size: int, num_classes: int) -> None:\n",
    "        super().__init__()\n",
    "        self.conv_1 = nn.Conv2d(\n",
    "            in_channels=1, out_channels=10, kernel_size=5, stride=1, padding=1\n",
    "        )\n",
    "        self.pool = nn.MaxPool2d(kernel_size=2, stride=2)\n",
    "        self.conv_2 = nn.Conv2d(\n",
    "            in_channels=10, out_channels=20, kernel_size=5, stride=1, padding=1\n",
    "        )\n",
    "        self.fc_1 = nn.Linear((20 * input_size * input_size), 50)\n",
    "        self.fc_2 = nn.Linear(50, num_classes)\n",
    "\n",
    "    def forward(self, x: torch.Tensor) -> torch.Tensor:\n",
    "        \"\"\"This performs the forward propagation.\"\"\"\n",
    "\n",
    "        # Conv -> pool\n",
    "        x = self.pool(F.relu(self.conv_1(x)))\n",
    "        x = self.pool(F.relu(self.conv_2(x)))\n",
    "\n",
    "        # Flatten the input images to have the dim:\n",
    "        # (num_samples, n_channels, n_input, n_input)\n",
    "        x = x.view(x.size(0), -1)\n",
    "        x = self.fc_1(x)\n",
    "        x = self.fc_2(x)\n",
    "\n",
    "        return x"
   ]
  },
  {
   "cell_type": "code",
   "execution_count": 7,
   "metadata": {},
   "outputs": [
    {
     "name": "stdout",
     "output_type": "stream",
     "text": [
      "Output of Conv Layer: 5\n",
      "\n"
     ]
    },
    {
     "data": {
      "text/plain": [
       "torch.Size([1000, 10])"
      ]
     },
     "execution_count": 7,
     "metadata": {},
     "output_type": "execute_result"
    }
   ],
   "source": [
    "# Test the model with random data\n",
    "# (1_000, 1, 28, 28): (n_samples, n_channels, image_size, image_size)\n",
    "conv_output_size = calculate_layer_input(\n",
    "    image_input=28, padding=1, kernel_size=5, stride=1\n",
    ")\n",
    "print(f\"Output of Conv Layer: {conv_output_size}\\n\")\n",
    "cnn_model = MNISTModel(input_size=conv_output_size, num_classes=num_classes)\n",
    "X_ = torch.rand(size=(1_000, 1, 28, 28))\n",
    "\n",
    "result = cnn_model.forward(x=X_)\n",
    "result.shape"
   ]
  },
  {
   "cell_type": "markdown",
   "metadata": {},
   "source": [
    "### Train The MNIST Model"
   ]
  },
  {
   "cell_type": "code",
   "execution_count": 8,
   "metadata": {},
   "outputs": [],
   "source": [
    "def train(\n",
    "    model: MNISTModel,\n",
    "    device: Any,\n",
    "    train_loader: DataLoader,\n",
    "    val_loader: DataLoader,\n",
    "    criterion: Any,\n",
    "    optimizer: torch.optim,\n",
    "    num_epochs: int,\n",
    ") -> MNISTModel:\n",
    "    \"\"\"This is used for training the model.\"\"\"\n",
    "    for epoch in tqdm(range(num_epochs)):\n",
    "        model.train()\n",
    "        running_loss = 0.0\n",
    "\n",
    "        # ==== Batch training loop ====\n",
    "        for images, labels in train_loader:\n",
    "            # Push the data to GPU if available\n",
    "            images, labels = images.to(device), labels.to(device)\n",
    "\n",
    "            # ==== Forwardprop ====\n",
    "            outputs = model(images)\n",
    "            loss: nn.CrossEntropyLoss = criterion(outputs, labels)\n",
    "\n",
    "            # ==== Backprop ====\n",
    "            optimizer.zero_grad()\n",
    "            loss.backward()\n",
    "            optimizer.step()\n",
    "            # Update the loss\n",
    "            running_loss += loss.item()\n",
    "\n",
    "        # ==== Validation loop ====\n",
    "        model.eval()\n",
    "        val_loss = 0.0\n",
    "        val_correct = 0\n",
    "        val_total = 0\n",
    "\n",
    "        with torch.no_grad():\n",
    "            for images, labels in val_loader:\n",
    "                # Push the data to GPU if available\n",
    "                images, labels = images.to(device), labels.to(device)\n",
    "                outputs = model(images)\n",
    "                val_loss = criterion(outputs, labels).item()\n",
    "                # It returns the value and the index.\n",
    "                # We're interested in the index\n",
    "                _, predicted = torch.max(outputs, dim=1)\n",
    "                val_total += labels.size(0)  # or labels.shape[0]\n",
    "                val_correct += (predicted == labels).sum().item()\n",
    "        val_accuracy = (val_correct / val_total) * 100\n",
    "\n",
    "        print(\n",
    "            f\"Epoch {epoch + 1}/{num_epochs}, \"\n",
    "            f\"Training Loss: {running_loss / len(train_loader)}, \"\n",
    "            f\"Validation Loss: {val_loss / len(val_loader)}, \"\n",
    "            f\"Validation Accuracy: {val_accuracy:.2f}%\"\n",
    "        )\n",
    "    return model\n",
    "\n",
    "\n",
    "def test(model: MNISTModel, device: Any, test_loader: DataLoader):\n",
    "    \"\"\"This is used to the model on the test dataset.\"\"\"\n",
    "    model.eval()\n",
    "    test_correct = 0\n",
    "    test_total = 0\n",
    "    with torch.no_grad():\n",
    "        for images, labels in test_loader:\n",
    "            # Push the data to GPU if available\n",
    "            images, labels = images.to(device), labels.to(device)\n",
    "            outputs = model(images)\n",
    "            predicted = torch.argmax(outputs, dim=1)\n",
    "            test_total += labels.size(0)\n",
    "            test_correct += (predicted == labels).sum().item()\n",
    "\n",
    "    test_accuracy = (test_correct / test_total) * 100\n",
    "    print(f\"Test Accuracy: {test_accuracy:.2f}%\")"
   ]
  },
  {
   "cell_type": "code",
   "execution_count": 9,
   "metadata": {},
   "outputs": [],
   "source": [
    "def main():\n",
    "    \"\"\"This is the main function.\"\"\"\n",
    "    # Device configuration\n",
    "    device = torch.device(\"cuda\" if torch.cuda.is_available() else \"cpu\")\n",
    "\n",
    "    # If we're on a CUDA machine, this should print a CUDA device:\n",
    "    print(f\"Working on device={device!r}\")\n",
    "\n",
    "    # ==== Init model ====\n",
    "    model = MNISTModel(\n",
    "        input_size=conv_output_size,\n",
    "        num_classes=num_classes,\n",
    "    ).to(device=device)\n",
    "\n",
    "    # ==== Define loss function and optimizer ====\n",
    "    criterion = nn.CrossEntropyLoss()\n",
    "    optimizer = torch.optim.Adam(params=model.parameters(), lr=learning_rate)\n",
    "\n",
    "    # ==== Train the model ====\n",
    "    model = train(\n",
    "        model,\n",
    "        device=device,\n",
    "        train_loader=train_loader_mnist,\n",
    "        val_loader=val_loader_mnist,\n",
    "        criterion=criterion,\n",
    "        optimizer=optimizer,\n",
    "        num_epochs=num_epochs,\n",
    "    )\n",
    "\n",
    "    # ==== Evaluate the model ====\n",
    "    test(model, device=device, test_loader=test_loader_mnist)\n",
    "    return model"
   ]
  },
  {
   "cell_type": "code",
   "execution_count": 10,
   "metadata": {},
   "outputs": [
    {
     "name": "stdout",
     "output_type": "stream",
     "text": [
      "Working on device=device(type='cpu')\n"
     ]
    },
    {
     "data": {
      "application/vnd.jupyter.widget-view+json": {
       "model_id": "572478b9fbc04811a94991218c050812",
       "version_major": 2,
       "version_minor": 0
      },
      "text/plain": [
       "  0%|          | 0/5 [00:00<?, ?it/s]"
      ]
     },
     "metadata": {},
     "output_type": "display_data"
    },
    {
     "name": "stdout",
     "output_type": "stream",
     "text": [
      "Epoch 1/5, Training Loss: 0.22236178043608865, Validation Loss: 0.0001227181464275147, Validation Accuracy: 97.52%\n",
      "Epoch 2/5, Training Loss: 0.06364271127882724, Validation Loss: 5.3120033934395366e-05, Validation Accuracy: 98.12%\n",
      "Epoch 3/5, Training Loss: 0.045613968019373716, Validation Loss: 2.933987862172913e-05, Validation Accuracy: 98.32%\n",
      "Epoch 4/5, Training Loss: 0.03791267141296218, Validation Loss: 3.084124244273977e-05, Validation Accuracy: 98.81%\n",
      "Epoch 5/5, Training Loss: 0.03114697021866838, Validation Loss: 9.347980673563608e-06, Validation Accuracy: 98.64%\n",
      "Test Accuracy: 99.07%\n"
     ]
    }
   ],
   "source": [
    "# Train and evaluate\n",
    "mnist_model = main()"
   ]
  },
  {
   "cell_type": "markdown",
   "metadata": {},
   "source": [
    "### Test The Model\n",
    "\n",
    "```text\n",
    "- Test the MNIST model on the Fashion MNIST data.\n",
    "```"
   ]
  },
  {
   "cell_type": "code",
   "execution_count": 11,
   "metadata": {},
   "outputs": [
    {
     "name": "stdout",
     "output_type": "stream",
     "text": [
      "MNIST Digits model performance on FASHION data: 15.62%\n"
     ]
    }
   ],
   "source": [
    "# Extract X, y from FASHION test dataloader\n",
    "X, y = next(iter(test_loader_f_mnist))\n",
    "y_proba = mnist_model(X)\n",
    "y_pred = torch.argmax(y_proba, axis=1)\n",
    "fashion_acc = 100 * (torch.mean((y_pred == y).float()))\n",
    "\n",
    "print(f\"MNIST Digits model performance on FASHION data: {fashion_acc:.2f}%\")"
   ]
  },
  {
   "cell_type": "code",
   "execution_count": 12,
   "metadata": {},
   "outputs": [
    {
     "data": {
      "text/plain": [
       "MNISTModel(\n",
       "  (conv_1): Conv2d(1, 10, kernel_size=(5, 5), stride=(1, 1), padding=(1, 1))\n",
       "  (pool): MaxPool2d(kernel_size=2, stride=2, padding=0, dilation=1, ceil_mode=False)\n",
       "  (conv_2): Conv2d(10, 20, kernel_size=(5, 5), stride=(1, 1), padding=(1, 1))\n",
       "  (fc_1): Linear(in_features=500, out_features=50, bias=True)\n",
       "  (fc_2): Linear(in_features=50, out_features=10, bias=True)\n",
       ")"
      ]
     },
     "execution_count": 12,
     "metadata": {},
     "output_type": "execute_result"
    }
   ],
   "source": [
    "mnist_model"
   ]
  },
  {
   "cell_type": "markdown",
   "metadata": {},
   "source": [
    "### 1. Fine-tune The Model with One Training Batch"
   ]
  },
  {
   "cell_type": "code",
   "execution_count": 13,
   "metadata": {},
   "outputs": [
    {
     "name": "stdout",
     "output_type": "stream",
     "text": [
      "1st (Non-zero): \n",
      "tensor([[[-5.0515e-02, -3.0436e-01,  4.1554e-02, -2.9614e-01,  8.6978e-02],\n",
      "         [-3.1389e-01, -2.1803e-01, -2.6253e-01,  3.0337e-01, -5.2898e-02],\n",
      "         [ 1.9131e-01, -1.5062e-01,  4.3029e-03, -6.6835e-02,  1.5565e-01],\n",
      "         [-7.6559e-02,  7.2208e-03, -1.4116e-01,  1.2844e-01, -5.6489e-03],\n",
      "         [ 2.3686e-04, -2.1828e-01, -2.2357e-01,  1.6261e-01,  2.0629e-01]]],\n",
      "       grad_fn=<SubBackward0>)\n",
      "================================================================================\n",
      "\n",
      "2nd (Zero-matrix): \n",
      "tensor([[[0., 0., 0., 0., 0.],\n",
      "         [0., 0., 0., 0., 0.],\n",
      "         [0., 0., 0., 0., 0.],\n",
      "         [0., 0., 0., 0., 0.],\n",
      "         [0., 0., 0., 0., 0.]]], grad_fn=<SubBackward0>)\n"
     ]
    }
   ],
   "source": [
    "# Note:\n",
    "# The first print function will show a non-zeros matrix because the weights of the two models differ.\n",
    "# The second print function shows the zeros matrix because the two models have identical weights.\n",
    "\n",
    "# Create the target model\n",
    "fashion_net = MNISTModel(input_size=conv_output_size, num_classes=num_classes)\n",
    "matrix = fashion_net.conv_1.weight[0] - mnist_model.conv_1.weight[0]\n",
    "print(f\"1st (Non-zero): \\n{matrix}\")\n",
    "\n",
    "# Then replace all the weights in TARGET model from SOURCE model\n",
    "for source, target in zip(\n",
    "    mnist_model.named_parameters(), fashion_net.named_parameters()\n",
    "):\n",
    "    target[1].data = copy.deepcopy(source[1].data)\n",
    "\n",
    "matrix = fashion_net.conv_1.weight[0] - mnist_model.conv_1.weight[0]\n",
    "\n",
    "print(\"=\" * 80)\n",
    "print(f\"\\n2nd (Zero-matrix): \\n{matrix}\")"
   ]
  },
  {
   "cell_type": "code",
   "execution_count": 14,
   "metadata": {},
   "outputs": [
    {
     "name": "stdout",
     "output_type": "stream",
     "text": [
      "----------------------------------------------------------------\n",
      "        Layer (type)               Output Shape         Param #\n",
      "================================================================\n",
      "            Conv2d-1           [-1, 10, 26, 26]             260\n",
      "         MaxPool2d-2           [-1, 10, 13, 13]               0\n",
      "            Conv2d-3           [-1, 20, 11, 11]           5,020\n",
      "         MaxPool2d-4             [-1, 20, 5, 5]               0\n",
      "            Linear-5                   [-1, 50]          25,050\n",
      "            Linear-6                   [-1, 10]             510\n",
      "================================================================\n",
      "Total params: 30,840\n",
      "Trainable params: 30,840\n",
      "Non-trainable params: 0\n",
      "----------------------------------------------------------------\n",
      "Input size (MB): 0.00\n",
      "Forward/backward pass size (MB): 0.09\n",
      "Params size (MB): 0.12\n",
      "Estimated Total Size (MB): 0.21\n",
      "----------------------------------------------------------------\n"
     ]
    }
   ],
   "source": [
    "summary(mnist_model, input_size=(1, 28, 28))"
   ]
  },
  {
   "cell_type": "code",
   "execution_count": 15,
   "metadata": {},
   "outputs": [
    {
     "name": "stdout",
     "output_type": "stream",
     "text": [
      "----------------------------------------------------------------\n",
      "        Layer (type)               Output Shape         Param #\n",
      "================================================================\n",
      "            Conv2d-1           [-1, 10, 26, 26]             260\n",
      "         MaxPool2d-2           [-1, 10, 13, 13]               0\n",
      "            Conv2d-3           [-1, 20, 11, 11]           5,020\n",
      "         MaxPool2d-4             [-1, 20, 5, 5]               0\n",
      "            Linear-5                   [-1, 50]          25,050\n",
      "            Linear-6                   [-1, 10]             510\n",
      "================================================================\n",
      "Total params: 30,840\n",
      "Trainable params: 30,840\n",
      "Non-trainable params: 0\n",
      "----------------------------------------------------------------\n",
      "Input size (MB): 0.00\n",
      "Forward/backward pass size (MB): 0.09\n",
      "Params size (MB): 0.12\n",
      "Estimated Total Size (MB): 0.21\n",
      "----------------------------------------------------------------\n"
     ]
    }
   ],
   "source": [
    "summary(fashion_net, input_size=(1, 28, 28))"
   ]
  },
  {
   "cell_type": "markdown",
   "metadata": {},
   "source": [
    "#### Re-train The Copied Model (fashion_net) \n",
    "text\n",
    "```\n",
    "- Re-train the copied model using the Fashion MNIST data.\n",
    "```"
   ]
  },
  {
   "cell_type": "code",
   "execution_count": 16,
   "metadata": {},
   "outputs": [
    {
     "data": {
      "application/vnd.jupyter.widget-view+json": {
       "model_id": "087a4892f8174a0eb7a2915cd789aebd",
       "version_major": 2,
       "version_minor": 0
      },
      "text/plain": [
       "  0%|          | 0/5 [00:00<?, ?it/s]"
      ]
     },
     "metadata": {},
     "output_type": "display_data"
    },
    {
     "name": "stdout",
     "output_type": "stream",
     "text": [
      "Epoch 1/5, Training Loss: 0.5470346232652664, Validation Loss: 0.0015083234360877503, Validation Accuracy: 86.42%\n",
      "Epoch 2/5, Training Loss: 0.345637819459041, Validation Loss: 0.0010313773725895172, Validation Accuracy: 88.69%\n",
      "Epoch 3/5, Training Loss: 0.3061181615094344, Validation Loss: 0.0011674218830910134, Validation Accuracy: 88.84%\n",
      "Epoch 4/5, Training Loss: 0.2849910481572151, Validation Loss: 0.0007020186712133124, Validation Accuracy: 89.35%\n",
      "Epoch 5/5, Training Loss: 0.2678710467616717, Validation Loss: 0.0008637752938777842, Validation Accuracy: 89.16%\n"
     ]
    }
   ],
   "source": [
    "device = torch.device(\"cuda\" if torch.cuda.is_available() else \"cpu\")\n",
    "criterion = nn.CrossEntropyLoss()\n",
    "optimizer = torch.optim.Adam(params=fashion_net.parameters(), lr=learning_rate)\n",
    "\n",
    "fashion_net = train(\n",
    "    model=fashion_net,\n",
    "    device=device,\n",
    "    train_loader=train_loader_f_mnist,\n",
    "    val_loader=val_loader_f_mnist,\n",
    "    criterion=criterion,\n",
    "    optimizer=optimizer,\n",
    "    num_epochs=num_epochs,\n",
    ")"
   ]
  },
  {
   "cell_type": "code",
   "execution_count": 17,
   "metadata": {},
   "outputs": [
    {
     "name": "stdout",
     "output_type": "stream",
     "text": [
      "Test Accuracy: 88.45%\n"
     ]
    }
   ],
   "source": [
    "# ==== Evaluate the model ====\n",
    "test(fashion_net, device=device, test_loader=test_loader_f_mnist)"
   ]
  },
  {
   "cell_type": "markdown",
   "metadata": {},
   "source": [
    "### 2. Train Only The Output Layer"
   ]
  },
  {
   "cell_type": "code",
   "execution_count": 18,
   "metadata": {},
   "outputs": [],
   "source": [
    "# ==== Create the target model ====\n",
    "fashion_net = MNISTModel(input_size=conv_output_size, num_classes=num_classes)\n",
    "\n",
    "# ==== Replace all the weights in TARGET model from SOURCE model ====\n",
    "for source, target in zip(\n",
    "    mnist_model.named_parameters(), fashion_net.named_parameters()\n",
    "):\n",
    "    target[1].data = copy.deepcopy(source[1].data)\n",
    "\n",
    "# Adjust the number of output units (Final layer)\n",
    "fashion_net.fc_2 = nn.Linear(50, num_classes)\n",
    "\n",
    "# ==== Freeze convolution and batch-norm layers ====\n",
    "for _param in fashion_net.named_parameters():\n",
    "    if (\"conv\" in _param[0]) or (\"bnorm\" in _param[0]):\n",
    "        _param[1].requires_grad = False"
   ]
  },
  {
   "cell_type": "code",
   "execution_count": 19,
   "metadata": {},
   "outputs": [
    {
     "data": {
      "application/vnd.jupyter.widget-view+json": {
       "model_id": "6d847b19661f4b00a7631d76edc99364",
       "version_major": 2,
       "version_minor": 0
      },
      "text/plain": [
       "  0%|          | 0/5 [00:00<?, ?it/s]"
      ]
     },
     "metadata": {},
     "output_type": "display_data"
    },
    {
     "name": "stdout",
     "output_type": "stream",
     "text": [
      "Epoch 1/5, Training Loss: 0.5369026172955831, Validation Loss: 0.001318495403578941, Validation Accuracy: 85.13%\n",
      "Epoch 2/5, Training Loss: 0.3918050659298897, Validation Loss: 0.0014470904431444533, Validation Accuracy: 86.53%\n",
      "Epoch 3/5, Training Loss: 0.3650636683603128, Validation Loss: 0.0013575189291162694, Validation Accuracy: 87.18%\n",
      "Epoch 4/5, Training Loss: 0.3521836158931255, Validation Loss: 0.0010353727068038697, Validation Accuracy: 86.97%\n",
      "Epoch 5/5, Training Loss: 0.3446938945055008, Validation Loss: 0.000949744610710347, Validation Accuracy: 86.99%\n"
     ]
    }
   ],
   "source": [
    "# ==== Retrain the model ====\n",
    "\n",
    "device = torch.device(\"cuda\" if torch.cuda.is_available() else \"cpu\")\n",
    "criterion = nn.CrossEntropyLoss()\n",
    "optimizer = torch.optim.Adam(params=fashion_net.parameters(), lr=learning_rate)\n",
    "\n",
    "fashion_net = train(\n",
    "    model=fashion_net,\n",
    "    device=device,\n",
    "    train_loader=train_loader_f_mnist,\n",
    "    val_loader=val_loader_f_mnist,\n",
    "    criterion=criterion,\n",
    "    optimizer=optimizer,\n",
    "    num_epochs=num_epochs,\n",
    ")"
   ]
  },
  {
   "cell_type": "code",
   "execution_count": 20,
   "metadata": {},
   "outputs": [
    {
     "name": "stdout",
     "output_type": "stream",
     "text": [
      "Test Accuracy: 85.73%\n"
     ]
    }
   ],
   "source": [
    "# ==== Evaluate the model ====\n",
    "test(fashion_net, device=device, test_loader=test_loader_f_mnist)"
   ]
  },
  {
   "cell_type": "code",
   "execution_count": null,
   "metadata": {},
   "outputs": [],
   "source": []
  },
  {
   "cell_type": "code",
   "execution_count": null,
   "metadata": {},
   "outputs": [],
   "source": []
  },
  {
   "cell_type": "code",
   "execution_count": null,
   "metadata": {},
   "outputs": [],
   "source": []
  },
  {
   "cell_type": "code",
   "execution_count": null,
   "metadata": {},
   "outputs": [],
   "source": []
  },
  {
   "cell_type": "code",
   "execution_count": null,
   "metadata": {},
   "outputs": [],
   "source": []
  },
  {
   "cell_type": "code",
   "execution_count": null,
   "metadata": {},
   "outputs": [],
   "source": []
  }
 ],
 "metadata": {
  "kernelspec": {
   "display_name": "torch_p310",
   "language": "python",
   "name": "python3"
  },
  "language_info": {
   "codemirror_mode": {
    "name": "ipython",
    "version": 3
   },
   "file_extension": ".py",
   "mimetype": "text/x-python",
   "name": "python",
   "nbconvert_exporter": "python",
   "pygments_lexer": "ipython3",
   "version": "3.10.10"
  },
  "orig_nbformat": 4
 },
 "nbformat": 4,
 "nbformat_minor": 2
}
