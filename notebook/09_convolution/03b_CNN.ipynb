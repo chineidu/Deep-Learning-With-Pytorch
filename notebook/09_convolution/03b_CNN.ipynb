{
 "cells": [
  {
   "cell_type": "markdown",
   "metadata": {},
   "source": [
    "# Convolution Neural Network (CNN)\n",
    "\n",
    "[![image.png](https://i.postimg.cc/mrXbbMF6/image.png)](https://postimg.cc/t160kskh)\n",
    "\n",
    "<br>\n",
    "\n",
    "```text\n",
    "Layers In A CNN\n",
    "---------------\n",
    "- Convolution: This layer learns the filter/kernel used to create feature maps.\n",
    "- Poooling: This layer is used to reduce the spatial dimension of the image and increase the receptive field size.\n",
    "- Fully connected: AKA ANN/FFN. It's used for making predictions.\n",
    "\n",
    "Typical Architecture\n",
    "--------------------\n",
    "Conv -> Pool -> FFN\n",
    "```\n",
    "\n",
    "## Implementations\n",
    "\n",
    "1. [Medium blog](https://medium.com/thecyphy/train-cnn-model-with-pytorch-21dafb918f48)\n",
    "2. [Notebook 1](https://colab.research.google.com/drive/1UD2RIXreLLgUDfLauJqR41QrLw3ufwbN#scrollTo=gHzKOZjnp0qn)"
   ]
  },
  {
   "cell_type": "code",
   "execution_count": 1,
   "metadata": {},
   "outputs": [],
   "source": [
    "# Built-in library\n",
    "import logging\n",
    "from typing import Any, Optional, Sequence, Union\n",
    "\n",
    "# Standard imports\n",
    "import numpy as np\n",
    "import numpy.typing as npt\n",
    "import pandas as pd\n",
    "from sklearn.model_selection import train_test_split\n",
    "import torch\n",
    "from torch import nn\n",
    "import torch.nn.functional as F\n",
    "from torch.utils.data import DataLoader, TensorDataset, random_split\n",
    "from torchvision.datasets import MNIST, CIFAR10\n",
    "import torchvision.transforms as transforms\n",
    "from tqdm.auto import tqdm\n",
    "import matplotlib.pyplot as plt\n",
    "\n",
    "# Configure the backend\n",
    "import matplotlib_inline.backend_inline\n",
    "\n",
    "# Pandas settings\n",
    "pd.options.display.max_rows = 1_000\n",
    "pd.options.display.max_columns = 1_000\n",
    "pd.options.display.max_colwidth = 2_000\n",
    "\n",
    "matplotlib_inline.backend_inline.set_matplotlib_formats(\"svg\")\n",
    "import seaborn as sns\n",
    "\n",
    "# Custom import\n",
    "from src.utilities import (\n",
    "    set_up_logger,\n",
    "    create_iris_data,\n",
    "    create_qwerties_data,\n",
    "    smooth,\n",
    ")\n",
    "from src.data_manager import (\n",
    "    load_data,\n",
    "    create_data_loader,\n",
    "    split_into_train_n_validation,\n",
    ")\n",
    "from src.preprocessor import Standardizer, Normalizer\n",
    "\n",
    "\n",
    "# Black code formatter (Optional)\n",
    "%load_ext lab_black\n",
    "# auto reload imports\n",
    "%load_ext autoreload\n",
    "%autoreload 2"
   ]
  },
  {
   "cell_type": "markdown",
   "metadata": {},
   "source": [
    "### Load/Download MNIST Digits Data"
   ]
  },
  {
   "cell_type": "code",
   "execution_count": 2,
   "metadata": {},
   "outputs": [],
   "source": [
    "fp = \"../../data/mnist_digit\"\n",
    "\n",
    "# Chain multiple transformations\n",
    "transform = transforms.Compose(\n",
    "    [\n",
    "        # Convert to PyTorch tensors\n",
    "        transforms.ToTensor(),\n",
    "        #  It performs per-channel normalization, where each channel\n",
    "        # (e.g., red, green, blue for an RGB image) is normalized independently.\n",
    "        # Since it's a single channel, we have (0.5,)\n",
    "        transforms.Normalize(mean=(0.5,), std=(0.5,)),\n",
    "    ]\n",
    ")\n",
    "\n",
    "train_dataset = MNIST(root=fp, train=True, transform=transform, download=True)\n",
    "test_dataset = MNIST(root=fp, train=False, transform=transform, download=True)"
   ]
  },
  {
   "cell_type": "markdown",
   "metadata": {},
   "source": [
    "## Steps For Calculating The Output of The Layer \n",
    "\n",
    "### Formula For The Size of Image At The Current Layer\n",
    "\n",
    "$$ N = \\lfloor{(\\frac{M + 2p - k}{S})}\\rfloor + 1$$\n",
    "\n",
    "```text\n",
    "N = Number of pixels in the current layer.\n",
    "M = Number of pixels in the previous layer.\n",
    "2p = Padding (it's multiplied by 2 because it's symmetric)\n",
    "K = Number of pixels in the kernel/filter.\n",
    "S = Stride parameter\n",
    "⌊⌋ = floor (i.e 2.2 becomes 2.0)\n",
    "```\n",
    "<br>\n",
    "\n",
    "```python\n",
    "class CNNModel(nn.Module):\n",
    "    def __init__(self, display_shape: bool = False) -> None:\n",
    "        super().__init__()\n",
    "        self.display_shape = display_shape\n",
    "        # Conv layer\n",
    "        self.conv_1 = nn.Conv2d(\n",
    "            in_channels=1, out_channels=10, kernel_size=5, stride=1, padding=1\n",
    "        )\n",
    "        # Size of the output of the conv layer (equation is shown above)\n",
    "        # Step 1\n",
    "        # NB: 28 (this is the size of the image. i.e 28X28)\n",
    "        # size_1 = np.floor((28 + (2*1) - 5) / 1 ) + 1 = 26/2 = 13 (/2 cox of maxpool)\n",
    "\n",
    "        self.conv_2 = nn.Conv2d(\n",
    "            in_channels=10, out_channels=20, kernel_size=5, stride=1, padding=1\n",
    "        )\n",
    "        # Step 2\n",
    "        # NB: 13 (this is the output of conv_1. i.e size_1)\n",
    "        # size_2 = np.floor((13 + (2 * 1) - 5) / 1) + 1 = 11/2 = 5 (/2 cox of maxpool)\n",
    "\n",
    "        # ========== Fully Connected Layer ==========\n",
    "        # Compute the number of units in the FCLayer (i.e. output of conv_2)\n",
    "        # NB: This FCLayer has no padding or stride\n",
    "        expected_size = 5 # (size_2)\n",
    "        # Find the square since it's symmetrical\n",
    "        expected_size = 20 * int(np.square(expected_size))\n",
    "        self.fc_layer_3 = nn.Linear(expected_size, 50)\n",
    "\n",
    "        # ========== Output Layer ==========\n",
    "        self.output = nn.Linear(50, 10)\n",
    "\n",
    "```\n",
    "\n",
    "#### Steps\n",
    "\n",
    "```text\n",
    "Step 1: Calculate the output of conv_1\n",
    "    - size_1 = np.floor((28 + (2*1) - 5) / 1 ) + 1 = 26/2 = 13 (/2 cox of maxpool)\n",
    "\n",
    "Step 2: Calculate the output of conv_2\n",
    "    - size_2 = np.floor((13 + (2 * 1) - 5) / 1) + 1 = 11/2 = 5 (/2 cox of maxpool)\n",
    "\n",
    "Step 3: Calculate the input of the fully connected layer\n",
    "    - input_size = size_2 * size_2\n",
    "      self.fc_layer_3 = nn.Linear(input_size x n_channels, 50)\n",
    "\n",
    "```\n",
    "\n",
    "<br><hr>\n",
    "\n"
   ]
  },
  {
   "cell_type": "code",
   "execution_count": 3,
   "metadata": {},
   "outputs": [],
   "source": [
    "def _calculate_size(\n",
    "    image_input: int, padding: int, kernel_size: int, stride: int\n",
    ") -> int:\n",
    "    \"\"\"This is used to calculate the output of the CNN.\"\"\"\n",
    "    output = np.floor(((image_input + 2 * padding - kernel_size) / stride)) + 1\n",
    "    return np.floor(output / 2)\n",
    "\n",
    "\n",
    "def calculate_layer_input(\n",
    "    image_input: int, padding: int, kernel_size: int, stride: int\n",
    ") -> int:\n",
    "    \"\"\"This is used to calculate the input of the fully connected layer in a CNN.\"\"\"\n",
    "    step_1 = _calculate_size(\n",
    "        image_input=image_input, padding=padding, kernel_size=kernel_size, stride=stride\n",
    "    )\n",
    "    step_2 = _calculate_size(\n",
    "        image_input=step_1, padding=padding, kernel_size=kernel_size, stride=stride\n",
    "    )\n",
    "    output = int(step_2)\n",
    "    return output"
   ]
  },
  {
   "cell_type": "markdown",
   "metadata": {},
   "source": [
    "### Configurations"
   ]
  },
  {
   "cell_type": "code",
   "execution_count": 4,
   "metadata": {},
   "outputs": [],
   "source": [
    "# Set random seeds for reproducibility\n",
    "RANDOM_STATE = 123\n",
    "\n",
    "torch.manual_seed(RANDOM_STATE)\n",
    "torch.cuda.manual_seed(RANDOM_STATE)\n",
    "np.random.seed(RANDOM_STATE)"
   ]
  },
  {
   "cell_type": "code",
   "execution_count": 5,
   "metadata": {},
   "outputs": [
    {
     "name": "stdout",
     "output_type": "stream",
     "text": [
      "Working on device=cpu\n"
     ]
    }
   ],
   "source": [
    "# Device configuration\n",
    "device = torch.device(\"cuda\" if torch.cuda.is_available() else \"cpu\")\n",
    "\n",
    "# If we're on a CUDA machine, this should print a CUDA device:\n",
    "print(f\"Working on device={device}\")"
   ]
  },
  {
   "cell_type": "markdown",
   "metadata": {},
   "source": [
    "### Hyper-parameters\n"
   ]
  },
  {
   "cell_type": "code",
   "execution_count": 6,
   "metadata": {},
   "outputs": [],
   "source": [
    "import torchvision.transforms as transforms\n",
    "\n",
    "\n",
    "# Each MNSIT image is 1x28x28, so it is an 2D array [28,28]\n",
    "# I'll flatten the image as vector dim=1*28*28\n",
    "input_size = 1 * 28 * 28\n",
    "hidden_size = 128\n",
    "num_classes = 10\n",
    "num_epochs = 5\n",
    "batch_size = 64\n",
    "learning_rate = 0.001\n",
    "\n",
    "train_size = int(0.8 * len(train_dataset))  # 80% of training data\n",
    "val_size = len(train_dataset) - train_size  # 20% of training data"
   ]
  },
  {
   "cell_type": "markdown",
   "metadata": {},
   "source": [
    "### Prepare The Data"
   ]
  },
  {
   "cell_type": "code",
   "execution_count": 7,
   "metadata": {},
   "outputs": [],
   "source": [
    "# Split the training dataset into training and validation sets\n",
    "train_dataset, val_dataset = random_split(\n",
    "    dataset=train_dataset,\n",
    "    lengths=[train_size, val_size],\n",
    ")\n",
    "\n",
    "# Create DataLoader for each dataset\n",
    "train_loader = DataLoader(train_dataset, batch_size=batch_size, shuffle=True)\n",
    "val_loader = DataLoader(val_dataset, batch_size=batch_size)\n",
    "test_loader = DataLoader(test_dataset, batch_size=batch_size)"
   ]
  },
  {
   "cell_type": "markdown",
   "metadata": {},
   "source": [
    "### Define CNN"
   ]
  },
  {
   "cell_type": "code",
   "execution_count": 8,
   "metadata": {},
   "outputs": [],
   "source": [
    "class CNN(nn.Module):\n",
    "    \"\"\"This is used to build a Convolutional Neutral Network architecture that\n",
    "    is used for classification.\n",
    "\n",
    "    NB:\n",
    "        input_size: This is the output of the final conv layer\n",
    "    \"\"\"\n",
    "\n",
    "    def __init__(self, input_size: int, num_classes: int) -> None:\n",
    "        super().__init__()\n",
    "        self.conv_1 = nn.Conv2d(\n",
    "            in_channels=1, out_channels=10, kernel_size=5, stride=1, padding=1\n",
    "        )\n",
    "        self.pool = nn.MaxPool2d(kernel_size=2, stride=2)\n",
    "        self.conv_2 = nn.Conv2d(\n",
    "            in_channels=10, out_channels=20, kernel_size=5, stride=1, padding=1\n",
    "        )\n",
    "        self.fc1 = nn.Linear((20 * input_size * input_size), 50)\n",
    "        self.fc2 = nn.Linear(50, num_classes)\n",
    "\n",
    "    def forward(self, x: torch.Tensor) -> torch.Tensor:\n",
    "        \"\"\"This performs the forward propagation.\"\"\"\n",
    "\n",
    "        # Conv -> pool\n",
    "        x = self.pool(F.relu(self.conv_1(x)))\n",
    "        x = self.pool(F.relu(self.conv_2(x)))\n",
    "\n",
    "        # Flatten the input images to have the dim:\n",
    "        # (num_samples, n_channels, n_input, n_input)\n",
    "        x = x.view(x.size(0), -1)\n",
    "        x = self.fc1(x)\n",
    "        x = self.fc2(x)\n",
    "\n",
    "        return x"
   ]
  },
  {
   "cell_type": "code",
   "execution_count": 9,
   "metadata": {},
   "outputs": [
    {
     "name": "stdout",
     "output_type": "stream",
     "text": [
      "Output of Conv Layer: 5\n",
      "\n"
     ]
    },
    {
     "data": {
      "text/plain": [
       "torch.Size([1000, 10])"
      ]
     },
     "execution_count": 9,
     "metadata": {},
     "output_type": "execute_result"
    }
   ],
   "source": [
    "# Test the model with random data\n",
    "conv_output_size = calculate_layer_input(\n",
    "    image_input=28, padding=1, kernel_size=5, stride=1\n",
    ")\n",
    "print(f\"Output of Conv Layer: {conv_output_size}\\n\")\n",
    "cnn_model = CNN(input_size=conv_output_size, num_classes=num_classes)\n",
    "X_ = torch.rand(size=(1_000, 1, 28, 28))\n",
    "\n",
    "result = cnn_model.forward(x=X_)\n",
    "result.shape"
   ]
  },
  {
   "cell_type": "markdown",
   "metadata": {},
   "source": [
    "### Train Model"
   ]
  },
  {
   "cell_type": "code",
   "execution_count": 10,
   "metadata": {},
   "outputs": [
    {
     "data": {
      "application/vnd.jupyter.widget-view+json": {
       "model_id": "628c9de68900427fa2d87891882d46d8",
       "version_major": 2,
       "version_minor": 0
      },
      "text/plain": [
       "  0%|          | 0/5 [00:00<?, ?it/s]"
      ]
     },
     "metadata": {},
     "output_type": "display_data"
    },
    {
     "name": "stdout",
     "output_type": "stream",
     "text": [
      "Epoch 1/5, Training Loss: 0.25127373782421153, Validation Loss: 3.800730894696205e-05, Validation Accuracy: 97.51%\n",
      "Epoch 2/5, Training Loss: 0.07121194873315592, Validation Loss: 8.850435211144863e-06, Validation Accuracy: 98.24%\n",
      "Epoch 3/5, Training Loss: 0.0531672629302678, Validation Loss: 1.5563384798216694e-05, Validation Accuracy: 97.87%\n",
      "Epoch 4/5, Training Loss: 0.0442768574632549, Validation Loss: 5.358813994346147e-06, Validation Accuracy: 98.78%\n",
      "Epoch 5/5, Training Loss: 0.03791645892313682, Validation Loss: 0.00021415776474044678, Validation Accuracy: 98.68%\n",
      "Test Accuracy: 98.62%\n"
     ]
    }
   ],
   "source": [
    "# ==== Init model ====\n",
    "model = CNN(input_size=conv_output_size, num_classes=num_classes).to(device=device)\n",
    "\n",
    "# ==== Define loss function and optimizer ====\n",
    "criterion = nn.CrossEntropyLoss()\n",
    "optimizer = torch.optim.Adam(params=model.parameters(), lr=learning_rate)\n",
    "\n",
    "# ==== Training loop ====\n",
    "for epoch in tqdm(range(num_epochs)):\n",
    "    model.train()\n",
    "    running_loss = 0.0\n",
    "\n",
    "    # ==== Batch training loop ====\n",
    "    for images, labels in train_loader:\n",
    "        # Push the data to GPU if available\n",
    "        images, labels = images.to(device), labels.to(device)\n",
    "\n",
    "        # ==== Forwardprop ====\n",
    "        outputs = model(images)\n",
    "        loss: nn.CrossEntropyLoss = criterion(outputs, labels)\n",
    "\n",
    "        # ==== Backprop ====\n",
    "        optimizer.zero_grad()\n",
    "        loss.backward()\n",
    "        optimizer.step()\n",
    "        # Update the loss\n",
    "        running_loss += loss.item()\n",
    "\n",
    "    # ==== Validation loop ====\n",
    "    model.eval()\n",
    "    val_loss = 0.0\n",
    "    val_correct = 0\n",
    "    val_total = 0\n",
    "\n",
    "    with torch.no_grad():\n",
    "        for images, labels in val_loader:\n",
    "            # Push the data to GPU if available\n",
    "            images, labels = images.to(device), labels.to(device)\n",
    "            outputs = model(images)\n",
    "            val_loss = criterion(outputs, labels).item()\n",
    "            # It returns the value and the index.\n",
    "            # We're interested in the index\n",
    "            _, predicted = torch.max(outputs, dim=1)\n",
    "            val_total += labels.size(0)  # or labels.shape[0]\n",
    "            val_correct += (predicted == labels).sum().item()\n",
    "    val_accuracy = (val_correct / val_total) * 100\n",
    "\n",
    "    print(\n",
    "        f\"Epoch {epoch + 1}/{num_epochs}, \"\n",
    "        f\"Training Loss: {running_loss / len(train_loader)}, \"\n",
    "        f\"Validation Loss: {val_loss / len(val_loader)}, \"\n",
    "        f\"Validation Accuracy: {val_accuracy:.2f}%\"\n",
    "    )\n",
    "\n",
    "# Test the model on the test dataset\n",
    "model.eval()\n",
    "test_correct = 0\n",
    "test_total = 0\n",
    "with torch.no_grad():\n",
    "    for images, labels in test_loader:\n",
    "        # Push the data to GPU if available\n",
    "        images, labels = images.to(device), labels.to(device)\n",
    "        outputs = model(images)\n",
    "        # It returns the value and the index.\n",
    "        # We're interested in the index\n",
    "        predicted = torch.argmax(outputs, dim=1)\n",
    "        test_total += labels.size(0)\n",
    "        test_correct += (predicted == labels).sum().item()\n",
    "\n",
    "test_accuracy = (test_correct / test_total) * 100\n",
    "print(f\"Test Accuracy: { test_accuracy:.2f}%\")"
   ]
  },
  {
   "cell_type": "code",
   "execution_count": null,
   "metadata": {},
   "outputs": [],
   "source": []
  },
  {
   "cell_type": "markdown",
   "metadata": {},
   "source": [
    "## Putting It All Together"
   ]
  },
  {
   "cell_type": "code",
   "execution_count": 11,
   "metadata": {},
   "outputs": [],
   "source": [
    "class CNN(nn.Module):\n",
    "    \"\"\"This is used to build a Convolutional Neutral Network architecture that\n",
    "    is used for classification.\n",
    "\n",
    "    NB:\n",
    "        input_size: This is the output of the final conv layer.\n",
    "    \"\"\"\n",
    "\n",
    "    def __init__(self, input_size: int, num_classes: int) -> None:\n",
    "        super().__init__()\n",
    "        self.conv_1 = nn.Conv2d(\n",
    "            in_channels=1, out_channels=10, kernel_size=5, stride=1, padding=1\n",
    "        )\n",
    "        self.pool = nn.MaxPool2d(kernel_size=2, stride=2)\n",
    "        self.conv_2 = nn.Conv2d(\n",
    "            in_channels=10, out_channels=20, kernel_size=5, stride=1, padding=1\n",
    "        )\n",
    "        self.fc1 = nn.Linear((20 * input_size * input_size), 50)\n",
    "        self.fc2 = nn.Linear(50, num_classes)\n",
    "\n",
    "    def forward(self, x: torch.Tensor) -> torch.Tensor:\n",
    "        \"\"\"This performs the forward propagation.\"\"\"\n",
    "\n",
    "        # Conv -> pool\n",
    "        x = self.pool(F.relu(self.conv_1(x)))\n",
    "        x = self.pool(F.relu(self.conv_2(x)))\n",
    "\n",
    "        # Flatten the input images to have the dim:\n",
    "        # (num_samples, n_channels, n_input, n_input)\n",
    "        x = x.view(x.size(0), -1)\n",
    "        x = self.fc1(x)\n",
    "        x = self.fc2(x)\n",
    "\n",
    "        return x"
   ]
  },
  {
   "cell_type": "code",
   "execution_count": 12,
   "metadata": {},
   "outputs": [],
   "source": [
    "def train(\n",
    "    model: CNN,\n",
    "    device: Any,\n",
    "    train_loader: DataLoader,\n",
    "    val_loader: DataLoader,\n",
    "    criterion: Any,\n",
    "    optimizer: torch.optim,\n",
    "    num_epochs: int,\n",
    ") -> CNN:\n",
    "    \"\"\"This is used for training the model.\"\"\"\n",
    "    for epoch in tqdm(range(num_epochs)):\n",
    "        model.train()\n",
    "        running_loss = 0.0\n",
    "\n",
    "        # ==== Batch training loop ====\n",
    "        for images, labels in train_loader:\n",
    "            # Push the data to GPU if available\n",
    "            images, labels = images.to(device), labels.to(device)\n",
    "\n",
    "            # ==== Forwardprop ====\n",
    "            outputs = model(images)\n",
    "            loss: nn.CrossEntropyLoss = criterion(outputs, labels)\n",
    "\n",
    "            # ==== Backprop ====\n",
    "            optimizer.zero_grad()\n",
    "            loss.backward()\n",
    "            optimizer.step()\n",
    "            # Update the loss\n",
    "            running_loss += loss.item()\n",
    "\n",
    "        # ==== Validation loop ====\n",
    "        model.eval()\n",
    "        val_loss = 0.0\n",
    "        val_correct = 0\n",
    "        val_total = 0\n",
    "\n",
    "        with torch.no_grad():\n",
    "            for images, labels in val_loader:\n",
    "                # Push the data to GPU if available\n",
    "                images, labels = images.to(device), labels.to(device)\n",
    "                outputs = model(images)\n",
    "                val_loss = criterion(outputs, labels).item()\n",
    "                # It returns the value and the index.\n",
    "                # We're interested in the index\n",
    "                _, predicted = torch.max(outputs, dim=1)\n",
    "                val_total += labels.size(0)  # or labels.shape[0]\n",
    "                val_correct += (predicted == labels).sum().item()\n",
    "        val_accuracy = (val_correct / val_total) * 100\n",
    "\n",
    "        print(\n",
    "            f\"Epoch {epoch + 1}/{num_epochs}, \"\n",
    "            f\"Training Loss: {running_loss / len(train_loader)}, \"\n",
    "            f\"Validation Loss: {val_loss / len(val_loader)}, \"\n",
    "            f\"Validation Accuracy: {val_accuracy:.2f}%\"\n",
    "        )\n",
    "    return model\n",
    "\n",
    "\n",
    "def test(model: CNN, device: Any, test_loader: DataLoader):\n",
    "    \"\"\"This is used to the model on the test dataset.\"\"\"\n",
    "    model.eval()\n",
    "    test_correct = 0\n",
    "    test_total = 0\n",
    "    with torch.no_grad():\n",
    "        for images, labels in test_loader:\n",
    "            # Push the data to GPU if available\n",
    "            images, labels = images.to(device), labels.to(device)\n",
    "            outputs = model(images)\n",
    "            predicted = torch.argmax(outputs, dim=1)\n",
    "            test_total += labels.size(0)\n",
    "            test_correct += (predicted == labels).sum().item()\n",
    "\n",
    "    test_accuracy = (test_correct / test_total) * 100\n",
    "    print(f\"Test Accuracy: {test_accuracy:.2f}%\")"
   ]
  },
  {
   "cell_type": "code",
   "execution_count": 13,
   "metadata": {},
   "outputs": [
    {
     "name": "stdout",
     "output_type": "stream",
     "text": [
      "Output of Conv Layer: 5\n",
      "\n"
     ]
    }
   ],
   "source": [
    "conv_output_size = calculate_layer_input(\n",
    "    image_input=28, padding=1, kernel_size=5, stride=1\n",
    ")\n",
    "print(f\"Output of Conv Layer: {conv_output_size}\\n\")"
   ]
  },
  {
   "cell_type": "code",
   "execution_count": 14,
   "metadata": {},
   "outputs": [],
   "source": [
    "### Hyper-parameters\n",
    "\n",
    "# Each MNSIT image is 1x28x28, so it is an 2D array [28,28]\n",
    "# I'll flatten the image as vector dim=1*28*28\n",
    "input_size = 1 * 28 * 28\n",
    "hidden_size = 128\n",
    "num_classes = 10\n",
    "num_epochs = 10\n",
    "batch_size = 64\n",
    "learning_rate = 0.001\n",
    "\n",
    "train_size = int(0.8 * len(train_dataset))  # 80% of training data\n",
    "val_size = len(train_dataset) - train_size  # 20% of training data"
   ]
  },
  {
   "cell_type": "code",
   "execution_count": 15,
   "metadata": {},
   "outputs": [],
   "source": [
    "# Create DataLoader for each dataset\n",
    "train_loader = DataLoader(train_dataset, batch_size=batch_size, shuffle=True)\n",
    "val_loader = DataLoader(val_dataset, batch_size=batch_size)\n",
    "test_loader = DataLoader(test_dataset, batch_size=batch_size)"
   ]
  },
  {
   "cell_type": "code",
   "execution_count": 16,
   "metadata": {},
   "outputs": [],
   "source": [
    "def main():\n",
    "    \"\"\"This is the main function.\"\"\"\n",
    "    # Device configuration\n",
    "    device = torch.device(\"cuda\" if torch.cuda.is_available() else \"cpu\")\n",
    "\n",
    "    # If we're on a CUDA machine, this should print a CUDA device:\n",
    "    print(f\"Working on device={device!r}\")\n",
    "\n",
    "    # ==== Init model ====\n",
    "    model = CNN(\n",
    "        input_size=conv_output_size,\n",
    "        num_classes=num_classes,\n",
    "    ).to(device=device)\n",
    "\n",
    "    # ==== Define loss function and optimizer ====\n",
    "    criterion = nn.CrossEntropyLoss()\n",
    "    optimizer = torch.optim.Adam(params=model.parameters(), lr=learning_rate)\n",
    "\n",
    "    # ==== Train the model ====\n",
    "    model = train(\n",
    "        model,\n",
    "        device=device,\n",
    "        train_loader=train_loader,\n",
    "        val_loader=val_loader,\n",
    "        criterion=criterion,\n",
    "        optimizer=optimizer,\n",
    "        num_epochs=num_epochs,\n",
    "    )\n",
    "\n",
    "    # ==== Evaluate the model ====\n",
    "    test(model, device=device, test_loader=test_loader)"
   ]
  },
  {
   "cell_type": "code",
   "execution_count": 17,
   "metadata": {},
   "outputs": [
    {
     "name": "stdout",
     "output_type": "stream",
     "text": [
      "Working on device=device(type='cpu')\n"
     ]
    },
    {
     "data": {
      "application/vnd.jupyter.widget-view+json": {
       "model_id": "23201d31a5d3490e8f76e3319ce84a4f",
       "version_major": 2,
       "version_minor": 0
      },
      "text/plain": [
       "  0%|          | 0/10 [00:00<?, ?it/s]"
      ]
     },
     "metadata": {},
     "output_type": "display_data"
    },
    {
     "name": "stdout",
     "output_type": "stream",
     "text": [
      "Epoch 1/10, Training Loss: 0.2273889376167208, Validation Loss: 3.098180032077622e-05, Validation Accuracy: 97.37%\n",
      "Epoch 2/10, Training Loss: 0.0652927413303405, Validation Loss: 1.767780904242016e-05, Validation Accuracy: 98.43%\n",
      "Epoch 3/10, Training Loss: 0.04843874897264565, Validation Loss: 8.854387759013062e-06, Validation Accuracy: 98.60%\n",
      "Epoch 4/10, Training Loss: 0.03742078764953961, Validation Loss: 2.32238783203858e-06, Validation Accuracy: 98.78%\n",
      "Epoch 5/10, Training Loss: 0.03157742127877039, Validation Loss: 4.4605394384447245e-06, Validation Accuracy: 98.22%\n",
      "Epoch 6/10, Training Loss: 0.027330242471963476, Validation Loss: 1.5304561337812785e-05, Validation Accuracy: 98.72%\n",
      "Epoch 7/10, Training Loss: 0.023259358406668373, Validation Loss: 4.8079503145306665e-06, Validation Accuracy: 98.82%\n",
      "Epoch 8/10, Training Loss: 0.01969358376225864, Validation Loss: 1.160077691236709e-05, Validation Accuracy: 98.62%\n",
      "Epoch 9/10, Training Loss: 0.01851881228754064, Validation Loss: 1.038895053615635e-06, Validation Accuracy: 98.91%\n",
      "Epoch 10/10, Training Loss: 0.017706920067891284, Validation Loss: 3.82990835165169e-06, Validation Accuracy: 98.54%\n",
      "Test Accuracy: 98.77%\n"
     ]
    }
   ],
   "source": [
    "# Train and evaluate\n",
    "main()"
   ]
  },
  {
   "cell_type": "code",
   "execution_count": null,
   "metadata": {},
   "outputs": [],
   "source": []
  },
  {
   "cell_type": "markdown",
   "metadata": {},
   "source": [
    "## CIFAR10 Data\n",
    "\n",
    "### Load CIFAR10 Data"
   ]
  },
  {
   "cell_type": "code",
   "execution_count": 18,
   "metadata": {},
   "outputs": [
    {
     "name": "stdout",
     "output_type": "stream",
     "text": [
      "Files already downloaded and verified\n",
      "Files already downloaded and verified\n"
     ]
    }
   ],
   "source": [
    "cifar10_fp = \"../../data/cifar10/\"\n",
    "\n",
    "transform = transforms.Compose(\n",
    "    [\n",
    "        # Convert to PyTorch tensors\n",
    "        transforms.ToTensor(),\n",
    "        transforms.Normalize(mean=(0.5, 0.5, 0.5), std=(0.5, 0.5, 0.5)),\n",
    "    ]\n",
    ")\n",
    "train_dataset = CIFAR10(root=cifar10_fp, train=True, transform=transform, download=True)\n",
    "test_dataset = CIFAR10(root=cifar10_fp, train=False, transform=transform, download=True)"
   ]
  },
  {
   "cell_type": "code",
   "execution_count": 33,
   "metadata": {},
   "outputs": [],
   "source": [
    "class NumpyToTensor:\n",
    "    \"\"\"This is used to convert NumpPy arrays to PyTorch tensors.\"\"\"\n",
    "\n",
    "    def __call__(self, X: npt.NDArray[np.float_]):\n",
    "        \"\"\"This is used for applying the transformation.\"\"\"\n",
    "        X = torch.tensor(data=X)\n",
    "        return X\n",
    "\n",
    "    def __repr__(self) -> str:\n",
    "        return f\"{self.__class__.__name__}()\""
   ]
  },
  {
   "cell_type": "code",
   "execution_count": 35,
   "metadata": {},
   "outputs": [
    {
     "data": {
      "text/plain": [
       "tensor([[0.5644, 0.8070, 0.3944, 0.7311],\n",
       "        [0.1611, 0.6007, 0.8659, 0.9835],\n",
       "        [0.0794, 0.4283, 0.2045, 0.4506],\n",
       "        [0.5478, 0.0933, 0.2969, 0.9276],\n",
       "        [0.5690, 0.4574, 0.7535, 0.7419]], dtype=torch.float64)"
      ]
     },
     "execution_count": 35,
     "metadata": {},
     "output_type": "execute_result"
    }
   ],
   "source": [
    "A = np.random.random(size=(5, 4))\n",
    "A_torch = NumpyToTensor()(X=A)\n",
    "\n",
    "A_torch"
   ]
  },
  {
   "cell_type": "code",
   "execution_count": 36,
   "metadata": {},
   "outputs": [
    {
     "data": {
      "text/plain": [
       "NumpyToTensor()"
      ]
     },
     "execution_count": 36,
     "metadata": {},
     "output_type": "execute_result"
    }
   ],
   "source": [
    "NumpyToTensor()"
   ]
  },
  {
   "cell_type": "code",
   "execution_count": null,
   "metadata": {},
   "outputs": [],
   "source": []
  },
  {
   "cell_type": "code",
   "execution_count": null,
   "metadata": {},
   "outputs": [],
   "source": []
  },
  {
   "cell_type": "code",
   "execution_count": null,
   "metadata": {},
   "outputs": [],
   "source": []
  },
  {
   "cell_type": "code",
   "execution_count": null,
   "metadata": {},
   "outputs": [],
   "source": []
  }
 ],
 "metadata": {
  "kernelspec": {
   "display_name": "torch_p310",
   "language": "python",
   "name": "python3"
  },
  "language_info": {
   "codemirror_mode": {
    "name": "ipython",
    "version": 3
   },
   "file_extension": ".py",
   "mimetype": "text/x-python",
   "name": "python",
   "nbconvert_exporter": "python",
   "pygments_lexer": "ipython3",
   "version": "3.10.10"
  },
  "orig_nbformat": 4
 },
 "nbformat": 4,
 "nbformat_minor": 2
}
