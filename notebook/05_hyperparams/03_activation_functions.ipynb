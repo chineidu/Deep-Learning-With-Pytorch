{
 "cells": [
  {
   "cell_type": "markdown",
   "metadata": {},
   "source": [
    "## Activation Functions\n",
    "\n",
    "```text\n",
    "\n",
    "```"
   ]
  },
  {
   "cell_type": "code",
   "execution_count": null,
   "metadata": {},
   "outputs": [],
   "source": [
    "# Built-in library\n",
    "from typing import Any, Optional, Sequence, Union\n",
    "\n",
    "# Standard imports\n",
    "import numpy as np\n",
    "import numpy.typing as npt\n",
    "import pandas as pd\n",
    "from sklearn.model_selection import train_test_split\n",
    "import torch\n",
    "from torch import nn\n",
    "import torch.nn.functional as F\n",
    "from torch.utils.data import DataLoader, TensorDataset\n",
    "import matplotlib.pyplot as plt\n",
    "\n",
    "# Configure the backend\n",
    "import matplotlib_inline.backend_inline\n",
    "\n",
    "matplotlib_inline.backend_inline.set_matplotlib_formats(\"svg\")\n",
    "import seaborn as sns\n",
    "\n",
    "# Custom import\n",
    "from src.utilities import create_iris_data, smooth, load_data\n",
    "from src.preprocessor import Standardizer, Normalizer\n",
    "\n",
    "\n",
    "# Black code formatter (Optional)\n",
    "%load_ext lab_black\n",
    "# auto reload imports\n",
    "%load_ext autoreload\n",
    "%autoreload 2"
   ]
  },
  {
   "cell_type": "code",
   "execution_count": null,
   "metadata": {},
   "outputs": [],
   "source": [
    "fp = \"../../data/wine_data.csv\"\n",
    "\n",
    "data = load_data(filename=fp)\n",
    "data.head()\n"
   ]
  },
  {
   "cell_type": "markdown",
   "metadata": {},
   "source": [
    "#### Preprocess Data\n",
    "\n",
    "```text\n",
    "- Standardize/normalize the data.\n",
    "- Binarize the output.\n",
    "- Split the data using hold out CV.\n",
    "- Create PyTorch datasets and dataloader objects.\n",
    "- Create a custom class that supports batch normalization.\n",
    "- Train and evaluate the model.\n",
    "- Visualize the model results.\n",
    "```"
   ]
  },
  {
   "cell_type": "code",
   "execution_count": null,
   "metadata": {},
   "outputs": [],
   "source": [
    "# Select all the features bar the target.\n",
    "X = data.iloc[:, :-1]\n",
    "\n",
    "# Normalize the data\n",
    "norm_ = Normalizer(min_value=0, max_value=1)\n",
    "X_norm = norm_.fit_transform(X=X)\n",
    "\n",
    "X_norm.head()\n"
   ]
  },
  {
   "cell_type": "code",
   "execution_count": null,
   "metadata": {},
   "outputs": [],
   "source": [
    "# Binarize output\n",
    "choice_list = [0, 1]\n",
    "\n",
    "# 3, 4, and 5 : 0, else 1\n",
    "data[\"target\"] = np.where(data[\"quality\"].isin(np.arange(3, 6)), choice_list[0], choice_list[1])\n",
    "\n",
    "data[[\"quality\", \"target\"]].sample(5, random_state=5)"
   ]
  },
  {
   "cell_type": "code",
   "execution_count": null,
   "metadata": {},
   "outputs": [],
   "source": [
    "# Convert to Tensors\n",
    "X = torch.Tensor(X_norm.to_numpy())\n",
    "\n",
    "# Requred by PyTorch to be 2D instead of 1D\n",
    "y = torch.Tensor(data[\"target\"].to_numpy()).reshape(-1, 1)\n",
    "\n",
    "# Split data\n",
    "TEST_SIZE, RANDOM_STATE = 0.2, 123\n",
    "\n",
    "X_train, X_validation, y_train, y_validation = train_test_split(\n",
    "    X, y, test_size=TEST_SIZE, random_state=RANDOM_STATE\n",
    ")\n",
    "\n",
    "X_train.shape, X_validation.shape\n"
   ]
  },
  {
   "cell_type": "code",
   "execution_count": null,
   "metadata": {},
   "outputs": [],
   "source": [
    "BATCH_SIZE, SHUFFLE = 16, True\n",
    "DROP_LAST = True\n",
    "\n",
    "\n",
    "# Create PyTorch datasets and dataloader objects.\n",
    "train_data = TensorDataset(X_train, y_train)\n",
    "validation_data = TensorDataset(X_validation, y_validation)\n",
    "\n",
    "train_DL = DataLoader(\n",
    "    dataset=train_data, batch_size=BATCH_SIZE, shuffle=SHUFFLE, drop_last=DROP_LAST\n",
    ")\n",
    "validation_DL = DataLoader(\n",
    "    dataset=validation_data,\n",
    "    batch_size=validation_data.tensors[0].shape[0],\n",
    ")\n"
   ]
  },
  {
   "cell_type": "code",
   "execution_count": null,
   "metadata": {},
   "outputs": [],
   "source": []
  },
  {
   "cell_type": "code",
   "execution_count": null,
   "metadata": {},
   "outputs": [],
   "source": []
  },
  {
   "cell_type": "code",
   "execution_count": null,
   "metadata": {},
   "outputs": [],
   "source": []
  },
  {
   "cell_type": "code",
   "execution_count": null,
   "metadata": {},
   "outputs": [],
   "source": []
  }
 ],
 "metadata": {
  "kernelspec": {
   "display_name": "torch_p310",
   "language": "python",
   "name": "python3"
  },
  "language_info": {
   "name": "python",
   "version": "3.10.10"
  },
  "orig_nbformat": 4
 },
 "nbformat": 4,
 "nbformat_minor": 2
}
