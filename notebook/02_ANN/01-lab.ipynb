{
 "cells": [
  {
   "cell_type": "code",
   "execution_count": 1,
   "metadata": {},
   "outputs": [],
   "source": [
    "# Built-in library\n",
    "from pathlib import Path\n",
    "import re\n",
    "import json\n",
    "from typing import Any, Optional, Sequence, Union\n",
    "import logging\n",
    "import warnings\n",
    "\n",
    "# Standard imports\n",
    "import numpy as np\n",
    "import numpy.typing as npt\n",
    "from pprint import pprint\n",
    "import pandas as pd\n",
    "import polars as pl\n",
    "from rich.console import Console\n",
    "from rich.theme import Theme\n",
    "\n",
    "custom_theme = Theme(\n",
    "    {\n",
    "        \"info\": \"#76FF7B\",\n",
    "        \"warning\": \"#FBDDFE\",\n",
    "        \"error\": \"#FF0000\",\n",
    "    }\n",
    ")\n",
    "console = Console(theme=custom_theme)\n",
    "\n",
    "# Visualization\n",
    "import matplotlib.pyplot as plt\n",
    "\n",
    "\n",
    "# Pandas settings\n",
    "pd.options.display.max_rows = 1_000\n",
    "pd.options.display.max_columns = 1_000\n",
    "pd.options.display.max_colwidth = 600\n",
    "\n",
    "warnings.filterwarnings(\"ignore\")\n",
    "\n",
    "# Add seed\n",
    "np.random.seed(0)\n",
    "\n",
    "# Black code formatter (Optional)\n",
    "%load_ext lab_black\n",
    "\n",
    "# auto reload imports\n",
    "%load_ext autoreload\n",
    "%autoreload 2"
   ]
  },
  {
   "cell_type": "code",
   "execution_count": 2,
   "metadata": {},
   "outputs": [
    {
     "data": {
      "text/plain": [
       "((1100, 11), (1100, 1), (328, 11), (328, 1))"
      ]
     },
     "execution_count": 2,
     "metadata": {},
     "output_type": "execute_result"
    }
   ],
   "source": [
    "# Load Data\n",
    "train_fp: str = \"../../data/titanic/train_features.parquet\"\n",
    "train_fp1: str = \"../../data/titanic/train_target.parquet\"\n",
    "test_fp: str = \"../../data/titanic/test_features.parquet\"\n",
    "test_fp1: str = \"../../data/titanic/test_target.parquet\"\n",
    "\n",
    "train_df: pl.DataFrame = pl.read_parquet(train_fp)\n",
    "train_target_df: pl.DataFrame = pl.read_parquet(train_fp1)\n",
    "test_df: pl.DataFrame = pl.read_parquet(test_fp)\n",
    "test_target_df: pl.DataFrame = pl.read_parquet(test_fp1)\n",
    "\n",
    "train_df.shape, train_target_df.shape, test_df.shape, test_target_df.shape"
   ]
  },
  {
   "cell_type": "code",
   "execution_count": 3,
   "metadata": {},
   "outputs": [
    {
     "data": {
      "text/html": [
       "<div><style>\n",
       ".dataframe > thead > tr,\n",
       ".dataframe > tbody > tr {\n",
       "  text-align: right;\n",
       "  white-space: pre-wrap;\n",
       "}\n",
       "</style>\n",
       "<small>shape: (5, 11)</small><table border=\"1\" class=\"dataframe\"><thead><tr><th>num_vars__age</th><th>num_vars__fare</th><th>num_vars__parch</th><th>num_vars__pclass</th><th>num_vars__sibsp</th><th>num_vars__ticket</th><th>cat_vars__embarked_c</th><th>cat_vars__embarked_q</th><th>cat_vars__embarked_s</th><th>cat_vars__sex_female</th><th>cat_vars__sex_male</th></tr><tr><td>f64</td><td>f64</td><td>f64</td><td>f64</td><td>f64</td><td>f64</td><td>f64</td><td>f64</td><td>f64</td><td>f64</td><td>f64</td></tr></thead><tbody><tr><td>0.524008</td><td>0.014737</td><td>0.0</td><td>1.0</td><td>0.0</td><td>1.0</td><td>0.0</td><td>0.0</td><td>1.0</td><td>0.0</td><td>1.0</td></tr><tr><td>0.19833</td><td>0.039525</td><td>0.111111</td><td>1.0</td><td>0.125</td><td>1.0</td><td>0.0</td><td>0.0</td><td>1.0</td><td>0.0</td><td>1.0</td></tr><tr><td>0.436325</td><td>0.039525</td><td>0.111111</td><td>1.0</td><td>0.125</td><td>1.0</td><td>0.0</td><td>0.0</td><td>1.0</td><td>1.0</td><td>0.0</td></tr><tr><td>0.348643</td><td>0.046845</td><td>0.0</td><td>0.5</td><td>0.125</td><td>1.0</td><td>1.0</td><td>0.0</td><td>0.0</td><td>1.0</td><td>0.0</td></tr><tr><td>0.373695</td><td>0.014151</td><td>0.0</td><td>1.0</td><td>0.0</td><td>1.0</td><td>0.0</td><td>0.0</td><td>1.0</td><td>0.0</td><td>1.0</td></tr></tbody></table></div>"
      ],
      "text/plain": [
       "shape: (5, 11)\n",
       "┌───────────┬───────────┬───────────┬───────────┬───┬───────────┬───────────┬───────────┬──────────┐\n",
       "│ num_vars_ ┆ num_vars_ ┆ num_vars_ ┆ num_vars_ ┆ … ┆ cat_vars_ ┆ cat_vars_ ┆ cat_vars_ ┆ cat_vars │\n",
       "│ _age      ┆ _fare     ┆ _parch    ┆ _pclass   ┆   ┆ _embarked ┆ _embarked ┆ _sex_fema ┆ __sex_ma │\n",
       "│ ---       ┆ ---       ┆ ---       ┆ ---       ┆   ┆ _q        ┆ _s        ┆ le        ┆ le       │\n",
       "│ f64       ┆ f64       ┆ f64       ┆ f64       ┆   ┆ ---       ┆ ---       ┆ ---       ┆ ---      │\n",
       "│           ┆           ┆           ┆           ┆   ┆ f64       ┆ f64       ┆ f64       ┆ f64      │\n",
       "╞═══════════╪═══════════╪═══════════╪═══════════╪═══╪═══════════╪═══════════╪═══════════╪══════════╡\n",
       "│ 0.524008  ┆ 0.014737  ┆ 0.0       ┆ 1.0       ┆ … ┆ 0.0       ┆ 1.0       ┆ 0.0       ┆ 1.0      │\n",
       "│ 0.19833   ┆ 0.039525  ┆ 0.111111  ┆ 1.0       ┆ … ┆ 0.0       ┆ 1.0       ┆ 0.0       ┆ 1.0      │\n",
       "│ 0.436325  ┆ 0.039525  ┆ 0.111111  ┆ 1.0       ┆ … ┆ 0.0       ┆ 1.0       ┆ 1.0       ┆ 0.0      │\n",
       "│ 0.348643  ┆ 0.046845  ┆ 0.0       ┆ 0.5       ┆ … ┆ 0.0       ┆ 0.0       ┆ 1.0       ┆ 0.0      │\n",
       "│ 0.373695  ┆ 0.014151  ┆ 0.0       ┆ 1.0       ┆ … ┆ 0.0       ┆ 1.0       ┆ 0.0       ┆ 1.0      │\n",
       "└───────────┴───────────┴───────────┴───────────┴───┴───────────┴───────────┴───────────┴──────────┘"
      ]
     },
     "execution_count": 3,
     "metadata": {},
     "output_type": "execute_result"
    }
   ],
   "source": [
    "train_df.head()"
   ]
  },
  {
   "cell_type": "code",
   "execution_count": 4,
   "metadata": {},
   "outputs": [],
   "source": [
    "import torch\n",
    "import torch.nn as nn\n",
    "import torch.nn.functional as F\n",
    "\n",
    "from tqdm.notebook import tqdm"
   ]
  },
  {
   "cell_type": "code",
   "execution_count": 5,
   "metadata": {},
   "outputs": [],
   "source": [
    "def visualize_accuracy_n_loss(\n",
    "    *, accuracy: Union[Sequence, np.ndarray], losses: torch.Tensor\n",
    ") -> None:\n",
    "    \"\"\"This is used to visualize the accuracy and loss per training epoch.\"\"\"\n",
    "    _, axs = plt.subplots(1, 2, figsize=(8, 6))\n",
    "\n",
    "    axs[0].plot(losses.detach())\n",
    "    axs[0].set(xlabel=\"Epochs\", ylabel=\"Training Loss\", title=\"Losses\")\n",
    "\n",
    "    axs[1].plot(accuracy)\n",
    "    axs[1].set(xlabel=\"Epochs\", ylabel=\"Accuracy\", title=\"Accuracy\")\n",
    "    plt.tight_layout()\n",
    "    plt.show()"
   ]
  },
  {
   "cell_type": "code",
   "execution_count": 6,
   "metadata": {},
   "outputs": [],
   "source": [
    "class TitanicClassifier(nn.Module):\n",
    "\n",
    "    def __init__(self, input_size) -> None:\n",
    "        super().__init__()\n",
    "        # Hidden layer 1\n",
    "        self.fc1 = nn.Linear(input_size, 64)\n",
    "        self.relu1 = nn.ReLU()\n",
    "\n",
    "        # Hidden layer 2\n",
    "        self.fc2 = nn.Linear(64, 32)\n",
    "        self.relu2 = nn.ReLU()\n",
    "\n",
    "        # Output layer\n",
    "        self.fc3 = nn.Linear(32, 1)\n",
    "        self.sigmoid = nn.Sigmoid()\n",
    "\n",
    "    def forward(self, x) -> torch.Tensor:\n",
    "        x = self.fc1(x)\n",
    "        x = self.relu1(x)\n",
    "        x = self.fc2(x)\n",
    "        x = self.relu2(x)\n",
    "        x = self.fc3(x)\n",
    "        x = self.sigmoid(x)\n",
    "        return x\n",
    "\n",
    "\n",
    "def train_model(\n",
    "    *,\n",
    "    model: nn.Module,\n",
    "    learning_rate: float,\n",
    "    epochs: int,\n",
    "    X_train: torch.Tensor,\n",
    "    y_train: torch.Tensor,\n",
    "):\n",
    "    criterion = nn.BCELoss()\n",
    "    optimizer = torch.optim.Adam(model.parameters(), lr=learning_rate)\n",
    "    losses = torch.zeros(size=(epochs,))\n",
    "    accuracy = torch.zeros(size=(epochs,))\n",
    "\n",
    "    for epoch_id in tqdm(range(epochs)):\n",
    "        # Reset the gradients\n",
    "        optimizer.zero_grad()\n",
    "        # Forward propagtion\n",
    "        y_pred: torch.Tensor = model(X_train)\n",
    "        # Compute loss\n",
    "        loss: torch.Tensor = criterion(y_pred, y_train)\n",
    "        losses[epoch_id] = loss\n",
    "        # Calculate accuracy\n",
    "        accuracy[epoch_id] = (\n",
    "            (y_pred > 0.5).float() == y_train.float()\n",
    "        ).sum() / y_train.size(0)\n",
    "\n",
    "        # Back propagation\n",
    "        loss.backward()\n",
    "        # Update parameters\n",
    "        optimizer.step()\n",
    "\n",
    "        if (epoch_id + 1) % 100 == 0:\n",
    "            console.print(f\"Epoch [{epoch_id+1}/{epochs}], Loss: {loss.item():.4f}\")\n",
    "\n",
    "    return model, losses, accuracy"
   ]
  },
  {
   "cell_type": "code",
   "execution_count": 7,
   "metadata": {},
   "outputs": [
    {
     "data": {
      "text/plain": [
       "tensor(True)"
      ]
     },
     "execution_count": 7,
     "metadata": {},
     "output_type": "execute_result"
    }
   ],
   "source": [
    "(torch.tensor(0.8) > 0.6)  # .float()"
   ]
  },
  {
   "cell_type": "code",
   "execution_count": 8,
   "metadata": {},
   "outputs": [
    {
     "data": {
      "text/plain": [
       "((torch.Size([1100, 11]), torch.Size([1100, 1])),\n",
       " (torch.Size([328, 11]), torch.Size([328, 1])))"
      ]
     },
     "execution_count": 8,
     "metadata": {},
     "output_type": "execute_result"
    }
   ],
   "source": [
    "X_train: torch.Tensor = torch.tensor(train_df.to_numpy()).float()\n",
    "y_train: torch.Tensor = torch.tensor(train_target_df.to_numpy()).float()\n",
    "\n",
    "X_test: torch.Tensor = torch.tensor(test_df.to_numpy()).float()\n",
    "y_test: torch.Tensor = torch.tensor(test_target_df.to_numpy()).float()\n",
    "\n",
    "(X_train.shape, y_train.shape), (X_test.shape, y_test.shape)"
   ]
  },
  {
   "cell_type": "code",
   "execution_count": 9,
   "metadata": {},
   "outputs": [
    {
     "data": {
      "application/vnd.jupyter.widget-view+json": {
       "model_id": "64562cf03921405f8550eef39ea25652",
       "version_major": 2,
       "version_minor": 0
      },
      "text/plain": [
       "  0%|          | 0/300 [00:00<?, ?it/s]"
      ]
     },
     "metadata": {},
     "output_type": "display_data"
    },
    {
     "data": {
      "text/html": [
       "<pre style=\"white-space:pre;overflow-x:auto;line-height:normal;font-family:Menlo,'DejaVu Sans Mono',consolas,'Courier New',monospace\">Epoch <span style=\"font-weight: bold\">[</span><span style=\"color: #008080; text-decoration-color: #008080; font-weight: bold\">100</span>/<span style=\"color: #008080; text-decoration-color: #008080; font-weight: bold\">300</span><span style=\"font-weight: bold\">]</span>, Loss: <span style=\"color: #008080; text-decoration-color: #008080; font-weight: bold\">0.4364</span>\n",
       "</pre>\n"
      ],
      "text/plain": [
       "Epoch \u001b[1m[\u001b[0m\u001b[1;36m100\u001b[0m/\u001b[1;36m300\u001b[0m\u001b[1m]\u001b[0m, Loss: \u001b[1;36m0.4364\u001b[0m\n"
      ]
     },
     "metadata": {},
     "output_type": "display_data"
    },
    {
     "data": {
      "text/html": [
       "<pre style=\"white-space:pre;overflow-x:auto;line-height:normal;font-family:Menlo,'DejaVu Sans Mono',consolas,'Courier New',monospace\">Epoch <span style=\"font-weight: bold\">[</span><span style=\"color: #008080; text-decoration-color: #008080; font-weight: bold\">200</span>/<span style=\"color: #008080; text-decoration-color: #008080; font-weight: bold\">300</span><span style=\"font-weight: bold\">]</span>, Loss: <span style=\"color: #008080; text-decoration-color: #008080; font-weight: bold\">0.3990</span>\n",
       "</pre>\n"
      ],
      "text/plain": [
       "Epoch \u001b[1m[\u001b[0m\u001b[1;36m200\u001b[0m/\u001b[1;36m300\u001b[0m\u001b[1m]\u001b[0m, Loss: \u001b[1;36m0.3990\u001b[0m\n"
      ]
     },
     "metadata": {},
     "output_type": "display_data"
    },
    {
     "data": {
      "text/html": [
       "<pre style=\"white-space:pre;overflow-x:auto;line-height:normal;font-family:Menlo,'DejaVu Sans Mono',consolas,'Courier New',monospace\">Epoch <span style=\"font-weight: bold\">[</span><span style=\"color: #008080; text-decoration-color: #008080; font-weight: bold\">300</span>/<span style=\"color: #008080; text-decoration-color: #008080; font-weight: bold\">300</span><span style=\"font-weight: bold\">]</span>, Loss: <span style=\"color: #008080; text-decoration-color: #008080; font-weight: bold\">0.3627</span>\n",
       "</pre>\n"
      ],
      "text/plain": [
       "Epoch \u001b[1m[\u001b[0m\u001b[1;36m300\u001b[0m/\u001b[1;36m300\u001b[0m\u001b[1m]\u001b[0m, Loss: \u001b[1;36m0.3627\u001b[0m\n"
      ]
     },
     "metadata": {},
     "output_type": "display_data"
    },
    {
     "data": {
      "text/html": [
       "<pre style=\"white-space:pre;overflow-x:auto;line-height:normal;font-family:Menlo,'DejaVu Sans Mono',consolas,'Courier New',monospace\">Training accuracy: <span style=\"color: #008080; text-decoration-color: #008080; font-weight: bold\">80.13</span>%\n",
       "</pre>\n"
      ],
      "text/plain": [
       "Training accuracy: \u001b[1;36m80.13\u001b[0m%\n"
      ]
     },
     "metadata": {},
     "output_type": "display_data"
    }
   ],
   "source": [
    "epochs: int = 300\n",
    "learning_rate: float = 0.002\n",
    "model = TitanicClassifier(input_size=11)\n",
    "\n",
    "model, losses, accuracy = train_model(\n",
    "    model=model,\n",
    "    learning_rate=learning_rate,\n",
    "    epochs=epochs,\n",
    "    X_train=X_train,\n",
    "    y_train=y_train,\n",
    ")\n",
    "\n",
    "console.print(f\"Training accuracy: {accuracy.mean() * 100:.2f}%\")"
   ]
  },
  {
   "cell_type": "code",
   "execution_count": 10,
   "metadata": {},
   "outputs": [
    {
     "data": {
      "image/png": "[encoded data removed]",
      "text/plain": [
       "<Figure size 800x600 with 2 Axes>"
      ]
     },
     "metadata": {},
     "output_type": "display_data"
    }
   ],
   "source": [
    "visualize_accuracy_n_loss(accuracy=accuracy, losses=losses)"
   ]
  },
  {
   "cell_type": "code",
   "execution_count": 11,
   "metadata": {},
   "outputs": [],
   "source": [
    "y_proba = model(X_test)\n",
    "y_proba = y_proba.detach().numpy()\n",
    "y_pred = [int(val > 0.5) for val in y_proba]"
   ]
  },
  {
   "cell_type": "code",
   "execution_count": 12,
   "metadata": {},
   "outputs": [],
   "source": [
    "from sklearn.metrics import accuracy_score, roc_auc_score\n",
    "\n",
    "\n",
    "acc_score = accuracy_score(y_test.reshape(-1, 1), y_pred)\n",
    "auc_score = roc_auc_score(y_test.reshape(-1, 1), y_pred)"
   ]
  },
  {
   "cell_type": "code",
   "execution_count": 13,
   "metadata": {},
   "outputs": [
    {
     "data": {
      "text/plain": [
       "(0.8353658536585366, 0.8270344827586207)"
      ]
     },
     "execution_count": 13,
     "metadata": {},
     "output_type": "execute_result"
    }
   ],
   "source": [
    "acc_score, auc_score"
   ]
  },
  {
   "cell_type": "code",
   "execution_count": null,
   "metadata": {},
   "outputs": [],
   "source": []
  },
  {
   "cell_type": "code",
   "execution_count": null,
   "metadata": {},
   "outputs": [],
   "source": []
  },
  {
   "cell_type": "code",
   "execution_count": null,
   "metadata": {},
   "outputs": [],
   "source": []
  }
 ],
 "metadata": {
  "kernelspec": {
   "display_name": "torch_p11",
   "language": "python",
   "name": "python3"
  },
  "language_info": {
   "codemirror_mode": {
    "name": "ipython",
    "version": 3
   },
   "file_extension": ".py",
   "mimetype": "text/x-python",
   "name": "python",
   "nbconvert_exporter": "python",
   "pygments_lexer": "ipython3",
   "version": "3.11.8"
  }
 },
 "nbformat": 4,
 "nbformat_minor": 2
}
