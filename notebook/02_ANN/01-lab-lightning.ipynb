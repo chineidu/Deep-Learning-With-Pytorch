{
 "cells": [
  {
   "cell_type": "code",
   "execution_count": 1,
   "metadata": {},
   "outputs": [],
   "source": [
    "# Built-in library\n",
    "from pathlib import Path\n",
    "import re\n",
    "import json\n",
    "from typing import Any, Optional, Sequence, TypeAlias, Union\n",
    "import logging\n",
    "import warnings\n",
    "\n",
    "# Standard imports\n",
    "import numpy as np\n",
    "import numpy.typing as npt\n",
    "from pprint import pprint\n",
    "import pandas as pd\n",
    "import polars as pl\n",
    "from rich.console import Console\n",
    "from rich.theme import Theme\n",
    "\n",
    "custom_theme = Theme(\n",
    "    {\n",
    "        \"info\": \"#76FF7B\",\n",
    "        \"warning\": \"#FBDDFE\",\n",
    "        \"error\": \"#FF0000\",\n",
    "    }\n",
    ")\n",
    "console = Console(theme=custom_theme)\n",
    "\n",
    "# Visualization\n",
    "import matplotlib.pyplot as plt\n",
    "\n",
    "\n",
    "# Pandas settings\n",
    "pd.options.display.max_rows = 1_000\n",
    "pd.options.display.max_columns = 1_000\n",
    "pd.options.display.max_colwidth = 600\n",
    "\n",
    "warnings.filterwarnings(\"ignore\")\n",
    "\n",
    "# Add seed\n",
    "np.random.seed(0)\n",
    "\n",
    "# Black code formatter (Optional)\n",
    "%load_ext lab_black\n",
    "\n",
    "# auto reload imports\n",
    "%load_ext autoreload\n",
    "%autoreload 2"
   ]
  },
  {
   "cell_type": "code",
   "execution_count": 2,
   "metadata": {},
   "outputs": [
    {
     "name": "stdout",
     "output_type": "stream",
     "text": [
      "Python implementation: CPython\n",
      "Python version       : 3.11.8\n",
      "IPython version      : 8.22.2\n",
      "\n",
      "numpy       : 1.26.4\n",
      "pandas      : 2.2.1\n",
      "matplotlib  : 3.8.3\n",
      "torch       : 2.2.2\n",
      "lightning   : 2.2.1\n",
      "scikit-learn: 1.4.1.post1\n",
      "\n",
      "conda environment: torch_p11\n",
      "\n"
     ]
    }
   ],
   "source": [
    "%load_ext watermark\n",
    "%watermark -v -p numpy,pandas,matplotlib,torch,lightning,scikit-learn --conda"
   ]
  },
  {
   "cell_type": "markdown",
   "metadata": {},
   "source": [
    "### Load Data\n"
   ]
  },
  {
   "cell_type": "code",
   "execution_count": 3,
   "metadata": {},
   "outputs": [
    {
     "data": {
      "text/plain": [
       "((1100, 11), (1100, 1), (328, 11), (328, 1))"
      ]
     },
     "execution_count": 3,
     "metadata": {},
     "output_type": "execute_result"
    }
   ],
   "source": [
    "train_fp: str = \"../../data/titanic/train_features.parquet\"\n",
    "train_fp1: str = \"../../data/titanic/train_target.parquet\"\n",
    "test_fp: str = \"../../data/titanic/test_features.parquet\"\n",
    "test_fp1: str = \"../../data/titanic/test_target.parquet\"\n",
    "\n",
    "train_df: pl.DataFrame = pl.read_parquet(train_fp)\n",
    "train_target_df: pl.DataFrame = pl.read_parquet(train_fp1)\n",
    "test_df: pl.DataFrame = pl.read_parquet(test_fp)\n",
    "test_target_df: pl.DataFrame = pl.read_parquet(test_fp1)\n",
    "\n",
    "train_df.shape, train_target_df.shape, test_df.shape, test_target_df.shape"
   ]
  },
  {
   "cell_type": "code",
   "execution_count": 4,
   "metadata": {},
   "outputs": [
    {
     "data": {
      "text/html": [
       "<div><style>\n",
       ".dataframe > thead > tr,\n",
       ".dataframe > tbody > tr {\n",
       "  text-align: right;\n",
       "  white-space: pre-wrap;\n",
       "}\n",
       "</style>\n",
       "<small>shape: (5, 11)</small><table border=\"1\" class=\"dataframe\"><thead><tr><th>num_vars__age</th><th>num_vars__fare</th><th>num_vars__parch</th><th>num_vars__pclass</th><th>num_vars__sibsp</th><th>num_vars__ticket</th><th>cat_vars__embarked_c</th><th>cat_vars__embarked_q</th><th>cat_vars__embarked_s</th><th>cat_vars__sex_female</th><th>cat_vars__sex_male</th></tr><tr><td>f64</td><td>f64</td><td>f64</td><td>f64</td><td>f64</td><td>f64</td><td>f64</td><td>f64</td><td>f64</td><td>f64</td><td>f64</td></tr></thead><tbody><tr><td>0.524008</td><td>0.014737</td><td>0.0</td><td>1.0</td><td>0.0</td><td>1.0</td><td>0.0</td><td>0.0</td><td>1.0</td><td>0.0</td><td>1.0</td></tr><tr><td>0.19833</td><td>0.039525</td><td>0.111111</td><td>1.0</td><td>0.125</td><td>1.0</td><td>0.0</td><td>0.0</td><td>1.0</td><td>0.0</td><td>1.0</td></tr><tr><td>0.436325</td><td>0.039525</td><td>0.111111</td><td>1.0</td><td>0.125</td><td>1.0</td><td>0.0</td><td>0.0</td><td>1.0</td><td>1.0</td><td>0.0</td></tr><tr><td>0.348643</td><td>0.046845</td><td>0.0</td><td>0.5</td><td>0.125</td><td>1.0</td><td>1.0</td><td>0.0</td><td>0.0</td><td>1.0</td><td>0.0</td></tr><tr><td>0.373695</td><td>0.014151</td><td>0.0</td><td>1.0</td><td>0.0</td><td>1.0</td><td>0.0</td><td>0.0</td><td>1.0</td><td>0.0</td><td>1.0</td></tr></tbody></table></div>"
      ],
      "text/plain": [
       "shape: (5, 11)\n",
       "┌───────────┬───────────┬───────────┬───────────┬───┬───────────┬───────────┬───────────┬──────────┐\n",
       "│ num_vars_ ┆ num_vars_ ┆ num_vars_ ┆ num_vars_ ┆ … ┆ cat_vars_ ┆ cat_vars_ ┆ cat_vars_ ┆ cat_vars │\n",
       "│ _age      ┆ _fare     ┆ _parch    ┆ _pclass   ┆   ┆ _embarked ┆ _embarked ┆ _sex_fema ┆ __sex_ma │\n",
       "│ ---       ┆ ---       ┆ ---       ┆ ---       ┆   ┆ _q        ┆ _s        ┆ le        ┆ le       │\n",
       "│ f64       ┆ f64       ┆ f64       ┆ f64       ┆   ┆ ---       ┆ ---       ┆ ---       ┆ ---      │\n",
       "│           ┆           ┆           ┆           ┆   ┆ f64       ┆ f64       ┆ f64       ┆ f64      │\n",
       "╞═══════════╪═══════════╪═══════════╪═══════════╪═══╪═══════════╪═══════════╪═══════════╪══════════╡\n",
       "│ 0.524008  ┆ 0.014737  ┆ 0.0       ┆ 1.0       ┆ … ┆ 0.0       ┆ 1.0       ┆ 0.0       ┆ 1.0      │\n",
       "│ 0.19833   ┆ 0.039525  ┆ 0.111111  ┆ 1.0       ┆ … ┆ 0.0       ┆ 1.0       ┆ 0.0       ┆ 1.0      │\n",
       "│ 0.436325  ┆ 0.039525  ┆ 0.111111  ┆ 1.0       ┆ … ┆ 0.0       ┆ 1.0       ┆ 1.0       ┆ 0.0      │\n",
       "│ 0.348643  ┆ 0.046845  ┆ 0.0       ┆ 0.5       ┆ … ┆ 0.0       ┆ 0.0       ┆ 1.0       ┆ 0.0      │\n",
       "│ 0.373695  ┆ 0.014151  ┆ 0.0       ┆ 1.0       ┆ … ┆ 0.0       ┆ 1.0       ┆ 0.0       ┆ 1.0      │\n",
       "└───────────┴───────────┴───────────┴───────────┴───┴───────────┴───────────┴───────────┴──────────┘"
      ]
     },
     "execution_count": 4,
     "metadata": {},
     "output_type": "execute_result"
    }
   ],
   "source": [
    "train_df.head()"
   ]
  },
  {
   "cell_type": "code",
   "execution_count": 5,
   "metadata": {},
   "outputs": [],
   "source": [
    "import torch\n",
    "import torch.nn as nn\n",
    "import torch.nn.functional as F\n",
    "from sklearn.model_selection import train_test_split\n",
    "\n",
    "from tqdm.notebook import tqdm"
   ]
  },
  {
   "cell_type": "code",
   "execution_count": 6,
   "metadata": {},
   "outputs": [
    {
     "data": {
      "text/html": [
       "<pre style=\"white-space:pre;overflow-x:auto;line-height:normal;font-family:Menlo,'DejaVu Sans Mono',consolas,'Courier New',monospace\"><span style=\"font-weight: bold\">(</span><span style=\"color: #008080; text-decoration-color: #008080; font-weight: bold\">935</span>, <span style=\"color: #008080; text-decoration-color: #008080; font-weight: bold\">11</span><span style=\"font-weight: bold\">)</span>\n",
       "<span style=\"font-weight: bold\">(</span><span style=\"color: #008080; text-decoration-color: #008080; font-weight: bold\">165</span>, <span style=\"color: #008080; text-decoration-color: #008080; font-weight: bold\">11</span><span style=\"font-weight: bold\">)</span>\n",
       "<span style=\"font-weight: bold\">(</span><span style=\"color: #008080; text-decoration-color: #008080; font-weight: bold\">328</span>, <span style=\"color: #008080; text-decoration-color: #008080; font-weight: bold\">11</span><span style=\"font-weight: bold\">)</span>\n",
       "</pre>\n"
      ],
      "text/plain": [
       "\u001b[1m(\u001b[0m\u001b[1;36m935\u001b[0m, \u001b[1;36m11\u001b[0m\u001b[1m)\u001b[0m\n",
       "\u001b[1m(\u001b[0m\u001b[1;36m165\u001b[0m, \u001b[1;36m11\u001b[0m\u001b[1m)\u001b[0m\n",
       "\u001b[1m(\u001b[0m\u001b[1;36m328\u001b[0m, \u001b[1;36m11\u001b[0m\u001b[1m)\u001b[0m\n"
      ]
     },
     "metadata": {},
     "output_type": "display_data"
    }
   ],
   "source": [
    "data: pl.DataFrame = pl.concat([train_df, train_target_df], how=\"horizontal\")\n",
    "\n",
    "X_: pd.DataFrame = data.to_pandas().drop(columns=[\"survived\"])\n",
    "y_: pd.Series = data.to_pandas()[\"survived\"]\n",
    "\n",
    "X_test: npt.NDArray[np.float_ | np.int_] = test_df.to_numpy()\n",
    "y_test: npt.NDArray[np.float_ | np.int_] = test_target_df.to_numpy().squeeze()\n",
    "\n",
    "X_train, X_val, y_train, y_val = train_test_split(\n",
    "    X_, y_, test_size=0.15, random_state=42\n",
    ")\n",
    "X_train: npt.NDArray[np.float_ | np.int_] = X_train.values\n",
    "X_val: npt.NDArray[np.float_ | np.int_] = X_val.values\n",
    "\n",
    "console.print(X_train.shape, X_val.shape, X_test.shape)"
   ]
  },
  {
   "cell_type": "code",
   "execution_count": 7,
   "metadata": {},
   "outputs": [
    {
     "data": {
      "text/html": [
       "<pre style=\"white-space:pre;overflow-x:auto;line-height:normal;font-family:Menlo,'DejaVu Sans Mono',consolas,'Courier New',monospace\"><span style=\"font-weight: bold\">(</span><span style=\"color: #008080; text-decoration-color: #008080; font-weight: bold\">935</span>,<span style=\"font-weight: bold\">)</span>\n",
       "<span style=\"font-weight: bold\">(</span><span style=\"color: #008080; text-decoration-color: #008080; font-weight: bold\">165</span>,<span style=\"font-weight: bold\">)</span>\n",
       "<span style=\"font-weight: bold\">(</span><span style=\"color: #008080; text-decoration-color: #008080; font-weight: bold\">328</span>,<span style=\"font-weight: bold\">)</span>\n",
       "</pre>\n"
      ],
      "text/plain": [
       "\u001b[1m(\u001b[0m\u001b[1;36m935\u001b[0m,\u001b[1m)\u001b[0m\n",
       "\u001b[1m(\u001b[0m\u001b[1;36m165\u001b[0m,\u001b[1m)\u001b[0m\n",
       "\u001b[1m(\u001b[0m\u001b[1;36m328\u001b[0m,\u001b[1m)\u001b[0m\n"
      ]
     },
     "metadata": {},
     "output_type": "display_data"
    }
   ],
   "source": [
    "y_train: npt.NDArray[np.float_ | np.int_] = y_train.to_numpy()  # .reshape(-1, 1)\n",
    "y_val: npt.NDArray[np.float_ | np.int_] = y_val.to_numpy()  # .reshape(-1, 1)\n",
    "\n",
    "\n",
    "console.print(y_train.shape, y_val.shape, y_test.shape)"
   ]
  },
  {
   "cell_type": "code",
   "execution_count": 8,
   "metadata": {},
   "outputs": [],
   "source": [
    "from torch.utils.data import Dataset, DataLoader\n",
    "\n",
    "\n",
    "class TitanicClassifier(nn.Module):\n",
    "\n",
    "    def __init__(self, input_size: int, hidden_units: int, num_classes: int) -> None:\n",
    "        super().__init__()\n",
    "        # Hidden layer 1\n",
    "        self.fc1 = nn.Linear(input_size, hidden_units)\n",
    "        self.relu1 = nn.ReLU()\n",
    "\n",
    "        # Hidden layer 2\n",
    "        self.fc2 = nn.Linear(hidden_units, hidden_units)\n",
    "        self.relu2 = nn.ReLU()\n",
    "\n",
    "        # Output layer\n",
    "        self.fc3 = nn.Linear(hidden_units, num_classes)\n",
    "\n",
    "    def forward(self, x) -> torch.Tensor:\n",
    "        x = self.fc1(x)\n",
    "        x = self.relu1(x)\n",
    "        x = self.fc2(x)\n",
    "        x = self.relu2(x)\n",
    "        x = self.fc3(x)\n",
    "        return x\n",
    "\n",
    "\n",
    "class MyDataset(Dataset):\n",
    "    def __init__(self, X: torch.Tensor, y: torch.Tensor) -> None:\n",
    "\n",
    "        self.features = torch.tensor(X, dtype=torch.float32)\n",
    "        self.labels = torch.tensor(y, dtype=torch.long)\n",
    "\n",
    "    def __getitem__(self, index) -> tuple[torch.Tensor, torch.Tensor]:\n",
    "        x = self.features[index]\n",
    "        y = self.labels[index]\n",
    "        return x, y\n",
    "\n",
    "    def __len__(self) -> int:\n",
    "        return self.labels.shape[0]"
   ]
  },
  {
   "cell_type": "code",
   "execution_count": 9,
   "metadata": {},
   "outputs": [],
   "source": [
    "train_ds = MyDataset(X_train, y_train)\n",
    "val_ds = MyDataset(X_val, y_val)\n",
    "test_ds = MyDataset(X_test, y_test)\n",
    "\n",
    "train_loader = DataLoader(\n",
    "    dataset=train_ds,\n",
    "    batch_size=32,\n",
    "    shuffle=True,\n",
    ")\n",
    "\n",
    "val_loader = DataLoader(\n",
    "    dataset=val_ds,\n",
    "    batch_size=32,\n",
    "    shuffle=False,\n",
    ")\n",
    "\n",
    "test_loader = DataLoader(\n",
    "    dataset=test_ds,\n",
    "    batch_size=32,\n",
    "    shuffle=False,\n",
    ")"
   ]
  },
  {
   "cell_type": "markdown",
   "metadata": {},
   "source": [
    "### Training Loop\n"
   ]
  },
  {
   "cell_type": "code",
   "execution_count": 10,
   "metadata": {},
   "outputs": [],
   "source": [
    "Model: TypeAlias = torch.nn.Module"
   ]
  },
  {
   "cell_type": "code",
   "execution_count": 11,
   "metadata": {},
   "outputs": [],
   "source": [
    "def compute_accuracy(model: Model, dataloader: DataLoader):\n",
    "\n",
    "    model = model.eval()\n",
    "\n",
    "    correct: float = 0.0\n",
    "    total_examples: int = 0\n",
    "\n",
    "    for _, (features, labels) in enumerate(dataloader):\n",
    "\n",
    "        with torch.inference_mode():  # Basically the same as torch.no_grad\n",
    "            logits = model(features)\n",
    "\n",
    "        predictions: torch.Tensor = torch.argmax(logits, dim=1)\n",
    "\n",
    "        compare: bool = (labels == predictions).float()\n",
    "        correct += torch.sum(compare)\n",
    "        total_examples += len(compare)\n",
    "\n",
    "    return correct / total_examples"
   ]
  },
  {
   "cell_type": "code",
   "execution_count": 12,
   "metadata": {},
   "outputs": [
    {
     "ename": "TypeError",
     "evalue": "TitanicClassifier.__init__() missing 1 required positional argument: 'hidden_units'",
     "output_type": "error",
     "traceback": [
      "\u001b[0;31m---------------------------------------------------------------------------\u001b[0m",
      "\u001b[0;31mTypeError\u001b[0m                                 Traceback (most recent call last)",
      "Cell \u001b[0;32mIn[12], line 7\u001b[0m\n\u001b[1;32m      4\u001b[0m learning_rate: \u001b[38;5;28mfloat\u001b[39m \u001b[38;5;241m=\u001b[39m \u001b[38;5;241m0.01\u001b[39m\n\u001b[1;32m      6\u001b[0m torch\u001b[38;5;241m.\u001b[39mmanual_seed(\u001b[38;5;241m1\u001b[39m)\n\u001b[0;32m----> 7\u001b[0m model \u001b[38;5;241m=\u001b[39m \u001b[43mTitanicClassifier\u001b[49m\u001b[43m(\u001b[49m\u001b[43minput_size\u001b[49m\u001b[38;5;241;43m=\u001b[39;49m\u001b[38;5;241;43m11\u001b[39;49m\u001b[43m,\u001b[49m\u001b[43m \u001b[49m\u001b[43mnum_classes\u001b[49m\u001b[38;5;241;43m=\u001b[39;49m\u001b[38;5;241;43m2\u001b[39;49m\u001b[43m)\u001b[49m\n\u001b[1;32m      8\u001b[0m optimizer \u001b[38;5;241m=\u001b[39m torch\u001b[38;5;241m.\u001b[39moptim\u001b[38;5;241m.\u001b[39mAdam(\n\u001b[1;32m      9\u001b[0m     model\u001b[38;5;241m.\u001b[39mparameters(), lr\u001b[38;5;241m=\u001b[39mlearning_rate\n\u001b[1;32m     10\u001b[0m ) \n\u001b[1;32m     12\u001b[0m \u001b[38;5;28;01mfor\u001b[39;00m epoch \u001b[38;5;129;01min\u001b[39;00m tqdm(\u001b[38;5;28mrange\u001b[39m(epochs)):\n",
      "\u001b[0;31mTypeError\u001b[0m: TitanicClassifier.__init__() missing 1 required positional argument: 'hidden_units'"
     ]
    }
   ],
   "source": [
    "torch.manual_seed(1)\n",
    "\n",
    "epochs: int = 100\n",
    "learning_rate: float = 0.01\n",
    "\n",
    "torch.manual_seed(1)\n",
    "model = TitanicClassifier(input_size=11, num_classes=2)\n",
    "optimizer = torch.optim.Adam(model.parameters(), lr=learning_rate)\n",
    "\n",
    "for epoch in tqdm(range(epochs)):\n",
    "\n",
    "    model = model.train()\n",
    "    for batch_idx, (features, labels) in enumerate(train_loader):\n",
    "\n",
    "        logits = model(features)\n",
    "\n",
    "        loss = nn.CrossEntropyLoss(reduction=\"mean\")(logits, labels)  # Loss function\n",
    "\n",
    "        optimizer.zero_grad()\n",
    "        loss.backward()\n",
    "        optimizer.step()\n",
    "\n",
    "        ### LOGGING\n",
    "        print(\n",
    "            f\"Epoch: {epoch+1:03d}/{epochs:03d}\"\n",
    "            f\" | Batch {batch_idx:03d}/{len(train_loader):03d}\"\n",
    "            f\" | Train/Val Loss: {loss:.2f}\"\n",
    "        )\n",
    "\n",
    "    train_acc = compute_accuracy(model, train_loader)\n",
    "    val_acc = compute_accuracy(model, val_loader)\n",
    "    console.print(\n",
    "        f\"Train Acc {train_acc*100:.2f}% | Val Acc {val_acc*100:.2f}%\", style=\"info\"\n",
    "    )"
   ]
  },
  {
   "cell_type": "code",
   "execution_count": null,
   "metadata": {},
   "outputs": [],
   "source": [
    "train_acc: float = compute_accuracy(model, train_loader)\n",
    "val_acc: float = compute_accuracy(model, val_loader)\n",
    "test_acc: float = compute_accuracy(model, test_loader)\n",
    "\n",
    "print(f\"Train Acc: {train_acc*100:.2f}%\")\n",
    "print(f\"Val Acc: {val_acc*100:.2f}%\")\n",
    "print(f\"Test Acc: {test_acc*100:.2f}%\")"
   ]
  },
  {
   "cell_type": "code",
   "execution_count": null,
   "metadata": {},
   "outputs": [],
   "source": [
    "from sklearn.metrics import roc_auc_score\n",
    "\n",
    "\n",
    "def compute_auc(model: Model, dataloader: DataLoader) -> float:\n",
    "\n",
    "    model = model.eval()\n",
    "\n",
    "    correct: list[Any] = []\n",
    "    predictions: list[Any] = []\n",
    "\n",
    "    for _, (features, labels) in enumerate(dataloader):\n",
    "\n",
    "        with torch.inference_mode():  # Same as torch.no_grad\n",
    "            logits = model(features)\n",
    "            preds = F.sigmoid(logits)[:, 1]\n",
    "\n",
    "        correct.append(list(labels.numpy()))\n",
    "        predictions.append(list(preds))\n",
    "\n",
    "    correct = [v for list_x in correct for v in list_x]\n",
    "    predictions = [v for list_x in predictions for v in list_x]\n",
    "\n",
    "    auc_score = roc_auc_score(y_true=correct, y_score=predictions)\n",
    "    return auc_score"
   ]
  },
  {
   "cell_type": "code",
   "execution_count": null,
   "metadata": {},
   "outputs": [],
   "source": [
    "train_auc: float = compute_auc(model, train_loader)\n",
    "val_auc: float = compute_auc(model, val_loader)\n",
    "test_auc: float = compute_auc(model, test_loader)\n",
    "\n",
    "console.print(f\"Train AUC: {train_auc*100:.2f}%\")\n",
    "console.print(f\"Val AUC: {val_auc*100:.2f}%\")\n",
    "console.print(f\"Test AUC: {test_auc*100:.2f}%\")"
   ]
  },
  {
   "cell_type": "code",
   "execution_count": null,
   "metadata": {},
   "outputs": [],
   "source": []
  },
  {
   "cell_type": "code",
   "execution_count": null,
   "metadata": {},
   "outputs": [],
   "source": []
  },
  {
   "cell_type": "code",
   "execution_count": null,
   "metadata": {},
   "outputs": [],
   "source": []
  },
  {
   "cell_type": "code",
   "execution_count": null,
   "metadata": {},
   "outputs": [],
   "source": []
  },
  {
   "cell_type": "code",
   "execution_count": null,
   "metadata": {},
   "outputs": [],
   "source": []
  },
  {
   "cell_type": "code",
   "execution_count": null,
   "metadata": {},
   "outputs": [],
   "source": []
  },
  {
   "cell_type": "code",
   "execution_count": null,
   "metadata": {},
   "outputs": [],
   "source": []
  },
  {
   "cell_type": "code",
   "execution_count": null,
   "metadata": {},
   "outputs": [],
   "source": []
  },
  {
   "cell_type": "code",
   "execution_count": null,
   "metadata": {},
   "outputs": [],
   "source": []
  }
 ],
 "metadata": {
  "kernelspec": {
   "display_name": "torch_p11",
   "language": "python",
   "name": "python3"
  },
  "language_info": {
   "codemirror_mode": {
    "name": "ipython",
    "version": 3
   },
   "file_extension": ".py",
   "mimetype": "text/x-python",
   "name": "python",
   "nbconvert_exporter": "python",
   "pygments_lexer": "ipython3",
   "version": "3.11.8"
  }
 },
 "nbformat": 4,
 "nbformat_minor": 2
}
