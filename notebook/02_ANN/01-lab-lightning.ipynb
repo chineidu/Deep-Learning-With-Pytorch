{
 "cells": [
  {
   "cell_type": "code",
   "execution_count": 1,
   "metadata": {},
   "outputs": [],
   "source": [
    "# Built-in library\n",
    "from pathlib import Path\n",
    "import re\n",
    "import json\n",
    "from typing import Any, Optional, Sequence, TypeAlias, Union\n",
    "import logging\n",
    "import warnings\n",
    "\n",
    "# Standard imports\n",
    "import numpy as np\n",
    "import numpy.typing as npt\n",
    "from pprint import pprint\n",
    "import pandas as pd\n",
    "import polars as pl\n",
    "from rich.console import Console\n",
    "from rich.theme import Theme\n",
    "\n",
    "custom_theme = Theme(\n",
    "    {\n",
    "        \"info\": \"#76FF7B\",\n",
    "        \"warning\": \"#FBDDFE\",\n",
    "        \"error\": \"#FF0000\",\n",
    "    }\n",
    ")\n",
    "console = Console(theme=custom_theme)\n",
    "\n",
    "# Visualization\n",
    "import matplotlib.pyplot as plt\n",
    "\n",
    "\n",
    "# Pandas settings\n",
    "pd.options.display.max_rows = 1_000\n",
    "pd.options.display.max_columns = 1_000\n",
    "pd.options.display.max_colwidth = 600\n",
    "\n",
    "warnings.filterwarnings(\"ignore\")\n",
    "\n",
    "# Add seed\n",
    "np.random.seed(0)\n",
    "\n",
    "# Black code formatter (Optional)\n",
    "%load_ext lab_black\n",
    "\n",
    "# auto reload imports\n",
    "%load_ext autoreload\n",
    "%autoreload 2"
   ]
  },
  {
   "cell_type": "code",
   "execution_count": 2,
   "metadata": {},
   "outputs": [
    {
     "name": "stdout",
     "output_type": "stream",
     "text": [
      "Python implementation: CPython\n",
      "Python version       : 3.11.8\n",
      "IPython version      : 8.22.2\n",
      "\n",
      "numpy       : 1.26.4\n",
      "pandas      : 2.2.1\n",
      "matplotlib  : 3.8.3\n",
      "torch       : 2.2.2\n",
      "lightning   : 2.2.1\n",
      "scikit-learn: 1.4.1.post1\n",
      "\n",
      "conda environment: torch_p11\n",
      "\n"
     ]
    }
   ],
   "source": [
    "%load_ext watermark\n",
    "%watermark -v -p numpy,pandas,matplotlib,torch,lightning,scikit-learn --conda"
   ]
  },
  {
   "cell_type": "markdown",
   "metadata": {},
   "source": [
    "### Load Data\n"
   ]
  },
  {
   "cell_type": "code",
   "execution_count": 3,
   "metadata": {},
   "outputs": [
    {
     "data": {
      "text/plain": [
       "((1100, 11), (1100, 1), (328, 11), (328, 1))"
      ]
     },
     "execution_count": 3,
     "metadata": {},
     "output_type": "execute_result"
    }
   ],
   "source": [
    "train_fp: str = \"../../data/titanic/train_features.parquet\"\n",
    "train_fp1: str = \"../../data/titanic/train_target.parquet\"\n",
    "test_fp: str = \"../../data/titanic/test_features.parquet\"\n",
    "test_fp1: str = \"../../data/titanic/test_target.parquet\"\n",
    "\n",
    "train_df: pl.DataFrame = pl.read_parquet(train_fp)\n",
    "train_target_df: pl.DataFrame = pl.read_parquet(train_fp1)\n",
    "test_df: pl.DataFrame = pl.read_parquet(test_fp)\n",
    "test_target_df: pl.DataFrame = pl.read_parquet(test_fp1)\n",
    "\n",
    "train_df.shape, train_target_df.shape, test_df.shape, test_target_df.shape"
   ]
  },
  {
   "cell_type": "code",
   "execution_count": 4,
   "metadata": {},
   "outputs": [
    {
     "data": {
      "text/html": [
       "<div><style>\n",
       ".dataframe > thead > tr,\n",
       ".dataframe > tbody > tr {\n",
       "  text-align: right;\n",
       "  white-space: pre-wrap;\n",
       "}\n",
       "</style>\n",
       "<small>shape: (5, 11)</small><table border=\"1\" class=\"dataframe\"><thead><tr><th>num_vars__age</th><th>num_vars__fare</th><th>num_vars__parch</th><th>num_vars__pclass</th><th>num_vars__sibsp</th><th>num_vars__ticket</th><th>cat_vars__embarked_c</th><th>cat_vars__embarked_q</th><th>cat_vars__embarked_s</th><th>cat_vars__sex_female</th><th>cat_vars__sex_male</th></tr><tr><td>f64</td><td>f64</td><td>f64</td><td>f64</td><td>f64</td><td>f64</td><td>f64</td><td>f64</td><td>f64</td><td>f64</td><td>f64</td></tr></thead><tbody><tr><td>0.524008</td><td>0.014737</td><td>0.0</td><td>1.0</td><td>0.0</td><td>1.0</td><td>0.0</td><td>0.0</td><td>1.0</td><td>0.0</td><td>1.0</td></tr><tr><td>0.19833</td><td>0.039525</td><td>0.111111</td><td>1.0</td><td>0.125</td><td>1.0</td><td>0.0</td><td>0.0</td><td>1.0</td><td>0.0</td><td>1.0</td></tr><tr><td>0.436325</td><td>0.039525</td><td>0.111111</td><td>1.0</td><td>0.125</td><td>1.0</td><td>0.0</td><td>0.0</td><td>1.0</td><td>1.0</td><td>0.0</td></tr><tr><td>0.348643</td><td>0.046845</td><td>0.0</td><td>0.5</td><td>0.125</td><td>1.0</td><td>1.0</td><td>0.0</td><td>0.0</td><td>1.0</td><td>0.0</td></tr><tr><td>0.373695</td><td>0.014151</td><td>0.0</td><td>1.0</td><td>0.0</td><td>1.0</td><td>0.0</td><td>0.0</td><td>1.0</td><td>0.0</td><td>1.0</td></tr></tbody></table></div>"
      ],
      "text/plain": [
       "shape: (5, 11)\n",
       "┌───────────┬───────────┬───────────┬───────────┬───┬───────────┬───────────┬───────────┬──────────┐\n",
       "│ num_vars_ ┆ num_vars_ ┆ num_vars_ ┆ num_vars_ ┆ … ┆ cat_vars_ ┆ cat_vars_ ┆ cat_vars_ ┆ cat_vars │\n",
       "│ _age      ┆ _fare     ┆ _parch    ┆ _pclass   ┆   ┆ _embarked ┆ _embarked ┆ _sex_fema ┆ __sex_ma │\n",
       "│ ---       ┆ ---       ┆ ---       ┆ ---       ┆   ┆ _q        ┆ _s        ┆ le        ┆ le       │\n",
       "│ f64       ┆ f64       ┆ f64       ┆ f64       ┆   ┆ ---       ┆ ---       ┆ ---       ┆ ---      │\n",
       "│           ┆           ┆           ┆           ┆   ┆ f64       ┆ f64       ┆ f64       ┆ f64      │\n",
       "╞═══════════╪═══════════╪═══════════╪═══════════╪═══╪═══════════╪═══════════╪═══════════╪══════════╡\n",
       "│ 0.524008  ┆ 0.014737  ┆ 0.0       ┆ 1.0       ┆ … ┆ 0.0       ┆ 1.0       ┆ 0.0       ┆ 1.0      │\n",
       "│ 0.19833   ┆ 0.039525  ┆ 0.111111  ┆ 1.0       ┆ … ┆ 0.0       ┆ 1.0       ┆ 0.0       ┆ 1.0      │\n",
       "│ 0.436325  ┆ 0.039525  ┆ 0.111111  ┆ 1.0       ┆ … ┆ 0.0       ┆ 1.0       ┆ 1.0       ┆ 0.0      │\n",
       "│ 0.348643  ┆ 0.046845  ┆ 0.0       ┆ 0.5       ┆ … ┆ 0.0       ┆ 0.0       ┆ 1.0       ┆ 0.0      │\n",
       "│ 0.373695  ┆ 0.014151  ┆ 0.0       ┆ 1.0       ┆ … ┆ 0.0       ┆ 1.0       ┆ 0.0       ┆ 1.0      │\n",
       "└───────────┴───────────┴───────────┴───────────┴───┴───────────┴───────────┴───────────┴──────────┘"
      ]
     },
     "execution_count": 4,
     "metadata": {},
     "output_type": "execute_result"
    }
   ],
   "source": [
    "train_df.head()"
   ]
  },
  {
   "cell_type": "code",
   "execution_count": 5,
   "metadata": {},
   "outputs": [],
   "source": [
    "import torch\n",
    "import torch.nn as nn\n",
    "import torch.nn.functional as F\n",
    "from sklearn.model_selection import train_test_split\n",
    "\n",
    "from tqdm.notebook import tqdm"
   ]
  },
  {
   "cell_type": "code",
   "execution_count": 6,
   "metadata": {},
   "outputs": [
    {
     "data": {
      "text/html": [
       "<pre style=\"white-space:pre;overflow-x:auto;line-height:normal;font-family:Menlo,'DejaVu Sans Mono',consolas,'Courier New',monospace\"><span style=\"font-weight: bold\">(</span><span style=\"color: #008080; text-decoration-color: #008080; font-weight: bold\">935</span>, <span style=\"color: #008080; text-decoration-color: #008080; font-weight: bold\">11</span><span style=\"font-weight: bold\">)</span>\n",
       "<span style=\"font-weight: bold\">(</span><span style=\"color: #008080; text-decoration-color: #008080; font-weight: bold\">165</span>, <span style=\"color: #008080; text-decoration-color: #008080; font-weight: bold\">11</span><span style=\"font-weight: bold\">)</span>\n",
       "<span style=\"font-weight: bold\">(</span><span style=\"color: #008080; text-decoration-color: #008080; font-weight: bold\">328</span>, <span style=\"color: #008080; text-decoration-color: #008080; font-weight: bold\">11</span><span style=\"font-weight: bold\">)</span>\n",
       "</pre>\n"
      ],
      "text/plain": [
       "\u001b[1m(\u001b[0m\u001b[1;36m935\u001b[0m, \u001b[1;36m11\u001b[0m\u001b[1m)\u001b[0m\n",
       "\u001b[1m(\u001b[0m\u001b[1;36m165\u001b[0m, \u001b[1;36m11\u001b[0m\u001b[1m)\u001b[0m\n",
       "\u001b[1m(\u001b[0m\u001b[1;36m328\u001b[0m, \u001b[1;36m11\u001b[0m\u001b[1m)\u001b[0m\n"
      ]
     },
     "metadata": {},
     "output_type": "display_data"
    }
   ],
   "source": [
    "data: pl.DataFrame = pl.concat([train_df, train_target_df], how=\"horizontal\")\n",
    "\n",
    "X_: pd.DataFrame = data.to_pandas().drop(columns=[\"survived\"])\n",
    "y_: pd.Series = data.to_pandas()[\"survived\"]\n",
    "\n",
    "X_test: npt.NDArray[np.float_ | np.int_] = test_df.to_numpy()\n",
    "y_test: npt.NDArray[np.float_ | np.int_] = test_target_df.to_numpy().squeeze()\n",
    "\n",
    "X_train, X_val, y_train, y_val = train_test_split(\n",
    "    X_, y_, test_size=0.15, random_state=42, stratify=y_\n",
    ")\n",
    "X_train: npt.NDArray[np.float_ | np.int_] = X_train.values\n",
    "X_val: npt.NDArray[np.float_ | np.int_] = X_val.values\n",
    "\n",
    "console.print(X_train.shape, X_val.shape, X_test.shape)"
   ]
  },
  {
   "cell_type": "code",
   "execution_count": 7,
   "metadata": {},
   "outputs": [
    {
     "data": {
      "text/html": [
       "<pre style=\"white-space:pre;overflow-x:auto;line-height:normal;font-family:Menlo,'DejaVu Sans Mono',consolas,'Courier New',monospace\"><span style=\"font-weight: bold\">(</span><span style=\"color: #008080; text-decoration-color: #008080; font-weight: bold\">935</span>,<span style=\"font-weight: bold\">)</span>\n",
       "<span style=\"font-weight: bold\">(</span><span style=\"color: #008080; text-decoration-color: #008080; font-weight: bold\">165</span>,<span style=\"font-weight: bold\">)</span>\n",
       "<span style=\"font-weight: bold\">(</span><span style=\"color: #008080; text-decoration-color: #008080; font-weight: bold\">328</span>,<span style=\"font-weight: bold\">)</span>\n",
       "</pre>\n"
      ],
      "text/plain": [
       "\u001b[1m(\u001b[0m\u001b[1;36m935\u001b[0m,\u001b[1m)\u001b[0m\n",
       "\u001b[1m(\u001b[0m\u001b[1;36m165\u001b[0m,\u001b[1m)\u001b[0m\n",
       "\u001b[1m(\u001b[0m\u001b[1;36m328\u001b[0m,\u001b[1m)\u001b[0m\n"
      ]
     },
     "metadata": {},
     "output_type": "display_data"
    }
   ],
   "source": [
    "y_train: npt.NDArray[np.float_ | np.int_] = y_train.to_numpy()\n",
    "y_val: npt.NDArray[np.float_ | np.int_] = y_val.to_numpy()\n",
    "\n",
    "\n",
    "console.print(y_train.shape, y_val.shape, y_test.shape)"
   ]
  },
  {
   "cell_type": "code",
   "execution_count": 8,
   "metadata": {},
   "outputs": [],
   "source": [
    "from torch.utils.data import Dataset, DataLoader\n",
    "\n",
    "\n",
    "class TitanicClassifier(nn.Module):\n",
    "\n",
    "    def __init__(self, input_size: int, hidden_units: int, num_classes: int) -> None:\n",
    "        super().__init__()\n",
    "\n",
    "        # Hidden layer 1\n",
    "        self.fc1 = nn.Linear(input_size, hidden_units)\n",
    "        self.relu1 = nn.ReLU()\n",
    "\n",
    "        # Hidden layer 2\n",
    "        self.fc2 = nn.Linear(hidden_units, hidden_units)\n",
    "        self.relu2 = nn.ReLU()\n",
    "\n",
    "        # Output layer\n",
    "        self.fc3 = nn.Linear(hidden_units, num_classes)\n",
    "\n",
    "    def forward(self, x) -> torch.Tensor:\n",
    "        x = self.fc1(x)\n",
    "        x = self.relu1(x)\n",
    "        x = self.fc2(x)\n",
    "        x = self.relu2(x)\n",
    "        x = self.fc3(x)\n",
    "        return x\n",
    "\n",
    "\n",
    "class MyDataset(Dataset):\n",
    "    def __init__(self, X: torch.Tensor, y: torch.Tensor) -> None:\n",
    "\n",
    "        self.features = torch.tensor(X, dtype=torch.float32)\n",
    "        self.labels = torch.tensor(y, dtype=torch.long)\n",
    "\n",
    "    def __getitem__(self, index) -> tuple[torch.Tensor, torch.Tensor]:\n",
    "        \"\"\"Returns a tuple of the feature tensor and label tensor for the given index\n",
    "        in the dataset.\n",
    "        \"\"\"\n",
    "        x = self.features[index]\n",
    "        y = self.labels[index]\n",
    "        return x, y\n",
    "\n",
    "    def __len__(self) -> int:\n",
    "        \"\"\"Returns the total number of samples in the dataset.\"\"\"\n",
    "        return self.labels.shape[0]"
   ]
  },
  {
   "cell_type": "code",
   "execution_count": 9,
   "metadata": {},
   "outputs": [],
   "source": [
    "# Create datasets\n",
    "train_ds = MyDataset(X_train, y_train)\n",
    "val_ds = MyDataset(X_val, y_val)\n",
    "test_ds = MyDataset(X_test, y_test)\n",
    "\n",
    "# Create dataloaders\n",
    "train_loader = DataLoader(\n",
    "    dataset=train_ds,\n",
    "    batch_size=32,\n",
    "    shuffle=True,\n",
    ")\n",
    "\n",
    "val_loader = DataLoader(\n",
    "    dataset=val_ds,\n",
    "    batch_size=32,\n",
    "    shuffle=False,\n",
    ")\n",
    "\n",
    "test_loader = DataLoader(\n",
    "    dataset=test_ds,\n",
    "    batch_size=32,\n",
    "    shuffle=False,\n",
    ")"
   ]
  },
  {
   "cell_type": "markdown",
   "metadata": {},
   "source": [
    "### Training Loop\n"
   ]
  },
  {
   "cell_type": "code",
   "execution_count": 10,
   "metadata": {},
   "outputs": [],
   "source": [
    "Model: TypeAlias = torch.nn.Module"
   ]
  },
  {
   "cell_type": "code",
   "execution_count": 11,
   "metadata": {},
   "outputs": [],
   "source": [
    "def compute_accuracy(model: Model, dataloader: DataLoader) -> float:\n",
    "\n",
    "    model = model.eval()\n",
    "\n",
    "    correct: float = 0.0\n",
    "    total_examples: int = 0\n",
    "\n",
    "    for _, (features, labels) in enumerate(dataloader):\n",
    "\n",
    "        with torch.inference_mode():  # Same as torch.no_grad\n",
    "            logits = model(features)\n",
    "\n",
    "        predictions: torch.Tensor = torch.argmax(logits, dim=1)\n",
    "\n",
    "        compare: bool = (labels == predictions).float()\n",
    "        correct += torch.sum(compare)\n",
    "        total_examples += len(compare)\n",
    "\n",
    "    return correct / total_examples"
   ]
  },
  {
   "cell_type": "code",
   "execution_count": 12,
   "metadata": {},
   "outputs": [
    {
     "data": {
      "application/vnd.jupyter.widget-view+json": {
       "model_id": "040f81b42861498f9b5a12a7c8956650",
       "version_major": 2,
       "version_minor": 0
      },
      "text/plain": [
       "  0%|          | 0/100 [00:00<?, ?it/s]"
      ]
     },
     "metadata": {},
     "output_type": "display_data"
    },
    {
     "name": "stdout",
     "output_type": "stream",
     "text": [
      "Epoch: 001/100 | Batch 001/030 | Train/Val Loss: 0.69\n",
      "Epoch: 001/100 | Batch 002/030 | Train/Val Loss: 0.65\n",
      "Epoch: 001/100 | Batch 003/030 | Train/Val Loss: 0.65\n",
      "Epoch: 001/100 | Batch 004/030 | Train/Val Loss: 0.66\n",
      "Epoch: 001/100 | Batch 005/030 | Train/Val Loss: 0.68\n",
      "Epoch: 001/100 | Batch 006/030 | Train/Val Loss: 0.58\n",
      "Epoch: 001/100 | Batch 007/030 | Train/Val Loss: 0.59\n",
      "Epoch: 001/100 | Batch 008/030 | Train/Val Loss: 0.60\n",
      "Epoch: 001/100 | Batch 009/030 | Train/Val Loss: 0.65\n",
      "Epoch: 001/100 | Batch 010/030 | Train/Val Loss: 0.54\n",
      "Epoch: 001/100 | Batch 011/030 | Train/Val Loss: 0.48\n",
      "Epoch: 001/100 | Batch 012/030 | Train/Val Loss: 0.49\n",
      "Epoch: 001/100 | Batch 013/030 | Train/Val Loss: 0.76\n",
      "Epoch: 001/100 | Batch 014/030 | Train/Val Loss: 0.49\n",
      "Epoch: 001/100 | Batch 015/030 | Train/Val Loss: 0.51\n",
      "Epoch: 001/100 | Batch 016/030 | Train/Val Loss: 0.46\n",
      "Epoch: 001/100 | Batch 017/030 | Train/Val Loss: 0.47\n",
      "Epoch: 001/100 | Batch 018/030 | Train/Val Loss: 0.62\n",
      "Epoch: 001/100 | Batch 019/030 | Train/Val Loss: 0.40\n",
      "Epoch: 001/100 | Batch 020/030 | Train/Val Loss: 0.54\n",
      "Epoch: 001/100 | Batch 021/030 | Train/Val Loss: 0.47\n",
      "Epoch: 001/100 | Batch 022/030 | Train/Val Loss: 0.65\n",
      "Epoch: 001/100 | Batch 023/030 | Train/Val Loss: 0.30\n",
      "Epoch: 001/100 | Batch 024/030 | Train/Val Loss: 0.64\n",
      "Epoch: 001/100 | Batch 025/030 | Train/Val Loss: 0.48\n",
      "Epoch: 001/100 | Batch 026/030 | Train/Val Loss: 0.43\n",
      "Epoch: 001/100 | Batch 027/030 | Train/Val Loss: 0.69\n",
      "Epoch: 001/100 | Batch 028/030 | Train/Val Loss: 0.34\n",
      "Epoch: 001/100 | Batch 029/030 | Train/Val Loss: 0.51\n",
      "Epoch: 001/100 | Batch 030/030 | Train/Val Loss: 0.60\n"
     ]
    },
    {
     "data": {
      "text/html": [
       "<pre style=\"white-space:pre;overflow-x:auto;line-height:normal;font-family:Menlo,'DejaVu Sans Mono',consolas,'Courier New',monospace\"><span style=\"color: #76ff7b; text-decoration-color: #76ff7b\">Train Acc: </span><span style=\"color: #008080; text-decoration-color: #008080; font-weight: bold\">76.47</span><span style=\"color: #76ff7b; text-decoration-color: #76ff7b\">% | Val Acc: </span><span style=\"color: #008080; text-decoration-color: #008080; font-weight: bold\">80.61</span><span style=\"color: #76ff7b; text-decoration-color: #76ff7b\">%</span>\n",
       "</pre>\n"
      ],
      "text/plain": [
       "\u001b[38;2;118;255;123mTrain Acc: \u001b[0m\u001b[1;36m76.47\u001b[0m\u001b[38;2;118;255;123m% | Val Acc: \u001b[0m\u001b[1;36m80.61\u001b[0m\u001b[38;2;118;255;123m%\u001b[0m\n"
      ]
     },
     "metadata": {},
     "output_type": "display_data"
    },
    {
     "name": "stdout",
     "output_type": "stream",
     "text": [
      "Epoch: 002/100 | Batch 001/030 | Train/Val Loss: 0.42\n",
      "Epoch: 002/100 | Batch 002/030 | Train/Val Loss: 0.47\n",
      "Epoch: 002/100 | Batch 003/030 | Train/Val Loss: 0.33\n",
      "Epoch: 002/100 | Batch 004/030 | Train/Val Loss: 0.57\n",
      "Epoch: 002/100 | Batch 005/030 | Train/Val Loss: 0.55\n",
      "Epoch: 002/100 | Batch 006/030 | Train/Val Loss: 0.41\n",
      "Epoch: 002/100 | Batch 007/030 | Train/Val Loss: 0.37\n",
      "Epoch: 002/100 | Batch 008/030 | Train/Val Loss: 0.48\n",
      "Epoch: 002/100 | Batch 009/030 | Train/Val Loss: 0.54\n",
      "Epoch: 002/100 | Batch 010/030 | Train/Val Loss: 0.46\n",
      "Epoch: 002/100 | Batch 011/030 | Train/Val Loss: 0.44\n",
      "Epoch: 002/100 | Batch 012/030 | Train/Val Loss: 0.62\n",
      "Epoch: 002/100 | Batch 013/030 | Train/Val Loss: 0.48\n",
      "Epoch: 002/100 | Batch 014/030 | Train/Val Loss: 0.42\n",
      "Epoch: 002/100 | Batch 015/030 | Train/Val Loss: 0.49\n",
      "Epoch: 002/100 | Batch 016/030 | Train/Val Loss: 0.49\n",
      "Epoch: 002/100 | Batch 017/030 | Train/Val Loss: 0.47\n",
      "Epoch: 002/100 | Batch 018/030 | Train/Val Loss: 0.49\n",
      "Epoch: 002/100 | Batch 019/030 | Train/Val Loss: 0.54\n",
      "Epoch: 002/100 | Batch 020/030 | Train/Val Loss: 0.51\n",
      "Epoch: 002/100 | Batch 021/030 | Train/Val Loss: 0.47\n",
      "Epoch: 002/100 | Batch 022/030 | Train/Val Loss: 0.47\n",
      "Epoch: 002/100 | Batch 023/030 | Train/Val Loss: 0.57\n",
      "Epoch: 002/100 | Batch 024/030 | Train/Val Loss: 0.42\n",
      "Epoch: 002/100 | Batch 025/030 | Train/Val Loss: 0.43\n",
      "Epoch: 002/100 | Batch 026/030 | Train/Val Loss: 0.42\n",
      "Epoch: 002/100 | Batch 027/030 | Train/Val Loss: 0.54\n",
      "Epoch: 002/100 | Batch 028/030 | Train/Val Loss: 0.64\n",
      "Epoch: 002/100 | Batch 029/030 | Train/Val Loss: 0.45\n",
      "Epoch: 002/100 | Batch 030/030 | Train/Val Loss: 0.26\n"
     ]
    },
    {
     "data": {
      "text/html": [
       "<pre style=\"white-space:pre;overflow-x:auto;line-height:normal;font-family:Menlo,'DejaVu Sans Mono',consolas,'Courier New',monospace\"><span style=\"color: #76ff7b; text-decoration-color: #76ff7b\">Train Acc: </span><span style=\"color: #008080; text-decoration-color: #008080; font-weight: bold\">79.14</span><span style=\"color: #76ff7b; text-decoration-color: #76ff7b\">% | Val Acc: </span><span style=\"color: #008080; text-decoration-color: #008080; font-weight: bold\">82.42</span><span style=\"color: #76ff7b; text-decoration-color: #76ff7b\">%</span>\n",
       "</pre>\n"
      ],
      "text/plain": [
       "\u001b[38;2;118;255;123mTrain Acc: \u001b[0m\u001b[1;36m79.14\u001b[0m\u001b[38;2;118;255;123m% | Val Acc: \u001b[0m\u001b[1;36m82.42\u001b[0m\u001b[38;2;118;255;123m%\u001b[0m\n"
      ]
     },
     "metadata": {},
     "output_type": "display_data"
    },
    {
     "name": "stdout",
     "output_type": "stream",
     "text": [
      "Epoch: 003/100 | Batch 001/030 | Train/Val Loss: 0.57\n",
      "Epoch: 003/100 | Batch 002/030 | Train/Val Loss: 0.39\n",
      "Epoch: 003/100 | Batch 003/030 | Train/Val Loss: 0.45\n",
      "Epoch: 003/100 | Batch 004/030 | Train/Val Loss: 0.39\n",
      "Epoch: 003/100 | Batch 005/030 | Train/Val Loss: 0.51\n",
      "Epoch: 003/100 | Batch 006/030 | Train/Val Loss: 0.56\n",
      "Epoch: 003/100 | Batch 007/030 | Train/Val Loss: 0.49\n",
      "Epoch: 003/100 | Batch 008/030 | Train/Val Loss: 0.44\n",
      "Epoch: 003/100 | Batch 009/030 | Train/Val Loss: 0.53\n",
      "Epoch: 003/100 | Batch 010/030 | Train/Val Loss: 0.51\n",
      "Epoch: 003/100 | Batch 011/030 | Train/Val Loss: 0.50\n",
      "Epoch: 003/100 | Batch 012/030 | Train/Val Loss: 0.36\n",
      "Epoch: 003/100 | Batch 013/030 | Train/Val Loss: 0.52\n",
      "Epoch: 003/100 | Batch 014/030 | Train/Val Loss: 0.51\n",
      "Epoch: 003/100 | Batch 015/030 | Train/Val Loss: 0.43\n",
      "Epoch: 003/100 | Batch 016/030 | Train/Val Loss: 0.46\n",
      "Epoch: 003/100 | Batch 017/030 | Train/Val Loss: 0.40\n",
      "Epoch: 003/100 | Batch 018/030 | Train/Val Loss: 0.37\n",
      "Epoch: 003/100 | Batch 019/030 | Train/Val Loss: 0.40\n",
      "Epoch: 003/100 | Batch 020/030 | Train/Val Loss: 0.27\n",
      "Epoch: 003/100 | Batch 021/030 | Train/Val Loss: 0.50\n",
      "Epoch: 003/100 | Batch 022/030 | Train/Val Loss: 0.46\n",
      "Epoch: 003/100 | Batch 023/030 | Train/Val Loss: 0.47\n",
      "Epoch: 003/100 | Batch 024/030 | Train/Val Loss: 0.50\n",
      "Epoch: 003/100 | Batch 025/030 | Train/Val Loss: 0.62\n",
      "Epoch: 003/100 | Batch 026/030 | Train/Val Loss: 0.58\n",
      "Epoch: 003/100 | Batch 027/030 | Train/Val Loss: 0.44\n",
      "Epoch: 003/100 | Batch 028/030 | Train/Val Loss: 0.36\n",
      "Epoch: 003/100 | Batch 029/030 | Train/Val Loss: 0.43\n",
      "Epoch: 003/100 | Batch 030/030 | Train/Val Loss: 0.28\n"
     ]
    },
    {
     "data": {
      "text/html": [
       "<pre style=\"white-space:pre;overflow-x:auto;line-height:normal;font-family:Menlo,'DejaVu Sans Mono',consolas,'Courier New',monospace\"><span style=\"color: #76ff7b; text-decoration-color: #76ff7b\">Train Acc: </span><span style=\"color: #008080; text-decoration-color: #008080; font-weight: bold\">78.72</span><span style=\"color: #76ff7b; text-decoration-color: #76ff7b\">% | Val Acc: </span><span style=\"color: #008080; text-decoration-color: #008080; font-weight: bold\">80.00</span><span style=\"color: #76ff7b; text-decoration-color: #76ff7b\">%</span>\n",
       "</pre>\n"
      ],
      "text/plain": [
       "\u001b[38;2;118;255;123mTrain Acc: \u001b[0m\u001b[1;36m78.72\u001b[0m\u001b[38;2;118;255;123m% | Val Acc: \u001b[0m\u001b[1;36m80.00\u001b[0m\u001b[38;2;118;255;123m%\u001b[0m\n"
      ]
     },
     "metadata": {},
     "output_type": "display_data"
    },
    {
     "name": "stdout",
     "output_type": "stream",
     "text": [
      "Epoch: 004/100 | Batch 001/030 | Train/Val Loss: 0.49\n",
      "Epoch: 004/100 | Batch 002/030 | Train/Val Loss: 0.48\n",
      "Epoch: 004/100 | Batch 003/030 | Train/Val Loss: 0.61\n",
      "Epoch: 004/100 | Batch 004/030 | Train/Val Loss: 0.33\n",
      "Epoch: 004/100 | Batch 005/030 | Train/Val Loss: 0.49\n",
      "Epoch: 004/100 | Batch 006/030 | Train/Val Loss: 0.35\n",
      "Epoch: 004/100 | Batch 007/030 | Train/Val Loss: 0.43\n",
      "Epoch: 004/100 | Batch 008/030 | Train/Val Loss: 0.54\n",
      "Epoch: 004/100 | Batch 009/030 | Train/Val Loss: 0.44\n",
      "Epoch: 004/100 | Batch 010/030 | Train/Val Loss: 0.43\n",
      "Epoch: 004/100 | Batch 011/030 | Train/Val Loss: 0.46\n",
      "Epoch: 004/100 | Batch 012/030 | Train/Val Loss: 0.61\n",
      "Epoch: 004/100 | Batch 013/030 | Train/Val Loss: 0.34\n",
      "Epoch: 004/100 | Batch 014/030 | Train/Val Loss: 0.62\n",
      "Epoch: 004/100 | Batch 015/030 | Train/Val Loss: 0.49\n",
      "Epoch: 004/100 | Batch 016/030 | Train/Val Loss: 0.41\n",
      "Epoch: 004/100 | Batch 017/030 | Train/Val Loss: 0.44\n",
      "Epoch: 004/100 | Batch 018/030 | Train/Val Loss: 0.39\n",
      "Epoch: 004/100 | Batch 019/030 | Train/Val Loss: 0.29\n",
      "Epoch: 004/100 | Batch 020/030 | Train/Val Loss: 0.36\n",
      "Epoch: 004/100 | Batch 021/030 | Train/Val Loss: 0.56\n",
      "Epoch: 004/100 | Batch 022/030 | Train/Val Loss: 0.52\n",
      "Epoch: 004/100 | Batch 023/030 | Train/Val Loss: 0.53\n",
      "Epoch: 004/100 | Batch 024/030 | Train/Val Loss: 0.62\n",
      "Epoch: 004/100 | Batch 025/030 | Train/Val Loss: 0.35\n",
      "Epoch: 004/100 | Batch 026/030 | Train/Val Loss: 0.28\n",
      "Epoch: 004/100 | Batch 027/030 | Train/Val Loss: 0.65\n",
      "Epoch: 004/100 | Batch 028/030 | Train/Val Loss: 0.36\n",
      "Epoch: 004/100 | Batch 029/030 | Train/Val Loss: 0.36\n",
      "Epoch: 004/100 | Batch 030/030 | Train/Val Loss: 0.49\n"
     ]
    },
    {
     "data": {
      "text/html": [
       "<pre style=\"white-space:pre;overflow-x:auto;line-height:normal;font-family:Menlo,'DejaVu Sans Mono',consolas,'Courier New',monospace\"><span style=\"color: #76ff7b; text-decoration-color: #76ff7b\">Train Acc: </span><span style=\"color: #008080; text-decoration-color: #008080; font-weight: bold\">80.00</span><span style=\"color: #76ff7b; text-decoration-color: #76ff7b\">% | Val Acc: </span><span style=\"color: #008080; text-decoration-color: #008080; font-weight: bold\">80.61</span><span style=\"color: #76ff7b; text-decoration-color: #76ff7b\">%</span>\n",
       "</pre>\n"
      ],
      "text/plain": [
       "\u001b[38;2;118;255;123mTrain Acc: \u001b[0m\u001b[1;36m80.00\u001b[0m\u001b[38;2;118;255;123m% | Val Acc: \u001b[0m\u001b[1;36m80.61\u001b[0m\u001b[38;2;118;255;123m%\u001b[0m\n"
      ]
     },
     "metadata": {},
     "output_type": "display_data"
    },
    {
     "name": "stdout",
     "output_type": "stream",
     "text": [
      "Epoch: 005/100 | Batch 001/030 | Train/Val Loss: 0.42\n",
      "Epoch: 005/100 | Batch 002/030 | Train/Val Loss: 0.38\n",
      "Epoch: 005/100 | Batch 003/030 | Train/Val Loss: 0.45\n",
      "Epoch: 005/100 | Batch 004/030 | Train/Val Loss: 0.60\n",
      "Epoch: 005/100 | Batch 005/030 | Train/Val Loss: 0.54\n",
      "Epoch: 005/100 | Batch 006/030 | Train/Val Loss: 0.39\n",
      "Epoch: 005/100 | Batch 007/030 | Train/Val Loss: 0.41\n",
      "Epoch: 005/100 | Batch 008/030 | Train/Val Loss: 0.37\n",
      "Epoch: 005/100 | Batch 009/030 | Train/Val Loss: 0.57\n",
      "Epoch: 005/100 | Batch 010/030 | Train/Val Loss: 0.42\n",
      "Epoch: 005/100 | Batch 011/030 | Train/Val Loss: 0.56\n",
      "Epoch: 005/100 | Batch 012/030 | Train/Val Loss: 0.46\n",
      "Epoch: 005/100 | Batch 013/030 | Train/Val Loss: 0.39\n",
      "Epoch: 005/100 | Batch 014/030 | Train/Val Loss: 0.44\n",
      "Epoch: 005/100 | Batch 015/030 | Train/Val Loss: 0.55\n",
      "Epoch: 005/100 | Batch 016/030 | Train/Val Loss: 0.31\n",
      "Epoch: 005/100 | Batch 017/030 | Train/Val Loss: 0.40\n",
      "Epoch: 005/100 | Batch 018/030 | Train/Val Loss: 0.51\n",
      "Epoch: 005/100 | Batch 019/030 | Train/Val Loss: 0.58\n",
      "Epoch: 005/100 | Batch 020/030 | Train/Val Loss: 0.42\n",
      "Epoch: 005/100 | Batch 021/030 | Train/Val Loss: 0.51\n",
      "Epoch: 005/100 | Batch 022/030 | Train/Val Loss: 0.55\n",
      "Epoch: 005/100 | Batch 023/030 | Train/Val Loss: 0.42\n",
      "Epoch: 005/100 | Batch 024/030 | Train/Val Loss: 0.47\n",
      "Epoch: 005/100 | Batch 025/030 | Train/Val Loss: 0.41\n",
      "Epoch: 005/100 | Batch 026/030 | Train/Val Loss: 0.34\n",
      "Epoch: 005/100 | Batch 027/030 | Train/Val Loss: 0.38\n",
      "Epoch: 005/100 | Batch 028/030 | Train/Val Loss: 0.57\n",
      "Epoch: 005/100 | Batch 029/030 | Train/Val Loss: 0.56\n",
      "Epoch: 005/100 | Batch 030/030 | Train/Val Loss: 0.45\n"
     ]
    },
    {
     "data": {
      "text/html": [
       "<pre style=\"white-space:pre;overflow-x:auto;line-height:normal;font-family:Menlo,'DejaVu Sans Mono',consolas,'Courier New',monospace\"><span style=\"color: #76ff7b; text-decoration-color: #76ff7b\">Train Acc: </span><span style=\"color: #008080; text-decoration-color: #008080; font-weight: bold\">79.57</span><span style=\"color: #76ff7b; text-decoration-color: #76ff7b\">% | Val Acc: </span><span style=\"color: #008080; text-decoration-color: #008080; font-weight: bold\">82.42</span><span style=\"color: #76ff7b; text-decoration-color: #76ff7b\">%</span>\n",
       "</pre>\n"
      ],
      "text/plain": [
       "\u001b[38;2;118;255;123mTrain Acc: \u001b[0m\u001b[1;36m79.57\u001b[0m\u001b[38;2;118;255;123m% | Val Acc: \u001b[0m\u001b[1;36m82.42\u001b[0m\u001b[38;2;118;255;123m%\u001b[0m\n"
      ]
     },
     "metadata": {},
     "output_type": "display_data"
    },
    {
     "name": "stdout",
     "output_type": "stream",
     "text": [
      "Epoch: 006/100 | Batch 001/030 | Train/Val Loss: 0.48\n",
      "Epoch: 006/100 | Batch 002/030 | Train/Val Loss: 0.59\n",
      "Epoch: 006/100 | Batch 003/030 | Train/Val Loss: 0.59\n",
      "Epoch: 006/100 | Batch 004/030 | Train/Val Loss: 0.48\n",
      "Epoch: 006/100 | Batch 005/030 | Train/Val Loss: 0.63\n",
      "Epoch: 006/100 | Batch 006/030 | Train/Val Loss: 0.37\n",
      "Epoch: 006/100 | Batch 007/030 | Train/Val Loss: 0.44\n",
      "Epoch: 006/100 | Batch 008/030 | Train/Val Loss: 0.30\n",
      "Epoch: 006/100 | Batch 009/030 | Train/Val Loss: 0.41\n",
      "Epoch: 006/100 | Batch 010/030 | Train/Val Loss: 0.39\n",
      "Epoch: 006/100 | Batch 011/030 | Train/Val Loss: 0.30\n",
      "Epoch: 006/100 | Batch 012/030 | Train/Val Loss: 0.43\n",
      "Epoch: 006/100 | Batch 013/030 | Train/Val Loss: 0.50\n",
      "Epoch: 006/100 | Batch 014/030 | Train/Val Loss: 0.53\n",
      "Epoch: 006/100 | Batch 015/030 | Train/Val Loss: 0.46\n",
      "Epoch: 006/100 | Batch 016/030 | Train/Val Loss: 0.32\n",
      "Epoch: 006/100 | Batch 017/030 | Train/Val Loss: 0.45\n",
      "Epoch: 006/100 | Batch 018/030 | Train/Val Loss: 0.55\n",
      "Epoch: 006/100 | Batch 019/030 | Train/Val Loss: 0.35\n",
      "Epoch: 006/100 | Batch 020/030 | Train/Val Loss: 0.52\n",
      "Epoch: 006/100 | Batch 021/030 | Train/Val Loss: 0.34\n",
      "Epoch: 006/100 | Batch 022/030 | Train/Val Loss: 0.59\n",
      "Epoch: 006/100 | Batch 023/030 | Train/Val Loss: 0.42\n",
      "Epoch: 006/100 | Batch 024/030 | Train/Val Loss: 0.56\n",
      "Epoch: 006/100 | Batch 025/030 | Train/Val Loss: 0.30\n",
      "Epoch: 006/100 | Batch 026/030 | Train/Val Loss: 0.30\n",
      "Epoch: 006/100 | Batch 027/030 | Train/Val Loss: 0.27\n",
      "Epoch: 006/100 | Batch 028/030 | Train/Val Loss: 0.54\n",
      "Epoch: 006/100 | Batch 029/030 | Train/Val Loss: 0.41\n",
      "Epoch: 006/100 | Batch 030/030 | Train/Val Loss: 0.52\n"
     ]
    },
    {
     "data": {
      "text/html": [
       "<pre style=\"white-space:pre;overflow-x:auto;line-height:normal;font-family:Menlo,'DejaVu Sans Mono',consolas,'Courier New',monospace\"><span style=\"color: #76ff7b; text-decoration-color: #76ff7b\">Train Acc: </span><span style=\"color: #008080; text-decoration-color: #008080; font-weight: bold\">79.25</span><span style=\"color: #76ff7b; text-decoration-color: #76ff7b\">% | Val Acc: </span><span style=\"color: #008080; text-decoration-color: #008080; font-weight: bold\">80.00</span><span style=\"color: #76ff7b; text-decoration-color: #76ff7b\">%</span>\n",
       "</pre>\n"
      ],
      "text/plain": [
       "\u001b[38;2;118;255;123mTrain Acc: \u001b[0m\u001b[1;36m79.25\u001b[0m\u001b[38;2;118;255;123m% | Val Acc: \u001b[0m\u001b[1;36m80.00\u001b[0m\u001b[38;2;118;255;123m%\u001b[0m\n"
      ]
     },
     "metadata": {},
     "output_type": "display_data"
    },
    {
     "name": "stdout",
     "output_type": "stream",
     "text": [
      "Epoch: 007/100 | Batch 001/030 | Train/Val Loss: 0.39\n",
      "Epoch: 007/100 | Batch 002/030 | Train/Val Loss: 0.29\n",
      "Epoch: 007/100 | Batch 003/030 | Train/Val Loss: 0.49\n",
      "Epoch: 007/100 | Batch 004/030 | Train/Val Loss: 0.29\n",
      "Epoch: 007/100 | Batch 005/030 | Train/Val Loss: 0.42\n",
      "Epoch: 007/100 | Batch 006/030 | Train/Val Loss: 0.65\n",
      "Epoch: 007/100 | Batch 007/030 | Train/Val Loss: 0.51\n",
      "Epoch: 007/100 | Batch 008/030 | Train/Val Loss: 0.53\n",
      "Epoch: 007/100 | Batch 009/030 | Train/Val Loss: 0.42\n",
      "Epoch: 007/100 | Batch 010/030 | Train/Val Loss: 0.25\n",
      "Epoch: 007/100 | Batch 011/030 | Train/Val Loss: 0.35\n",
      "Epoch: 007/100 | Batch 012/030 | Train/Val Loss: 0.42\n",
      "Epoch: 007/100 | Batch 013/030 | Train/Val Loss: 0.26\n",
      "Epoch: 007/100 | Batch 014/030 | Train/Val Loss: 0.43\n",
      "Epoch: 007/100 | Batch 015/030 | Train/Val Loss: 0.26\n",
      "Epoch: 007/100 | Batch 016/030 | Train/Val Loss: 0.61\n",
      "Epoch: 007/100 | Batch 017/030 | Train/Val Loss: 0.59\n",
      "Epoch: 007/100 | Batch 018/030 | Train/Val Loss: 0.48\n",
      "Epoch: 007/100 | Batch 019/030 | Train/Val Loss: 0.51\n",
      "Epoch: 007/100 | Batch 020/030 | Train/Val Loss: 0.43\n",
      "Epoch: 007/100 | Batch 021/030 | Train/Val Loss: 0.52\n",
      "Epoch: 007/100 | Batch 022/030 | Train/Val Loss: 0.46\n",
      "Epoch: 007/100 | Batch 023/030 | Train/Val Loss: 0.38\n",
      "Epoch: 007/100 | Batch 024/030 | Train/Val Loss: 0.44\n",
      "Epoch: 007/100 | Batch 025/030 | Train/Val Loss: 0.48\n",
      "Epoch: 007/100 | Batch 026/030 | Train/Val Loss: 0.62\n",
      "Epoch: 007/100 | Batch 027/030 | Train/Val Loss: 0.45\n",
      "Epoch: 007/100 | Batch 028/030 | Train/Val Loss: 0.53\n",
      "Epoch: 007/100 | Batch 029/030 | Train/Val Loss: 0.48\n",
      "Epoch: 007/100 | Batch 030/030 | Train/Val Loss: 0.20\n"
     ]
    },
    {
     "data": {
      "text/html": [
       "<pre style=\"white-space:pre;overflow-x:auto;line-height:normal;font-family:Menlo,'DejaVu Sans Mono',consolas,'Courier New',monospace\"><span style=\"color: #76ff7b; text-decoration-color: #76ff7b\">Train Acc: </span><span style=\"color: #008080; text-decoration-color: #008080; font-weight: bold\">79.57</span><span style=\"color: #76ff7b; text-decoration-color: #76ff7b\">% | Val Acc: </span><span style=\"color: #008080; text-decoration-color: #008080; font-weight: bold\">80.61</span><span style=\"color: #76ff7b; text-decoration-color: #76ff7b\">%</span>\n",
       "</pre>\n"
      ],
      "text/plain": [
       "\u001b[38;2;118;255;123mTrain Acc: \u001b[0m\u001b[1;36m79.57\u001b[0m\u001b[38;2;118;255;123m% | Val Acc: \u001b[0m\u001b[1;36m80.61\u001b[0m\u001b[38;2;118;255;123m%\u001b[0m\n"
      ]
     },
     "metadata": {},
     "output_type": "display_data"
    },
    {
     "name": "stdout",
     "output_type": "stream",
     "text": [
      "Epoch: 008/100 | Batch 001/030 | Train/Val Loss: 0.51\n",
      "Epoch: 008/100 | Batch 002/030 | Train/Val Loss: 0.48\n",
      "Epoch: 008/100 | Batch 003/030 | Train/Val Loss: 0.30\n",
      "Epoch: 008/100 | Batch 004/030 | Train/Val Loss: 0.35\n",
      "Epoch: 008/100 | Batch 005/030 | Train/Val Loss: 0.39\n",
      "Epoch: 008/100 | Batch 006/030 | Train/Val Loss: 0.43\n",
      "Epoch: 008/100 | Batch 007/030 | Train/Val Loss: 0.42\n",
      "Epoch: 008/100 | Batch 008/030 | Train/Val Loss: 0.43\n",
      "Epoch: 008/100 | Batch 009/030 | Train/Val Loss: 0.62\n",
      "Epoch: 008/100 | Batch 010/030 | Train/Val Loss: 0.57\n",
      "Epoch: 008/100 | Batch 011/030 | Train/Val Loss: 0.67\n",
      "Epoch: 008/100 | Batch 012/030 | Train/Val Loss: 0.44\n",
      "Epoch: 008/100 | Batch 013/030 | Train/Val Loss: 0.45\n",
      "Epoch: 008/100 | Batch 014/030 | Train/Val Loss: 0.38\n",
      "Epoch: 008/100 | Batch 015/030 | Train/Val Loss: 0.35\n",
      "Epoch: 008/100 | Batch 016/030 | Train/Val Loss: 0.39\n",
      "Epoch: 008/100 | Batch 017/030 | Train/Val Loss: 0.57\n",
      "Epoch: 008/100 | Batch 018/030 | Train/Val Loss: 0.30\n",
      "Epoch: 008/100 | Batch 019/030 | Train/Val Loss: 0.52\n",
      "Epoch: 008/100 | Batch 020/030 | Train/Val Loss: 0.47\n",
      "Epoch: 008/100 | Batch 021/030 | Train/Val Loss: 0.36\n",
      "Epoch: 008/100 | Batch 022/030 | Train/Val Loss: 0.41\n",
      "Epoch: 008/100 | Batch 023/030 | Train/Val Loss: 0.42\n",
      "Epoch: 008/100 | Batch 024/030 | Train/Val Loss: 0.54\n",
      "Epoch: 008/100 | Batch 025/030 | Train/Val Loss: 0.43\n",
      "Epoch: 008/100 | Batch 026/030 | Train/Val Loss: 0.54\n",
      "Epoch: 008/100 | Batch 027/030 | Train/Val Loss: 0.32\n",
      "Epoch: 008/100 | Batch 028/030 | Train/Val Loss: 0.44\n",
      "Epoch: 008/100 | Batch 029/030 | Train/Val Loss: 0.38\n",
      "Epoch: 008/100 | Batch 030/030 | Train/Val Loss: 0.26\n"
     ]
    },
    {
     "data": {
      "text/html": [
       "<pre style=\"white-space:pre;overflow-x:auto;line-height:normal;font-family:Menlo,'DejaVu Sans Mono',consolas,'Courier New',monospace\"><span style=\"color: #76ff7b; text-decoration-color: #76ff7b\">Train Acc: </span><span style=\"color: #008080; text-decoration-color: #008080; font-weight: bold\">82.03</span><span style=\"color: #76ff7b; text-decoration-color: #76ff7b\">% | Val Acc: </span><span style=\"color: #008080; text-decoration-color: #008080; font-weight: bold\">81.82</span><span style=\"color: #76ff7b; text-decoration-color: #76ff7b\">%</span>\n",
       "</pre>\n"
      ],
      "text/plain": [
       "\u001b[38;2;118;255;123mTrain Acc: \u001b[0m\u001b[1;36m82.03\u001b[0m\u001b[38;2;118;255;123m% | Val Acc: \u001b[0m\u001b[1;36m81.82\u001b[0m\u001b[38;2;118;255;123m%\u001b[0m\n"
      ]
     },
     "metadata": {},
     "output_type": "display_data"
    },
    {
     "name": "stdout",
     "output_type": "stream",
     "text": [
      "Epoch: 009/100 | Batch 001/030 | Train/Val Loss: 0.43\n",
      "Epoch: 009/100 | Batch 002/030 | Train/Val Loss: 0.49\n",
      "Epoch: 009/100 | Batch 003/030 | Train/Val Loss: 0.46\n",
      "Epoch: 009/100 | Batch 004/030 | Train/Val Loss: 0.43\n",
      "Epoch: 009/100 | Batch 005/030 | Train/Val Loss: 0.64\n",
      "Epoch: 009/100 | Batch 006/030 | Train/Val Loss: 0.45\n",
      "Epoch: 009/100 | Batch 007/030 | Train/Val Loss: 0.30\n",
      "Epoch: 009/100 | Batch 008/030 | Train/Val Loss: 0.37\n",
      "Epoch: 009/100 | Batch 009/030 | Train/Val Loss: 0.25\n",
      "Epoch: 009/100 | Batch 010/030 | Train/Val Loss: 0.42\n",
      "Epoch: 009/100 | Batch 011/030 | Train/Val Loss: 0.45\n",
      "Epoch: 009/100 | Batch 012/030 | Train/Val Loss: 0.44\n",
      "Epoch: 009/100 | Batch 013/030 | Train/Val Loss: 0.39\n",
      "Epoch: 009/100 | Batch 014/030 | Train/Val Loss: 0.39\n",
      "Epoch: 009/100 | Batch 015/030 | Train/Val Loss: 0.44\n",
      "Epoch: 009/100 | Batch 016/030 | Train/Val Loss: 0.45\n",
      "Epoch: 009/100 | Batch 017/030 | Train/Val Loss: 0.59\n",
      "Epoch: 009/100 | Batch 018/030 | Train/Val Loss: 0.52\n",
      "Epoch: 009/100 | Batch 019/030 | Train/Val Loss: 0.40\n",
      "Epoch: 009/100 | Batch 020/030 | Train/Val Loss: 0.49\n",
      "Epoch: 009/100 | Batch 021/030 | Train/Val Loss: 0.44\n",
      "Epoch: 009/100 | Batch 022/030 | Train/Val Loss: 0.45\n",
      "Epoch: 009/100 | Batch 023/030 | Train/Val Loss: 0.42\n",
      "Epoch: 009/100 | Batch 024/030 | Train/Val Loss: 0.40\n",
      "Epoch: 009/100 | Batch 025/030 | Train/Val Loss: 0.55\n",
      "Epoch: 009/100 | Batch 026/030 | Train/Val Loss: 0.33\n",
      "Epoch: 009/100 | Batch 027/030 | Train/Val Loss: 0.41\n",
      "Epoch: 009/100 | Batch 028/030 | Train/Val Loss: 0.41\n",
      "Epoch: 009/100 | Batch 029/030 | Train/Val Loss: 0.41\n",
      "Epoch: 009/100 | Batch 030/030 | Train/Val Loss: 0.32\n"
     ]
    },
    {
     "data": {
      "text/html": [
       "<pre style=\"white-space:pre;overflow-x:auto;line-height:normal;font-family:Menlo,'DejaVu Sans Mono',consolas,'Courier New',monospace\"><span style=\"color: #76ff7b; text-decoration-color: #76ff7b\">Train Acc: </span><span style=\"color: #008080; text-decoration-color: #008080; font-weight: bold\">80.75</span><span style=\"color: #76ff7b; text-decoration-color: #76ff7b\">% | Val Acc: </span><span style=\"color: #008080; text-decoration-color: #008080; font-weight: bold\">83.03</span><span style=\"color: #76ff7b; text-decoration-color: #76ff7b\">%</span>\n",
       "</pre>\n"
      ],
      "text/plain": [
       "\u001b[38;2;118;255;123mTrain Acc: \u001b[0m\u001b[1;36m80.75\u001b[0m\u001b[38;2;118;255;123m% | Val Acc: \u001b[0m\u001b[1;36m83.03\u001b[0m\u001b[38;2;118;255;123m%\u001b[0m\n"
      ]
     },
     "metadata": {},
     "output_type": "display_data"
    },
    {
     "name": "stdout",
     "output_type": "stream",
     "text": [
      "Epoch: 010/100 | Batch 001/030 | Train/Val Loss: 0.45\n",
      "Epoch: 010/100 | Batch 002/030 | Train/Val Loss: 0.49\n",
      "Epoch: 010/100 | Batch 003/030 | Train/Val Loss: 0.31\n",
      "Epoch: 010/100 | Batch 004/030 | Train/Val Loss: 0.54\n",
      "Epoch: 010/100 | Batch 005/030 | Train/Val Loss: 0.57\n",
      "Epoch: 010/100 | Batch 006/030 | Train/Val Loss: 0.44\n",
      "Epoch: 010/100 | Batch 007/030 | Train/Val Loss: 0.58\n",
      "Epoch: 010/100 | Batch 008/030 | Train/Val Loss: 0.29\n",
      "Epoch: 010/100 | Batch 009/030 | Train/Val Loss: 0.38\n",
      "Epoch: 010/100 | Batch 010/030 | Train/Val Loss: 0.34\n",
      "Epoch: 010/100 | Batch 011/030 | Train/Val Loss: 0.46\n",
      "Epoch: 010/100 | Batch 012/030 | Train/Val Loss: 0.44\n",
      "Epoch: 010/100 | Batch 013/030 | Train/Val Loss: 0.53\n",
      "Epoch: 010/100 | Batch 014/030 | Train/Val Loss: 0.38\n",
      "Epoch: 010/100 | Batch 015/030 | Train/Val Loss: 0.49\n",
      "Epoch: 010/100 | Batch 016/030 | Train/Val Loss: 0.35\n",
      "Epoch: 010/100 | Batch 017/030 | Train/Val Loss: 0.58\n",
      "Epoch: 010/100 | Batch 018/030 | Train/Val Loss: 0.49\n",
      "Epoch: 010/100 | Batch 019/030 | Train/Val Loss: 0.45\n",
      "Epoch: 010/100 | Batch 020/030 | Train/Val Loss: 0.46\n",
      "Epoch: 010/100 | Batch 021/030 | Train/Val Loss: 0.23\n",
      "Epoch: 010/100 | Batch 022/030 | Train/Val Loss: 0.42\n",
      "Epoch: 010/100 | Batch 023/030 | Train/Val Loss: 0.34\n",
      "Epoch: 010/100 | Batch 024/030 | Train/Val Loss: 0.28\n",
      "Epoch: 010/100 | Batch 025/030 | Train/Val Loss: 0.45\n",
      "Epoch: 010/100 | Batch 026/030 | Train/Val Loss: 0.29\n",
      "Epoch: 010/100 | Batch 027/030 | Train/Val Loss: 0.47\n",
      "Epoch: 010/100 | Batch 028/030 | Train/Val Loss: 0.39\n",
      "Epoch: 010/100 | Batch 029/030 | Train/Val Loss: 0.49\n",
      "Epoch: 010/100 | Batch 030/030 | Train/Val Loss: 0.33\n"
     ]
    },
    {
     "data": {
      "text/html": [
       "<pre style=\"white-space:pre;overflow-x:auto;line-height:normal;font-family:Menlo,'DejaVu Sans Mono',consolas,'Courier New',monospace\"><span style=\"color: #76ff7b; text-decoration-color: #76ff7b\">Train Acc: </span><span style=\"color: #008080; text-decoration-color: #008080; font-weight: bold\">79.68</span><span style=\"color: #76ff7b; text-decoration-color: #76ff7b\">% | Val Acc: </span><span style=\"color: #008080; text-decoration-color: #008080; font-weight: bold\">80.00</span><span style=\"color: #76ff7b; text-decoration-color: #76ff7b\">%</span>\n",
       "</pre>\n"
      ],
      "text/plain": [
       "\u001b[38;2;118;255;123mTrain Acc: \u001b[0m\u001b[1;36m79.68\u001b[0m\u001b[38;2;118;255;123m% | Val Acc: \u001b[0m\u001b[1;36m80.00\u001b[0m\u001b[38;2;118;255;123m%\u001b[0m\n"
      ]
     },
     "metadata": {},
     "output_type": "display_data"
    },
    {
     "name": "stdout",
     "output_type": "stream",
     "text": [
      "Epoch: 011/100 | Batch 001/030 | Train/Val Loss: 0.56\n",
      "Epoch: 011/100 | Batch 002/030 | Train/Val Loss: 0.42\n",
      "Epoch: 011/100 | Batch 003/030 | Train/Val Loss: 0.34\n",
      "Epoch: 011/100 | Batch 004/030 | Train/Val Loss: 0.37\n",
      "Epoch: 011/100 | Batch 005/030 | Train/Val Loss: 0.63\n",
      "Epoch: 011/100 | Batch 006/030 | Train/Val Loss: 0.39\n",
      "Epoch: 011/100 | Batch 007/030 | Train/Val Loss: 0.61\n",
      "Epoch: 011/100 | Batch 008/030 | Train/Val Loss: 0.56\n",
      "Epoch: 011/100 | Batch 009/030 | Train/Val Loss: 0.37\n",
      "Epoch: 011/100 | Batch 010/030 | Train/Val Loss: 0.43\n",
      "Epoch: 011/100 | Batch 011/030 | Train/Val Loss: 0.50\n",
      "Epoch: 011/100 | Batch 012/030 | Train/Val Loss: 0.33\n",
      "Epoch: 011/100 | Batch 013/030 | Train/Val Loss: 0.60\n",
      "Epoch: 011/100 | Batch 014/030 | Train/Val Loss: 0.46\n",
      "Epoch: 011/100 | Batch 015/030 | Train/Val Loss: 0.45\n",
      "Epoch: 011/100 | Batch 016/030 | Train/Val Loss: 0.33\n",
      "Epoch: 011/100 | Batch 017/030 | Train/Val Loss: 0.43\n",
      "Epoch: 011/100 | Batch 018/030 | Train/Val Loss: 0.48\n",
      "Epoch: 011/100 | Batch 019/030 | Train/Val Loss: 0.48\n",
      "Epoch: 011/100 | Batch 020/030 | Train/Val Loss: 0.42\n",
      "Epoch: 011/100 | Batch 021/030 | Train/Val Loss: 0.39\n",
      "Epoch: 011/100 | Batch 022/030 | Train/Val Loss: 0.39\n",
      "Epoch: 011/100 | Batch 023/030 | Train/Val Loss: 0.39\n",
      "Epoch: 011/100 | Batch 024/030 | Train/Val Loss: 0.59\n",
      "Epoch: 011/100 | Batch 025/030 | Train/Val Loss: 0.42\n",
      "Epoch: 011/100 | Batch 026/030 | Train/Val Loss: 0.38\n",
      "Epoch: 011/100 | Batch 027/030 | Train/Val Loss: 0.43\n",
      "Epoch: 011/100 | Batch 028/030 | Train/Val Loss: 0.28\n",
      "Epoch: 011/100 | Batch 029/030 | Train/Val Loss: 0.39\n",
      "Epoch: 011/100 | Batch 030/030 | Train/Val Loss: 0.38\n"
     ]
    },
    {
     "data": {
      "text/html": [
       "<pre style=\"white-space:pre;overflow-x:auto;line-height:normal;font-family:Menlo,'DejaVu Sans Mono',consolas,'Courier New',monospace\"><span style=\"color: #76ff7b; text-decoration-color: #76ff7b\">Train Acc: </span><span style=\"color: #008080; text-decoration-color: #008080; font-weight: bold\">80.75</span><span style=\"color: #76ff7b; text-decoration-color: #76ff7b\">% | Val Acc: </span><span style=\"color: #008080; text-decoration-color: #008080; font-weight: bold\">84.24</span><span style=\"color: #76ff7b; text-decoration-color: #76ff7b\">%</span>\n",
       "</pre>\n"
      ],
      "text/plain": [
       "\u001b[38;2;118;255;123mTrain Acc: \u001b[0m\u001b[1;36m80.75\u001b[0m\u001b[38;2;118;255;123m% | Val Acc: \u001b[0m\u001b[1;36m84.24\u001b[0m\u001b[38;2;118;255;123m%\u001b[0m\n"
      ]
     },
     "metadata": {},
     "output_type": "display_data"
    },
    {
     "name": "stdout",
     "output_type": "stream",
     "text": [
      "Epoch: 012/100 | Batch 001/030 | Train/Val Loss: 0.38\n",
      "Epoch: 012/100 | Batch 002/030 | Train/Val Loss: 0.41\n",
      "Epoch: 012/100 | Batch 003/030 | Train/Val Loss: 0.29\n",
      "Epoch: 012/100 | Batch 004/030 | Train/Val Loss: 0.45\n",
      "Epoch: 012/100 | Batch 005/030 | Train/Val Loss: 0.68\n",
      "Epoch: 012/100 | Batch 006/030 | Train/Val Loss: 0.36\n",
      "Epoch: 012/100 | Batch 007/030 | Train/Val Loss: 0.67\n",
      "Epoch: 012/100 | Batch 008/030 | Train/Val Loss: 0.59\n",
      "Epoch: 012/100 | Batch 009/030 | Train/Val Loss: 0.37\n",
      "Epoch: 012/100 | Batch 010/030 | Train/Val Loss: 0.52\n",
      "Epoch: 012/100 | Batch 011/030 | Train/Val Loss: 0.38\n",
      "Epoch: 012/100 | Batch 012/030 | Train/Val Loss: 0.41\n",
      "Epoch: 012/100 | Batch 013/030 | Train/Val Loss: 0.42\n",
      "Epoch: 012/100 | Batch 014/030 | Train/Val Loss: 0.42\n",
      "Epoch: 012/100 | Batch 015/030 | Train/Val Loss: 0.44\n",
      "Epoch: 012/100 | Batch 016/030 | Train/Val Loss: 0.69\n",
      "Epoch: 012/100 | Batch 017/030 | Train/Val Loss: 0.40\n",
      "Epoch: 012/100 | Batch 018/030 | Train/Val Loss: 0.37\n",
      "Epoch: 012/100 | Batch 019/030 | Train/Val Loss: 0.37\n",
      "Epoch: 012/100 | Batch 020/030 | Train/Val Loss: 0.42\n",
      "Epoch: 012/100 | Batch 021/030 | Train/Val Loss: 0.25\n",
      "Epoch: 012/100 | Batch 022/030 | Train/Val Loss: 0.41\n",
      "Epoch: 012/100 | Batch 023/030 | Train/Val Loss: 0.26\n",
      "Epoch: 012/100 | Batch 024/030 | Train/Val Loss: 0.35\n",
      "Epoch: 012/100 | Batch 025/030 | Train/Val Loss: 0.50\n",
      "Epoch: 012/100 | Batch 026/030 | Train/Val Loss: 0.48\n",
      "Epoch: 012/100 | Batch 027/030 | Train/Val Loss: 0.54\n",
      "Epoch: 012/100 | Batch 028/030 | Train/Val Loss: 0.40\n",
      "Epoch: 012/100 | Batch 029/030 | Train/Val Loss: 0.36\n",
      "Epoch: 012/100 | Batch 030/030 | Train/Val Loss: 0.35\n"
     ]
    },
    {
     "data": {
      "text/html": [
       "<pre style=\"white-space:pre;overflow-x:auto;line-height:normal;font-family:Menlo,'DejaVu Sans Mono',consolas,'Courier New',monospace\"><span style=\"color: #76ff7b; text-decoration-color: #76ff7b\">Train Acc: </span><span style=\"color: #008080; text-decoration-color: #008080; font-weight: bold\">82.03</span><span style=\"color: #76ff7b; text-decoration-color: #76ff7b\">% | Val Acc: </span><span style=\"color: #008080; text-decoration-color: #008080; font-weight: bold\">82.42</span><span style=\"color: #76ff7b; text-decoration-color: #76ff7b\">%</span>\n",
       "</pre>\n"
      ],
      "text/plain": [
       "\u001b[38;2;118;255;123mTrain Acc: \u001b[0m\u001b[1;36m82.03\u001b[0m\u001b[38;2;118;255;123m% | Val Acc: \u001b[0m\u001b[1;36m82.42\u001b[0m\u001b[38;2;118;255;123m%\u001b[0m\n"
      ]
     },
     "metadata": {},
     "output_type": "display_data"
    },
    {
     "name": "stdout",
     "output_type": "stream",
     "text": [
      "Epoch: 013/100 | Batch 001/030 | Train/Val Loss: 0.34\n",
      "Epoch: 013/100 | Batch 002/030 | Train/Val Loss: 0.27\n",
      "Epoch: 013/100 | Batch 003/030 | Train/Val Loss: 0.31\n",
      "Epoch: 013/100 | Batch 004/030 | Train/Val Loss: 0.53\n",
      "Epoch: 013/100 | Batch 005/030 | Train/Val Loss: 0.31\n",
      "Epoch: 013/100 | Batch 006/030 | Train/Val Loss: 0.30\n",
      "Epoch: 013/100 | Batch 007/030 | Train/Val Loss: 0.48\n",
      "Epoch: 013/100 | Batch 008/030 | Train/Val Loss: 0.36\n",
      "Epoch: 013/100 | Batch 009/030 | Train/Val Loss: 0.32\n",
      "Epoch: 013/100 | Batch 010/030 | Train/Val Loss: 0.50\n",
      "Epoch: 013/100 | Batch 011/030 | Train/Val Loss: 0.40\n",
      "Epoch: 013/100 | Batch 012/030 | Train/Val Loss: 0.54\n",
      "Epoch: 013/100 | Batch 013/030 | Train/Val Loss: 0.44\n",
      "Epoch: 013/100 | Batch 014/030 | Train/Val Loss: 0.32\n",
      "Epoch: 013/100 | Batch 015/030 | Train/Val Loss: 0.36\n",
      "Epoch: 013/100 | Batch 016/030 | Train/Val Loss: 0.42\n",
      "Epoch: 013/100 | Batch 017/030 | Train/Val Loss: 0.46\n",
      "Epoch: 013/100 | Batch 018/030 | Train/Val Loss: 0.36\n",
      "Epoch: 013/100 | Batch 019/030 | Train/Val Loss: 0.39\n",
      "Epoch: 013/100 | Batch 020/030 | Train/Val Loss: 0.46\n",
      "Epoch: 013/100 | Batch 021/030 | Train/Val Loss: 0.54\n",
      "Epoch: 013/100 | Batch 022/030 | Train/Val Loss: 0.38\n",
      "Epoch: 013/100 | Batch 023/030 | Train/Val Loss: 0.29\n",
      "Epoch: 013/100 | Batch 024/030 | Train/Val Loss: 0.40\n",
      "Epoch: 013/100 | Batch 025/030 | Train/Val Loss: 0.52\n",
      "Epoch: 013/100 | Batch 026/030 | Train/Val Loss: 0.46\n",
      "Epoch: 013/100 | Batch 027/030 | Train/Val Loss: 0.46\n",
      "Epoch: 013/100 | Batch 028/030 | Train/Val Loss: 0.59\n",
      "Epoch: 013/100 | Batch 029/030 | Train/Val Loss: 0.55\n",
      "Epoch: 013/100 | Batch 030/030 | Train/Val Loss: 0.35\n"
     ]
    },
    {
     "data": {
      "text/html": [
       "<pre style=\"white-space:pre;overflow-x:auto;line-height:normal;font-family:Menlo,'DejaVu Sans Mono',consolas,'Courier New',monospace\"><span style=\"color: #76ff7b; text-decoration-color: #76ff7b\">Train Acc: </span><span style=\"color: #008080; text-decoration-color: #008080; font-weight: bold\">82.46</span><span style=\"color: #76ff7b; text-decoration-color: #76ff7b\">% | Val Acc: </span><span style=\"color: #008080; text-decoration-color: #008080; font-weight: bold\">83.64</span><span style=\"color: #76ff7b; text-decoration-color: #76ff7b\">%</span>\n",
       "</pre>\n"
      ],
      "text/plain": [
       "\u001b[38;2;118;255;123mTrain Acc: \u001b[0m\u001b[1;36m82.46\u001b[0m\u001b[38;2;118;255;123m% | Val Acc: \u001b[0m\u001b[1;36m83.64\u001b[0m\u001b[38;2;118;255;123m%\u001b[0m\n"
      ]
     },
     "metadata": {},
     "output_type": "display_data"
    },
    {
     "name": "stdout",
     "output_type": "stream",
     "text": [
      "Epoch: 014/100 | Batch 001/030 | Train/Val Loss: 0.31\n",
      "Epoch: 014/100 | Batch 002/030 | Train/Val Loss: 0.34\n",
      "Epoch: 014/100 | Batch 003/030 | Train/Val Loss: 0.35\n",
      "Epoch: 014/100 | Batch 004/030 | Train/Val Loss: 0.45\n",
      "Epoch: 014/100 | Batch 005/030 | Train/Val Loss: 0.35\n",
      "Epoch: 014/100 | Batch 006/030 | Train/Val Loss: 0.32\n",
      "Epoch: 014/100 | Batch 007/030 | Train/Val Loss: 0.46\n",
      "Epoch: 014/100 | Batch 008/030 | Train/Val Loss: 0.55\n",
      "Epoch: 014/100 | Batch 009/030 | Train/Val Loss: 0.21\n",
      "Epoch: 014/100 | Batch 010/030 | Train/Val Loss: 0.51\n",
      "Epoch: 014/100 | Batch 011/030 | Train/Val Loss: 0.47\n",
      "Epoch: 014/100 | Batch 012/030 | Train/Val Loss: 0.57\n",
      "Epoch: 014/100 | Batch 013/030 | Train/Val Loss: 0.31\n",
      "Epoch: 014/100 | Batch 014/030 | Train/Val Loss: 0.40\n",
      "Epoch: 014/100 | Batch 015/030 | Train/Val Loss: 0.34\n",
      "Epoch: 014/100 | Batch 016/030 | Train/Val Loss: 0.43\n",
      "Epoch: 014/100 | Batch 017/030 | Train/Val Loss: 0.40\n",
      "Epoch: 014/100 | Batch 018/030 | Train/Val Loss: 0.30\n",
      "Epoch: 014/100 | Batch 019/030 | Train/Val Loss: 0.37\n",
      "Epoch: 014/100 | Batch 020/030 | Train/Val Loss: 0.36\n",
      "Epoch: 014/100 | Batch 021/030 | Train/Val Loss: 0.65\n",
      "Epoch: 014/100 | Batch 022/030 | Train/Val Loss: 0.23\n",
      "Epoch: 014/100 | Batch 023/030 | Train/Val Loss: 0.54\n",
      "Epoch: 014/100 | Batch 024/030 | Train/Val Loss: 0.40\n",
      "Epoch: 014/100 | Batch 025/030 | Train/Val Loss: 0.52\n",
      "Epoch: 014/100 | Batch 026/030 | Train/Val Loss: 0.50\n",
      "Epoch: 014/100 | Batch 027/030 | Train/Val Loss: 0.36\n",
      "Epoch: 014/100 | Batch 028/030 | Train/Val Loss: 0.53\n",
      "Epoch: 014/100 | Batch 029/030 | Train/Val Loss: 0.53\n",
      "Epoch: 014/100 | Batch 030/030 | Train/Val Loss: 0.24\n"
     ]
    },
    {
     "data": {
      "text/html": [
       "<pre style=\"white-space:pre;overflow-x:auto;line-height:normal;font-family:Menlo,'DejaVu Sans Mono',consolas,'Courier New',monospace\"><span style=\"color: #76ff7b; text-decoration-color: #76ff7b\">Train Acc: </span><span style=\"color: #008080; text-decoration-color: #008080; font-weight: bold\">82.03</span><span style=\"color: #76ff7b; text-decoration-color: #76ff7b\">% | Val Acc: </span><span style=\"color: #008080; text-decoration-color: #008080; font-weight: bold\">84.24</span><span style=\"color: #76ff7b; text-decoration-color: #76ff7b\">%</span>\n",
       "</pre>\n"
      ],
      "text/plain": [
       "\u001b[38;2;118;255;123mTrain Acc: \u001b[0m\u001b[1;36m82.03\u001b[0m\u001b[38;2;118;255;123m% | Val Acc: \u001b[0m\u001b[1;36m84.24\u001b[0m\u001b[38;2;118;255;123m%\u001b[0m\n"
      ]
     },
     "metadata": {},
     "output_type": "display_data"
    },
    {
     "name": "stdout",
     "output_type": "stream",
     "text": [
      "Epoch: 015/100 | Batch 001/030 | Train/Val Loss: 0.33\n",
      "Epoch: 015/100 | Batch 002/030 | Train/Val Loss: 0.42\n",
      "Epoch: 015/100 | Batch 003/030 | Train/Val Loss: 0.30\n",
      "Epoch: 015/100 | Batch 004/030 | Train/Val Loss: 0.52\n",
      "Epoch: 015/100 | Batch 005/030 | Train/Val Loss: 0.22\n",
      "Epoch: 015/100 | Batch 006/030 | Train/Val Loss: 0.52\n",
      "Epoch: 015/100 | Batch 007/030 | Train/Val Loss: 0.36\n",
      "Epoch: 015/100 | Batch 008/030 | Train/Val Loss: 0.32\n",
      "Epoch: 015/100 | Batch 009/030 | Train/Val Loss: 0.43\n",
      "Epoch: 015/100 | Batch 010/030 | Train/Val Loss: 0.33\n",
      "Epoch: 015/100 | Batch 011/030 | Train/Val Loss: 0.47\n",
      "Epoch: 015/100 | Batch 012/030 | Train/Val Loss: 0.24\n",
      "Epoch: 015/100 | Batch 013/030 | Train/Val Loss: 0.29\n",
      "Epoch: 015/100 | Batch 014/030 | Train/Val Loss: 0.40\n",
      "Epoch: 015/100 | Batch 015/030 | Train/Val Loss: 0.40\n",
      "Epoch: 015/100 | Batch 016/030 | Train/Val Loss: 0.36\n",
      "Epoch: 015/100 | Batch 017/030 | Train/Val Loss: 0.39\n",
      "Epoch: 015/100 | Batch 018/030 | Train/Val Loss: 0.35\n",
      "Epoch: 015/100 | Batch 019/030 | Train/Val Loss: 0.67\n",
      "Epoch: 015/100 | Batch 020/030 | Train/Val Loss: 0.31\n",
      "Epoch: 015/100 | Batch 021/030 | Train/Val Loss: 0.56\n",
      "Epoch: 015/100 | Batch 022/030 | Train/Val Loss: 0.50\n",
      "Epoch: 015/100 | Batch 023/030 | Train/Val Loss: 0.42\n",
      "Epoch: 015/100 | Batch 024/030 | Train/Val Loss: 0.34\n",
      "Epoch: 015/100 | Batch 025/030 | Train/Val Loss: 0.41\n",
      "Epoch: 015/100 | Batch 026/030 | Train/Val Loss: 0.46\n",
      "Epoch: 015/100 | Batch 027/030 | Train/Val Loss: 0.35\n",
      "Epoch: 015/100 | Batch 028/030 | Train/Val Loss: 0.67\n",
      "Epoch: 015/100 | Batch 029/030 | Train/Val Loss: 0.48\n",
      "Epoch: 015/100 | Batch 030/030 | Train/Val Loss: 0.69\n"
     ]
    },
    {
     "data": {
      "text/html": [
       "<pre style=\"white-space:pre;overflow-x:auto;line-height:normal;font-family:Menlo,'DejaVu Sans Mono',consolas,'Courier New',monospace\"><span style=\"color: #76ff7b; text-decoration-color: #76ff7b\">Train Acc: </span><span style=\"color: #008080; text-decoration-color: #008080; font-weight: bold\">76.58</span><span style=\"color: #76ff7b; text-decoration-color: #76ff7b\">% | Val Acc: </span><span style=\"color: #008080; text-decoration-color: #008080; font-weight: bold\">73.94</span><span style=\"color: #76ff7b; text-decoration-color: #76ff7b\">%</span>\n",
       "</pre>\n"
      ],
      "text/plain": [
       "\u001b[38;2;118;255;123mTrain Acc: \u001b[0m\u001b[1;36m76.58\u001b[0m\u001b[38;2;118;255;123m% | Val Acc: \u001b[0m\u001b[1;36m73.94\u001b[0m\u001b[38;2;118;255;123m%\u001b[0m\n"
      ]
     },
     "metadata": {},
     "output_type": "display_data"
    },
    {
     "name": "stdout",
     "output_type": "stream",
     "text": [
      "Epoch: 016/100 | Batch 001/030 | Train/Val Loss: 0.59\n",
      "Epoch: 016/100 | Batch 002/030 | Train/Val Loss: 0.43\n",
      "Epoch: 016/100 | Batch 003/030 | Train/Val Loss: 0.39\n",
      "Epoch: 016/100 | Batch 004/030 | Train/Val Loss: 0.43\n",
      "Epoch: 016/100 | Batch 005/030 | Train/Val Loss: 0.39\n",
      "Epoch: 016/100 | Batch 006/030 | Train/Val Loss: 0.41\n",
      "Epoch: 016/100 | Batch 007/030 | Train/Val Loss: 0.50\n",
      "Epoch: 016/100 | Batch 008/030 | Train/Val Loss: 0.56\n",
      "Epoch: 016/100 | Batch 009/030 | Train/Val Loss: 0.29\n",
      "Epoch: 016/100 | Batch 010/030 | Train/Val Loss: 0.43\n",
      "Epoch: 016/100 | Batch 011/030 | Train/Val Loss: 0.47\n",
      "Epoch: 016/100 | Batch 012/030 | Train/Val Loss: 0.33\n",
      "Epoch: 016/100 | Batch 013/030 | Train/Val Loss: 0.50\n",
      "Epoch: 016/100 | Batch 014/030 | Train/Val Loss: 0.50\n",
      "Epoch: 016/100 | Batch 015/030 | Train/Val Loss: 0.31\n",
      "Epoch: 016/100 | Batch 016/030 | Train/Val Loss: 0.47\n",
      "Epoch: 016/100 | Batch 017/030 | Train/Val Loss: 0.49\n",
      "Epoch: 016/100 | Batch 018/030 | Train/Val Loss: 0.45\n",
      "Epoch: 016/100 | Batch 019/030 | Train/Val Loss: 0.37\n",
      "Epoch: 016/100 | Batch 020/030 | Train/Val Loss: 0.47\n",
      "Epoch: 016/100 | Batch 021/030 | Train/Val Loss: 0.30\n",
      "Epoch: 016/100 | Batch 022/030 | Train/Val Loss: 0.47\n",
      "Epoch: 016/100 | Batch 023/030 | Train/Val Loss: 0.38\n",
      "Epoch: 016/100 | Batch 024/030 | Train/Val Loss: 0.71\n",
      "Epoch: 016/100 | Batch 025/030 | Train/Val Loss: 0.44\n",
      "Epoch: 016/100 | Batch 026/030 | Train/Val Loss: 0.42\n",
      "Epoch: 016/100 | Batch 027/030 | Train/Val Loss: 0.68\n",
      "Epoch: 016/100 | Batch 028/030 | Train/Val Loss: 0.31\n",
      "Epoch: 016/100 | Batch 029/030 | Train/Val Loss: 0.31\n",
      "Epoch: 016/100 | Batch 030/030 | Train/Val Loss: 0.21\n"
     ]
    },
    {
     "data": {
      "text/html": [
       "<pre style=\"white-space:pre;overflow-x:auto;line-height:normal;font-family:Menlo,'DejaVu Sans Mono',consolas,'Courier New',monospace\"><span style=\"color: #76ff7b; text-decoration-color: #76ff7b\">Train Acc: </span><span style=\"color: #008080; text-decoration-color: #008080; font-weight: bold\">82.57</span><span style=\"color: #76ff7b; text-decoration-color: #76ff7b\">% | Val Acc: </span><span style=\"color: #008080; text-decoration-color: #008080; font-weight: bold\">83.64</span><span style=\"color: #76ff7b; text-decoration-color: #76ff7b\">%</span>\n",
       "</pre>\n"
      ],
      "text/plain": [
       "\u001b[38;2;118;255;123mTrain Acc: \u001b[0m\u001b[1;36m82.57\u001b[0m\u001b[38;2;118;255;123m% | Val Acc: \u001b[0m\u001b[1;36m83.64\u001b[0m\u001b[38;2;118;255;123m%\u001b[0m\n"
      ]
     },
     "metadata": {},
     "output_type": "display_data"
    },
    {
     "name": "stdout",
     "output_type": "stream",
     "text": [
      "Epoch: 017/100 | Batch 001/030 | Train/Val Loss: 0.33\n",
      "Epoch: 017/100 | Batch 002/030 | Train/Val Loss: 0.45\n",
      "Epoch: 017/100 | Batch 003/030 | Train/Val Loss: 0.37\n",
      "Epoch: 017/100 | Batch 004/030 | Train/Val Loss: 0.38\n",
      "Epoch: 017/100 | Batch 005/030 | Train/Val Loss: 0.52\n",
      "Epoch: 017/100 | Batch 006/030 | Train/Val Loss: 0.43\n",
      "Epoch: 017/100 | Batch 007/030 | Train/Val Loss: 0.44\n",
      "Epoch: 017/100 | Batch 008/030 | Train/Val Loss: 0.47\n",
      "Epoch: 017/100 | Batch 009/030 | Train/Val Loss: 0.68\n",
      "Epoch: 017/100 | Batch 010/030 | Train/Val Loss: 0.31\n",
      "Epoch: 017/100 | Batch 011/030 | Train/Val Loss: 0.41\n",
      "Epoch: 017/100 | Batch 012/030 | Train/Val Loss: 0.41\n",
      "Epoch: 017/100 | Batch 013/030 | Train/Val Loss: 0.44\n",
      "Epoch: 017/100 | Batch 014/030 | Train/Val Loss: 0.40\n",
      "Epoch: 017/100 | Batch 015/030 | Train/Val Loss: 0.38\n",
      "Epoch: 017/100 | Batch 016/030 | Train/Val Loss: 0.37\n",
      "Epoch: 017/100 | Batch 017/030 | Train/Val Loss: 0.32\n",
      "Epoch: 017/100 | Batch 018/030 | Train/Val Loss: 0.39\n",
      "Epoch: 017/100 | Batch 019/030 | Train/Val Loss: 0.33\n",
      "Epoch: 017/100 | Batch 020/030 | Train/Val Loss: 0.27\n",
      "Epoch: 017/100 | Batch 021/030 | Train/Val Loss: 0.36\n",
      "Epoch: 017/100 | Batch 022/030 | Train/Val Loss: 0.40\n",
      "Epoch: 017/100 | Batch 023/030 | Train/Val Loss: 0.47\n",
      "Epoch: 017/100 | Batch 024/030 | Train/Val Loss: 0.41\n",
      "Epoch: 017/100 | Batch 025/030 | Train/Val Loss: 0.54\n",
      "Epoch: 017/100 | Batch 026/030 | Train/Val Loss: 0.53\n",
      "Epoch: 017/100 | Batch 027/030 | Train/Val Loss: 0.45\n",
      "Epoch: 017/100 | Batch 028/030 | Train/Val Loss: 0.47\n",
      "Epoch: 017/100 | Batch 029/030 | Train/Val Loss: 0.34\n",
      "Epoch: 017/100 | Batch 030/030 | Train/Val Loss: 0.72\n"
     ]
    },
    {
     "data": {
      "text/html": [
       "<pre style=\"white-space:pre;overflow-x:auto;line-height:normal;font-family:Menlo,'DejaVu Sans Mono',consolas,'Courier New',monospace\"><span style=\"color: #76ff7b; text-decoration-color: #76ff7b\">Train Acc: </span><span style=\"color: #008080; text-decoration-color: #008080; font-weight: bold\">82.89</span><span style=\"color: #76ff7b; text-decoration-color: #76ff7b\">% | Val Acc: </span><span style=\"color: #008080; text-decoration-color: #008080; font-weight: bold\">84.24</span><span style=\"color: #76ff7b; text-decoration-color: #76ff7b\">%</span>\n",
       "</pre>\n"
      ],
      "text/plain": [
       "\u001b[38;2;118;255;123mTrain Acc: \u001b[0m\u001b[1;36m82.89\u001b[0m\u001b[38;2;118;255;123m% | Val Acc: \u001b[0m\u001b[1;36m84.24\u001b[0m\u001b[38;2;118;255;123m%\u001b[0m\n"
      ]
     },
     "metadata": {},
     "output_type": "display_data"
    },
    {
     "name": "stdout",
     "output_type": "stream",
     "text": [
      "Epoch: 018/100 | Batch 001/030 | Train/Val Loss: 0.36\n",
      "Epoch: 018/100 | Batch 002/030 | Train/Val Loss: 0.23\n",
      "Epoch: 018/100 | Batch 003/030 | Train/Val Loss: 0.38\n",
      "Epoch: 018/100 | Batch 004/030 | Train/Val Loss: 0.45\n",
      "Epoch: 018/100 | Batch 005/030 | Train/Val Loss: 0.45\n",
      "Epoch: 018/100 | Batch 006/030 | Train/Val Loss: 0.46\n",
      "Epoch: 018/100 | Batch 007/030 | Train/Val Loss: 0.41\n",
      "Epoch: 018/100 | Batch 008/030 | Train/Val Loss: 0.38\n",
      "Epoch: 018/100 | Batch 009/030 | Train/Val Loss: 0.39\n",
      "Epoch: 018/100 | Batch 010/030 | Train/Val Loss: 0.45\n",
      "Epoch: 018/100 | Batch 011/030 | Train/Val Loss: 0.24\n",
      "Epoch: 018/100 | Batch 012/030 | Train/Val Loss: 0.48\n",
      "Epoch: 018/100 | Batch 013/030 | Train/Val Loss: 0.29\n",
      "Epoch: 018/100 | Batch 014/030 | Train/Val Loss: 0.35\n",
      "Epoch: 018/100 | Batch 015/030 | Train/Val Loss: 0.55\n",
      "Epoch: 018/100 | Batch 016/030 | Train/Val Loss: 0.44\n",
      "Epoch: 018/100 | Batch 017/030 | Train/Val Loss: 0.48\n",
      "Epoch: 018/100 | Batch 018/030 | Train/Val Loss: 0.42\n",
      "Epoch: 018/100 | Batch 019/030 | Train/Val Loss: 0.31\n",
      "Epoch: 018/100 | Batch 020/030 | Train/Val Loss: 0.40\n",
      "Epoch: 018/100 | Batch 021/030 | Train/Val Loss: 0.55\n",
      "Epoch: 018/100 | Batch 022/030 | Train/Val Loss: 0.51\n",
      "Epoch: 018/100 | Batch 023/030 | Train/Val Loss: 0.45\n",
      "Epoch: 018/100 | Batch 024/030 | Train/Val Loss: 0.51\n",
      "Epoch: 018/100 | Batch 025/030 | Train/Val Loss: 0.56\n",
      "Epoch: 018/100 | Batch 026/030 | Train/Val Loss: 0.44\n",
      "Epoch: 018/100 | Batch 027/030 | Train/Val Loss: 0.35\n",
      "Epoch: 018/100 | Batch 028/030 | Train/Val Loss: 0.34\n",
      "Epoch: 018/100 | Batch 029/030 | Train/Val Loss: 0.29\n",
      "Epoch: 018/100 | Batch 030/030 | Train/Val Loss: 0.45\n"
     ]
    },
    {
     "data": {
      "text/html": [
       "<pre style=\"white-space:pre;overflow-x:auto;line-height:normal;font-family:Menlo,'DejaVu Sans Mono',consolas,'Courier New',monospace\"><span style=\"color: #76ff7b; text-decoration-color: #76ff7b\">Train Acc: </span><span style=\"color: #008080; text-decoration-color: #008080; font-weight: bold\">82.78</span><span style=\"color: #76ff7b; text-decoration-color: #76ff7b\">% | Val Acc: </span><span style=\"color: #008080; text-decoration-color: #008080; font-weight: bold\">81.21</span><span style=\"color: #76ff7b; text-decoration-color: #76ff7b\">%</span>\n",
       "</pre>\n"
      ],
      "text/plain": [
       "\u001b[38;2;118;255;123mTrain Acc: \u001b[0m\u001b[1;36m82.78\u001b[0m\u001b[38;2;118;255;123m% | Val Acc: \u001b[0m\u001b[1;36m81.21\u001b[0m\u001b[38;2;118;255;123m%\u001b[0m\n"
      ]
     },
     "metadata": {},
     "output_type": "display_data"
    },
    {
     "name": "stdout",
     "output_type": "stream",
     "text": [
      "Epoch: 019/100 | Batch 001/030 | Train/Val Loss: 0.58\n",
      "Epoch: 019/100 | Batch 002/030 | Train/Val Loss: 0.30\n",
      "Epoch: 019/100 | Batch 003/030 | Train/Val Loss: 0.41\n",
      "Epoch: 019/100 | Batch 004/030 | Train/Val Loss: 0.52\n",
      "Epoch: 019/100 | Batch 005/030 | Train/Val Loss: 0.41\n",
      "Epoch: 019/100 | Batch 006/030 | Train/Val Loss: 0.42\n",
      "Epoch: 019/100 | Batch 007/030 | Train/Val Loss: 0.34\n",
      "Epoch: 019/100 | Batch 008/030 | Train/Val Loss: 0.51\n",
      "Epoch: 019/100 | Batch 009/030 | Train/Val Loss: 0.43\n",
      "Epoch: 019/100 | Batch 010/030 | Train/Val Loss: 0.32\n",
      "Epoch: 019/100 | Batch 011/030 | Train/Val Loss: 0.52\n",
      "Epoch: 019/100 | Batch 012/030 | Train/Val Loss: 0.38\n",
      "Epoch: 019/100 | Batch 013/030 | Train/Val Loss: 0.38\n",
      "Epoch: 019/100 | Batch 014/030 | Train/Val Loss: 0.39\n",
      "Epoch: 019/100 | Batch 015/030 | Train/Val Loss: 0.34\n",
      "Epoch: 019/100 | Batch 016/030 | Train/Val Loss: 0.38\n",
      "Epoch: 019/100 | Batch 017/030 | Train/Val Loss: 0.15\n",
      "Epoch: 019/100 | Batch 018/030 | Train/Val Loss: 0.41\n",
      "Epoch: 019/100 | Batch 019/030 | Train/Val Loss: 0.28\n",
      "Epoch: 019/100 | Batch 020/030 | Train/Val Loss: 0.24\n",
      "Epoch: 019/100 | Batch 021/030 | Train/Val Loss: 0.42\n",
      "Epoch: 019/100 | Batch 022/030 | Train/Val Loss: 0.39\n",
      "Epoch: 019/100 | Batch 023/030 | Train/Val Loss: 0.26\n",
      "Epoch: 019/100 | Batch 024/030 | Train/Val Loss: 0.49\n",
      "Epoch: 019/100 | Batch 025/030 | Train/Val Loss: 0.49\n",
      "Epoch: 019/100 | Batch 026/030 | Train/Val Loss: 0.61\n",
      "Epoch: 019/100 | Batch 027/030 | Train/Val Loss: 0.43\n",
      "Epoch: 019/100 | Batch 028/030 | Train/Val Loss: 0.24\n",
      "Epoch: 019/100 | Batch 029/030 | Train/Val Loss: 0.63\n",
      "Epoch: 019/100 | Batch 030/030 | Train/Val Loss: 0.49\n"
     ]
    },
    {
     "data": {
      "text/html": [
       "<pre style=\"white-space:pre;overflow-x:auto;line-height:normal;font-family:Menlo,'DejaVu Sans Mono',consolas,'Courier New',monospace\"><span style=\"color: #76ff7b; text-decoration-color: #76ff7b\">Train Acc: </span><span style=\"color: #008080; text-decoration-color: #008080; font-weight: bold\">83.42</span><span style=\"color: #76ff7b; text-decoration-color: #76ff7b\">% | Val Acc: </span><span style=\"color: #008080; text-decoration-color: #008080; font-weight: bold\">83.64</span><span style=\"color: #76ff7b; text-decoration-color: #76ff7b\">%</span>\n",
       "</pre>\n"
      ],
      "text/plain": [
       "\u001b[38;2;118;255;123mTrain Acc: \u001b[0m\u001b[1;36m83.42\u001b[0m\u001b[38;2;118;255;123m% | Val Acc: \u001b[0m\u001b[1;36m83.64\u001b[0m\u001b[38;2;118;255;123m%\u001b[0m\n"
      ]
     },
     "metadata": {},
     "output_type": "display_data"
    },
    {
     "name": "stdout",
     "output_type": "stream",
     "text": [
      "Epoch: 020/100 | Batch 001/030 | Train/Val Loss: 0.32\n",
      "Epoch: 020/100 | Batch 002/030 | Train/Val Loss: 0.36\n",
      "Epoch: 020/100 | Batch 003/030 | Train/Val Loss: 0.64\n",
      "Epoch: 020/100 | Batch 004/030 | Train/Val Loss: 0.21\n",
      "Epoch: 020/100 | Batch 005/030 | Train/Val Loss: 0.32\n",
      "Epoch: 020/100 | Batch 006/030 | Train/Val Loss: 0.23\n",
      "Epoch: 020/100 | Batch 007/030 | Train/Val Loss: 0.50\n",
      "Epoch: 020/100 | Batch 008/030 | Train/Val Loss: 0.23\n",
      "Epoch: 020/100 | Batch 009/030 | Train/Val Loss: 0.60\n",
      "Epoch: 020/100 | Batch 010/030 | Train/Val Loss: 0.36\n",
      "Epoch: 020/100 | Batch 011/030 | Train/Val Loss: 0.47\n",
      "Epoch: 020/100 | Batch 012/030 | Train/Val Loss: 0.37\n",
      "Epoch: 020/100 | Batch 013/030 | Train/Val Loss: 0.49\n",
      "Epoch: 020/100 | Batch 014/030 | Train/Val Loss: 0.61\n",
      "Epoch: 020/100 | Batch 015/030 | Train/Val Loss: 0.38\n",
      "Epoch: 020/100 | Batch 016/030 | Train/Val Loss: 0.43\n",
      "Epoch: 020/100 | Batch 017/030 | Train/Val Loss: 0.50\n",
      "Epoch: 020/100 | Batch 018/030 | Train/Val Loss: 0.39\n",
      "Epoch: 020/100 | Batch 019/030 | Train/Val Loss: 0.30\n",
      "Epoch: 020/100 | Batch 020/030 | Train/Val Loss: 0.43\n",
      "Epoch: 020/100 | Batch 021/030 | Train/Val Loss: 0.47\n",
      "Epoch: 020/100 | Batch 022/030 | Train/Val Loss: 0.36\n",
      "Epoch: 020/100 | Batch 023/030 | Train/Val Loss: 0.29\n",
      "Epoch: 020/100 | Batch 024/030 | Train/Val Loss: 0.37\n",
      "Epoch: 020/100 | Batch 025/030 | Train/Val Loss: 0.47\n",
      "Epoch: 020/100 | Batch 026/030 | Train/Val Loss: 0.39\n",
      "Epoch: 020/100 | Batch 027/030 | Train/Val Loss: 0.43\n",
      "Epoch: 020/100 | Batch 028/030 | Train/Val Loss: 0.40\n",
      "Epoch: 020/100 | Batch 029/030 | Train/Val Loss: 0.37\n",
      "Epoch: 020/100 | Batch 030/030 | Train/Val Loss: 0.38\n"
     ]
    },
    {
     "data": {
      "text/html": [
       "<pre style=\"white-space:pre;overflow-x:auto;line-height:normal;font-family:Menlo,'DejaVu Sans Mono',consolas,'Courier New',monospace\"><span style=\"color: #76ff7b; text-decoration-color: #76ff7b\">Train Acc: </span><span style=\"color: #008080; text-decoration-color: #008080; font-weight: bold\">82.57</span><span style=\"color: #76ff7b; text-decoration-color: #76ff7b\">% | Val Acc: </span><span style=\"color: #008080; text-decoration-color: #008080; font-weight: bold\">83.03</span><span style=\"color: #76ff7b; text-decoration-color: #76ff7b\">%</span>\n",
       "</pre>\n"
      ],
      "text/plain": [
       "\u001b[38;2;118;255;123mTrain Acc: \u001b[0m\u001b[1;36m82.57\u001b[0m\u001b[38;2;118;255;123m% | Val Acc: \u001b[0m\u001b[1;36m83.03\u001b[0m\u001b[38;2;118;255;123m%\u001b[0m\n"
      ]
     },
     "metadata": {},
     "output_type": "display_data"
    },
    {
     "name": "stdout",
     "output_type": "stream",
     "text": [
      "Epoch: 021/100 | Batch 001/030 | Train/Val Loss: 0.29\n",
      "Epoch: 021/100 | Batch 002/030 | Train/Val Loss: 0.47\n",
      "Epoch: 021/100 | Batch 003/030 | Train/Val Loss: 0.26\n",
      "Epoch: 021/100 | Batch 004/030 | Train/Val Loss: 0.46\n",
      "Epoch: 021/100 | Batch 005/030 | Train/Val Loss: 0.45\n",
      "Epoch: 021/100 | Batch 006/030 | Train/Val Loss: 0.46\n",
      "Epoch: 021/100 | Batch 007/030 | Train/Val Loss: 0.25\n",
      "Epoch: 021/100 | Batch 008/030 | Train/Val Loss: 0.38\n",
      "Epoch: 021/100 | Batch 009/030 | Train/Val Loss: 0.32\n",
      "Epoch: 021/100 | Batch 010/030 | Train/Val Loss: 0.34\n",
      "Epoch: 021/100 | Batch 011/030 | Train/Val Loss: 0.23\n",
      "Epoch: 021/100 | Batch 012/030 | Train/Val Loss: 0.48\n",
      "Epoch: 021/100 | Batch 013/030 | Train/Val Loss: 0.39\n",
      "Epoch: 021/100 | Batch 014/030 | Train/Val Loss: 0.50\n",
      "Epoch: 021/100 | Batch 015/030 | Train/Val Loss: 0.39\n",
      "Epoch: 021/100 | Batch 016/030 | Train/Val Loss: 0.53\n",
      "Epoch: 021/100 | Batch 017/030 | Train/Val Loss: 0.48\n",
      "Epoch: 021/100 | Batch 018/030 | Train/Val Loss: 0.54\n",
      "Epoch: 021/100 | Batch 019/030 | Train/Val Loss: 0.31\n",
      "Epoch: 021/100 | Batch 020/030 | Train/Val Loss: 0.35\n",
      "Epoch: 021/100 | Batch 021/030 | Train/Val Loss: 0.25\n",
      "Epoch: 021/100 | Batch 022/030 | Train/Val Loss: 0.31\n",
      "Epoch: 021/100 | Batch 023/030 | Train/Val Loss: 0.35\n",
      "Epoch: 021/100 | Batch 024/030 | Train/Val Loss: 0.54\n",
      "Epoch: 021/100 | Batch 025/030 | Train/Val Loss: 0.36\n",
      "Epoch: 021/100 | Batch 026/030 | Train/Val Loss: 0.50\n",
      "Epoch: 021/100 | Batch 027/030 | Train/Val Loss: 0.62\n",
      "Epoch: 021/100 | Batch 028/030 | Train/Val Loss: 0.40\n",
      "Epoch: 021/100 | Batch 029/030 | Train/Val Loss: 0.44\n",
      "Epoch: 021/100 | Batch 030/030 | Train/Val Loss: 0.22\n"
     ]
    },
    {
     "data": {
      "text/html": [
       "<pre style=\"white-space:pre;overflow-x:auto;line-height:normal;font-family:Menlo,'DejaVu Sans Mono',consolas,'Courier New',monospace\"><span style=\"color: #76ff7b; text-decoration-color: #76ff7b\">Train Acc: </span><span style=\"color: #008080; text-decoration-color: #008080; font-weight: bold\">82.46</span><span style=\"color: #76ff7b; text-decoration-color: #76ff7b\">% | Val Acc: </span><span style=\"color: #008080; text-decoration-color: #008080; font-weight: bold\">83.03</span><span style=\"color: #76ff7b; text-decoration-color: #76ff7b\">%</span>\n",
       "</pre>\n"
      ],
      "text/plain": [
       "\u001b[38;2;118;255;123mTrain Acc: \u001b[0m\u001b[1;36m82.46\u001b[0m\u001b[38;2;118;255;123m% | Val Acc: \u001b[0m\u001b[1;36m83.03\u001b[0m\u001b[38;2;118;255;123m%\u001b[0m\n"
      ]
     },
     "metadata": {},
     "output_type": "display_data"
    },
    {
     "name": "stdout",
     "output_type": "stream",
     "text": [
      "Epoch: 022/100 | Batch 001/030 | Train/Val Loss: 0.37\n",
      "Epoch: 022/100 | Batch 002/030 | Train/Val Loss: 0.32\n",
      "Epoch: 022/100 | Batch 003/030 | Train/Val Loss: 0.49\n",
      "Epoch: 022/100 | Batch 004/030 | Train/Val Loss: 0.45\n",
      "Epoch: 022/100 | Batch 005/030 | Train/Val Loss: 0.35\n",
      "Epoch: 022/100 | Batch 006/030 | Train/Val Loss: 0.39\n",
      "Epoch: 022/100 | Batch 007/030 | Train/Val Loss: 0.29\n",
      "Epoch: 022/100 | Batch 008/030 | Train/Val Loss: 0.37\n",
      "Epoch: 022/100 | Batch 009/030 | Train/Val Loss: 0.32\n",
      "Epoch: 022/100 | Batch 010/030 | Train/Val Loss: 0.38\n",
      "Epoch: 022/100 | Batch 011/030 | Train/Val Loss: 0.51\n",
      "Epoch: 022/100 | Batch 012/030 | Train/Val Loss: 0.47\n",
      "Epoch: 022/100 | Batch 013/030 | Train/Val Loss: 0.45\n",
      "Epoch: 022/100 | Batch 014/030 | Train/Val Loss: 0.32\n",
      "Epoch: 022/100 | Batch 015/030 | Train/Val Loss: 0.38\n",
      "Epoch: 022/100 | Batch 016/030 | Train/Val Loss: 0.34\n",
      "Epoch: 022/100 | Batch 017/030 | Train/Val Loss: 0.31\n",
      "Epoch: 022/100 | Batch 018/030 | Train/Val Loss: 0.41\n",
      "Epoch: 022/100 | Batch 019/030 | Train/Val Loss: 0.41\n",
      "Epoch: 022/100 | Batch 020/030 | Train/Val Loss: 0.21\n",
      "Epoch: 022/100 | Batch 021/030 | Train/Val Loss: 0.31\n",
      "Epoch: 022/100 | Batch 022/030 | Train/Val Loss: 0.63\n",
      "Epoch: 022/100 | Batch 023/030 | Train/Val Loss: 0.47\n",
      "Epoch: 022/100 | Batch 024/030 | Train/Val Loss: 0.40\n",
      "Epoch: 022/100 | Batch 025/030 | Train/Val Loss: 0.38\n",
      "Epoch: 022/100 | Batch 026/030 | Train/Val Loss: 0.31\n",
      "Epoch: 022/100 | Batch 027/030 | Train/Val Loss: 0.53\n",
      "Epoch: 022/100 | Batch 028/030 | Train/Val Loss: 0.67\n",
      "Epoch: 022/100 | Batch 029/030 | Train/Val Loss: 0.45\n",
      "Epoch: 022/100 | Batch 030/030 | Train/Val Loss: 0.68\n"
     ]
    },
    {
     "data": {
      "text/html": [
       "<pre style=\"white-space:pre;overflow-x:auto;line-height:normal;font-family:Menlo,'DejaVu Sans Mono',consolas,'Courier New',monospace\"><span style=\"color: #76ff7b; text-decoration-color: #76ff7b\">Train Acc: </span><span style=\"color: #008080; text-decoration-color: #008080; font-weight: bold\">81.18</span><span style=\"color: #76ff7b; text-decoration-color: #76ff7b\">% | Val Acc: </span><span style=\"color: #008080; text-decoration-color: #008080; font-weight: bold\">83.03</span><span style=\"color: #76ff7b; text-decoration-color: #76ff7b\">%</span>\n",
       "</pre>\n"
      ],
      "text/plain": [
       "\u001b[38;2;118;255;123mTrain Acc: \u001b[0m\u001b[1;36m81.18\u001b[0m\u001b[38;2;118;255;123m% | Val Acc: \u001b[0m\u001b[1;36m83.03\u001b[0m\u001b[38;2;118;255;123m%\u001b[0m\n"
      ]
     },
     "metadata": {},
     "output_type": "display_data"
    },
    {
     "name": "stdout",
     "output_type": "stream",
     "text": [
      "Epoch: 023/100 | Batch 001/030 | Train/Val Loss: 0.46\n",
      "Epoch: 023/100 | Batch 002/030 | Train/Val Loss: 0.35\n",
      "Epoch: 023/100 | Batch 003/030 | Train/Val Loss: 0.54\n",
      "Epoch: 023/100 | Batch 004/030 | Train/Val Loss: 0.39\n",
      "Epoch: 023/100 | Batch 005/030 | Train/Val Loss: 0.31\n",
      "Epoch: 023/100 | Batch 006/030 | Train/Val Loss: 0.38\n",
      "Epoch: 023/100 | Batch 007/030 | Train/Val Loss: 0.32\n",
      "Epoch: 023/100 | Batch 008/030 | Train/Val Loss: 0.48\n",
      "Epoch: 023/100 | Batch 009/030 | Train/Val Loss: 0.39\n",
      "Epoch: 023/100 | Batch 010/030 | Train/Val Loss: 0.38\n",
      "Epoch: 023/100 | Batch 011/030 | Train/Val Loss: 0.50\n",
      "Epoch: 023/100 | Batch 012/030 | Train/Val Loss: 0.46\n",
      "Epoch: 023/100 | Batch 013/030 | Train/Val Loss: 0.37\n",
      "Epoch: 023/100 | Batch 014/030 | Train/Val Loss: 0.42\n",
      "Epoch: 023/100 | Batch 015/030 | Train/Val Loss: 0.34\n",
      "Epoch: 023/100 | Batch 016/030 | Train/Val Loss: 0.40\n",
      "Epoch: 023/100 | Batch 017/030 | Train/Val Loss: 0.37\n",
      "Epoch: 023/100 | Batch 018/030 | Train/Val Loss: 0.35\n",
      "Epoch: 023/100 | Batch 019/030 | Train/Val Loss: 0.36\n",
      "Epoch: 023/100 | Batch 020/030 | Train/Val Loss: 0.33\n",
      "Epoch: 023/100 | Batch 021/030 | Train/Val Loss: 0.42\n",
      "Epoch: 023/100 | Batch 022/030 | Train/Val Loss: 0.53\n",
      "Epoch: 023/100 | Batch 023/030 | Train/Val Loss: 0.23\n",
      "Epoch: 023/100 | Batch 024/030 | Train/Val Loss: 0.51\n",
      "Epoch: 023/100 | Batch 025/030 | Train/Val Loss: 0.37\n",
      "Epoch: 023/100 | Batch 026/030 | Train/Val Loss: 0.41\n",
      "Epoch: 023/100 | Batch 027/030 | Train/Val Loss: 0.24\n",
      "Epoch: 023/100 | Batch 028/030 | Train/Val Loss: 0.46\n",
      "Epoch: 023/100 | Batch 029/030 | Train/Val Loss: 0.60\n",
      "Epoch: 023/100 | Batch 030/030 | Train/Val Loss: 0.22\n"
     ]
    },
    {
     "data": {
      "text/html": [
       "<pre style=\"white-space:pre;overflow-x:auto;line-height:normal;font-family:Menlo,'DejaVu Sans Mono',consolas,'Courier New',monospace\"><span style=\"color: #76ff7b; text-decoration-color: #76ff7b\">Train Acc: </span><span style=\"color: #008080; text-decoration-color: #008080; font-weight: bold\">82.35</span><span style=\"color: #76ff7b; text-decoration-color: #76ff7b\">% | Val Acc: </span><span style=\"color: #008080; text-decoration-color: #008080; font-weight: bold\">83.03</span><span style=\"color: #76ff7b; text-decoration-color: #76ff7b\">%</span>\n",
       "</pre>\n"
      ],
      "text/plain": [
       "\u001b[38;2;118;255;123mTrain Acc: \u001b[0m\u001b[1;36m82.35\u001b[0m\u001b[38;2;118;255;123m% | Val Acc: \u001b[0m\u001b[1;36m83.03\u001b[0m\u001b[38;2;118;255;123m%\u001b[0m\n"
      ]
     },
     "metadata": {},
     "output_type": "display_data"
    },
    {
     "name": "stdout",
     "output_type": "stream",
     "text": [
      "Epoch: 024/100 | Batch 001/030 | Train/Val Loss: 0.39\n",
      "Epoch: 024/100 | Batch 002/030 | Train/Val Loss: 0.40\n",
      "Epoch: 024/100 | Batch 003/030 | Train/Val Loss: 0.38\n",
      "Epoch: 024/100 | Batch 004/030 | Train/Val Loss: 0.42\n",
      "Epoch: 024/100 | Batch 005/030 | Train/Val Loss: 0.40\n",
      "Epoch: 024/100 | Batch 006/030 | Train/Val Loss: 0.30\n",
      "Epoch: 024/100 | Batch 007/030 | Train/Val Loss: 0.61\n",
      "Epoch: 024/100 | Batch 008/030 | Train/Val Loss: 0.44\n",
      "Epoch: 024/100 | Batch 009/030 | Train/Val Loss: 0.23\n",
      "Epoch: 024/100 | Batch 010/030 | Train/Val Loss: 0.49\n",
      "Epoch: 024/100 | Batch 011/030 | Train/Val Loss: 0.33\n",
      "Epoch: 024/100 | Batch 012/030 | Train/Val Loss: 0.37\n",
      "Epoch: 024/100 | Batch 013/030 | Train/Val Loss: 0.31\n",
      "Epoch: 024/100 | Batch 014/030 | Train/Val Loss: 0.41\n",
      "Epoch: 024/100 | Batch 015/030 | Train/Val Loss: 0.37\n",
      "Epoch: 024/100 | Batch 016/030 | Train/Val Loss: 0.34\n",
      "Epoch: 024/100 | Batch 017/030 | Train/Val Loss: 0.47\n",
      "Epoch: 024/100 | Batch 018/030 | Train/Val Loss: 0.39\n",
      "Epoch: 024/100 | Batch 019/030 | Train/Val Loss: 0.32\n",
      "Epoch: 024/100 | Batch 020/030 | Train/Val Loss: 0.22\n",
      "Epoch: 024/100 | Batch 021/030 | Train/Val Loss: 0.65\n",
      "Epoch: 024/100 | Batch 022/030 | Train/Val Loss: 0.46\n",
      "Epoch: 024/100 | Batch 023/030 | Train/Val Loss: 0.33\n",
      "Epoch: 024/100 | Batch 024/030 | Train/Val Loss: 0.30\n",
      "Epoch: 024/100 | Batch 025/030 | Train/Val Loss: 0.42\n",
      "Epoch: 024/100 | Batch 026/030 | Train/Val Loss: 0.49\n",
      "Epoch: 024/100 | Batch 027/030 | Train/Val Loss: 0.36\n",
      "Epoch: 024/100 | Batch 028/030 | Train/Val Loss: 0.70\n",
      "Epoch: 024/100 | Batch 029/030 | Train/Val Loss: 0.37\n",
      "Epoch: 024/100 | Batch 030/030 | Train/Val Loss: 0.74\n"
     ]
    },
    {
     "data": {
      "text/html": [
       "<pre style=\"white-space:pre;overflow-x:auto;line-height:normal;font-family:Menlo,'DejaVu Sans Mono',consolas,'Courier New',monospace\"><span style=\"color: #76ff7b; text-decoration-color: #76ff7b\">Train Acc: </span><span style=\"color: #008080; text-decoration-color: #008080; font-weight: bold\">83.21</span><span style=\"color: #76ff7b; text-decoration-color: #76ff7b\">% | Val Acc: </span><span style=\"color: #008080; text-decoration-color: #008080; font-weight: bold\">82.42</span><span style=\"color: #76ff7b; text-decoration-color: #76ff7b\">%</span>\n",
       "</pre>\n"
      ],
      "text/plain": [
       "\u001b[38;2;118;255;123mTrain Acc: \u001b[0m\u001b[1;36m83.21\u001b[0m\u001b[38;2;118;255;123m% | Val Acc: \u001b[0m\u001b[1;36m82.42\u001b[0m\u001b[38;2;118;255;123m%\u001b[0m\n"
      ]
     },
     "metadata": {},
     "output_type": "display_data"
    },
    {
     "name": "stdout",
     "output_type": "stream",
     "text": [
      "Epoch: 025/100 | Batch 001/030 | Train/Val Loss: 0.37\n",
      "Epoch: 025/100 | Batch 002/030 | Train/Val Loss: 0.43\n",
      "Epoch: 025/100 | Batch 003/030 | Train/Val Loss: 0.28\n",
      "Epoch: 025/100 | Batch 004/030 | Train/Val Loss: 0.47\n",
      "Epoch: 025/100 | Batch 005/030 | Train/Val Loss: 0.51\n",
      "Epoch: 025/100 | Batch 006/030 | Train/Val Loss: 0.48\n",
      "Epoch: 025/100 | Batch 007/030 | Train/Val Loss: 0.39\n",
      "Epoch: 025/100 | Batch 008/030 | Train/Val Loss: 0.49\n",
      "Epoch: 025/100 | Batch 009/030 | Train/Val Loss: 0.40\n",
      "Epoch: 025/100 | Batch 010/030 | Train/Val Loss: 0.36\n",
      "Epoch: 025/100 | Batch 011/030 | Train/Val Loss: 0.41\n",
      "Epoch: 025/100 | Batch 012/030 | Train/Val Loss: 0.50\n",
      "Epoch: 025/100 | Batch 013/030 | Train/Val Loss: 0.42\n",
      "Epoch: 025/100 | Batch 014/030 | Train/Val Loss: 0.41\n",
      "Epoch: 025/100 | Batch 015/030 | Train/Val Loss: 0.37\n",
      "Epoch: 025/100 | Batch 016/030 | Train/Val Loss: 0.43\n",
      "Epoch: 025/100 | Batch 017/030 | Train/Val Loss: 0.42\n",
      "Epoch: 025/100 | Batch 018/030 | Train/Val Loss: 0.39\n",
      "Epoch: 025/100 | Batch 019/030 | Train/Val Loss: 0.41\n",
      "Epoch: 025/100 | Batch 020/030 | Train/Val Loss: 0.35\n",
      "Epoch: 025/100 | Batch 021/030 | Train/Val Loss: 0.44\n",
      "Epoch: 025/100 | Batch 022/030 | Train/Val Loss: 0.44\n",
      "Epoch: 025/100 | Batch 023/030 | Train/Val Loss: 0.40\n",
      "Epoch: 025/100 | Batch 024/030 | Train/Val Loss: 0.42\n",
      "Epoch: 025/100 | Batch 025/030 | Train/Val Loss: 0.38\n",
      "Epoch: 025/100 | Batch 026/030 | Train/Val Loss: 0.35\n",
      "Epoch: 025/100 | Batch 027/030 | Train/Val Loss: 0.40\n",
      "Epoch: 025/100 | Batch 028/030 | Train/Val Loss: 0.38\n",
      "Epoch: 025/100 | Batch 029/030 | Train/Val Loss: 0.30\n",
      "Epoch: 025/100 | Batch 030/030 | Train/Val Loss: 0.10\n"
     ]
    },
    {
     "data": {
      "text/html": [
       "<pre style=\"white-space:pre;overflow-x:auto;line-height:normal;font-family:Menlo,'DejaVu Sans Mono',consolas,'Courier New',monospace\"><span style=\"color: #76ff7b; text-decoration-color: #76ff7b\">Train Acc: </span><span style=\"color: #008080; text-decoration-color: #008080; font-weight: bold\">83.21</span><span style=\"color: #76ff7b; text-decoration-color: #76ff7b\">% | Val Acc: </span><span style=\"color: #008080; text-decoration-color: #008080; font-weight: bold\">83.03</span><span style=\"color: #76ff7b; text-decoration-color: #76ff7b\">%</span>\n",
       "</pre>\n"
      ],
      "text/plain": [
       "\u001b[38;2;118;255;123mTrain Acc: \u001b[0m\u001b[1;36m83.21\u001b[0m\u001b[38;2;118;255;123m% | Val Acc: \u001b[0m\u001b[1;36m83.03\u001b[0m\u001b[38;2;118;255;123m%\u001b[0m\n"
      ]
     },
     "metadata": {},
     "output_type": "display_data"
    },
    {
     "name": "stdout",
     "output_type": "stream",
     "text": [
      "Epoch: 026/100 | Batch 001/030 | Train/Val Loss: 0.54\n",
      "Epoch: 026/100 | Batch 002/030 | Train/Val Loss: 0.43\n",
      "Epoch: 026/100 | Batch 003/030 | Train/Val Loss: 0.50\n",
      "Epoch: 026/100 | Batch 004/030 | Train/Val Loss: 0.33\n",
      "Epoch: 026/100 | Batch 005/030 | Train/Val Loss: 0.43\n",
      "Epoch: 026/100 | Batch 006/030 | Train/Val Loss: 0.51\n",
      "Epoch: 026/100 | Batch 007/030 | Train/Val Loss: 0.54\n",
      "Epoch: 026/100 | Batch 008/030 | Train/Val Loss: 0.47\n",
      "Epoch: 026/100 | Batch 009/030 | Train/Val Loss: 0.34\n",
      "Epoch: 026/100 | Batch 010/030 | Train/Val Loss: 0.35\n",
      "Epoch: 026/100 | Batch 011/030 | Train/Val Loss: 0.32\n",
      "Epoch: 026/100 | Batch 012/030 | Train/Val Loss: 0.37\n",
      "Epoch: 026/100 | Batch 013/030 | Train/Val Loss: 0.52\n",
      "Epoch: 026/100 | Batch 014/030 | Train/Val Loss: 0.38\n",
      "Epoch: 026/100 | Batch 015/030 | Train/Val Loss: 0.24\n",
      "Epoch: 026/100 | Batch 016/030 | Train/Val Loss: 0.35\n",
      "Epoch: 026/100 | Batch 017/030 | Train/Val Loss: 0.46\n",
      "Epoch: 026/100 | Batch 018/030 | Train/Val Loss: 0.37\n",
      "Epoch: 026/100 | Batch 019/030 | Train/Val Loss: 0.31\n",
      "Epoch: 026/100 | Batch 020/030 | Train/Val Loss: 0.44\n",
      "Epoch: 026/100 | Batch 021/030 | Train/Val Loss: 0.45\n",
      "Epoch: 026/100 | Batch 022/030 | Train/Val Loss: 0.26\n",
      "Epoch: 026/100 | Batch 023/030 | Train/Val Loss: 0.51\n",
      "Epoch: 026/100 | Batch 024/030 | Train/Val Loss: 0.31\n",
      "Epoch: 026/100 | Batch 025/030 | Train/Val Loss: 0.37\n",
      "Epoch: 026/100 | Batch 026/030 | Train/Val Loss: 0.38\n",
      "Epoch: 026/100 | Batch 027/030 | Train/Val Loss: 0.38\n",
      "Epoch: 026/100 | Batch 028/030 | Train/Val Loss: 0.32\n",
      "Epoch: 026/100 | Batch 029/030 | Train/Val Loss: 0.37\n",
      "Epoch: 026/100 | Batch 030/030 | Train/Val Loss: 0.48\n"
     ]
    },
    {
     "data": {
      "text/html": [
       "<pre style=\"white-space:pre;overflow-x:auto;line-height:normal;font-family:Menlo,'DejaVu Sans Mono',consolas,'Courier New',monospace\"><span style=\"color: #76ff7b; text-decoration-color: #76ff7b\">Train Acc: </span><span style=\"color: #008080; text-decoration-color: #008080; font-weight: bold\">82.99</span><span style=\"color: #76ff7b; text-decoration-color: #76ff7b\">% | Val Acc: </span><span style=\"color: #008080; text-decoration-color: #008080; font-weight: bold\">80.61</span><span style=\"color: #76ff7b; text-decoration-color: #76ff7b\">%</span>\n",
       "</pre>\n"
      ],
      "text/plain": [
       "\u001b[38;2;118;255;123mTrain Acc: \u001b[0m\u001b[1;36m82.99\u001b[0m\u001b[38;2;118;255;123m% | Val Acc: \u001b[0m\u001b[1;36m80.61\u001b[0m\u001b[38;2;118;255;123m%\u001b[0m\n"
      ]
     },
     "metadata": {},
     "output_type": "display_data"
    },
    {
     "name": "stdout",
     "output_type": "stream",
     "text": [
      "Epoch: 027/100 | Batch 001/030 | Train/Val Loss: 0.47\n",
      "Epoch: 027/100 | Batch 002/030 | Train/Val Loss: 0.23\n",
      "Epoch: 027/100 | Batch 003/030 | Train/Val Loss: 0.38\n",
      "Epoch: 027/100 | Batch 004/030 | Train/Val Loss: 0.40\n",
      "Epoch: 027/100 | Batch 005/030 | Train/Val Loss: 0.45\n",
      "Epoch: 027/100 | Batch 006/030 | Train/Val Loss: 0.40\n",
      "Epoch: 027/100 | Batch 007/030 | Train/Val Loss: 0.47\n",
      "Epoch: 027/100 | Batch 008/030 | Train/Val Loss: 0.49\n",
      "Epoch: 027/100 | Batch 009/030 | Train/Val Loss: 0.50\n",
      "Epoch: 027/100 | Batch 010/030 | Train/Val Loss: 0.38\n",
      "Epoch: 027/100 | Batch 011/030 | Train/Val Loss: 0.53\n",
      "Epoch: 027/100 | Batch 012/030 | Train/Val Loss: 0.33\n",
      "Epoch: 027/100 | Batch 013/030 | Train/Val Loss: 0.42\n",
      "Epoch: 027/100 | Batch 014/030 | Train/Val Loss: 0.35\n",
      "Epoch: 027/100 | Batch 015/030 | Train/Val Loss: 0.41\n",
      "Epoch: 027/100 | Batch 016/030 | Train/Val Loss: 0.36\n",
      "Epoch: 027/100 | Batch 017/030 | Train/Val Loss: 0.45\n",
      "Epoch: 027/100 | Batch 018/030 | Train/Val Loss: 0.25\n",
      "Epoch: 027/100 | Batch 019/030 | Train/Val Loss: 0.38\n",
      "Epoch: 027/100 | Batch 020/030 | Train/Val Loss: 0.50\n",
      "Epoch: 027/100 | Batch 021/030 | Train/Val Loss: 0.44\n",
      "Epoch: 027/100 | Batch 022/030 | Train/Val Loss: 0.30\n",
      "Epoch: 027/100 | Batch 023/030 | Train/Val Loss: 0.40\n",
      "Epoch: 027/100 | Batch 024/030 | Train/Val Loss: 0.32\n",
      "Epoch: 027/100 | Batch 025/030 | Train/Val Loss: 0.30\n",
      "Epoch: 027/100 | Batch 026/030 | Train/Val Loss: 0.31\n",
      "Epoch: 027/100 | Batch 027/030 | Train/Val Loss: 0.33\n",
      "Epoch: 027/100 | Batch 028/030 | Train/Val Loss: 0.45\n",
      "Epoch: 027/100 | Batch 029/030 | Train/Val Loss: 0.36\n",
      "Epoch: 027/100 | Batch 030/030 | Train/Val Loss: 0.22\n"
     ]
    },
    {
     "data": {
      "text/html": [
       "<pre style=\"white-space:pre;overflow-x:auto;line-height:normal;font-family:Menlo,'DejaVu Sans Mono',consolas,'Courier New',monospace\"><span style=\"color: #76ff7b; text-decoration-color: #76ff7b\">Train Acc: </span><span style=\"color: #008080; text-decoration-color: #008080; font-weight: bold\">83.21</span><span style=\"color: #76ff7b; text-decoration-color: #76ff7b\">% | Val Acc: </span><span style=\"color: #008080; text-decoration-color: #008080; font-weight: bold\">81.21</span><span style=\"color: #76ff7b; text-decoration-color: #76ff7b\">%</span>\n",
       "</pre>\n"
      ],
      "text/plain": [
       "\u001b[38;2;118;255;123mTrain Acc: \u001b[0m\u001b[1;36m83.21\u001b[0m\u001b[38;2;118;255;123m% | Val Acc: \u001b[0m\u001b[1;36m81.21\u001b[0m\u001b[38;2;118;255;123m%\u001b[0m\n"
      ]
     },
     "metadata": {},
     "output_type": "display_data"
    },
    {
     "name": "stdout",
     "output_type": "stream",
     "text": [
      "Epoch: 028/100 | Batch 001/030 | Train/Val Loss: 0.29\n",
      "Epoch: 028/100 | Batch 002/030 | Train/Val Loss: 0.23\n",
      "Epoch: 028/100 | Batch 003/030 | Train/Val Loss: 0.21\n",
      "Epoch: 028/100 | Batch 004/030 | Train/Val Loss: 0.56\n",
      "Epoch: 028/100 | Batch 005/030 | Train/Val Loss: 0.39\n",
      "Epoch: 028/100 | Batch 006/030 | Train/Val Loss: 0.46\n",
      "Epoch: 028/100 | Batch 007/030 | Train/Val Loss: 0.55\n",
      "Epoch: 028/100 | Batch 008/030 | Train/Val Loss: 0.39\n",
      "Epoch: 028/100 | Batch 009/030 | Train/Val Loss: 0.42\n",
      "Epoch: 028/100 | Batch 010/030 | Train/Val Loss: 0.44\n",
      "Epoch: 028/100 | Batch 011/030 | Train/Val Loss: 0.36\n",
      "Epoch: 028/100 | Batch 012/030 | Train/Val Loss: 0.30\n",
      "Epoch: 028/100 | Batch 013/030 | Train/Val Loss: 0.42\n",
      "Epoch: 028/100 | Batch 014/030 | Train/Val Loss: 0.42\n",
      "Epoch: 028/100 | Batch 015/030 | Train/Val Loss: 0.40\n",
      "Epoch: 028/100 | Batch 016/030 | Train/Val Loss: 0.33\n",
      "Epoch: 028/100 | Batch 017/030 | Train/Val Loss: 0.36\n",
      "Epoch: 028/100 | Batch 018/030 | Train/Val Loss: 0.37\n",
      "Epoch: 028/100 | Batch 019/030 | Train/Val Loss: 0.47\n",
      "Epoch: 028/100 | Batch 020/030 | Train/Val Loss: 0.41\n",
      "Epoch: 028/100 | Batch 021/030 | Train/Val Loss: 0.42\n",
      "Epoch: 028/100 | Batch 022/030 | Train/Val Loss: 0.45\n",
      "Epoch: 028/100 | Batch 023/030 | Train/Val Loss: 0.53\n",
      "Epoch: 028/100 | Batch 024/030 | Train/Val Loss: 0.29\n",
      "Epoch: 028/100 | Batch 025/030 | Train/Val Loss: 0.29\n",
      "Epoch: 028/100 | Batch 026/030 | Train/Val Loss: 0.47\n",
      "Epoch: 028/100 | Batch 027/030 | Train/Val Loss: 0.46\n",
      "Epoch: 028/100 | Batch 028/030 | Train/Val Loss: 0.29\n",
      "Epoch: 028/100 | Batch 029/030 | Train/Val Loss: 0.40\n",
      "Epoch: 028/100 | Batch 030/030 | Train/Val Loss: 0.31\n"
     ]
    },
    {
     "data": {
      "text/html": [
       "<pre style=\"white-space:pre;overflow-x:auto;line-height:normal;font-family:Menlo,'DejaVu Sans Mono',consolas,'Courier New',monospace\"><span style=\"color: #76ff7b; text-decoration-color: #76ff7b\">Train Acc: </span><span style=\"color: #008080; text-decoration-color: #008080; font-weight: bold\">83.10</span><span style=\"color: #76ff7b; text-decoration-color: #76ff7b\">% | Val Acc: </span><span style=\"color: #008080; text-decoration-color: #008080; font-weight: bold\">81.82</span><span style=\"color: #76ff7b; text-decoration-color: #76ff7b\">%</span>\n",
       "</pre>\n"
      ],
      "text/plain": [
       "\u001b[38;2;118;255;123mTrain Acc: \u001b[0m\u001b[1;36m83.10\u001b[0m\u001b[38;2;118;255;123m% | Val Acc: \u001b[0m\u001b[1;36m81.82\u001b[0m\u001b[38;2;118;255;123m%\u001b[0m\n"
      ]
     },
     "metadata": {},
     "output_type": "display_data"
    },
    {
     "name": "stdout",
     "output_type": "stream",
     "text": [
      "Epoch: 029/100 | Batch 001/030 | Train/Val Loss: 0.47\n",
      "Epoch: 029/100 | Batch 002/030 | Train/Val Loss: 0.22\n",
      "Epoch: 029/100 | Batch 003/030 | Train/Val Loss: 0.47\n",
      "Epoch: 029/100 | Batch 004/030 | Train/Val Loss: 0.36\n",
      "Epoch: 029/100 | Batch 005/030 | Train/Val Loss: 0.60\n",
      "Epoch: 029/100 | Batch 006/030 | Train/Val Loss: 0.35\n",
      "Epoch: 029/100 | Batch 007/030 | Train/Val Loss: 0.31\n",
      "Epoch: 029/100 | Batch 008/030 | Train/Val Loss: 0.31\n",
      "Epoch: 029/100 | Batch 009/030 | Train/Val Loss: 0.39\n",
      "Epoch: 029/100 | Batch 010/030 | Train/Val Loss: 0.28\n",
      "Epoch: 029/100 | Batch 011/030 | Train/Val Loss: 0.35\n",
      "Epoch: 029/100 | Batch 012/030 | Train/Val Loss: 0.30\n",
      "Epoch: 029/100 | Batch 013/030 | Train/Val Loss: 0.44\n",
      "Epoch: 029/100 | Batch 014/030 | Train/Val Loss: 0.47\n",
      "Epoch: 029/100 | Batch 015/030 | Train/Val Loss: 0.23\n",
      "Epoch: 029/100 | Batch 016/030 | Train/Val Loss: 0.28\n",
      "Epoch: 029/100 | Batch 017/030 | Train/Val Loss: 0.41\n",
      "Epoch: 029/100 | Batch 018/030 | Train/Val Loss: 0.74\n",
      "Epoch: 029/100 | Batch 019/030 | Train/Val Loss: 0.28\n",
      "Epoch: 029/100 | Batch 020/030 | Train/Val Loss: 0.29\n",
      "Epoch: 029/100 | Batch 021/030 | Train/Val Loss: 0.35\n",
      "Epoch: 029/100 | Batch 022/030 | Train/Val Loss: 0.51\n",
      "Epoch: 029/100 | Batch 023/030 | Train/Val Loss: 0.33\n",
      "Epoch: 029/100 | Batch 024/030 | Train/Val Loss: 0.32\n",
      "Epoch: 029/100 | Batch 025/030 | Train/Val Loss: 0.54\n",
      "Epoch: 029/100 | Batch 026/030 | Train/Val Loss: 0.43\n",
      "Epoch: 029/100 | Batch 027/030 | Train/Val Loss: 0.45\n",
      "Epoch: 029/100 | Batch 028/030 | Train/Val Loss: 0.46\n",
      "Epoch: 029/100 | Batch 029/030 | Train/Val Loss: 0.34\n",
      "Epoch: 029/100 | Batch 030/030 | Train/Val Loss: 0.85\n"
     ]
    },
    {
     "data": {
      "text/html": [
       "<pre style=\"white-space:pre;overflow-x:auto;line-height:normal;font-family:Menlo,'DejaVu Sans Mono',consolas,'Courier New',monospace\"><span style=\"color: #76ff7b; text-decoration-color: #76ff7b\">Train Acc: </span><span style=\"color: #008080; text-decoration-color: #008080; font-weight: bold\">82.99</span><span style=\"color: #76ff7b; text-decoration-color: #76ff7b\">% | Val Acc: </span><span style=\"color: #008080; text-decoration-color: #008080; font-weight: bold\">81.21</span><span style=\"color: #76ff7b; text-decoration-color: #76ff7b\">%</span>\n",
       "</pre>\n"
      ],
      "text/plain": [
       "\u001b[38;2;118;255;123mTrain Acc: \u001b[0m\u001b[1;36m82.99\u001b[0m\u001b[38;2;118;255;123m% | Val Acc: \u001b[0m\u001b[1;36m81.21\u001b[0m\u001b[38;2;118;255;123m%\u001b[0m\n"
      ]
     },
     "metadata": {},
     "output_type": "display_data"
    },
    {
     "name": "stdout",
     "output_type": "stream",
     "text": [
      "Epoch: 030/100 | Batch 001/030 | Train/Val Loss: 0.45\n",
      "Epoch: 030/100 | Batch 002/030 | Train/Val Loss: 0.33\n",
      "Epoch: 030/100 | Batch 003/030 | Train/Val Loss: 0.36\n",
      "Epoch: 030/100 | Batch 004/030 | Train/Val Loss: 0.33\n",
      "Epoch: 030/100 | Batch 005/030 | Train/Val Loss: 0.51\n",
      "Epoch: 030/100 | Batch 006/030 | Train/Val Loss: 0.29\n",
      "Epoch: 030/100 | Batch 007/030 | Train/Val Loss: 0.48\n",
      "Epoch: 030/100 | Batch 008/030 | Train/Val Loss: 0.24\n",
      "Epoch: 030/100 | Batch 009/030 | Train/Val Loss: 0.40\n",
      "Epoch: 030/100 | Batch 010/030 | Train/Val Loss: 0.45\n",
      "Epoch: 030/100 | Batch 011/030 | Train/Val Loss: 0.35\n",
      "Epoch: 030/100 | Batch 012/030 | Train/Val Loss: 0.28\n",
      "Epoch: 030/100 | Batch 013/030 | Train/Val Loss: 0.44\n",
      "Epoch: 030/100 | Batch 014/030 | Train/Val Loss: 0.33\n",
      "Epoch: 030/100 | Batch 015/030 | Train/Val Loss: 0.42\n",
      "Epoch: 030/100 | Batch 016/030 | Train/Val Loss: 0.36\n",
      "Epoch: 030/100 | Batch 017/030 | Train/Val Loss: 0.49\n",
      "Epoch: 030/100 | Batch 018/030 | Train/Val Loss: 0.36\n",
      "Epoch: 030/100 | Batch 019/030 | Train/Val Loss: 0.45\n",
      "Epoch: 030/100 | Batch 020/030 | Train/Val Loss: 0.44\n",
      "Epoch: 030/100 | Batch 021/030 | Train/Val Loss: 0.44\n",
      "Epoch: 030/100 | Batch 022/030 | Train/Val Loss: 0.23\n",
      "Epoch: 030/100 | Batch 023/030 | Train/Val Loss: 0.29\n",
      "Epoch: 030/100 | Batch 024/030 | Train/Val Loss: 0.44\n",
      "Epoch: 030/100 | Batch 025/030 | Train/Val Loss: 0.36\n",
      "Epoch: 030/100 | Batch 026/030 | Train/Val Loss: 0.36\n",
      "Epoch: 030/100 | Batch 027/030 | Train/Val Loss: 0.45\n",
      "Epoch: 030/100 | Batch 028/030 | Train/Val Loss: 0.28\n",
      "Epoch: 030/100 | Batch 029/030 | Train/Val Loss: 0.60\n",
      "Epoch: 030/100 | Batch 030/030 | Train/Val Loss: 0.52\n"
     ]
    },
    {
     "data": {
      "text/html": [
       "<pre style=\"white-space:pre;overflow-x:auto;line-height:normal;font-family:Menlo,'DejaVu Sans Mono',consolas,'Courier New',monospace\"><span style=\"color: #76ff7b; text-decoration-color: #76ff7b\">Train Acc: </span><span style=\"color: #008080; text-decoration-color: #008080; font-weight: bold\">83.96</span><span style=\"color: #76ff7b; text-decoration-color: #76ff7b\">% | Val Acc: </span><span style=\"color: #008080; text-decoration-color: #008080; font-weight: bold\">81.82</span><span style=\"color: #76ff7b; text-decoration-color: #76ff7b\">%</span>\n",
       "</pre>\n"
      ],
      "text/plain": [
       "\u001b[38;2;118;255;123mTrain Acc: \u001b[0m\u001b[1;36m83.96\u001b[0m\u001b[38;2;118;255;123m% | Val Acc: \u001b[0m\u001b[1;36m81.82\u001b[0m\u001b[38;2;118;255;123m%\u001b[0m\n"
      ]
     },
     "metadata": {},
     "output_type": "display_data"
    },
    {
     "name": "stdout",
     "output_type": "stream",
     "text": [
      "Epoch: 031/100 | Batch 001/030 | Train/Val Loss: 0.49\n",
      "Epoch: 031/100 | Batch 002/030 | Train/Val Loss: 0.38\n",
      "Epoch: 031/100 | Batch 003/030 | Train/Val Loss: 0.20\n",
      "Epoch: 031/100 | Batch 004/030 | Train/Val Loss: 0.24\n",
      "Epoch: 031/100 | Batch 005/030 | Train/Val Loss: 0.34\n",
      "Epoch: 031/100 | Batch 006/030 | Train/Val Loss: 0.39\n",
      "Epoch: 031/100 | Batch 007/030 | Train/Val Loss: 0.41\n",
      "Epoch: 031/100 | Batch 008/030 | Train/Val Loss: 0.46\n",
      "Epoch: 031/100 | Batch 009/030 | Train/Val Loss: 0.42\n",
      "Epoch: 031/100 | Batch 010/030 | Train/Val Loss: 0.27\n",
      "Epoch: 031/100 | Batch 011/030 | Train/Val Loss: 0.27\n",
      "Epoch: 031/100 | Batch 012/030 | Train/Val Loss: 0.36\n",
      "Epoch: 031/100 | Batch 013/030 | Train/Val Loss: 0.46\n",
      "Epoch: 031/100 | Batch 014/030 | Train/Val Loss: 0.30\n",
      "Epoch: 031/100 | Batch 015/030 | Train/Val Loss: 0.40\n",
      "Epoch: 031/100 | Batch 016/030 | Train/Val Loss: 0.44\n",
      "Epoch: 031/100 | Batch 017/030 | Train/Val Loss: 0.23\n",
      "Epoch: 031/100 | Batch 018/030 | Train/Val Loss: 0.25\n",
      "Epoch: 031/100 | Batch 019/030 | Train/Val Loss: 0.31\n",
      "Epoch: 031/100 | Batch 020/030 | Train/Val Loss: 0.38\n",
      "Epoch: 031/100 | Batch 021/030 | Train/Val Loss: 0.35\n",
      "Epoch: 031/100 | Batch 022/030 | Train/Val Loss: 0.50\n",
      "Epoch: 031/100 | Batch 023/030 | Train/Val Loss: 0.47\n",
      "Epoch: 031/100 | Batch 024/030 | Train/Val Loss: 0.32\n",
      "Epoch: 031/100 | Batch 025/030 | Train/Val Loss: 0.24\n",
      "Epoch: 031/100 | Batch 026/030 | Train/Val Loss: 0.37\n",
      "Epoch: 031/100 | Batch 027/030 | Train/Val Loss: 0.62\n",
      "Epoch: 031/100 | Batch 028/030 | Train/Val Loss: 0.46\n",
      "Epoch: 031/100 | Batch 029/030 | Train/Val Loss: 0.59\n",
      "Epoch: 031/100 | Batch 030/030 | Train/Val Loss: 0.96\n"
     ]
    },
    {
     "data": {
      "text/html": [
       "<pre style=\"white-space:pre;overflow-x:auto;line-height:normal;font-family:Menlo,'DejaVu Sans Mono',consolas,'Courier New',monospace\"><span style=\"color: #76ff7b; text-decoration-color: #76ff7b\">Train Acc: </span><span style=\"color: #008080; text-decoration-color: #008080; font-weight: bold\">83.96</span><span style=\"color: #76ff7b; text-decoration-color: #76ff7b\">% | Val Acc: </span><span style=\"color: #008080; text-decoration-color: #008080; font-weight: bold\">82.42</span><span style=\"color: #76ff7b; text-decoration-color: #76ff7b\">%</span>\n",
       "</pre>\n"
      ],
      "text/plain": [
       "\u001b[38;2;118;255;123mTrain Acc: \u001b[0m\u001b[1;36m83.96\u001b[0m\u001b[38;2;118;255;123m% | Val Acc: \u001b[0m\u001b[1;36m82.42\u001b[0m\u001b[38;2;118;255;123m%\u001b[0m\n"
      ]
     },
     "metadata": {},
     "output_type": "display_data"
    },
    {
     "name": "stdout",
     "output_type": "stream",
     "text": [
      "Epoch: 032/100 | Batch 001/030 | Train/Val Loss: 0.28\n",
      "Epoch: 032/100 | Batch 002/030 | Train/Val Loss: 0.44\n",
      "Epoch: 032/100 | Batch 003/030 | Train/Val Loss: 0.47\n",
      "Epoch: 032/100 | Batch 004/030 | Train/Val Loss: 0.40\n",
      "Epoch: 032/100 | Batch 005/030 | Train/Val Loss: 0.39\n",
      "Epoch: 032/100 | Batch 006/030 | Train/Val Loss: 0.40\n",
      "Epoch: 032/100 | Batch 007/030 | Train/Val Loss: 0.55\n",
      "Epoch: 032/100 | Batch 008/030 | Train/Val Loss: 0.36\n",
      "Epoch: 032/100 | Batch 009/030 | Train/Val Loss: 0.48\n",
      "Epoch: 032/100 | Batch 010/030 | Train/Val Loss: 0.34\n",
      "Epoch: 032/100 | Batch 011/030 | Train/Val Loss: 0.58\n",
      "Epoch: 032/100 | Batch 012/030 | Train/Val Loss: 0.41\n",
      "Epoch: 032/100 | Batch 013/030 | Train/Val Loss: 0.28\n",
      "Epoch: 032/100 | Batch 014/030 | Train/Val Loss: 0.44\n",
      "Epoch: 032/100 | Batch 015/030 | Train/Val Loss: 0.59\n",
      "Epoch: 032/100 | Batch 016/030 | Train/Val Loss: 0.32\n",
      "Epoch: 032/100 | Batch 017/030 | Train/Val Loss: 0.35\n",
      "Epoch: 032/100 | Batch 018/030 | Train/Val Loss: 0.38\n",
      "Epoch: 032/100 | Batch 019/030 | Train/Val Loss: 0.28\n",
      "Epoch: 032/100 | Batch 020/030 | Train/Val Loss: 0.37\n",
      "Epoch: 032/100 | Batch 021/030 | Train/Val Loss: 0.34\n",
      "Epoch: 032/100 | Batch 022/030 | Train/Val Loss: 0.41\n",
      "Epoch: 032/100 | Batch 023/030 | Train/Val Loss: 0.45\n",
      "Epoch: 032/100 | Batch 024/030 | Train/Val Loss: 0.32\n",
      "Epoch: 032/100 | Batch 025/030 | Train/Val Loss: 0.29\n",
      "Epoch: 032/100 | Batch 026/030 | Train/Val Loss: 0.38\n",
      "Epoch: 032/100 | Batch 027/030 | Train/Val Loss: 0.27\n",
      "Epoch: 032/100 | Batch 028/030 | Train/Val Loss: 0.37\n",
      "Epoch: 032/100 | Batch 029/030 | Train/Val Loss: 0.28\n",
      "Epoch: 032/100 | Batch 030/030 | Train/Val Loss: 0.36\n"
     ]
    },
    {
     "data": {
      "text/html": [
       "<pre style=\"white-space:pre;overflow-x:auto;line-height:normal;font-family:Menlo,'DejaVu Sans Mono',consolas,'Courier New',monospace\"><span style=\"color: #76ff7b; text-decoration-color: #76ff7b\">Train Acc: </span><span style=\"color: #008080; text-decoration-color: #008080; font-weight: bold\">82.14</span><span style=\"color: #76ff7b; text-decoration-color: #76ff7b\">% | Val Acc: </span><span style=\"color: #008080; text-decoration-color: #008080; font-weight: bold\">83.64</span><span style=\"color: #76ff7b; text-decoration-color: #76ff7b\">%</span>\n",
       "</pre>\n"
      ],
      "text/plain": [
       "\u001b[38;2;118;255;123mTrain Acc: \u001b[0m\u001b[1;36m82.14\u001b[0m\u001b[38;2;118;255;123m% | Val Acc: \u001b[0m\u001b[1;36m83.64\u001b[0m\u001b[38;2;118;255;123m%\u001b[0m\n"
      ]
     },
     "metadata": {},
     "output_type": "display_data"
    },
    {
     "name": "stdout",
     "output_type": "stream",
     "text": [
      "Epoch: 033/100 | Batch 001/030 | Train/Val Loss: 0.29\n",
      "Epoch: 033/100 | Batch 002/030 | Train/Val Loss: 0.52\n",
      "Epoch: 033/100 | Batch 003/030 | Train/Val Loss: 0.59\n",
      "Epoch: 033/100 | Batch 004/030 | Train/Val Loss: 0.44\n",
      "Epoch: 033/100 | Batch 005/030 | Train/Val Loss: 0.56\n",
      "Epoch: 033/100 | Batch 006/030 | Train/Val Loss: 0.30\n",
      "Epoch: 033/100 | Batch 007/030 | Train/Val Loss: 0.32\n",
      "Epoch: 033/100 | Batch 008/030 | Train/Val Loss: 0.59\n",
      "Epoch: 033/100 | Batch 009/030 | Train/Val Loss: 0.25\n",
      "Epoch: 033/100 | Batch 010/030 | Train/Val Loss: 0.35\n",
      "Epoch: 033/100 | Batch 011/030 | Train/Val Loss: 0.48\n",
      "Epoch: 033/100 | Batch 012/030 | Train/Val Loss: 0.43\n",
      "Epoch: 033/100 | Batch 013/030 | Train/Val Loss: 0.29\n",
      "Epoch: 033/100 | Batch 014/030 | Train/Val Loss: 0.34\n",
      "Epoch: 033/100 | Batch 015/030 | Train/Val Loss: 0.37\n",
      "Epoch: 033/100 | Batch 016/030 | Train/Val Loss: 0.37\n",
      "Epoch: 033/100 | Batch 017/030 | Train/Val Loss: 0.29\n",
      "Epoch: 033/100 | Batch 018/030 | Train/Val Loss: 0.53\n",
      "Epoch: 033/100 | Batch 019/030 | Train/Val Loss: 0.32\n",
      "Epoch: 033/100 | Batch 020/030 | Train/Val Loss: 0.32\n",
      "Epoch: 033/100 | Batch 021/030 | Train/Val Loss: 0.39\n",
      "Epoch: 033/100 | Batch 022/030 | Train/Val Loss: 0.36\n",
      "Epoch: 033/100 | Batch 023/030 | Train/Val Loss: 0.36\n",
      "Epoch: 033/100 | Batch 024/030 | Train/Val Loss: 0.39\n",
      "Epoch: 033/100 | Batch 025/030 | Train/Val Loss: 0.52\n",
      "Epoch: 033/100 | Batch 026/030 | Train/Val Loss: 0.42\n",
      "Epoch: 033/100 | Batch 027/030 | Train/Val Loss: 0.36\n",
      "Epoch: 033/100 | Batch 028/030 | Train/Val Loss: 0.26\n",
      "Epoch: 033/100 | Batch 029/030 | Train/Val Loss: 0.42\n",
      "Epoch: 033/100 | Batch 030/030 | Train/Val Loss: 0.22\n"
     ]
    },
    {
     "data": {
      "text/html": [
       "<pre style=\"white-space:pre;overflow-x:auto;line-height:normal;font-family:Menlo,'DejaVu Sans Mono',consolas,'Courier New',monospace\"><span style=\"color: #76ff7b; text-decoration-color: #76ff7b\">Train Acc: </span><span style=\"color: #008080; text-decoration-color: #008080; font-weight: bold\">82.57</span><span style=\"color: #76ff7b; text-decoration-color: #76ff7b\">% | Val Acc: </span><span style=\"color: #008080; text-decoration-color: #008080; font-weight: bold\">80.00</span><span style=\"color: #76ff7b; text-decoration-color: #76ff7b\">%</span>\n",
       "</pre>\n"
      ],
      "text/plain": [
       "\u001b[38;2;118;255;123mTrain Acc: \u001b[0m\u001b[1;36m82.57\u001b[0m\u001b[38;2;118;255;123m% | Val Acc: \u001b[0m\u001b[1;36m80.00\u001b[0m\u001b[38;2;118;255;123m%\u001b[0m\n"
      ]
     },
     "metadata": {},
     "output_type": "display_data"
    },
    {
     "name": "stdout",
     "output_type": "stream",
     "text": [
      "Epoch: 034/100 | Batch 001/030 | Train/Val Loss: 0.41\n",
      "Epoch: 034/100 | Batch 002/030 | Train/Val Loss: 0.40\n",
      "Epoch: 034/100 | Batch 003/030 | Train/Val Loss: 0.49\n",
      "Epoch: 034/100 | Batch 004/030 | Train/Val Loss: 0.35\n",
      "Epoch: 034/100 | Batch 005/030 | Train/Val Loss: 0.45\n",
      "Epoch: 034/100 | Batch 006/030 | Train/Val Loss: 0.23\n",
      "Epoch: 034/100 | Batch 007/030 | Train/Val Loss: 0.62\n",
      "Epoch: 034/100 | Batch 008/030 | Train/Val Loss: 0.57\n",
      "Epoch: 034/100 | Batch 009/030 | Train/Val Loss: 0.24\n",
      "Epoch: 034/100 | Batch 010/030 | Train/Val Loss: 0.40\n",
      "Epoch: 034/100 | Batch 011/030 | Train/Val Loss: 0.25\n",
      "Epoch: 034/100 | Batch 012/030 | Train/Val Loss: 0.27\n",
      "Epoch: 034/100 | Batch 013/030 | Train/Val Loss: 0.54\n",
      "Epoch: 034/100 | Batch 014/030 | Train/Val Loss: 0.40\n",
      "Epoch: 034/100 | Batch 015/030 | Train/Val Loss: 0.31\n",
      "Epoch: 034/100 | Batch 016/030 | Train/Val Loss: 0.25\n",
      "Epoch: 034/100 | Batch 017/030 | Train/Val Loss: 0.34\n",
      "Epoch: 034/100 | Batch 018/030 | Train/Val Loss: 0.43\n",
      "Epoch: 034/100 | Batch 019/030 | Train/Val Loss: 0.36\n",
      "Epoch: 034/100 | Batch 020/030 | Train/Val Loss: 0.42\n",
      "Epoch: 034/100 | Batch 021/030 | Train/Val Loss: 0.41\n",
      "Epoch: 034/100 | Batch 022/030 | Train/Val Loss: 0.43\n",
      "Epoch: 034/100 | Batch 023/030 | Train/Val Loss: 0.36\n",
      "Epoch: 034/100 | Batch 024/030 | Train/Val Loss: 0.43\n",
      "Epoch: 034/100 | Batch 025/030 | Train/Val Loss: 0.46\n",
      "Epoch: 034/100 | Batch 026/030 | Train/Val Loss: 0.48\n",
      "Epoch: 034/100 | Batch 027/030 | Train/Val Loss: 0.20\n",
      "Epoch: 034/100 | Batch 028/030 | Train/Val Loss: 0.22\n",
      "Epoch: 034/100 | Batch 029/030 | Train/Val Loss: 0.54\n",
      "Epoch: 034/100 | Batch 030/030 | Train/Val Loss: 0.24\n"
     ]
    },
    {
     "data": {
      "text/html": [
       "<pre style=\"white-space:pre;overflow-x:auto;line-height:normal;font-family:Menlo,'DejaVu Sans Mono',consolas,'Courier New',monospace\"><span style=\"color: #76ff7b; text-decoration-color: #76ff7b\">Train Acc: </span><span style=\"color: #008080; text-decoration-color: #008080; font-weight: bold\">84.28</span><span style=\"color: #76ff7b; text-decoration-color: #76ff7b\">% | Val Acc: </span><span style=\"color: #008080; text-decoration-color: #008080; font-weight: bold\">81.21</span><span style=\"color: #76ff7b; text-decoration-color: #76ff7b\">%</span>\n",
       "</pre>\n"
      ],
      "text/plain": [
       "\u001b[38;2;118;255;123mTrain Acc: \u001b[0m\u001b[1;36m84.28\u001b[0m\u001b[38;2;118;255;123m% | Val Acc: \u001b[0m\u001b[1;36m81.21\u001b[0m\u001b[38;2;118;255;123m%\u001b[0m\n"
      ]
     },
     "metadata": {},
     "output_type": "display_data"
    },
    {
     "name": "stdout",
     "output_type": "stream",
     "text": [
      "Epoch: 035/100 | Batch 001/030 | Train/Val Loss: 0.38\n",
      "Epoch: 035/100 | Batch 002/030 | Train/Val Loss: 0.20\n",
      "Epoch: 035/100 | Batch 003/030 | Train/Val Loss: 0.35\n",
      "Epoch: 035/100 | Batch 004/030 | Train/Val Loss: 0.52\n",
      "Epoch: 035/100 | Batch 005/030 | Train/Val Loss: 0.31\n",
      "Epoch: 035/100 | Batch 006/030 | Train/Val Loss: 0.27\n",
      "Epoch: 035/100 | Batch 007/030 | Train/Val Loss: 0.33\n",
      "Epoch: 035/100 | Batch 008/030 | Train/Val Loss: 0.48\n",
      "Epoch: 035/100 | Batch 009/030 | Train/Val Loss: 0.15\n",
      "Epoch: 035/100 | Batch 010/030 | Train/Val Loss: 0.42\n",
      "Epoch: 035/100 | Batch 011/030 | Train/Val Loss: 0.28\n",
      "Epoch: 035/100 | Batch 012/030 | Train/Val Loss: 0.51\n",
      "Epoch: 035/100 | Batch 013/030 | Train/Val Loss: 0.40\n",
      "Epoch: 035/100 | Batch 014/030 | Train/Val Loss: 0.40\n",
      "Epoch: 035/100 | Batch 015/030 | Train/Val Loss: 0.60\n",
      "Epoch: 035/100 | Batch 016/030 | Train/Val Loss: 0.27\n",
      "Epoch: 035/100 | Batch 017/030 | Train/Val Loss: 0.30\n",
      "Epoch: 035/100 | Batch 018/030 | Train/Val Loss: 0.32\n",
      "Epoch: 035/100 | Batch 019/030 | Train/Val Loss: 0.55\n",
      "Epoch: 035/100 | Batch 020/030 | Train/Val Loss: 0.44\n",
      "Epoch: 035/100 | Batch 021/030 | Train/Val Loss: 0.46\n",
      "Epoch: 035/100 | Batch 022/030 | Train/Val Loss: 0.33\n",
      "Epoch: 035/100 | Batch 023/030 | Train/Val Loss: 0.42\n",
      "Epoch: 035/100 | Batch 024/030 | Train/Val Loss: 0.53\n",
      "Epoch: 035/100 | Batch 025/030 | Train/Val Loss: 0.30\n",
      "Epoch: 035/100 | Batch 026/030 | Train/Val Loss: 0.52\n",
      "Epoch: 035/100 | Batch 027/030 | Train/Val Loss: 0.30\n",
      "Epoch: 035/100 | Batch 028/030 | Train/Val Loss: 0.28\n",
      "Epoch: 035/100 | Batch 029/030 | Train/Val Loss: 0.35\n",
      "Epoch: 035/100 | Batch 030/030 | Train/Val Loss: 0.35\n"
     ]
    },
    {
     "data": {
      "text/html": [
       "<pre style=\"white-space:pre;overflow-x:auto;line-height:normal;font-family:Menlo,'DejaVu Sans Mono',consolas,'Courier New',monospace\"><span style=\"color: #76ff7b; text-decoration-color: #76ff7b\">Train Acc: </span><span style=\"color: #008080; text-decoration-color: #008080; font-weight: bold\">82.78</span><span style=\"color: #76ff7b; text-decoration-color: #76ff7b\">% | Val Acc: </span><span style=\"color: #008080; text-decoration-color: #008080; font-weight: bold\">83.64</span><span style=\"color: #76ff7b; text-decoration-color: #76ff7b\">%</span>\n",
       "</pre>\n"
      ],
      "text/plain": [
       "\u001b[38;2;118;255;123mTrain Acc: \u001b[0m\u001b[1;36m82.78\u001b[0m\u001b[38;2;118;255;123m% | Val Acc: \u001b[0m\u001b[1;36m83.64\u001b[0m\u001b[38;2;118;255;123m%\u001b[0m\n"
      ]
     },
     "metadata": {},
     "output_type": "display_data"
    },
    {
     "name": "stdout",
     "output_type": "stream",
     "text": [
      "Epoch: 036/100 | Batch 001/030 | Train/Val Loss: 0.47\n",
      "Epoch: 036/100 | Batch 002/030 | Train/Val Loss: 0.49\n",
      "Epoch: 036/100 | Batch 003/030 | Train/Val Loss: 0.44\n",
      "Epoch: 036/100 | Batch 004/030 | Train/Val Loss: 0.54\n",
      "Epoch: 036/100 | Batch 005/030 | Train/Val Loss: 0.39\n",
      "Epoch: 036/100 | Batch 006/030 | Train/Val Loss: 0.40\n",
      "Epoch: 036/100 | Batch 007/030 | Train/Val Loss: 0.23\n",
      "Epoch: 036/100 | Batch 008/030 | Train/Val Loss: 0.41\n",
      "Epoch: 036/100 | Batch 009/030 | Train/Val Loss: 0.52\n",
      "Epoch: 036/100 | Batch 010/030 | Train/Val Loss: 0.40\n",
      "Epoch: 036/100 | Batch 011/030 | Train/Val Loss: 0.31\n",
      "Epoch: 036/100 | Batch 012/030 | Train/Val Loss: 0.36\n",
      "Epoch: 036/100 | Batch 013/030 | Train/Val Loss: 0.44\n",
      "Epoch: 036/100 | Batch 014/030 | Train/Val Loss: 0.43\n",
      "Epoch: 036/100 | Batch 015/030 | Train/Val Loss: 0.32\n",
      "Epoch: 036/100 | Batch 016/030 | Train/Val Loss: 0.26\n",
      "Epoch: 036/100 | Batch 017/030 | Train/Val Loss: 0.29\n",
      "Epoch: 036/100 | Batch 018/030 | Train/Val Loss: 0.38\n",
      "Epoch: 036/100 | Batch 019/030 | Train/Val Loss: 0.42\n",
      "Epoch: 036/100 | Batch 020/030 | Train/Val Loss: 0.48\n",
      "Epoch: 036/100 | Batch 021/030 | Train/Val Loss: 0.16\n",
      "Epoch: 036/100 | Batch 022/030 | Train/Val Loss: 0.34\n",
      "Epoch: 036/100 | Batch 023/030 | Train/Val Loss: 0.32\n",
      "Epoch: 036/100 | Batch 024/030 | Train/Val Loss: 0.43\n",
      "Epoch: 036/100 | Batch 025/030 | Train/Val Loss: 0.33\n",
      "Epoch: 036/100 | Batch 026/030 | Train/Val Loss: 0.30\n",
      "Epoch: 036/100 | Batch 027/030 | Train/Val Loss: 0.40\n",
      "Epoch: 036/100 | Batch 028/030 | Train/Val Loss: 0.39\n",
      "Epoch: 036/100 | Batch 029/030 | Train/Val Loss: 0.43\n",
      "Epoch: 036/100 | Batch 030/030 | Train/Val Loss: 0.51\n"
     ]
    },
    {
     "data": {
      "text/html": [
       "<pre style=\"white-space:pre;overflow-x:auto;line-height:normal;font-family:Menlo,'DejaVu Sans Mono',consolas,'Courier New',monospace\"><span style=\"color: #76ff7b; text-decoration-color: #76ff7b\">Train Acc: </span><span style=\"color: #008080; text-decoration-color: #008080; font-weight: bold\">83.32</span><span style=\"color: #76ff7b; text-decoration-color: #76ff7b\">% | Val Acc: </span><span style=\"color: #008080; text-decoration-color: #008080; font-weight: bold\">80.61</span><span style=\"color: #76ff7b; text-decoration-color: #76ff7b\">%</span>\n",
       "</pre>\n"
      ],
      "text/plain": [
       "\u001b[38;2;118;255;123mTrain Acc: \u001b[0m\u001b[1;36m83.32\u001b[0m\u001b[38;2;118;255;123m% | Val Acc: \u001b[0m\u001b[1;36m80.61\u001b[0m\u001b[38;2;118;255;123m%\u001b[0m\n"
      ]
     },
     "metadata": {},
     "output_type": "display_data"
    },
    {
     "name": "stdout",
     "output_type": "stream",
     "text": [
      "Epoch: 037/100 | Batch 001/030 | Train/Val Loss: 0.46\n",
      "Epoch: 037/100 | Batch 002/030 | Train/Val Loss: 0.33\n",
      "Epoch: 037/100 | Batch 003/030 | Train/Val Loss: 0.36\n",
      "Epoch: 037/100 | Batch 004/030 | Train/Val Loss: 0.30\n",
      "Epoch: 037/100 | Batch 005/030 | Train/Val Loss: 0.47\n",
      "Epoch: 037/100 | Batch 006/030 | Train/Val Loss: 0.29\n",
      "Epoch: 037/100 | Batch 007/030 | Train/Val Loss: 0.50\n",
      "Epoch: 037/100 | Batch 008/030 | Train/Val Loss: 0.30\n",
      "Epoch: 037/100 | Batch 009/030 | Train/Val Loss: 0.55\n",
      "Epoch: 037/100 | Batch 010/030 | Train/Val Loss: 0.34\n",
      "Epoch: 037/100 | Batch 011/030 | Train/Val Loss: 0.31\n",
      "Epoch: 037/100 | Batch 012/030 | Train/Val Loss: 0.39\n",
      "Epoch: 037/100 | Batch 013/030 | Train/Val Loss: 0.37\n",
      "Epoch: 037/100 | Batch 014/030 | Train/Val Loss: 0.37\n",
      "Epoch: 037/100 | Batch 015/030 | Train/Val Loss: 0.44\n",
      "Epoch: 037/100 | Batch 016/030 | Train/Val Loss: 0.21\n",
      "Epoch: 037/100 | Batch 017/030 | Train/Val Loss: 0.24\n",
      "Epoch: 037/100 | Batch 018/030 | Train/Val Loss: 0.45\n",
      "Epoch: 037/100 | Batch 019/030 | Train/Val Loss: 0.64\n",
      "Epoch: 037/100 | Batch 020/030 | Train/Val Loss: 0.48\n",
      "Epoch: 037/100 | Batch 021/030 | Train/Val Loss: 0.42\n",
      "Epoch: 037/100 | Batch 022/030 | Train/Val Loss: 0.35\n",
      "Epoch: 037/100 | Batch 023/030 | Train/Val Loss: 0.38\n",
      "Epoch: 037/100 | Batch 024/030 | Train/Val Loss: 0.39\n",
      "Epoch: 037/100 | Batch 025/030 | Train/Val Loss: 0.19\n",
      "Epoch: 037/100 | Batch 026/030 | Train/Val Loss: 0.22\n",
      "Epoch: 037/100 | Batch 027/030 | Train/Val Loss: 0.37\n",
      "Epoch: 037/100 | Batch 028/030 | Train/Val Loss: 0.36\n",
      "Epoch: 037/100 | Batch 029/030 | Train/Val Loss: 0.42\n",
      "Epoch: 037/100 | Batch 030/030 | Train/Val Loss: 0.28\n"
     ]
    },
    {
     "data": {
      "text/html": [
       "<pre style=\"white-space:pre;overflow-x:auto;line-height:normal;font-family:Menlo,'DejaVu Sans Mono',consolas,'Courier New',monospace\"><span style=\"color: #76ff7b; text-decoration-color: #76ff7b\">Train Acc: </span><span style=\"color: #008080; text-decoration-color: #008080; font-weight: bold\">84.17</span><span style=\"color: #76ff7b; text-decoration-color: #76ff7b\">% | Val Acc: </span><span style=\"color: #008080; text-decoration-color: #008080; font-weight: bold\">82.42</span><span style=\"color: #76ff7b; text-decoration-color: #76ff7b\">%</span>\n",
       "</pre>\n"
      ],
      "text/plain": [
       "\u001b[38;2;118;255;123mTrain Acc: \u001b[0m\u001b[1;36m84.17\u001b[0m\u001b[38;2;118;255;123m% | Val Acc: \u001b[0m\u001b[1;36m82.42\u001b[0m\u001b[38;2;118;255;123m%\u001b[0m\n"
      ]
     },
     "metadata": {},
     "output_type": "display_data"
    },
    {
     "name": "stdout",
     "output_type": "stream",
     "text": [
      "Epoch: 038/100 | Batch 001/030 | Train/Val Loss: 0.44\n",
      "Epoch: 038/100 | Batch 002/030 | Train/Val Loss: 0.34\n",
      "Epoch: 038/100 | Batch 003/030 | Train/Val Loss: 0.33\n",
      "Epoch: 038/100 | Batch 004/030 | Train/Val Loss: 0.26\n",
      "Epoch: 038/100 | Batch 005/030 | Train/Val Loss: 0.46\n",
      "Epoch: 038/100 | Batch 006/030 | Train/Val Loss: 0.46\n",
      "Epoch: 038/100 | Batch 007/030 | Train/Val Loss: 0.31\n",
      "Epoch: 038/100 | Batch 008/030 | Train/Val Loss: 0.42\n",
      "Epoch: 038/100 | Batch 009/030 | Train/Val Loss: 0.24\n",
      "Epoch: 038/100 | Batch 010/030 | Train/Val Loss: 0.36\n",
      "Epoch: 038/100 | Batch 011/030 | Train/Val Loss: 0.32\n",
      "Epoch: 038/100 | Batch 012/030 | Train/Val Loss: 0.27\n",
      "Epoch: 038/100 | Batch 013/030 | Train/Val Loss: 0.33\n",
      "Epoch: 038/100 | Batch 014/030 | Train/Val Loss: 0.43\n",
      "Epoch: 038/100 | Batch 015/030 | Train/Val Loss: 0.18\n",
      "Epoch: 038/100 | Batch 016/030 | Train/Val Loss: 0.31\n",
      "Epoch: 038/100 | Batch 017/030 | Train/Val Loss: 0.44\n",
      "Epoch: 038/100 | Batch 018/030 | Train/Val Loss: 0.48\n",
      "Epoch: 038/100 | Batch 019/030 | Train/Val Loss: 0.18\n",
      "Epoch: 038/100 | Batch 020/030 | Train/Val Loss: 0.36\n",
      "Epoch: 038/100 | Batch 021/030 | Train/Val Loss: 0.33\n",
      "Epoch: 038/100 | Batch 022/030 | Train/Val Loss: 0.49\n",
      "Epoch: 038/100 | Batch 023/030 | Train/Val Loss: 0.38\n",
      "Epoch: 038/100 | Batch 024/030 | Train/Val Loss: 0.37\n",
      "Epoch: 038/100 | Batch 025/030 | Train/Val Loss: 0.35\n",
      "Epoch: 038/100 | Batch 026/030 | Train/Val Loss: 0.53\n",
      "Epoch: 038/100 | Batch 027/030 | Train/Val Loss: 0.39\n",
      "Epoch: 038/100 | Batch 028/030 | Train/Val Loss: 0.51\n",
      "Epoch: 038/100 | Batch 029/030 | Train/Val Loss: 0.35\n",
      "Epoch: 038/100 | Batch 030/030 | Train/Val Loss: 0.70\n"
     ]
    },
    {
     "data": {
      "text/html": [
       "<pre style=\"white-space:pre;overflow-x:auto;line-height:normal;font-family:Menlo,'DejaVu Sans Mono',consolas,'Courier New',monospace\"><span style=\"color: #76ff7b; text-decoration-color: #76ff7b\">Train Acc: </span><span style=\"color: #008080; text-decoration-color: #008080; font-weight: bold\">82.57</span><span style=\"color: #76ff7b; text-decoration-color: #76ff7b\">% | Val Acc: </span><span style=\"color: #008080; text-decoration-color: #008080; font-weight: bold\">80.00</span><span style=\"color: #76ff7b; text-decoration-color: #76ff7b\">%</span>\n",
       "</pre>\n"
      ],
      "text/plain": [
       "\u001b[38;2;118;255;123mTrain Acc: \u001b[0m\u001b[1;36m82.57\u001b[0m\u001b[38;2;118;255;123m% | Val Acc: \u001b[0m\u001b[1;36m80.00\u001b[0m\u001b[38;2;118;255;123m%\u001b[0m\n"
      ]
     },
     "metadata": {},
     "output_type": "display_data"
    },
    {
     "name": "stdout",
     "output_type": "stream",
     "text": [
      "Epoch: 039/100 | Batch 001/030 | Train/Val Loss: 0.37\n",
      "Epoch: 039/100 | Batch 002/030 | Train/Val Loss: 0.36\n",
      "Epoch: 039/100 | Batch 003/030 | Train/Val Loss: 0.34\n",
      "Epoch: 039/100 | Batch 004/030 | Train/Val Loss: 0.46\n",
      "Epoch: 039/100 | Batch 005/030 | Train/Val Loss: 0.42\n",
      "Epoch: 039/100 | Batch 006/030 | Train/Val Loss: 0.45\n",
      "Epoch: 039/100 | Batch 007/030 | Train/Val Loss: 0.46\n",
      "Epoch: 039/100 | Batch 008/030 | Train/Val Loss: 0.48\n",
      "Epoch: 039/100 | Batch 009/030 | Train/Val Loss: 0.34\n",
      "Epoch: 039/100 | Batch 010/030 | Train/Val Loss: 0.30\n",
      "Epoch: 039/100 | Batch 011/030 | Train/Val Loss: 0.36\n",
      "Epoch: 039/100 | Batch 012/030 | Train/Val Loss: 0.37\n",
      "Epoch: 039/100 | Batch 013/030 | Train/Val Loss: 0.57\n",
      "Epoch: 039/100 | Batch 014/030 | Train/Val Loss: 0.22\n",
      "Epoch: 039/100 | Batch 015/030 | Train/Val Loss: 0.33\n",
      "Epoch: 039/100 | Batch 016/030 | Train/Val Loss: 0.37\n",
      "Epoch: 039/100 | Batch 017/030 | Train/Val Loss: 0.43\n",
      "Epoch: 039/100 | Batch 018/030 | Train/Val Loss: 0.37\n",
      "Epoch: 039/100 | Batch 019/030 | Train/Val Loss: 0.44\n",
      "Epoch: 039/100 | Batch 020/030 | Train/Val Loss: 0.32\n",
      "Epoch: 039/100 | Batch 021/030 | Train/Val Loss: 0.15\n",
      "Epoch: 039/100 | Batch 022/030 | Train/Val Loss: 0.29\n",
      "Epoch: 039/100 | Batch 023/030 | Train/Val Loss: 0.24\n",
      "Epoch: 039/100 | Batch 024/030 | Train/Val Loss: 0.45\n",
      "Epoch: 039/100 | Batch 025/030 | Train/Val Loss: 0.51\n",
      "Epoch: 039/100 | Batch 026/030 | Train/Val Loss: 0.36\n",
      "Epoch: 039/100 | Batch 027/030 | Train/Val Loss: 0.37\n",
      "Epoch: 039/100 | Batch 028/030 | Train/Val Loss: 0.24\n",
      "Epoch: 039/100 | Batch 029/030 | Train/Val Loss: 0.62\n",
      "Epoch: 039/100 | Batch 030/030 | Train/Val Loss: 0.49\n"
     ]
    },
    {
     "data": {
      "text/html": [
       "<pre style=\"white-space:pre;overflow-x:auto;line-height:normal;font-family:Menlo,'DejaVu Sans Mono',consolas,'Courier New',monospace\"><span style=\"color: #76ff7b; text-decoration-color: #76ff7b\">Train Acc: </span><span style=\"color: #008080; text-decoration-color: #008080; font-weight: bold\">84.06</span><span style=\"color: #76ff7b; text-decoration-color: #76ff7b\">% | Val Acc: </span><span style=\"color: #008080; text-decoration-color: #008080; font-weight: bold\">81.21</span><span style=\"color: #76ff7b; text-decoration-color: #76ff7b\">%</span>\n",
       "</pre>\n"
      ],
      "text/plain": [
       "\u001b[38;2;118;255;123mTrain Acc: \u001b[0m\u001b[1;36m84.06\u001b[0m\u001b[38;2;118;255;123m% | Val Acc: \u001b[0m\u001b[1;36m81.21\u001b[0m\u001b[38;2;118;255;123m%\u001b[0m\n"
      ]
     },
     "metadata": {},
     "output_type": "display_data"
    },
    {
     "name": "stdout",
     "output_type": "stream",
     "text": [
      "Epoch: 040/100 | Batch 001/030 | Train/Val Loss: 0.24\n",
      "Epoch: 040/100 | Batch 002/030 | Train/Val Loss: 0.45\n",
      "Epoch: 040/100 | Batch 003/030 | Train/Val Loss: 0.48\n",
      "Epoch: 040/100 | Batch 004/030 | Train/Val Loss: 0.34\n",
      "Epoch: 040/100 | Batch 005/030 | Train/Val Loss: 0.32\n",
      "Epoch: 040/100 | Batch 006/030 | Train/Val Loss: 0.35\n",
      "Epoch: 040/100 | Batch 007/030 | Train/Val Loss: 0.39\n",
      "Epoch: 040/100 | Batch 008/030 | Train/Val Loss: 0.38\n",
      "Epoch: 040/100 | Batch 009/030 | Train/Val Loss: 0.26\n",
      "Epoch: 040/100 | Batch 010/030 | Train/Val Loss: 0.43\n",
      "Epoch: 040/100 | Batch 011/030 | Train/Val Loss: 0.33\n",
      "Epoch: 040/100 | Batch 012/030 | Train/Val Loss: 0.46\n",
      "Epoch: 040/100 | Batch 013/030 | Train/Val Loss: 0.40\n",
      "Epoch: 040/100 | Batch 014/030 | Train/Val Loss: 0.33\n",
      "Epoch: 040/100 | Batch 015/030 | Train/Val Loss: 0.36\n",
      "Epoch: 040/100 | Batch 016/030 | Train/Val Loss: 0.31\n",
      "Epoch: 040/100 | Batch 017/030 | Train/Val Loss: 0.50\n",
      "Epoch: 040/100 | Batch 018/030 | Train/Val Loss: 0.40\n",
      "Epoch: 040/100 | Batch 019/030 | Train/Val Loss: 0.50\n",
      "Epoch: 040/100 | Batch 020/030 | Train/Val Loss: 0.34\n",
      "Epoch: 040/100 | Batch 021/030 | Train/Val Loss: 0.40\n",
      "Epoch: 040/100 | Batch 022/030 | Train/Val Loss: 0.47\n",
      "Epoch: 040/100 | Batch 023/030 | Train/Val Loss: 0.30\n",
      "Epoch: 040/100 | Batch 024/030 | Train/Val Loss: 0.42\n",
      "Epoch: 040/100 | Batch 025/030 | Train/Val Loss: 0.46\n",
      "Epoch: 040/100 | Batch 026/030 | Train/Val Loss: 0.40\n",
      "Epoch: 040/100 | Batch 027/030 | Train/Val Loss: 0.33\n",
      "Epoch: 040/100 | Batch 028/030 | Train/Val Loss: 0.37\n",
      "Epoch: 040/100 | Batch 029/030 | Train/Val Loss: 0.30\n",
      "Epoch: 040/100 | Batch 030/030 | Train/Val Loss: 0.30\n"
     ]
    },
    {
     "data": {
      "text/html": [
       "<pre style=\"white-space:pre;overflow-x:auto;line-height:normal;font-family:Menlo,'DejaVu Sans Mono',consolas,'Courier New',monospace\"><span style=\"color: #76ff7b; text-decoration-color: #76ff7b\">Train Acc: </span><span style=\"color: #008080; text-decoration-color: #008080; font-weight: bold\">84.49</span><span style=\"color: #76ff7b; text-decoration-color: #76ff7b\">% | Val Acc: </span><span style=\"color: #008080; text-decoration-color: #008080; font-weight: bold\">82.42</span><span style=\"color: #76ff7b; text-decoration-color: #76ff7b\">%</span>\n",
       "</pre>\n"
      ],
      "text/plain": [
       "\u001b[38;2;118;255;123mTrain Acc: \u001b[0m\u001b[1;36m84.49\u001b[0m\u001b[38;2;118;255;123m% | Val Acc: \u001b[0m\u001b[1;36m82.42\u001b[0m\u001b[38;2;118;255;123m%\u001b[0m\n"
      ]
     },
     "metadata": {},
     "output_type": "display_data"
    },
    {
     "name": "stdout",
     "output_type": "stream",
     "text": [
      "Epoch: 041/100 | Batch 001/030 | Train/Val Loss: 0.43\n",
      "Epoch: 041/100 | Batch 002/030 | Train/Val Loss: 0.41\n",
      "Epoch: 041/100 | Batch 003/030 | Train/Val Loss: 0.36\n",
      "Epoch: 041/100 | Batch 004/030 | Train/Val Loss: 0.39\n",
      "Epoch: 041/100 | Batch 005/030 | Train/Val Loss: 0.56\n",
      "Epoch: 041/100 | Batch 006/030 | Train/Val Loss: 0.29\n",
      "Epoch: 041/100 | Batch 007/030 | Train/Val Loss: 0.35\n",
      "Epoch: 041/100 | Batch 008/030 | Train/Val Loss: 0.40\n",
      "Epoch: 041/100 | Batch 009/030 | Train/Val Loss: 0.38\n",
      "Epoch: 041/100 | Batch 010/030 | Train/Val Loss: 0.35\n",
      "Epoch: 041/100 | Batch 011/030 | Train/Val Loss: 0.27\n",
      "Epoch: 041/100 | Batch 012/030 | Train/Val Loss: 0.34\n",
      "Epoch: 041/100 | Batch 013/030 | Train/Val Loss: 0.23\n",
      "Epoch: 041/100 | Batch 014/030 | Train/Val Loss: 0.30\n",
      "Epoch: 041/100 | Batch 015/030 | Train/Val Loss: 0.48\n",
      "Epoch: 041/100 | Batch 016/030 | Train/Val Loss: 0.70\n",
      "Epoch: 041/100 | Batch 017/030 | Train/Val Loss: 0.40\n",
      "Epoch: 041/100 | Batch 018/030 | Train/Val Loss: 0.19\n",
      "Epoch: 041/100 | Batch 019/030 | Train/Val Loss: 0.33\n",
      "Epoch: 041/100 | Batch 020/030 | Train/Val Loss: 0.25\n",
      "Epoch: 041/100 | Batch 021/030 | Train/Val Loss: 0.52\n",
      "Epoch: 041/100 | Batch 022/030 | Train/Val Loss: 0.39\n",
      "Epoch: 041/100 | Batch 023/030 | Train/Val Loss: 0.28\n",
      "Epoch: 041/100 | Batch 024/030 | Train/Val Loss: 0.42\n",
      "Epoch: 041/100 | Batch 025/030 | Train/Val Loss: 0.42\n",
      "Epoch: 041/100 | Batch 026/030 | Train/Val Loss: 0.35\n",
      "Epoch: 041/100 | Batch 027/030 | Train/Val Loss: 0.34\n",
      "Epoch: 041/100 | Batch 028/030 | Train/Val Loss: 0.33\n",
      "Epoch: 041/100 | Batch 029/030 | Train/Val Loss: 0.40\n",
      "Epoch: 041/100 | Batch 030/030 | Train/Val Loss: 0.20\n"
     ]
    },
    {
     "data": {
      "text/html": [
       "<pre style=\"white-space:pre;overflow-x:auto;line-height:normal;font-family:Menlo,'DejaVu Sans Mono',consolas,'Courier New',monospace\"><span style=\"color: #76ff7b; text-decoration-color: #76ff7b\">Train Acc: </span><span style=\"color: #008080; text-decoration-color: #008080; font-weight: bold\">84.17</span><span style=\"color: #76ff7b; text-decoration-color: #76ff7b\">% | Val Acc: </span><span style=\"color: #008080; text-decoration-color: #008080; font-weight: bold\">83.03</span><span style=\"color: #76ff7b; text-decoration-color: #76ff7b\">%</span>\n",
       "</pre>\n"
      ],
      "text/plain": [
       "\u001b[38;2;118;255;123mTrain Acc: \u001b[0m\u001b[1;36m84.17\u001b[0m\u001b[38;2;118;255;123m% | Val Acc: \u001b[0m\u001b[1;36m83.03\u001b[0m\u001b[38;2;118;255;123m%\u001b[0m\n"
      ]
     },
     "metadata": {},
     "output_type": "display_data"
    },
    {
     "name": "stdout",
     "output_type": "stream",
     "text": [
      "Epoch: 042/100 | Batch 001/030 | Train/Val Loss: 0.54\n",
      "Epoch: 042/100 | Batch 002/030 | Train/Val Loss: 0.35\n",
      "Epoch: 042/100 | Batch 003/030 | Train/Val Loss: 0.44\n",
      "Epoch: 042/100 | Batch 004/030 | Train/Val Loss: 0.35\n",
      "Epoch: 042/100 | Batch 005/030 | Train/Val Loss: 0.43\n",
      "Epoch: 042/100 | Batch 006/030 | Train/Val Loss: 0.61\n",
      "Epoch: 042/100 | Batch 007/030 | Train/Val Loss: 0.25\n",
      "Epoch: 042/100 | Batch 008/030 | Train/Val Loss: 0.36\n",
      "Epoch: 042/100 | Batch 009/030 | Train/Val Loss: 0.45\n",
      "Epoch: 042/100 | Batch 010/030 | Train/Val Loss: 0.47\n",
      "Epoch: 042/100 | Batch 011/030 | Train/Val Loss: 0.29\n",
      "Epoch: 042/100 | Batch 012/030 | Train/Val Loss: 0.32\n",
      "Epoch: 042/100 | Batch 013/030 | Train/Val Loss: 0.27\n",
      "Epoch: 042/100 | Batch 014/030 | Train/Val Loss: 0.32\n",
      "Epoch: 042/100 | Batch 015/030 | Train/Val Loss: 0.41\n",
      "Epoch: 042/100 | Batch 016/030 | Train/Val Loss: 0.32\n",
      "Epoch: 042/100 | Batch 017/030 | Train/Val Loss: 0.37\n",
      "Epoch: 042/100 | Batch 018/030 | Train/Val Loss: 0.35\n",
      "Epoch: 042/100 | Batch 019/030 | Train/Val Loss: 0.30\n",
      "Epoch: 042/100 | Batch 020/030 | Train/Val Loss: 0.26\n",
      "Epoch: 042/100 | Batch 021/030 | Train/Val Loss: 0.36\n",
      "Epoch: 042/100 | Batch 022/030 | Train/Val Loss: 0.42\n",
      "Epoch: 042/100 | Batch 023/030 | Train/Val Loss: 0.48\n",
      "Epoch: 042/100 | Batch 024/030 | Train/Val Loss: 0.43\n",
      "Epoch: 042/100 | Batch 025/030 | Train/Val Loss: 0.30\n",
      "Epoch: 042/100 | Batch 026/030 | Train/Val Loss: 0.46\n",
      "Epoch: 042/100 | Batch 027/030 | Train/Val Loss: 0.23\n",
      "Epoch: 042/100 | Batch 028/030 | Train/Val Loss: 0.38\n",
      "Epoch: 042/100 | Batch 029/030 | Train/Val Loss: 0.48\n",
      "Epoch: 042/100 | Batch 030/030 | Train/Val Loss: 0.14\n"
     ]
    },
    {
     "data": {
      "text/html": [
       "<pre style=\"white-space:pre;overflow-x:auto;line-height:normal;font-family:Menlo,'DejaVu Sans Mono',consolas,'Courier New',monospace\"><span style=\"color: #76ff7b; text-decoration-color: #76ff7b\">Train Acc: </span><span style=\"color: #008080; text-decoration-color: #008080; font-weight: bold\">84.92</span><span style=\"color: #76ff7b; text-decoration-color: #76ff7b\">% | Val Acc: </span><span style=\"color: #008080; text-decoration-color: #008080; font-weight: bold\">81.82</span><span style=\"color: #76ff7b; text-decoration-color: #76ff7b\">%</span>\n",
       "</pre>\n"
      ],
      "text/plain": [
       "\u001b[38;2;118;255;123mTrain Acc: \u001b[0m\u001b[1;36m84.92\u001b[0m\u001b[38;2;118;255;123m% | Val Acc: \u001b[0m\u001b[1;36m81.82\u001b[0m\u001b[38;2;118;255;123m%\u001b[0m\n"
      ]
     },
     "metadata": {},
     "output_type": "display_data"
    },
    {
     "name": "stdout",
     "output_type": "stream",
     "text": [
      "Epoch: 043/100 | Batch 001/030 | Train/Val Loss: 0.43\n",
      "Epoch: 043/100 | Batch 002/030 | Train/Val Loss: 0.47\n",
      "Epoch: 043/100 | Batch 003/030 | Train/Val Loss: 0.29\n",
      "Epoch: 043/100 | Batch 004/030 | Train/Val Loss: 0.27\n",
      "Epoch: 043/100 | Batch 005/030 | Train/Val Loss: 0.37\n",
      "Epoch: 043/100 | Batch 006/030 | Train/Val Loss: 0.54\n",
      "Epoch: 043/100 | Batch 007/030 | Train/Val Loss: 0.43\n",
      "Epoch: 043/100 | Batch 008/030 | Train/Val Loss: 0.25\n",
      "Epoch: 043/100 | Batch 009/030 | Train/Val Loss: 0.36\n",
      "Epoch: 043/100 | Batch 010/030 | Train/Val Loss: 0.33\n",
      "Epoch: 043/100 | Batch 011/030 | Train/Val Loss: 0.26\n",
      "Epoch: 043/100 | Batch 012/030 | Train/Val Loss: 0.45\n",
      "Epoch: 043/100 | Batch 013/030 | Train/Val Loss: 0.33\n",
      "Epoch: 043/100 | Batch 014/030 | Train/Val Loss: 0.39\n",
      "Epoch: 043/100 | Batch 015/030 | Train/Val Loss: 0.42\n",
      "Epoch: 043/100 | Batch 016/030 | Train/Val Loss: 0.28\n",
      "Epoch: 043/100 | Batch 017/030 | Train/Val Loss: 0.41\n",
      "Epoch: 043/100 | Batch 018/030 | Train/Val Loss: 0.41\n",
      "Epoch: 043/100 | Batch 019/030 | Train/Val Loss: 0.27\n",
      "Epoch: 043/100 | Batch 020/030 | Train/Val Loss: 0.42\n",
      "Epoch: 043/100 | Batch 021/030 | Train/Val Loss: 0.65\n",
      "Epoch: 043/100 | Batch 022/030 | Train/Val Loss: 0.41\n",
      "Epoch: 043/100 | Batch 023/030 | Train/Val Loss: 0.38\n",
      "Epoch: 043/100 | Batch 024/030 | Train/Val Loss: 0.31\n",
      "Epoch: 043/100 | Batch 025/030 | Train/Val Loss: 0.23\n",
      "Epoch: 043/100 | Batch 026/030 | Train/Val Loss: 0.35\n",
      "Epoch: 043/100 | Batch 027/030 | Train/Val Loss: 0.38\n",
      "Epoch: 043/100 | Batch 028/030 | Train/Val Loss: 0.39\n",
      "Epoch: 043/100 | Batch 029/030 | Train/Val Loss: 0.34\n",
      "Epoch: 043/100 | Batch 030/030 | Train/Val Loss: 0.26\n"
     ]
    },
    {
     "data": {
      "text/html": [
       "<pre style=\"white-space:pre;overflow-x:auto;line-height:normal;font-family:Menlo,'DejaVu Sans Mono',consolas,'Courier New',monospace\"><span style=\"color: #76ff7b; text-decoration-color: #76ff7b\">Train Acc: </span><span style=\"color: #008080; text-decoration-color: #008080; font-weight: bold\">83.96</span><span style=\"color: #76ff7b; text-decoration-color: #76ff7b\">% | Val Acc: </span><span style=\"color: #008080; text-decoration-color: #008080; font-weight: bold\">83.64</span><span style=\"color: #76ff7b; text-decoration-color: #76ff7b\">%</span>\n",
       "</pre>\n"
      ],
      "text/plain": [
       "\u001b[38;2;118;255;123mTrain Acc: \u001b[0m\u001b[1;36m83.96\u001b[0m\u001b[38;2;118;255;123m% | Val Acc: \u001b[0m\u001b[1;36m83.64\u001b[0m\u001b[38;2;118;255;123m%\u001b[0m\n"
      ]
     },
     "metadata": {},
     "output_type": "display_data"
    },
    {
     "name": "stdout",
     "output_type": "stream",
     "text": [
      "Epoch: 044/100 | Batch 001/030 | Train/Val Loss: 0.30\n",
      "Epoch: 044/100 | Batch 002/030 | Train/Val Loss: 0.32\n",
      "Epoch: 044/100 | Batch 003/030 | Train/Val Loss: 0.31\n",
      "Epoch: 044/100 | Batch 004/030 | Train/Val Loss: 0.36\n",
      "Epoch: 044/100 | Batch 005/030 | Train/Val Loss: 0.38\n",
      "Epoch: 044/100 | Batch 006/030 | Train/Val Loss: 0.46\n",
      "Epoch: 044/100 | Batch 007/030 | Train/Val Loss: 0.31\n",
      "Epoch: 044/100 | Batch 008/030 | Train/Val Loss: 0.19\n",
      "Epoch: 044/100 | Batch 009/030 | Train/Val Loss: 0.24\n",
      "Epoch: 044/100 | Batch 010/030 | Train/Val Loss: 0.35\n",
      "Epoch: 044/100 | Batch 011/030 | Train/Val Loss: 0.37\n",
      "Epoch: 044/100 | Batch 012/030 | Train/Val Loss: 0.58\n",
      "Epoch: 044/100 | Batch 013/030 | Train/Val Loss: 0.37\n",
      "Epoch: 044/100 | Batch 014/030 | Train/Val Loss: 0.34\n",
      "Epoch: 044/100 | Batch 015/030 | Train/Val Loss: 0.45\n",
      "Epoch: 044/100 | Batch 016/030 | Train/Val Loss: 0.24\n",
      "Epoch: 044/100 | Batch 017/030 | Train/Val Loss: 0.27\n",
      "Epoch: 044/100 | Batch 018/030 | Train/Val Loss: 0.32\n",
      "Epoch: 044/100 | Batch 019/030 | Train/Val Loss: 0.38\n",
      "Epoch: 044/100 | Batch 020/030 | Train/Val Loss: 0.40\n",
      "Epoch: 044/100 | Batch 021/030 | Train/Val Loss: 0.39\n",
      "Epoch: 044/100 | Batch 022/030 | Train/Val Loss: 0.35\n",
      "Epoch: 044/100 | Batch 023/030 | Train/Val Loss: 0.31\n",
      "Epoch: 044/100 | Batch 024/030 | Train/Val Loss: 0.37\n",
      "Epoch: 044/100 | Batch 025/030 | Train/Val Loss: 0.28\n",
      "Epoch: 044/100 | Batch 026/030 | Train/Val Loss: 0.44\n",
      "Epoch: 044/100 | Batch 027/030 | Train/Val Loss: 0.53\n",
      "Epoch: 044/100 | Batch 028/030 | Train/Val Loss: 0.51\n",
      "Epoch: 044/100 | Batch 029/030 | Train/Val Loss: 0.39\n",
      "Epoch: 044/100 | Batch 030/030 | Train/Val Loss: 0.21\n"
     ]
    },
    {
     "data": {
      "text/html": [
       "<pre style=\"white-space:pre;overflow-x:auto;line-height:normal;font-family:Menlo,'DejaVu Sans Mono',consolas,'Courier New',monospace\"><span style=\"color: #76ff7b; text-decoration-color: #76ff7b\">Train Acc: </span><span style=\"color: #008080; text-decoration-color: #008080; font-weight: bold\">84.71</span><span style=\"color: #76ff7b; text-decoration-color: #76ff7b\">% | Val Acc: </span><span style=\"color: #008080; text-decoration-color: #008080; font-weight: bold\">83.03</span><span style=\"color: #76ff7b; text-decoration-color: #76ff7b\">%</span>\n",
       "</pre>\n"
      ],
      "text/plain": [
       "\u001b[38;2;118;255;123mTrain Acc: \u001b[0m\u001b[1;36m84.71\u001b[0m\u001b[38;2;118;255;123m% | Val Acc: \u001b[0m\u001b[1;36m83.03\u001b[0m\u001b[38;2;118;255;123m%\u001b[0m\n"
      ]
     },
     "metadata": {},
     "output_type": "display_data"
    },
    {
     "name": "stdout",
     "output_type": "stream",
     "text": [
      "Epoch: 045/100 | Batch 001/030 | Train/Val Loss: 0.49\n",
      "Epoch: 045/100 | Batch 002/030 | Train/Val Loss: 0.31\n",
      "Epoch: 045/100 | Batch 003/030 | Train/Val Loss: 0.35\n",
      "Epoch: 045/100 | Batch 004/030 | Train/Val Loss: 0.42\n",
      "Epoch: 045/100 | Batch 005/030 | Train/Val Loss: 0.43\n",
      "Epoch: 045/100 | Batch 006/030 | Train/Val Loss: 0.27\n",
      "Epoch: 045/100 | Batch 007/030 | Train/Val Loss: 0.29\n",
      "Epoch: 045/100 | Batch 008/030 | Train/Val Loss: 0.34\n",
      "Epoch: 045/100 | Batch 009/030 | Train/Val Loss: 0.45\n",
      "Epoch: 045/100 | Batch 010/030 | Train/Val Loss: 0.39\n",
      "Epoch: 045/100 | Batch 011/030 | Train/Val Loss: 0.34\n",
      "Epoch: 045/100 | Batch 012/030 | Train/Val Loss: 0.24\n",
      "Epoch: 045/100 | Batch 013/030 | Train/Val Loss: 0.37\n",
      "Epoch: 045/100 | Batch 014/030 | Train/Val Loss: 0.37\n",
      "Epoch: 045/100 | Batch 015/030 | Train/Val Loss: 0.47\n",
      "Epoch: 045/100 | Batch 016/030 | Train/Val Loss: 0.29\n",
      "Epoch: 045/100 | Batch 017/030 | Train/Val Loss: 0.30\n",
      "Epoch: 045/100 | Batch 018/030 | Train/Val Loss: 0.27\n",
      "Epoch: 045/100 | Batch 019/030 | Train/Val Loss: 0.35\n",
      "Epoch: 045/100 | Batch 020/030 | Train/Val Loss: 0.24\n",
      "Epoch: 045/100 | Batch 021/030 | Train/Val Loss: 0.54\n",
      "Epoch: 045/100 | Batch 022/030 | Train/Val Loss: 0.30\n",
      "Epoch: 045/100 | Batch 023/030 | Train/Val Loss: 0.36\n",
      "Epoch: 045/100 | Batch 024/030 | Train/Val Loss: 0.35\n",
      "Epoch: 045/100 | Batch 025/030 | Train/Val Loss: 0.36\n",
      "Epoch: 045/100 | Batch 026/030 | Train/Val Loss: 0.35\n",
      "Epoch: 045/100 | Batch 027/030 | Train/Val Loss: 0.23\n",
      "Epoch: 045/100 | Batch 028/030 | Train/Val Loss: 0.50\n",
      "Epoch: 045/100 | Batch 029/030 | Train/Val Loss: 0.47\n",
      "Epoch: 045/100 | Batch 030/030 | Train/Val Loss: 0.49\n"
     ]
    },
    {
     "data": {
      "text/html": [
       "<pre style=\"white-space:pre;overflow-x:auto;line-height:normal;font-family:Menlo,'DejaVu Sans Mono',consolas,'Courier New',monospace\"><span style=\"color: #76ff7b; text-decoration-color: #76ff7b\">Train Acc: </span><span style=\"color: #008080; text-decoration-color: #008080; font-weight: bold\">84.49</span><span style=\"color: #76ff7b; text-decoration-color: #76ff7b\">% | Val Acc: </span><span style=\"color: #008080; text-decoration-color: #008080; font-weight: bold\">82.42</span><span style=\"color: #76ff7b; text-decoration-color: #76ff7b\">%</span>\n",
       "</pre>\n"
      ],
      "text/plain": [
       "\u001b[38;2;118;255;123mTrain Acc: \u001b[0m\u001b[1;36m84.49\u001b[0m\u001b[38;2;118;255;123m% | Val Acc: \u001b[0m\u001b[1;36m82.42\u001b[0m\u001b[38;2;118;255;123m%\u001b[0m\n"
      ]
     },
     "metadata": {},
     "output_type": "display_data"
    },
    {
     "name": "stdout",
     "output_type": "stream",
     "text": [
      "Epoch: 046/100 | Batch 001/030 | Train/Val Loss: 0.30\n",
      "Epoch: 046/100 | Batch 002/030 | Train/Val Loss: 0.25\n",
      "Epoch: 046/100 | Batch 003/030 | Train/Val Loss: 0.49\n",
      "Epoch: 046/100 | Batch 004/030 | Train/Val Loss: 0.32\n",
      "Epoch: 046/100 | Batch 005/030 | Train/Val Loss: 0.38\n",
      "Epoch: 046/100 | Batch 006/030 | Train/Val Loss: 0.50\n",
      "Epoch: 046/100 | Batch 007/030 | Train/Val Loss: 0.32\n",
      "Epoch: 046/100 | Batch 008/030 | Train/Val Loss: 0.33\n",
      "Epoch: 046/100 | Batch 009/030 | Train/Val Loss: 0.31\n",
      "Epoch: 046/100 | Batch 010/030 | Train/Val Loss: 0.45\n",
      "Epoch: 046/100 | Batch 011/030 | Train/Val Loss: 0.32\n",
      "Epoch: 046/100 | Batch 012/030 | Train/Val Loss: 0.36\n",
      "Epoch: 046/100 | Batch 013/030 | Train/Val Loss: 0.25\n",
      "Epoch: 046/100 | Batch 014/030 | Train/Val Loss: 0.32\n",
      "Epoch: 046/100 | Batch 015/030 | Train/Val Loss: 0.33\n",
      "Epoch: 046/100 | Batch 016/030 | Train/Val Loss: 0.29\n",
      "Epoch: 046/100 | Batch 017/030 | Train/Val Loss: 0.48\n",
      "Epoch: 046/100 | Batch 018/030 | Train/Val Loss: 0.32\n",
      "Epoch: 046/100 | Batch 019/030 | Train/Val Loss: 0.39\n",
      "Epoch: 046/100 | Batch 020/030 | Train/Val Loss: 0.32\n",
      "Epoch: 046/100 | Batch 021/030 | Train/Val Loss: 0.60\n",
      "Epoch: 046/100 | Batch 022/030 | Train/Val Loss: 0.54\n",
      "Epoch: 046/100 | Batch 023/030 | Train/Val Loss: 0.31\n",
      "Epoch: 046/100 | Batch 024/030 | Train/Val Loss: 0.38\n",
      "Epoch: 046/100 | Batch 025/030 | Train/Val Loss: 0.29\n",
      "Epoch: 046/100 | Batch 026/030 | Train/Val Loss: 0.35\n",
      "Epoch: 046/100 | Batch 027/030 | Train/Val Loss: 0.33\n",
      "Epoch: 046/100 | Batch 028/030 | Train/Val Loss: 0.44\n",
      "Epoch: 046/100 | Batch 029/030 | Train/Val Loss: 0.29\n",
      "Epoch: 046/100 | Batch 030/030 | Train/Val Loss: 0.24\n"
     ]
    },
    {
     "data": {
      "text/html": [
       "<pre style=\"white-space:pre;overflow-x:auto;line-height:normal;font-family:Menlo,'DejaVu Sans Mono',consolas,'Courier New',monospace\"><span style=\"color: #76ff7b; text-decoration-color: #76ff7b\">Train Acc: </span><span style=\"color: #008080; text-decoration-color: #008080; font-weight: bold\">84.49</span><span style=\"color: #76ff7b; text-decoration-color: #76ff7b\">% | Val Acc: </span><span style=\"color: #008080; text-decoration-color: #008080; font-weight: bold\">82.42</span><span style=\"color: #76ff7b; text-decoration-color: #76ff7b\">%</span>\n",
       "</pre>\n"
      ],
      "text/plain": [
       "\u001b[38;2;118;255;123mTrain Acc: \u001b[0m\u001b[1;36m84.49\u001b[0m\u001b[38;2;118;255;123m% | Val Acc: \u001b[0m\u001b[1;36m82.42\u001b[0m\u001b[38;2;118;255;123m%\u001b[0m\n"
      ]
     },
     "metadata": {},
     "output_type": "display_data"
    },
    {
     "name": "stdout",
     "output_type": "stream",
     "text": [
      "Epoch: 047/100 | Batch 001/030 | Train/Val Loss: 0.40\n",
      "Epoch: 047/100 | Batch 002/030 | Train/Val Loss: 0.27\n",
      "Epoch: 047/100 | Batch 003/030 | Train/Val Loss: 0.22\n",
      "Epoch: 047/100 | Batch 004/030 | Train/Val Loss: 0.37\n",
      "Epoch: 047/100 | Batch 005/030 | Train/Val Loss: 0.25\n",
      "Epoch: 047/100 | Batch 006/030 | Train/Val Loss: 0.35\n",
      "Epoch: 047/100 | Batch 007/030 | Train/Val Loss: 0.35\n",
      "Epoch: 047/100 | Batch 008/030 | Train/Val Loss: 0.45\n",
      "Epoch: 047/100 | Batch 009/030 | Train/Val Loss: 0.34\n",
      "Epoch: 047/100 | Batch 010/030 | Train/Val Loss: 0.45\n",
      "Epoch: 047/100 | Batch 011/030 | Train/Val Loss: 0.50\n",
      "Epoch: 047/100 | Batch 012/030 | Train/Val Loss: 0.48\n",
      "Epoch: 047/100 | Batch 013/030 | Train/Val Loss: 0.56\n",
      "Epoch: 047/100 | Batch 014/030 | Train/Val Loss: 0.37\n",
      "Epoch: 047/100 | Batch 015/030 | Train/Val Loss: 0.32\n",
      "Epoch: 047/100 | Batch 016/030 | Train/Val Loss: 0.48\n",
      "Epoch: 047/100 | Batch 017/030 | Train/Val Loss: 0.45\n",
      "Epoch: 047/100 | Batch 018/030 | Train/Val Loss: 0.35\n",
      "Epoch: 047/100 | Batch 019/030 | Train/Val Loss: 0.32\n",
      "Epoch: 047/100 | Batch 020/030 | Train/Val Loss: 0.51\n",
      "Epoch: 047/100 | Batch 021/030 | Train/Val Loss: 0.30\n",
      "Epoch: 047/100 | Batch 022/030 | Train/Val Loss: 0.41\n",
      "Epoch: 047/100 | Batch 023/030 | Train/Val Loss: 0.27\n",
      "Epoch: 047/100 | Batch 024/030 | Train/Val Loss: 0.46\n",
      "Epoch: 047/100 | Batch 025/030 | Train/Val Loss: 0.33\n",
      "Epoch: 047/100 | Batch 026/030 | Train/Val Loss: 0.33\n",
      "Epoch: 047/100 | Batch 027/030 | Train/Val Loss: 0.21\n",
      "Epoch: 047/100 | Batch 028/030 | Train/Val Loss: 0.34\n",
      "Epoch: 047/100 | Batch 029/030 | Train/Val Loss: 0.31\n",
      "Epoch: 047/100 | Batch 030/030 | Train/Val Loss: 0.24\n"
     ]
    },
    {
     "data": {
      "text/html": [
       "<pre style=\"white-space:pre;overflow-x:auto;line-height:normal;font-family:Menlo,'DejaVu Sans Mono',consolas,'Courier New',monospace\"><span style=\"color: #76ff7b; text-decoration-color: #76ff7b\">Train Acc: </span><span style=\"color: #008080; text-decoration-color: #008080; font-weight: bold\">84.28</span><span style=\"color: #76ff7b; text-decoration-color: #76ff7b\">% | Val Acc: </span><span style=\"color: #008080; text-decoration-color: #008080; font-weight: bold\">83.03</span><span style=\"color: #76ff7b; text-decoration-color: #76ff7b\">%</span>\n",
       "</pre>\n"
      ],
      "text/plain": [
       "\u001b[38;2;118;255;123mTrain Acc: \u001b[0m\u001b[1;36m84.28\u001b[0m\u001b[38;2;118;255;123m% | Val Acc: \u001b[0m\u001b[1;36m83.03\u001b[0m\u001b[38;2;118;255;123m%\u001b[0m\n"
      ]
     },
     "metadata": {},
     "output_type": "display_data"
    },
    {
     "name": "stdout",
     "output_type": "stream",
     "text": [
      "Epoch: 048/100 | Batch 001/030 | Train/Val Loss: 0.46\n",
      "Epoch: 048/100 | Batch 002/030 | Train/Val Loss: 0.40\n",
      "Epoch: 048/100 | Batch 003/030 | Train/Val Loss: 0.37\n",
      "Epoch: 048/100 | Batch 004/030 | Train/Val Loss: 0.32\n",
      "Epoch: 048/100 | Batch 005/030 | Train/Val Loss: 0.25\n",
      "Epoch: 048/100 | Batch 006/030 | Train/Val Loss: 0.49\n",
      "Epoch: 048/100 | Batch 007/030 | Train/Val Loss: 0.27\n",
      "Epoch: 048/100 | Batch 008/030 | Train/Val Loss: 0.36\n",
      "Epoch: 048/100 | Batch 009/030 | Train/Val Loss: 0.26\n",
      "Epoch: 048/100 | Batch 010/030 | Train/Val Loss: 0.50\n",
      "Epoch: 048/100 | Batch 011/030 | Train/Val Loss: 0.44\n",
      "Epoch: 048/100 | Batch 012/030 | Train/Val Loss: 0.47\n",
      "Epoch: 048/100 | Batch 013/030 | Train/Val Loss: 0.25\n",
      "Epoch: 048/100 | Batch 014/030 | Train/Val Loss: 0.15\n",
      "Epoch: 048/100 | Batch 015/030 | Train/Val Loss: 0.33\n",
      "Epoch: 048/100 | Batch 016/030 | Train/Val Loss: 0.41\n",
      "Epoch: 048/100 | Batch 017/030 | Train/Val Loss: 0.48\n",
      "Epoch: 048/100 | Batch 018/030 | Train/Val Loss: 0.25\n",
      "Epoch: 048/100 | Batch 019/030 | Train/Val Loss: 0.38\n",
      "Epoch: 048/100 | Batch 020/030 | Train/Val Loss: 0.18\n",
      "Epoch: 048/100 | Batch 021/030 | Train/Val Loss: 0.45\n",
      "Epoch: 048/100 | Batch 022/030 | Train/Val Loss: 0.39\n",
      "Epoch: 048/100 | Batch 023/030 | Train/Val Loss: 0.28\n",
      "Epoch: 048/100 | Batch 024/030 | Train/Val Loss: 0.24\n",
      "Epoch: 048/100 | Batch 025/030 | Train/Val Loss: 0.43\n",
      "Epoch: 048/100 | Batch 026/030 | Train/Val Loss: 0.35\n",
      "Epoch: 048/100 | Batch 027/030 | Train/Val Loss: 0.37\n",
      "Epoch: 048/100 | Batch 028/030 | Train/Val Loss: 0.50\n",
      "Epoch: 048/100 | Batch 029/030 | Train/Val Loss: 0.33\n",
      "Epoch: 048/100 | Batch 030/030 | Train/Val Loss: 1.21\n"
     ]
    },
    {
     "data": {
      "text/html": [
       "<pre style=\"white-space:pre;overflow-x:auto;line-height:normal;font-family:Menlo,'DejaVu Sans Mono',consolas,'Courier New',monospace\"><span style=\"color: #76ff7b; text-decoration-color: #76ff7b\">Train Acc: </span><span style=\"color: #008080; text-decoration-color: #008080; font-weight: bold\">84.71</span><span style=\"color: #76ff7b; text-decoration-color: #76ff7b\">% | Val Acc: </span><span style=\"color: #008080; text-decoration-color: #008080; font-weight: bold\">81.21</span><span style=\"color: #76ff7b; text-decoration-color: #76ff7b\">%</span>\n",
       "</pre>\n"
      ],
      "text/plain": [
       "\u001b[38;2;118;255;123mTrain Acc: \u001b[0m\u001b[1;36m84.71\u001b[0m\u001b[38;2;118;255;123m% | Val Acc: \u001b[0m\u001b[1;36m81.21\u001b[0m\u001b[38;2;118;255;123m%\u001b[0m\n"
      ]
     },
     "metadata": {},
     "output_type": "display_data"
    },
    {
     "name": "stdout",
     "output_type": "stream",
     "text": [
      "Epoch: 049/100 | Batch 001/030 | Train/Val Loss: 0.25\n",
      "Epoch: 049/100 | Batch 002/030 | Train/Val Loss: 0.27\n",
      "Epoch: 049/100 | Batch 003/030 | Train/Val Loss: 0.34\n",
      "Epoch: 049/100 | Batch 004/030 | Train/Val Loss: 0.30\n",
      "Epoch: 049/100 | Batch 005/030 | Train/Val Loss: 0.43\n",
      "Epoch: 049/100 | Batch 006/030 | Train/Val Loss: 0.30\n",
      "Epoch: 049/100 | Batch 007/030 | Train/Val Loss: 0.39\n",
      "Epoch: 049/100 | Batch 008/030 | Train/Val Loss: 0.39\n",
      "Epoch: 049/100 | Batch 009/030 | Train/Val Loss: 0.32\n",
      "Epoch: 049/100 | Batch 010/030 | Train/Val Loss: 0.49\n",
      "Epoch: 049/100 | Batch 011/030 | Train/Val Loss: 0.36\n",
      "Epoch: 049/100 | Batch 012/030 | Train/Val Loss: 0.35\n",
      "Epoch: 049/100 | Batch 013/030 | Train/Val Loss: 0.44\n",
      "Epoch: 049/100 | Batch 014/030 | Train/Val Loss: 0.28\n",
      "Epoch: 049/100 | Batch 015/030 | Train/Val Loss: 0.34\n",
      "Epoch: 049/100 | Batch 016/030 | Train/Val Loss: 0.38\n",
      "Epoch: 049/100 | Batch 017/030 | Train/Val Loss: 0.33\n",
      "Epoch: 049/100 | Batch 018/030 | Train/Val Loss: 0.29\n",
      "Epoch: 049/100 | Batch 019/030 | Train/Val Loss: 0.35\n",
      "Epoch: 049/100 | Batch 020/030 | Train/Val Loss: 0.34\n",
      "Epoch: 049/100 | Batch 021/030 | Train/Val Loss: 0.50\n",
      "Epoch: 049/100 | Batch 022/030 | Train/Val Loss: 0.45\n",
      "Epoch: 049/100 | Batch 023/030 | Train/Val Loss: 0.39\n",
      "Epoch: 049/100 | Batch 024/030 | Train/Val Loss: 0.37\n",
      "Epoch: 049/100 | Batch 025/030 | Train/Val Loss: 0.39\n",
      "Epoch: 049/100 | Batch 026/030 | Train/Val Loss: 0.67\n",
      "Epoch: 049/100 | Batch 027/030 | Train/Val Loss: 0.51\n",
      "Epoch: 049/100 | Batch 028/030 | Train/Val Loss: 0.55\n",
      "Epoch: 049/100 | Batch 029/030 | Train/Val Loss: 0.34\n",
      "Epoch: 049/100 | Batch 030/030 | Train/Val Loss: 0.16\n"
     ]
    },
    {
     "data": {
      "text/html": [
       "<pre style=\"white-space:pre;overflow-x:auto;line-height:normal;font-family:Menlo,'DejaVu Sans Mono',consolas,'Courier New',monospace\"><span style=\"color: #76ff7b; text-decoration-color: #76ff7b\">Train Acc: </span><span style=\"color: #008080; text-decoration-color: #008080; font-weight: bold\">84.92</span><span style=\"color: #76ff7b; text-decoration-color: #76ff7b\">% | Val Acc: </span><span style=\"color: #008080; text-decoration-color: #008080; font-weight: bold\">83.64</span><span style=\"color: #76ff7b; text-decoration-color: #76ff7b\">%</span>\n",
       "</pre>\n"
      ],
      "text/plain": [
       "\u001b[38;2;118;255;123mTrain Acc: \u001b[0m\u001b[1;36m84.92\u001b[0m\u001b[38;2;118;255;123m% | Val Acc: \u001b[0m\u001b[1;36m83.64\u001b[0m\u001b[38;2;118;255;123m%\u001b[0m\n"
      ]
     },
     "metadata": {},
     "output_type": "display_data"
    },
    {
     "name": "stdout",
     "output_type": "stream",
     "text": [
      "Epoch: 050/100 | Batch 001/030 | Train/Val Loss: 0.28\n",
      "Epoch: 050/100 | Batch 002/030 | Train/Val Loss: 0.29\n",
      "Epoch: 050/100 | Batch 003/030 | Train/Val Loss: 0.41\n",
      "Epoch: 050/100 | Batch 004/030 | Train/Val Loss: 0.32\n",
      "Epoch: 050/100 | Batch 005/030 | Train/Val Loss: 0.32\n",
      "Epoch: 050/100 | Batch 006/030 | Train/Val Loss: 0.28\n",
      "Epoch: 050/100 | Batch 007/030 | Train/Val Loss: 0.38\n",
      "Epoch: 050/100 | Batch 008/030 | Train/Val Loss: 0.37\n",
      "Epoch: 050/100 | Batch 009/030 | Train/Val Loss: 0.62\n",
      "Epoch: 050/100 | Batch 010/030 | Train/Val Loss: 0.32\n",
      "Epoch: 050/100 | Batch 011/030 | Train/Val Loss: 0.55\n",
      "Epoch: 050/100 | Batch 012/030 | Train/Val Loss: 0.38\n",
      "Epoch: 050/100 | Batch 013/030 | Train/Val Loss: 0.26\n",
      "Epoch: 050/100 | Batch 014/030 | Train/Val Loss: 0.51\n",
      "Epoch: 050/100 | Batch 015/030 | Train/Val Loss: 0.34\n",
      "Epoch: 050/100 | Batch 016/030 | Train/Val Loss: 0.27\n",
      "Epoch: 050/100 | Batch 017/030 | Train/Val Loss: 0.38\n",
      "Epoch: 050/100 | Batch 018/030 | Train/Val Loss: 0.37\n",
      "Epoch: 050/100 | Batch 019/030 | Train/Val Loss: 0.36\n",
      "Epoch: 050/100 | Batch 020/030 | Train/Val Loss: 0.35\n",
      "Epoch: 050/100 | Batch 021/030 | Train/Val Loss: 0.33\n",
      "Epoch: 050/100 | Batch 022/030 | Train/Val Loss: 0.51\n",
      "Epoch: 050/100 | Batch 023/030 | Train/Val Loss: 0.19\n",
      "Epoch: 050/100 | Batch 024/030 | Train/Val Loss: 0.44\n",
      "Epoch: 050/100 | Batch 025/030 | Train/Val Loss: 0.45\n",
      "Epoch: 050/100 | Batch 026/030 | Train/Val Loss: 0.31\n",
      "Epoch: 050/100 | Batch 027/030 | Train/Val Loss: 0.42\n",
      "Epoch: 050/100 | Batch 028/030 | Train/Val Loss: 0.32\n",
      "Epoch: 050/100 | Batch 029/030 | Train/Val Loss: 0.22\n",
      "Epoch: 050/100 | Batch 030/030 | Train/Val Loss: 0.21\n"
     ]
    },
    {
     "data": {
      "text/html": [
       "<pre style=\"white-space:pre;overflow-x:auto;line-height:normal;font-family:Menlo,'DejaVu Sans Mono',consolas,'Courier New',monospace\"><span style=\"color: #76ff7b; text-decoration-color: #76ff7b\">Train Acc: </span><span style=\"color: #008080; text-decoration-color: #008080; font-weight: bold\">85.13</span><span style=\"color: #76ff7b; text-decoration-color: #76ff7b\">% | Val Acc: </span><span style=\"color: #008080; text-decoration-color: #008080; font-weight: bold\">84.24</span><span style=\"color: #76ff7b; text-decoration-color: #76ff7b\">%</span>\n",
       "</pre>\n"
      ],
      "text/plain": [
       "\u001b[38;2;118;255;123mTrain Acc: \u001b[0m\u001b[1;36m85.13\u001b[0m\u001b[38;2;118;255;123m% | Val Acc: \u001b[0m\u001b[1;36m84.24\u001b[0m\u001b[38;2;118;255;123m%\u001b[0m\n"
      ]
     },
     "metadata": {},
     "output_type": "display_data"
    },
    {
     "name": "stdout",
     "output_type": "stream",
     "text": [
      "Epoch: 051/100 | Batch 001/030 | Train/Val Loss: 0.28\n",
      "Epoch: 051/100 | Batch 002/030 | Train/Val Loss: 0.37\n",
      "Epoch: 051/100 | Batch 003/030 | Train/Val Loss: 0.36\n",
      "Epoch: 051/100 | Batch 004/030 | Train/Val Loss: 0.41\n",
      "Epoch: 051/100 | Batch 005/030 | Train/Val Loss: 0.27\n",
      "Epoch: 051/100 | Batch 006/030 | Train/Val Loss: 0.30\n",
      "Epoch: 051/100 | Batch 007/030 | Train/Val Loss: 0.25\n",
      "Epoch: 051/100 | Batch 008/030 | Train/Val Loss: 0.38\n",
      "Epoch: 051/100 | Batch 009/030 | Train/Val Loss: 0.46\n",
      "Epoch: 051/100 | Batch 010/030 | Train/Val Loss: 0.42\n",
      "Epoch: 051/100 | Batch 011/030 | Train/Val Loss: 0.55\n",
      "Epoch: 051/100 | Batch 012/030 | Train/Val Loss: 0.32\n",
      "Epoch: 051/100 | Batch 013/030 | Train/Val Loss: 0.37\n",
      "Epoch: 051/100 | Batch 014/030 | Train/Val Loss: 0.20\n",
      "Epoch: 051/100 | Batch 015/030 | Train/Val Loss: 0.45\n",
      "Epoch: 051/100 | Batch 016/030 | Train/Val Loss: 0.42\n",
      "Epoch: 051/100 | Batch 017/030 | Train/Val Loss: 0.30\n",
      "Epoch: 051/100 | Batch 018/030 | Train/Val Loss: 0.50\n",
      "Epoch: 051/100 | Batch 019/030 | Train/Val Loss: 0.34\n",
      "Epoch: 051/100 | Batch 020/030 | Train/Val Loss: 0.45\n",
      "Epoch: 051/100 | Batch 021/030 | Train/Val Loss: 0.30\n",
      "Epoch: 051/100 | Batch 022/030 | Train/Val Loss: 0.40\n",
      "Epoch: 051/100 | Batch 023/030 | Train/Val Loss: 0.34\n",
      "Epoch: 051/100 | Batch 024/030 | Train/Val Loss: 0.30\n",
      "Epoch: 051/100 | Batch 025/030 | Train/Val Loss: 0.50\n",
      "Epoch: 051/100 | Batch 026/030 | Train/Val Loss: 0.45\n",
      "Epoch: 051/100 | Batch 027/030 | Train/Val Loss: 0.31\n",
      "Epoch: 051/100 | Batch 028/030 | Train/Val Loss: 0.23\n",
      "Epoch: 051/100 | Batch 029/030 | Train/Val Loss: 0.28\n",
      "Epoch: 051/100 | Batch 030/030 | Train/Val Loss: 0.20\n"
     ]
    },
    {
     "data": {
      "text/html": [
       "<pre style=\"white-space:pre;overflow-x:auto;line-height:normal;font-family:Menlo,'DejaVu Sans Mono',consolas,'Courier New',monospace\"><span style=\"color: #76ff7b; text-decoration-color: #76ff7b\">Train Acc: </span><span style=\"color: #008080; text-decoration-color: #008080; font-weight: bold\">84.71</span><span style=\"color: #76ff7b; text-decoration-color: #76ff7b\">% | Val Acc: </span><span style=\"color: #008080; text-decoration-color: #008080; font-weight: bold\">84.24</span><span style=\"color: #76ff7b; text-decoration-color: #76ff7b\">%</span>\n",
       "</pre>\n"
      ],
      "text/plain": [
       "\u001b[38;2;118;255;123mTrain Acc: \u001b[0m\u001b[1;36m84.71\u001b[0m\u001b[38;2;118;255;123m% | Val Acc: \u001b[0m\u001b[1;36m84.24\u001b[0m\u001b[38;2;118;255;123m%\u001b[0m\n"
      ]
     },
     "metadata": {},
     "output_type": "display_data"
    },
    {
     "name": "stdout",
     "output_type": "stream",
     "text": [
      "Epoch: 052/100 | Batch 001/030 | Train/Val Loss: 0.29\n",
      "Epoch: 052/100 | Batch 002/030 | Train/Val Loss: 0.41\n",
      "Epoch: 052/100 | Batch 003/030 | Train/Val Loss: 0.36\n",
      "Epoch: 052/100 | Batch 004/030 | Train/Val Loss: 0.37\n",
      "Epoch: 052/100 | Batch 005/030 | Train/Val Loss: 0.53\n",
      "Epoch: 052/100 | Batch 006/030 | Train/Val Loss: 0.40\n",
      "Epoch: 052/100 | Batch 007/030 | Train/Val Loss: 0.46\n",
      "Epoch: 052/100 | Batch 008/030 | Train/Val Loss: 0.24\n",
      "Epoch: 052/100 | Batch 009/030 | Train/Val Loss: 0.34\n",
      "Epoch: 052/100 | Batch 010/030 | Train/Val Loss: 0.52\n",
      "Epoch: 052/100 | Batch 011/030 | Train/Val Loss: 0.33\n",
      "Epoch: 052/100 | Batch 012/030 | Train/Val Loss: 0.43\n",
      "Epoch: 052/100 | Batch 013/030 | Train/Val Loss: 0.38\n",
      "Epoch: 052/100 | Batch 014/030 | Train/Val Loss: 0.33\n",
      "Epoch: 052/100 | Batch 015/030 | Train/Val Loss: 0.27\n",
      "Epoch: 052/100 | Batch 016/030 | Train/Val Loss: 0.37\n",
      "Epoch: 052/100 | Batch 017/030 | Train/Val Loss: 0.32\n",
      "Epoch: 052/100 | Batch 018/030 | Train/Val Loss: 0.43\n",
      "Epoch: 052/100 | Batch 019/030 | Train/Val Loss: 0.38\n",
      "Epoch: 052/100 | Batch 020/030 | Train/Val Loss: 0.31\n",
      "Epoch: 052/100 | Batch 021/030 | Train/Val Loss: 0.42\n",
      "Epoch: 052/100 | Batch 022/030 | Train/Val Loss: 0.24\n",
      "Epoch: 052/100 | Batch 023/030 | Train/Val Loss: 0.22\n",
      "Epoch: 052/100 | Batch 024/030 | Train/Val Loss: 0.41\n",
      "Epoch: 052/100 | Batch 025/030 | Train/Val Loss: 0.22\n",
      "Epoch: 052/100 | Batch 026/030 | Train/Val Loss: 0.30\n",
      "Epoch: 052/100 | Batch 027/030 | Train/Val Loss: 0.31\n",
      "Epoch: 052/100 | Batch 028/030 | Train/Val Loss: 0.32\n",
      "Epoch: 052/100 | Batch 029/030 | Train/Val Loss: 0.24\n",
      "Epoch: 052/100 | Batch 030/030 | Train/Val Loss: 0.20\n"
     ]
    },
    {
     "data": {
      "text/html": [
       "<pre style=\"white-space:pre;overflow-x:auto;line-height:normal;font-family:Menlo,'DejaVu Sans Mono',consolas,'Courier New',monospace\"><span style=\"color: #76ff7b; text-decoration-color: #76ff7b\">Train Acc: </span><span style=\"color: #008080; text-decoration-color: #008080; font-weight: bold\">84.60</span><span style=\"color: #76ff7b; text-decoration-color: #76ff7b\">% | Val Acc: </span><span style=\"color: #008080; text-decoration-color: #008080; font-weight: bold\">81.82</span><span style=\"color: #76ff7b; text-decoration-color: #76ff7b\">%</span>\n",
       "</pre>\n"
      ],
      "text/plain": [
       "\u001b[38;2;118;255;123mTrain Acc: \u001b[0m\u001b[1;36m84.60\u001b[0m\u001b[38;2;118;255;123m% | Val Acc: \u001b[0m\u001b[1;36m81.82\u001b[0m\u001b[38;2;118;255;123m%\u001b[0m\n"
      ]
     },
     "metadata": {},
     "output_type": "display_data"
    },
    {
     "name": "stdout",
     "output_type": "stream",
     "text": [
      "Epoch: 053/100 | Batch 001/030 | Train/Val Loss: 0.24\n",
      "Epoch: 053/100 | Batch 002/030 | Train/Val Loss: 0.24\n",
      "Epoch: 053/100 | Batch 003/030 | Train/Val Loss: 0.25\n",
      "Epoch: 053/100 | Batch 004/030 | Train/Val Loss: 0.27\n",
      "Epoch: 053/100 | Batch 005/030 | Train/Val Loss: 0.28\n",
      "Epoch: 053/100 | Batch 006/030 | Train/Val Loss: 0.43\n",
      "Epoch: 053/100 | Batch 007/030 | Train/Val Loss: 0.61\n",
      "Epoch: 053/100 | Batch 008/030 | Train/Val Loss: 0.26\n",
      "Epoch: 053/100 | Batch 009/030 | Train/Val Loss: 0.49\n",
      "Epoch: 053/100 | Batch 010/030 | Train/Val Loss: 0.51\n",
      "Epoch: 053/100 | Batch 011/030 | Train/Val Loss: 0.27\n",
      "Epoch: 053/100 | Batch 012/030 | Train/Val Loss: 0.38\n",
      "Epoch: 053/100 | Batch 013/030 | Train/Val Loss: 0.40\n",
      "Epoch: 053/100 | Batch 014/030 | Train/Val Loss: 0.19\n",
      "Epoch: 053/100 | Batch 015/030 | Train/Val Loss: 0.56\n",
      "Epoch: 053/100 | Batch 016/030 | Train/Val Loss: 0.48\n",
      "Epoch: 053/100 | Batch 017/030 | Train/Val Loss: 0.35\n",
      "Epoch: 053/100 | Batch 018/030 | Train/Val Loss: 0.50\n",
      "Epoch: 053/100 | Batch 019/030 | Train/Val Loss: 0.33\n",
      "Epoch: 053/100 | Batch 020/030 | Train/Val Loss: 0.26\n",
      "Epoch: 053/100 | Batch 021/030 | Train/Val Loss: 0.36\n",
      "Epoch: 053/100 | Batch 022/030 | Train/Val Loss: 0.32\n",
      "Epoch: 053/100 | Batch 023/030 | Train/Val Loss: 0.34\n",
      "Epoch: 053/100 | Batch 024/030 | Train/Val Loss: 0.40\n",
      "Epoch: 053/100 | Batch 025/030 | Train/Val Loss: 0.17\n",
      "Epoch: 053/100 | Batch 026/030 | Train/Val Loss: 0.30\n",
      "Epoch: 053/100 | Batch 027/030 | Train/Val Loss: 0.35\n",
      "Epoch: 053/100 | Batch 028/030 | Train/Val Loss: 0.46\n",
      "Epoch: 053/100 | Batch 029/030 | Train/Val Loss: 0.48\n",
      "Epoch: 053/100 | Batch 030/030 | Train/Val Loss: 0.24\n"
     ]
    },
    {
     "data": {
      "text/html": [
       "<pre style=\"white-space:pre;overflow-x:auto;line-height:normal;font-family:Menlo,'DejaVu Sans Mono',consolas,'Courier New',monospace\"><span style=\"color: #76ff7b; text-decoration-color: #76ff7b\">Train Acc: </span><span style=\"color: #008080; text-decoration-color: #008080; font-weight: bold\">84.92</span><span style=\"color: #76ff7b; text-decoration-color: #76ff7b\">% | Val Acc: </span><span style=\"color: #008080; text-decoration-color: #008080; font-weight: bold\">84.24</span><span style=\"color: #76ff7b; text-decoration-color: #76ff7b\">%</span>\n",
       "</pre>\n"
      ],
      "text/plain": [
       "\u001b[38;2;118;255;123mTrain Acc: \u001b[0m\u001b[1;36m84.92\u001b[0m\u001b[38;2;118;255;123m% | Val Acc: \u001b[0m\u001b[1;36m84.24\u001b[0m\u001b[38;2;118;255;123m%\u001b[0m\n"
      ]
     },
     "metadata": {},
     "output_type": "display_data"
    },
    {
     "name": "stdout",
     "output_type": "stream",
     "text": [
      "Epoch: 054/100 | Batch 001/030 | Train/Val Loss: 0.23\n",
      "Epoch: 054/100 | Batch 002/030 | Train/Val Loss: 0.38\n",
      "Epoch: 054/100 | Batch 003/030 | Train/Val Loss: 0.40\n",
      "Epoch: 054/100 | Batch 004/030 | Train/Val Loss: 0.33\n",
      "Epoch: 054/100 | Batch 005/030 | Train/Val Loss: 0.40\n",
      "Epoch: 054/100 | Batch 006/030 | Train/Val Loss: 0.23\n",
      "Epoch: 054/100 | Batch 007/030 | Train/Val Loss: 0.39\n",
      "Epoch: 054/100 | Batch 008/030 | Train/Val Loss: 0.41\n",
      "Epoch: 054/100 | Batch 009/030 | Train/Val Loss: 0.53\n",
      "Epoch: 054/100 | Batch 010/030 | Train/Val Loss: 0.26\n",
      "Epoch: 054/100 | Batch 011/030 | Train/Val Loss: 0.43\n",
      "Epoch: 054/100 | Batch 012/030 | Train/Val Loss: 0.36\n",
      "Epoch: 054/100 | Batch 013/030 | Train/Val Loss: 0.34\n",
      "Epoch: 054/100 | Batch 014/030 | Train/Val Loss: 0.39\n",
      "Epoch: 054/100 | Batch 015/030 | Train/Val Loss: 0.28\n",
      "Epoch: 054/100 | Batch 016/030 | Train/Val Loss: 0.29\n",
      "Epoch: 054/100 | Batch 017/030 | Train/Val Loss: 0.29\n",
      "Epoch: 054/100 | Batch 018/030 | Train/Val Loss: 0.19\n",
      "Epoch: 054/100 | Batch 019/030 | Train/Val Loss: 0.37\n",
      "Epoch: 054/100 | Batch 020/030 | Train/Val Loss: 0.31\n",
      "Epoch: 054/100 | Batch 021/030 | Train/Val Loss: 0.40\n",
      "Epoch: 054/100 | Batch 022/030 | Train/Val Loss: 0.38\n",
      "Epoch: 054/100 | Batch 023/030 | Train/Val Loss: 0.32\n",
      "Epoch: 054/100 | Batch 024/030 | Train/Val Loss: 0.28\n",
      "Epoch: 054/100 | Batch 025/030 | Train/Val Loss: 0.36\n",
      "Epoch: 054/100 | Batch 026/030 | Train/Val Loss: 0.43\n",
      "Epoch: 054/100 | Batch 027/030 | Train/Val Loss: 0.38\n",
      "Epoch: 054/100 | Batch 028/030 | Train/Val Loss: 0.46\n",
      "Epoch: 054/100 | Batch 029/030 | Train/Val Loss: 0.26\n",
      "Epoch: 054/100 | Batch 030/030 | Train/Val Loss: 0.65\n"
     ]
    },
    {
     "data": {
      "text/html": [
       "<pre style=\"white-space:pre;overflow-x:auto;line-height:normal;font-family:Menlo,'DejaVu Sans Mono',consolas,'Courier New',monospace\"><span style=\"color: #76ff7b; text-decoration-color: #76ff7b\">Train Acc: </span><span style=\"color: #008080; text-decoration-color: #008080; font-weight: bold\">85.03</span><span style=\"color: #76ff7b; text-decoration-color: #76ff7b\">% | Val Acc: </span><span style=\"color: #008080; text-decoration-color: #008080; font-weight: bold\">81.82</span><span style=\"color: #76ff7b; text-decoration-color: #76ff7b\">%</span>\n",
       "</pre>\n"
      ],
      "text/plain": [
       "\u001b[38;2;118;255;123mTrain Acc: \u001b[0m\u001b[1;36m85.03\u001b[0m\u001b[38;2;118;255;123m% | Val Acc: \u001b[0m\u001b[1;36m81.82\u001b[0m\u001b[38;2;118;255;123m%\u001b[0m\n"
      ]
     },
     "metadata": {},
     "output_type": "display_data"
    },
    {
     "name": "stdout",
     "output_type": "stream",
     "text": [
      "Epoch: 055/100 | Batch 001/030 | Train/Val Loss: 0.43\n",
      "Epoch: 055/100 | Batch 002/030 | Train/Val Loss: 0.23\n",
      "Epoch: 055/100 | Batch 003/030 | Train/Val Loss: 0.32\n",
      "Epoch: 055/100 | Batch 004/030 | Train/Val Loss: 0.33\n",
      "Epoch: 055/100 | Batch 005/030 | Train/Val Loss: 0.29\n",
      "Epoch: 055/100 | Batch 006/030 | Train/Val Loss: 0.41\n",
      "Epoch: 055/100 | Batch 007/030 | Train/Val Loss: 0.25\n",
      "Epoch: 055/100 | Batch 008/030 | Train/Val Loss: 0.39\n",
      "Epoch: 055/100 | Batch 009/030 | Train/Val Loss: 0.49\n",
      "Epoch: 055/100 | Batch 010/030 | Train/Val Loss: 0.40\n",
      "Epoch: 055/100 | Batch 011/030 | Train/Val Loss: 0.23\n",
      "Epoch: 055/100 | Batch 012/030 | Train/Val Loss: 0.35\n",
      "Epoch: 055/100 | Batch 013/030 | Train/Val Loss: 0.30\n",
      "Epoch: 055/100 | Batch 014/030 | Train/Val Loss: 0.26\n",
      "Epoch: 055/100 | Batch 015/030 | Train/Val Loss: 0.39\n",
      "Epoch: 055/100 | Batch 016/030 | Train/Val Loss: 0.26\n",
      "Epoch: 055/100 | Batch 017/030 | Train/Val Loss: 0.36\n",
      "Epoch: 055/100 | Batch 018/030 | Train/Val Loss: 0.39\n",
      "Epoch: 055/100 | Batch 019/030 | Train/Val Loss: 0.53\n",
      "Epoch: 055/100 | Batch 020/030 | Train/Val Loss: 0.44\n",
      "Epoch: 055/100 | Batch 021/030 | Train/Val Loss: 0.33\n",
      "Epoch: 055/100 | Batch 022/030 | Train/Val Loss: 0.35\n",
      "Epoch: 055/100 | Batch 023/030 | Train/Val Loss: 0.30\n",
      "Epoch: 055/100 | Batch 024/030 | Train/Val Loss: 0.24\n",
      "Epoch: 055/100 | Batch 025/030 | Train/Val Loss: 0.35\n",
      "Epoch: 055/100 | Batch 026/030 | Train/Val Loss: 0.35\n",
      "Epoch: 055/100 | Batch 027/030 | Train/Val Loss: 0.30\n",
      "Epoch: 055/100 | Batch 028/030 | Train/Val Loss: 0.47\n",
      "Epoch: 055/100 | Batch 029/030 | Train/Val Loss: 0.31\n",
      "Epoch: 055/100 | Batch 030/030 | Train/Val Loss: 0.20\n"
     ]
    },
    {
     "data": {
      "text/html": [
       "<pre style=\"white-space:pre;overflow-x:auto;line-height:normal;font-family:Menlo,'DejaVu Sans Mono',consolas,'Courier New',monospace\"><span style=\"color: #76ff7b; text-decoration-color: #76ff7b\">Train Acc: </span><span style=\"color: #008080; text-decoration-color: #008080; font-weight: bold\">85.56</span><span style=\"color: #76ff7b; text-decoration-color: #76ff7b\">% | Val Acc: </span><span style=\"color: #008080; text-decoration-color: #008080; font-weight: bold\">83.03</span><span style=\"color: #76ff7b; text-decoration-color: #76ff7b\">%</span>\n",
       "</pre>\n"
      ],
      "text/plain": [
       "\u001b[38;2;118;255;123mTrain Acc: \u001b[0m\u001b[1;36m85.56\u001b[0m\u001b[38;2;118;255;123m% | Val Acc: \u001b[0m\u001b[1;36m83.03\u001b[0m\u001b[38;2;118;255;123m%\u001b[0m\n"
      ]
     },
     "metadata": {},
     "output_type": "display_data"
    },
    {
     "name": "stdout",
     "output_type": "stream",
     "text": [
      "Epoch: 056/100 | Batch 001/030 | Train/Val Loss: 0.39\n",
      "Epoch: 056/100 | Batch 002/030 | Train/Val Loss: 0.36\n",
      "Epoch: 056/100 | Batch 003/030 | Train/Val Loss: 0.18\n",
      "Epoch: 056/100 | Batch 004/030 | Train/Val Loss: 0.22\n",
      "Epoch: 056/100 | Batch 005/030 | Train/Val Loss: 0.39\n",
      "Epoch: 056/100 | Batch 006/030 | Train/Val Loss: 0.43\n",
      "Epoch: 056/100 | Batch 007/030 | Train/Val Loss: 0.37\n",
      "Epoch: 056/100 | Batch 008/030 | Train/Val Loss: 0.35\n",
      "Epoch: 056/100 | Batch 009/030 | Train/Val Loss: 0.39\n",
      "Epoch: 056/100 | Batch 010/030 | Train/Val Loss: 0.55\n",
      "Epoch: 056/100 | Batch 011/030 | Train/Val Loss: 0.22\n",
      "Epoch: 056/100 | Batch 012/030 | Train/Val Loss: 0.38\n",
      "Epoch: 056/100 | Batch 013/030 | Train/Val Loss: 0.57\n",
      "Epoch: 056/100 | Batch 014/030 | Train/Val Loss: 0.35\n",
      "Epoch: 056/100 | Batch 015/030 | Train/Val Loss: 0.33\n",
      "Epoch: 056/100 | Batch 016/030 | Train/Val Loss: 0.22\n",
      "Epoch: 056/100 | Batch 017/030 | Train/Val Loss: 0.28\n",
      "Epoch: 056/100 | Batch 018/030 | Train/Val Loss: 0.31\n",
      "Epoch: 056/100 | Batch 019/030 | Train/Val Loss: 0.38\n",
      "Epoch: 056/100 | Batch 020/030 | Train/Val Loss: 0.41\n",
      "Epoch: 056/100 | Batch 021/030 | Train/Val Loss: 0.37\n",
      "Epoch: 056/100 | Batch 022/030 | Train/Val Loss: 0.20\n",
      "Epoch: 056/100 | Batch 023/030 | Train/Val Loss: 0.35\n",
      "Epoch: 056/100 | Batch 024/030 | Train/Val Loss: 0.34\n",
      "Epoch: 056/100 | Batch 025/030 | Train/Val Loss: 0.32\n",
      "Epoch: 056/100 | Batch 026/030 | Train/Val Loss: 0.34\n",
      "Epoch: 056/100 | Batch 027/030 | Train/Val Loss: 0.50\n",
      "Epoch: 056/100 | Batch 028/030 | Train/Val Loss: 0.25\n",
      "Epoch: 056/100 | Batch 029/030 | Train/Val Loss: 0.32\n",
      "Epoch: 056/100 | Batch 030/030 | Train/Val Loss: 0.26\n"
     ]
    },
    {
     "data": {
      "text/html": [
       "<pre style=\"white-space:pre;overflow-x:auto;line-height:normal;font-family:Menlo,'DejaVu Sans Mono',consolas,'Courier New',monospace\"><span style=\"color: #76ff7b; text-decoration-color: #76ff7b\">Train Acc: </span><span style=\"color: #008080; text-decoration-color: #008080; font-weight: bold\">84.17</span><span style=\"color: #76ff7b; text-decoration-color: #76ff7b\">% | Val Acc: </span><span style=\"color: #008080; text-decoration-color: #008080; font-weight: bold\">86.06</span><span style=\"color: #76ff7b; text-decoration-color: #76ff7b\">%</span>\n",
       "</pre>\n"
      ],
      "text/plain": [
       "\u001b[38;2;118;255;123mTrain Acc: \u001b[0m\u001b[1;36m84.17\u001b[0m\u001b[38;2;118;255;123m% | Val Acc: \u001b[0m\u001b[1;36m86.06\u001b[0m\u001b[38;2;118;255;123m%\u001b[0m\n"
      ]
     },
     "metadata": {},
     "output_type": "display_data"
    },
    {
     "name": "stdout",
     "output_type": "stream",
     "text": [
      "Epoch: 057/100 | Batch 001/030 | Train/Val Loss: 0.34\n",
      "Epoch: 057/100 | Batch 002/030 | Train/Val Loss: 0.31\n",
      "Epoch: 057/100 | Batch 003/030 | Train/Val Loss: 0.33\n",
      "Epoch: 057/100 | Batch 004/030 | Train/Val Loss: 0.32\n",
      "Epoch: 057/100 | Batch 005/030 | Train/Val Loss: 0.30\n",
      "Epoch: 057/100 | Batch 006/030 | Train/Val Loss: 0.53\n",
      "Epoch: 057/100 | Batch 007/030 | Train/Val Loss: 0.57\n",
      "Epoch: 057/100 | Batch 008/030 | Train/Val Loss: 0.36\n",
      "Epoch: 057/100 | Batch 009/030 | Train/Val Loss: 0.23\n",
      "Epoch: 057/100 | Batch 010/030 | Train/Val Loss: 0.39\n",
      "Epoch: 057/100 | Batch 011/030 | Train/Val Loss: 0.45\n",
      "Epoch: 057/100 | Batch 012/030 | Train/Val Loss: 0.28\n",
      "Epoch: 057/100 | Batch 013/030 | Train/Val Loss: 0.15\n",
      "Epoch: 057/100 | Batch 014/030 | Train/Val Loss: 0.35\n",
      "Epoch: 057/100 | Batch 015/030 | Train/Val Loss: 0.45\n",
      "Epoch: 057/100 | Batch 016/030 | Train/Val Loss: 0.58\n",
      "Epoch: 057/100 | Batch 017/030 | Train/Val Loss: 0.42\n",
      "Epoch: 057/100 | Batch 018/030 | Train/Val Loss: 0.49\n",
      "Epoch: 057/100 | Batch 019/030 | Train/Val Loss: 0.40\n",
      "Epoch: 057/100 | Batch 020/030 | Train/Val Loss: 0.27\n",
      "Epoch: 057/100 | Batch 021/030 | Train/Val Loss: 0.37\n",
      "Epoch: 057/100 | Batch 022/030 | Train/Val Loss: 0.27\n",
      "Epoch: 057/100 | Batch 023/030 | Train/Val Loss: 0.38\n",
      "Epoch: 057/100 | Batch 024/030 | Train/Val Loss: 0.34\n",
      "Epoch: 057/100 | Batch 025/030 | Train/Val Loss: 0.38\n",
      "Epoch: 057/100 | Batch 026/030 | Train/Val Loss: 0.36\n",
      "Epoch: 057/100 | Batch 027/030 | Train/Val Loss: 0.16\n",
      "Epoch: 057/100 | Batch 028/030 | Train/Val Loss: 0.39\n",
      "Epoch: 057/100 | Batch 029/030 | Train/Val Loss: 0.24\n",
      "Epoch: 057/100 | Batch 030/030 | Train/Val Loss: 0.59\n"
     ]
    },
    {
     "data": {
      "text/html": [
       "<pre style=\"white-space:pre;overflow-x:auto;line-height:normal;font-family:Menlo,'DejaVu Sans Mono',consolas,'Courier New',monospace\"><span style=\"color: #76ff7b; text-decoration-color: #76ff7b\">Train Acc: </span><span style=\"color: #008080; text-decoration-color: #008080; font-weight: bold\">85.45</span><span style=\"color: #76ff7b; text-decoration-color: #76ff7b\">% | Val Acc: </span><span style=\"color: #008080; text-decoration-color: #008080; font-weight: bold\">83.64</span><span style=\"color: #76ff7b; text-decoration-color: #76ff7b\">%</span>\n",
       "</pre>\n"
      ],
      "text/plain": [
       "\u001b[38;2;118;255;123mTrain Acc: \u001b[0m\u001b[1;36m85.45\u001b[0m\u001b[38;2;118;255;123m% | Val Acc: \u001b[0m\u001b[1;36m83.64\u001b[0m\u001b[38;2;118;255;123m%\u001b[0m\n"
      ]
     },
     "metadata": {},
     "output_type": "display_data"
    },
    {
     "name": "stdout",
     "output_type": "stream",
     "text": [
      "Epoch: 058/100 | Batch 001/030 | Train/Val Loss: 0.26\n",
      "Epoch: 058/100 | Batch 002/030 | Train/Val Loss: 0.30\n",
      "Epoch: 058/100 | Batch 003/030 | Train/Val Loss: 0.31\n",
      "Epoch: 058/100 | Batch 004/030 | Train/Val Loss: 0.37\n",
      "Epoch: 058/100 | Batch 005/030 | Train/Val Loss: 0.32\n",
      "Epoch: 058/100 | Batch 006/030 | Train/Val Loss: 0.29\n",
      "Epoch: 058/100 | Batch 007/030 | Train/Val Loss: 0.38\n",
      "Epoch: 058/100 | Batch 008/030 | Train/Val Loss: 0.31\n",
      "Epoch: 058/100 | Batch 009/030 | Train/Val Loss: 0.32\n",
      "Epoch: 058/100 | Batch 010/030 | Train/Val Loss: 0.38\n",
      "Epoch: 058/100 | Batch 011/030 | Train/Val Loss: 0.32\n",
      "Epoch: 058/100 | Batch 012/030 | Train/Val Loss: 0.40\n",
      "Epoch: 058/100 | Batch 013/030 | Train/Val Loss: 0.34\n",
      "Epoch: 058/100 | Batch 014/030 | Train/Val Loss: 0.37\n",
      "Epoch: 058/100 | Batch 015/030 | Train/Val Loss: 0.38\n",
      "Epoch: 058/100 | Batch 016/030 | Train/Val Loss: 0.40\n",
      "Epoch: 058/100 | Batch 017/030 | Train/Val Loss: 0.30\n",
      "Epoch: 058/100 | Batch 018/030 | Train/Val Loss: 0.38\n",
      "Epoch: 058/100 | Batch 019/030 | Train/Val Loss: 0.16\n",
      "Epoch: 058/100 | Batch 020/030 | Train/Val Loss: 0.60\n",
      "Epoch: 058/100 | Batch 021/030 | Train/Val Loss: 0.53\n",
      "Epoch: 058/100 | Batch 022/030 | Train/Val Loss: 0.39\n",
      "Epoch: 058/100 | Batch 023/030 | Train/Val Loss: 0.34\n",
      "Epoch: 058/100 | Batch 024/030 | Train/Val Loss: 0.38\n",
      "Epoch: 058/100 | Batch 025/030 | Train/Val Loss: 0.20\n",
      "Epoch: 058/100 | Batch 026/030 | Train/Val Loss: 0.35\n",
      "Epoch: 058/100 | Batch 027/030 | Train/Val Loss: 0.37\n",
      "Epoch: 058/100 | Batch 028/030 | Train/Val Loss: 0.31\n",
      "Epoch: 058/100 | Batch 029/030 | Train/Val Loss: 0.30\n",
      "Epoch: 058/100 | Batch 030/030 | Train/Val Loss: 0.77\n"
     ]
    },
    {
     "data": {
      "text/html": [
       "<pre style=\"white-space:pre;overflow-x:auto;line-height:normal;font-family:Menlo,'DejaVu Sans Mono',consolas,'Courier New',monospace\"><span style=\"color: #76ff7b; text-decoration-color: #76ff7b\">Train Acc: </span><span style=\"color: #008080; text-decoration-color: #008080; font-weight: bold\">85.56</span><span style=\"color: #76ff7b; text-decoration-color: #76ff7b\">% | Val Acc: </span><span style=\"color: #008080; text-decoration-color: #008080; font-weight: bold\">85.45</span><span style=\"color: #76ff7b; text-decoration-color: #76ff7b\">%</span>\n",
       "</pre>\n"
      ],
      "text/plain": [
       "\u001b[38;2;118;255;123mTrain Acc: \u001b[0m\u001b[1;36m85.56\u001b[0m\u001b[38;2;118;255;123m% | Val Acc: \u001b[0m\u001b[1;36m85.45\u001b[0m\u001b[38;2;118;255;123m%\u001b[0m\n"
      ]
     },
     "metadata": {},
     "output_type": "display_data"
    },
    {
     "name": "stdout",
     "output_type": "stream",
     "text": [
      "Epoch: 059/100 | Batch 001/030 | Train/Val Loss: 0.38\n",
      "Epoch: 059/100 | Batch 002/030 | Train/Val Loss: 0.36\n",
      "Epoch: 059/100 | Batch 003/030 | Train/Val Loss: 0.55\n",
      "Epoch: 059/100 | Batch 004/030 | Train/Val Loss: 0.49\n",
      "Epoch: 059/100 | Batch 005/030 | Train/Val Loss: 0.34\n",
      "Epoch: 059/100 | Batch 006/030 | Train/Val Loss: 0.34\n",
      "Epoch: 059/100 | Batch 007/030 | Train/Val Loss: 0.39\n",
      "Epoch: 059/100 | Batch 008/030 | Train/Val Loss: 0.33\n",
      "Epoch: 059/100 | Batch 009/030 | Train/Val Loss: 0.27\n",
      "Epoch: 059/100 | Batch 010/030 | Train/Val Loss: 0.38\n",
      "Epoch: 059/100 | Batch 011/030 | Train/Val Loss: 0.28\n",
      "Epoch: 059/100 | Batch 012/030 | Train/Val Loss: 0.34\n",
      "Epoch: 059/100 | Batch 013/030 | Train/Val Loss: 0.35\n",
      "Epoch: 059/100 | Batch 014/030 | Train/Val Loss: 0.24\n",
      "Epoch: 059/100 | Batch 015/030 | Train/Val Loss: 0.28\n",
      "Epoch: 059/100 | Batch 016/030 | Train/Val Loss: 0.26\n",
      "Epoch: 059/100 | Batch 017/030 | Train/Val Loss: 0.30\n",
      "Epoch: 059/100 | Batch 018/030 | Train/Val Loss: 0.30\n",
      "Epoch: 059/100 | Batch 019/030 | Train/Val Loss: 0.37\n",
      "Epoch: 059/100 | Batch 020/030 | Train/Val Loss: 0.40\n",
      "Epoch: 059/100 | Batch 021/030 | Train/Val Loss: 0.51\n",
      "Epoch: 059/100 | Batch 022/030 | Train/Val Loss: 0.33\n",
      "Epoch: 059/100 | Batch 023/030 | Train/Val Loss: 0.42\n",
      "Epoch: 059/100 | Batch 024/030 | Train/Val Loss: 0.23\n",
      "Epoch: 059/100 | Batch 025/030 | Train/Val Loss: 0.35\n",
      "Epoch: 059/100 | Batch 026/030 | Train/Val Loss: 0.60\n",
      "Epoch: 059/100 | Batch 027/030 | Train/Val Loss: 0.41\n",
      "Epoch: 059/100 | Batch 028/030 | Train/Val Loss: 0.39\n",
      "Epoch: 059/100 | Batch 029/030 | Train/Val Loss: 0.22\n",
      "Epoch: 059/100 | Batch 030/030 | Train/Val Loss: 0.26\n"
     ]
    },
    {
     "data": {
      "text/html": [
       "<pre style=\"white-space:pre;overflow-x:auto;line-height:normal;font-family:Menlo,'DejaVu Sans Mono',consolas,'Courier New',monospace\"><span style=\"color: #76ff7b; text-decoration-color: #76ff7b\">Train Acc: </span><span style=\"color: #008080; text-decoration-color: #008080; font-weight: bold\">85.45</span><span style=\"color: #76ff7b; text-decoration-color: #76ff7b\">% | Val Acc: </span><span style=\"color: #008080; text-decoration-color: #008080; font-weight: bold\">83.03</span><span style=\"color: #76ff7b; text-decoration-color: #76ff7b\">%</span>\n",
       "</pre>\n"
      ],
      "text/plain": [
       "\u001b[38;2;118;255;123mTrain Acc: \u001b[0m\u001b[1;36m85.45\u001b[0m\u001b[38;2;118;255;123m% | Val Acc: \u001b[0m\u001b[1;36m83.03\u001b[0m\u001b[38;2;118;255;123m%\u001b[0m\n"
      ]
     },
     "metadata": {},
     "output_type": "display_data"
    },
    {
     "name": "stdout",
     "output_type": "stream",
     "text": [
      "Epoch: 060/100 | Batch 001/030 | Train/Val Loss: 0.38\n",
      "Epoch: 060/100 | Batch 002/030 | Train/Val Loss: 0.51\n",
      "Epoch: 060/100 | Batch 003/030 | Train/Val Loss: 0.24\n",
      "Epoch: 060/100 | Batch 004/030 | Train/Val Loss: 0.36\n",
      "Epoch: 060/100 | Batch 005/030 | Train/Val Loss: 0.24\n",
      "Epoch: 060/100 | Batch 006/030 | Train/Val Loss: 0.35\n",
      "Epoch: 060/100 | Batch 007/030 | Train/Val Loss: 0.37\n",
      "Epoch: 060/100 | Batch 008/030 | Train/Val Loss: 0.37\n",
      "Epoch: 060/100 | Batch 009/030 | Train/Val Loss: 0.23\n",
      "Epoch: 060/100 | Batch 010/030 | Train/Val Loss: 0.45\n",
      "Epoch: 060/100 | Batch 011/030 | Train/Val Loss: 0.29\n",
      "Epoch: 060/100 | Batch 012/030 | Train/Val Loss: 0.21\n",
      "Epoch: 060/100 | Batch 013/030 | Train/Val Loss: 0.31\n",
      "Epoch: 060/100 | Batch 014/030 | Train/Val Loss: 0.39\n",
      "Epoch: 060/100 | Batch 015/030 | Train/Val Loss: 0.41\n",
      "Epoch: 060/100 | Batch 016/030 | Train/Val Loss: 0.28\n",
      "Epoch: 060/100 | Batch 017/030 | Train/Val Loss: 0.27\n",
      "Epoch: 060/100 | Batch 018/030 | Train/Val Loss: 0.48\n",
      "Epoch: 060/100 | Batch 019/030 | Train/Val Loss: 0.23\n",
      "Epoch: 060/100 | Batch 020/030 | Train/Val Loss: 0.27\n",
      "Epoch: 060/100 | Batch 021/030 | Train/Val Loss: 0.43\n",
      "Epoch: 060/100 | Batch 022/030 | Train/Val Loss: 0.33\n",
      "Epoch: 060/100 | Batch 023/030 | Train/Val Loss: 0.32\n",
      "Epoch: 060/100 | Batch 024/030 | Train/Val Loss: 0.25\n",
      "Epoch: 060/100 | Batch 025/030 | Train/Val Loss: 0.39\n",
      "Epoch: 060/100 | Batch 026/030 | Train/Val Loss: 0.30\n",
      "Epoch: 060/100 | Batch 027/030 | Train/Val Loss: 0.48\n",
      "Epoch: 060/100 | Batch 028/030 | Train/Val Loss: 0.49\n",
      "Epoch: 060/100 | Batch 029/030 | Train/Val Loss: 0.28\n",
      "Epoch: 060/100 | Batch 030/030 | Train/Val Loss: 0.65\n"
     ]
    },
    {
     "data": {
      "text/html": [
       "<pre style=\"white-space:pre;overflow-x:auto;line-height:normal;font-family:Menlo,'DejaVu Sans Mono',consolas,'Courier New',monospace\"><span style=\"color: #76ff7b; text-decoration-color: #76ff7b\">Train Acc: </span><span style=\"color: #008080; text-decoration-color: #008080; font-weight: bold\">85.99</span><span style=\"color: #76ff7b; text-decoration-color: #76ff7b\">% | Val Acc: </span><span style=\"color: #008080; text-decoration-color: #008080; font-weight: bold\">84.24</span><span style=\"color: #76ff7b; text-decoration-color: #76ff7b\">%</span>\n",
       "</pre>\n"
      ],
      "text/plain": [
       "\u001b[38;2;118;255;123mTrain Acc: \u001b[0m\u001b[1;36m85.99\u001b[0m\u001b[38;2;118;255;123m% | Val Acc: \u001b[0m\u001b[1;36m84.24\u001b[0m\u001b[38;2;118;255;123m%\u001b[0m\n"
      ]
     },
     "metadata": {},
     "output_type": "display_data"
    },
    {
     "name": "stdout",
     "output_type": "stream",
     "text": [
      "Epoch: 061/100 | Batch 001/030 | Train/Val Loss: 0.29\n",
      "Epoch: 061/100 | Batch 002/030 | Train/Val Loss: 0.33\n",
      "Epoch: 061/100 | Batch 003/030 | Train/Val Loss: 0.33\n",
      "Epoch: 061/100 | Batch 004/030 | Train/Val Loss: 0.23\n",
      "Epoch: 061/100 | Batch 005/030 | Train/Val Loss: 0.36\n",
      "Epoch: 061/100 | Batch 006/030 | Train/Val Loss: 0.31\n",
      "Epoch: 061/100 | Batch 007/030 | Train/Val Loss: 0.39\n",
      "Epoch: 061/100 | Batch 008/030 | Train/Val Loss: 0.60\n",
      "Epoch: 061/100 | Batch 009/030 | Train/Val Loss: 0.33\n",
      "Epoch: 061/100 | Batch 010/030 | Train/Val Loss: 0.30\n",
      "Epoch: 061/100 | Batch 011/030 | Train/Val Loss: 0.20\n",
      "Epoch: 061/100 | Batch 012/030 | Train/Val Loss: 0.22\n",
      "Epoch: 061/100 | Batch 013/030 | Train/Val Loss: 0.50\n",
      "Epoch: 061/100 | Batch 014/030 | Train/Val Loss: 0.52\n",
      "Epoch: 061/100 | Batch 015/030 | Train/Val Loss: 0.23\n",
      "Epoch: 061/100 | Batch 016/030 | Train/Val Loss: 0.31\n",
      "Epoch: 061/100 | Batch 017/030 | Train/Val Loss: 0.23\n",
      "Epoch: 061/100 | Batch 018/030 | Train/Val Loss: 0.26\n",
      "Epoch: 061/100 | Batch 019/030 | Train/Val Loss: 0.29\n",
      "Epoch: 061/100 | Batch 020/030 | Train/Val Loss: 0.35\n",
      "Epoch: 061/100 | Batch 021/030 | Train/Val Loss: 0.39\n",
      "Epoch: 061/100 | Batch 022/030 | Train/Val Loss: 0.37\n",
      "Epoch: 061/100 | Batch 023/030 | Train/Val Loss: 0.37\n",
      "Epoch: 061/100 | Batch 024/030 | Train/Val Loss: 0.38\n",
      "Epoch: 061/100 | Batch 025/030 | Train/Val Loss: 0.39\n",
      "Epoch: 061/100 | Batch 026/030 | Train/Val Loss: 0.24\n",
      "Epoch: 061/100 | Batch 027/030 | Train/Val Loss: 0.30\n",
      "Epoch: 061/100 | Batch 028/030 | Train/Val Loss: 0.34\n",
      "Epoch: 061/100 | Batch 029/030 | Train/Val Loss: 0.51\n",
      "Epoch: 061/100 | Batch 030/030 | Train/Val Loss: 0.45\n"
     ]
    },
    {
     "data": {
      "text/html": [
       "<pre style=\"white-space:pre;overflow-x:auto;line-height:normal;font-family:Menlo,'DejaVu Sans Mono',consolas,'Courier New',monospace\"><span style=\"color: #76ff7b; text-decoration-color: #76ff7b\">Train Acc: </span><span style=\"color: #008080; text-decoration-color: #008080; font-weight: bold\">85.67</span><span style=\"color: #76ff7b; text-decoration-color: #76ff7b\">% | Val Acc: </span><span style=\"color: #008080; text-decoration-color: #008080; font-weight: bold\">84.85</span><span style=\"color: #76ff7b; text-decoration-color: #76ff7b\">%</span>\n",
       "</pre>\n"
      ],
      "text/plain": [
       "\u001b[38;2;118;255;123mTrain Acc: \u001b[0m\u001b[1;36m85.67\u001b[0m\u001b[38;2;118;255;123m% | Val Acc: \u001b[0m\u001b[1;36m84.85\u001b[0m\u001b[38;2;118;255;123m%\u001b[0m\n"
      ]
     },
     "metadata": {},
     "output_type": "display_data"
    },
    {
     "name": "stdout",
     "output_type": "stream",
     "text": [
      "Epoch: 062/100 | Batch 001/030 | Train/Val Loss: 0.26\n",
      "Epoch: 062/100 | Batch 002/030 | Train/Val Loss: 0.30\n",
      "Epoch: 062/100 | Batch 003/030 | Train/Val Loss: 0.25\n",
      "Epoch: 062/100 | Batch 004/030 | Train/Val Loss: 0.21\n",
      "Epoch: 062/100 | Batch 005/030 | Train/Val Loss: 0.48\n",
      "Epoch: 062/100 | Batch 006/030 | Train/Val Loss: 0.42\n",
      "Epoch: 062/100 | Batch 007/030 | Train/Val Loss: 0.39\n",
      "Epoch: 062/100 | Batch 008/030 | Train/Val Loss: 0.27\n",
      "Epoch: 062/100 | Batch 009/030 | Train/Val Loss: 0.35\n",
      "Epoch: 062/100 | Batch 010/030 | Train/Val Loss: 0.40\n",
      "Epoch: 062/100 | Batch 011/030 | Train/Val Loss: 0.31\n",
      "Epoch: 062/100 | Batch 012/030 | Train/Val Loss: 0.26\n",
      "Epoch: 062/100 | Batch 013/030 | Train/Val Loss: 0.38\n",
      "Epoch: 062/100 | Batch 014/030 | Train/Val Loss: 0.24\n",
      "Epoch: 062/100 | Batch 015/030 | Train/Val Loss: 0.21\n",
      "Epoch: 062/100 | Batch 016/030 | Train/Val Loss: 0.33\n",
      "Epoch: 062/100 | Batch 017/030 | Train/Val Loss: 0.40\n",
      "Epoch: 062/100 | Batch 018/030 | Train/Val Loss: 0.35\n",
      "Epoch: 062/100 | Batch 019/030 | Train/Val Loss: 0.35\n",
      "Epoch: 062/100 | Batch 020/030 | Train/Val Loss: 0.36\n",
      "Epoch: 062/100 | Batch 021/030 | Train/Val Loss: 0.25\n",
      "Epoch: 062/100 | Batch 022/030 | Train/Val Loss: 0.34\n",
      "Epoch: 062/100 | Batch 023/030 | Train/Val Loss: 0.40\n",
      "Epoch: 062/100 | Batch 024/030 | Train/Val Loss: 0.48\n",
      "Epoch: 062/100 | Batch 025/030 | Train/Val Loss: 0.29\n",
      "Epoch: 062/100 | Batch 026/030 | Train/Val Loss: 0.20\n",
      "Epoch: 062/100 | Batch 027/030 | Train/Val Loss: 0.31\n",
      "Epoch: 062/100 | Batch 028/030 | Train/Val Loss: 0.36\n",
      "Epoch: 062/100 | Batch 029/030 | Train/Val Loss: 0.62\n",
      "Epoch: 062/100 | Batch 030/030 | Train/Val Loss: 0.05\n"
     ]
    },
    {
     "data": {
      "text/html": [
       "<pre style=\"white-space:pre;overflow-x:auto;line-height:normal;font-family:Menlo,'DejaVu Sans Mono',consolas,'Courier New',monospace\"><span style=\"color: #76ff7b; text-decoration-color: #76ff7b\">Train Acc: </span><span style=\"color: #008080; text-decoration-color: #008080; font-weight: bold\">86.20</span><span style=\"color: #76ff7b; text-decoration-color: #76ff7b\">% | Val Acc: </span><span style=\"color: #008080; text-decoration-color: #008080; font-weight: bold\">84.85</span><span style=\"color: #76ff7b; text-decoration-color: #76ff7b\">%</span>\n",
       "</pre>\n"
      ],
      "text/plain": [
       "\u001b[38;2;118;255;123mTrain Acc: \u001b[0m\u001b[1;36m86.20\u001b[0m\u001b[38;2;118;255;123m% | Val Acc: \u001b[0m\u001b[1;36m84.85\u001b[0m\u001b[38;2;118;255;123m%\u001b[0m\n"
      ]
     },
     "metadata": {},
     "output_type": "display_data"
    },
    {
     "name": "stdout",
     "output_type": "stream",
     "text": [
      "Epoch: 063/100 | Batch 001/030 | Train/Val Loss: 0.29\n",
      "Epoch: 063/100 | Batch 002/030 | Train/Val Loss: 0.33\n",
      "Epoch: 063/100 | Batch 003/030 | Train/Val Loss: 0.34\n",
      "Epoch: 063/100 | Batch 004/030 | Train/Val Loss: 0.32\n",
      "Epoch: 063/100 | Batch 005/030 | Train/Val Loss: 0.27\n",
      "Epoch: 063/100 | Batch 006/030 | Train/Val Loss: 0.34\n",
      "Epoch: 063/100 | Batch 007/030 | Train/Val Loss: 0.29\n",
      "Epoch: 063/100 | Batch 008/030 | Train/Val Loss: 0.29\n",
      "Epoch: 063/100 | Batch 009/030 | Train/Val Loss: 0.31\n",
      "Epoch: 063/100 | Batch 010/030 | Train/Val Loss: 0.23\n",
      "Epoch: 063/100 | Batch 011/030 | Train/Val Loss: 0.43\n",
      "Epoch: 063/100 | Batch 012/030 | Train/Val Loss: 0.27\n",
      "Epoch: 063/100 | Batch 013/030 | Train/Val Loss: 0.44\n",
      "Epoch: 063/100 | Batch 014/030 | Train/Val Loss: 0.36\n",
      "Epoch: 063/100 | Batch 015/030 | Train/Val Loss: 0.22\n",
      "Epoch: 063/100 | Batch 016/030 | Train/Val Loss: 0.38\n",
      "Epoch: 063/100 | Batch 017/030 | Train/Val Loss: 0.37\n",
      "Epoch: 063/100 | Batch 018/030 | Train/Val Loss: 0.37\n",
      "Epoch: 063/100 | Batch 019/030 | Train/Val Loss: 0.27\n",
      "Epoch: 063/100 | Batch 020/030 | Train/Val Loss: 0.26\n",
      "Epoch: 063/100 | Batch 021/030 | Train/Val Loss: 0.25\n",
      "Epoch: 063/100 | Batch 022/030 | Train/Val Loss: 0.35\n",
      "Epoch: 063/100 | Batch 023/030 | Train/Val Loss: 0.36\n",
      "Epoch: 063/100 | Batch 024/030 | Train/Val Loss: 0.34\n",
      "Epoch: 063/100 | Batch 025/030 | Train/Val Loss: 0.38\n",
      "Epoch: 063/100 | Batch 026/030 | Train/Val Loss: 0.50\n",
      "Epoch: 063/100 | Batch 027/030 | Train/Val Loss: 0.28\n",
      "Epoch: 063/100 | Batch 028/030 | Train/Val Loss: 0.53\n",
      "Epoch: 063/100 | Batch 029/030 | Train/Val Loss: 0.29\n",
      "Epoch: 063/100 | Batch 030/030 | Train/Val Loss: 0.32\n"
     ]
    },
    {
     "data": {
      "text/html": [
       "<pre style=\"white-space:pre;overflow-x:auto;line-height:normal;font-family:Menlo,'DejaVu Sans Mono',consolas,'Courier New',monospace\"><span style=\"color: #76ff7b; text-decoration-color: #76ff7b\">Train Acc: </span><span style=\"color: #008080; text-decoration-color: #008080; font-weight: bold\">85.78</span><span style=\"color: #76ff7b; text-decoration-color: #76ff7b\">% | Val Acc: </span><span style=\"color: #008080; text-decoration-color: #008080; font-weight: bold\">84.85</span><span style=\"color: #76ff7b; text-decoration-color: #76ff7b\">%</span>\n",
       "</pre>\n"
      ],
      "text/plain": [
       "\u001b[38;2;118;255;123mTrain Acc: \u001b[0m\u001b[1;36m85.78\u001b[0m\u001b[38;2;118;255;123m% | Val Acc: \u001b[0m\u001b[1;36m84.85\u001b[0m\u001b[38;2;118;255;123m%\u001b[0m\n"
      ]
     },
     "metadata": {},
     "output_type": "display_data"
    },
    {
     "name": "stdout",
     "output_type": "stream",
     "text": [
      "Epoch: 064/100 | Batch 001/030 | Train/Val Loss: 0.35\n",
      "Epoch: 064/100 | Batch 002/030 | Train/Val Loss: 0.55\n",
      "Epoch: 064/100 | Batch 003/030 | Train/Val Loss: 0.48\n",
      "Epoch: 064/100 | Batch 004/030 | Train/Val Loss: 0.31\n",
      "Epoch: 064/100 | Batch 005/030 | Train/Val Loss: 0.39\n",
      "Epoch: 064/100 | Batch 006/030 | Train/Val Loss: 0.32\n",
      "Epoch: 064/100 | Batch 007/030 | Train/Val Loss: 0.37\n",
      "Epoch: 064/100 | Batch 008/030 | Train/Val Loss: 0.43\n",
      "Epoch: 064/100 | Batch 009/030 | Train/Val Loss: 0.24\n",
      "Epoch: 064/100 | Batch 010/030 | Train/Val Loss: 0.40\n",
      "Epoch: 064/100 | Batch 011/030 | Train/Val Loss: 0.29\n",
      "Epoch: 064/100 | Batch 012/030 | Train/Val Loss: 0.21\n",
      "Epoch: 064/100 | Batch 013/030 | Train/Val Loss: 0.24\n",
      "Epoch: 064/100 | Batch 014/030 | Train/Val Loss: 0.36\n",
      "Epoch: 064/100 | Batch 015/030 | Train/Val Loss: 0.32\n",
      "Epoch: 064/100 | Batch 016/030 | Train/Val Loss: 0.20\n",
      "Epoch: 064/100 | Batch 017/030 | Train/Val Loss: 0.35\n",
      "Epoch: 064/100 | Batch 018/030 | Train/Val Loss: 0.58\n",
      "Epoch: 064/100 | Batch 019/030 | Train/Val Loss: 0.37\n",
      "Epoch: 064/100 | Batch 020/030 | Train/Val Loss: 0.37\n",
      "Epoch: 064/100 | Batch 021/030 | Train/Val Loss: 0.42\n",
      "Epoch: 064/100 | Batch 022/030 | Train/Val Loss: 0.37\n",
      "Epoch: 064/100 | Batch 023/030 | Train/Val Loss: 0.35\n",
      "Epoch: 064/100 | Batch 024/030 | Train/Val Loss: 0.30\n",
      "Epoch: 064/100 | Batch 025/030 | Train/Val Loss: 0.24\n",
      "Epoch: 064/100 | Batch 026/030 | Train/Val Loss: 0.27\n",
      "Epoch: 064/100 | Batch 027/030 | Train/Val Loss: 0.39\n",
      "Epoch: 064/100 | Batch 028/030 | Train/Val Loss: 0.42\n",
      "Epoch: 064/100 | Batch 029/030 | Train/Val Loss: 0.41\n",
      "Epoch: 064/100 | Batch 030/030 | Train/Val Loss: 0.34\n"
     ]
    },
    {
     "data": {
      "text/html": [
       "<pre style=\"white-space:pre;overflow-x:auto;line-height:normal;font-family:Menlo,'DejaVu Sans Mono',consolas,'Courier New',monospace\"><span style=\"color: #76ff7b; text-decoration-color: #76ff7b\">Train Acc: </span><span style=\"color: #008080; text-decoration-color: #008080; font-weight: bold\">85.45</span><span style=\"color: #76ff7b; text-decoration-color: #76ff7b\">% | Val Acc: </span><span style=\"color: #008080; text-decoration-color: #008080; font-weight: bold\">85.45</span><span style=\"color: #76ff7b; text-decoration-color: #76ff7b\">%</span>\n",
       "</pre>\n"
      ],
      "text/plain": [
       "\u001b[38;2;118;255;123mTrain Acc: \u001b[0m\u001b[1;36m85.45\u001b[0m\u001b[38;2;118;255;123m% | Val Acc: \u001b[0m\u001b[1;36m85.45\u001b[0m\u001b[38;2;118;255;123m%\u001b[0m\n"
      ]
     },
     "metadata": {},
     "output_type": "display_data"
    },
    {
     "name": "stdout",
     "output_type": "stream",
     "text": [
      "Epoch: 065/100 | Batch 001/030 | Train/Val Loss: 0.31\n",
      "Epoch: 065/100 | Batch 002/030 | Train/Val Loss: 0.28\n",
      "Epoch: 065/100 | Batch 003/030 | Train/Val Loss: 0.23\n",
      "Epoch: 065/100 | Batch 004/030 | Train/Val Loss: 0.39\n",
      "Epoch: 065/100 | Batch 005/030 | Train/Val Loss: 0.28\n",
      "Epoch: 065/100 | Batch 006/030 | Train/Val Loss: 0.29\n",
      "Epoch: 065/100 | Batch 007/030 | Train/Val Loss: 0.30\n",
      "Epoch: 065/100 | Batch 008/030 | Train/Val Loss: 0.31\n",
      "Epoch: 065/100 | Batch 009/030 | Train/Val Loss: 0.50\n",
      "Epoch: 065/100 | Batch 010/030 | Train/Val Loss: 0.32\n",
      "Epoch: 065/100 | Batch 011/030 | Train/Val Loss: 0.30\n",
      "Epoch: 065/100 | Batch 012/030 | Train/Val Loss: 0.35\n",
      "Epoch: 065/100 | Batch 013/030 | Train/Val Loss: 0.31\n",
      "Epoch: 065/100 | Batch 014/030 | Train/Val Loss: 0.47\n",
      "Epoch: 065/100 | Batch 015/030 | Train/Val Loss: 0.32\n",
      "Epoch: 065/100 | Batch 016/030 | Train/Val Loss: 0.39\n",
      "Epoch: 065/100 | Batch 017/030 | Train/Val Loss: 0.30\n",
      "Epoch: 065/100 | Batch 018/030 | Train/Val Loss: 0.23\n",
      "Epoch: 065/100 | Batch 019/030 | Train/Val Loss: 0.36\n",
      "Epoch: 065/100 | Batch 020/030 | Train/Val Loss: 0.28\n",
      "Epoch: 065/100 | Batch 021/030 | Train/Val Loss: 0.34\n",
      "Epoch: 065/100 | Batch 022/030 | Train/Val Loss: 0.36\n",
      "Epoch: 065/100 | Batch 023/030 | Train/Val Loss: 0.37\n",
      "Epoch: 065/100 | Batch 024/030 | Train/Val Loss: 0.58\n",
      "Epoch: 065/100 | Batch 025/030 | Train/Val Loss: 0.23\n",
      "Epoch: 065/100 | Batch 026/030 | Train/Val Loss: 0.24\n",
      "Epoch: 065/100 | Batch 027/030 | Train/Val Loss: 0.54\n",
      "Epoch: 065/100 | Batch 028/030 | Train/Val Loss: 0.44\n",
      "Epoch: 065/100 | Batch 029/030 | Train/Val Loss: 0.31\n",
      "Epoch: 065/100 | Batch 030/030 | Train/Val Loss: 0.16\n"
     ]
    },
    {
     "data": {
      "text/html": [
       "<pre style=\"white-space:pre;overflow-x:auto;line-height:normal;font-family:Menlo,'DejaVu Sans Mono',consolas,'Courier New',monospace\"><span style=\"color: #76ff7b; text-decoration-color: #76ff7b\">Train Acc: </span><span style=\"color: #008080; text-decoration-color: #008080; font-weight: bold\">85.88</span><span style=\"color: #76ff7b; text-decoration-color: #76ff7b\">% | Val Acc: </span><span style=\"color: #008080; text-decoration-color: #008080; font-weight: bold\">84.24</span><span style=\"color: #76ff7b; text-decoration-color: #76ff7b\">%</span>\n",
       "</pre>\n"
      ],
      "text/plain": [
       "\u001b[38;2;118;255;123mTrain Acc: \u001b[0m\u001b[1;36m85.88\u001b[0m\u001b[38;2;118;255;123m% | Val Acc: \u001b[0m\u001b[1;36m84.24\u001b[0m\u001b[38;2;118;255;123m%\u001b[0m\n"
      ]
     },
     "metadata": {},
     "output_type": "display_data"
    },
    {
     "name": "stdout",
     "output_type": "stream",
     "text": [
      "Epoch: 066/100 | Batch 001/030 | Train/Val Loss: 0.31\n",
      "Epoch: 066/100 | Batch 002/030 | Train/Val Loss: 0.37\n",
      "Epoch: 066/100 | Batch 003/030 | Train/Val Loss: 0.26\n",
      "Epoch: 066/100 | Batch 004/030 | Train/Val Loss: 0.35\n",
      "Epoch: 066/100 | Batch 005/030 | Train/Val Loss: 0.37\n",
      "Epoch: 066/100 | Batch 006/030 | Train/Val Loss: 0.35\n",
      "Epoch: 066/100 | Batch 007/030 | Train/Val Loss: 0.31\n",
      "Epoch: 066/100 | Batch 008/030 | Train/Val Loss: 0.27\n",
      "Epoch: 066/100 | Batch 009/030 | Train/Val Loss: 0.22\n",
      "Epoch: 066/100 | Batch 010/030 | Train/Val Loss: 0.35\n",
      "Epoch: 066/100 | Batch 011/030 | Train/Val Loss: 0.29\n",
      "Epoch: 066/100 | Batch 012/030 | Train/Val Loss: 0.20\n",
      "Epoch: 066/100 | Batch 013/030 | Train/Val Loss: 0.54\n",
      "Epoch: 066/100 | Batch 014/030 | Train/Val Loss: 0.18\n",
      "Epoch: 066/100 | Batch 015/030 | Train/Val Loss: 0.24\n",
      "Epoch: 066/100 | Batch 016/030 | Train/Val Loss: 0.44\n",
      "Epoch: 066/100 | Batch 017/030 | Train/Val Loss: 0.21\n",
      "Epoch: 066/100 | Batch 018/030 | Train/Val Loss: 0.26\n",
      "Epoch: 066/100 | Batch 019/030 | Train/Val Loss: 0.44\n",
      "Epoch: 066/100 | Batch 020/030 | Train/Val Loss: 0.37\n",
      "Epoch: 066/100 | Batch 021/030 | Train/Val Loss: 0.41\n",
      "Epoch: 066/100 | Batch 022/030 | Train/Val Loss: 0.32\n",
      "Epoch: 066/100 | Batch 023/030 | Train/Val Loss: 0.39\n",
      "Epoch: 066/100 | Batch 024/030 | Train/Val Loss: 0.27\n",
      "Epoch: 066/100 | Batch 025/030 | Train/Val Loss: 0.40\n",
      "Epoch: 066/100 | Batch 026/030 | Train/Val Loss: 0.32\n",
      "Epoch: 066/100 | Batch 027/030 | Train/Val Loss: 0.44\n",
      "Epoch: 066/100 | Batch 028/030 | Train/Val Loss: 0.41\n",
      "Epoch: 066/100 | Batch 029/030 | Train/Val Loss: 0.34\n",
      "Epoch: 066/100 | Batch 030/030 | Train/Val Loss: 0.71\n"
     ]
    },
    {
     "data": {
      "text/html": [
       "<pre style=\"white-space:pre;overflow-x:auto;line-height:normal;font-family:Menlo,'DejaVu Sans Mono',consolas,'Courier New',monospace\"><span style=\"color: #76ff7b; text-decoration-color: #76ff7b\">Train Acc: </span><span style=\"color: #008080; text-decoration-color: #008080; font-weight: bold\">86.10</span><span style=\"color: #76ff7b; text-decoration-color: #76ff7b\">% | Val Acc: </span><span style=\"color: #008080; text-decoration-color: #008080; font-weight: bold\">83.64</span><span style=\"color: #76ff7b; text-decoration-color: #76ff7b\">%</span>\n",
       "</pre>\n"
      ],
      "text/plain": [
       "\u001b[38;2;118;255;123mTrain Acc: \u001b[0m\u001b[1;36m86.10\u001b[0m\u001b[38;2;118;255;123m% | Val Acc: \u001b[0m\u001b[1;36m83.64\u001b[0m\u001b[38;2;118;255;123m%\u001b[0m\n"
      ]
     },
     "metadata": {},
     "output_type": "display_data"
    },
    {
     "name": "stdout",
     "output_type": "stream",
     "text": [
      "Epoch: 067/100 | Batch 001/030 | Train/Val Loss: 0.29\n",
      "Epoch: 067/100 | Batch 002/030 | Train/Val Loss: 0.31\n",
      "Epoch: 067/100 | Batch 003/030 | Train/Val Loss: 0.43\n",
      "Epoch: 067/100 | Batch 004/030 | Train/Val Loss: 0.52\n",
      "Epoch: 067/100 | Batch 005/030 | Train/Val Loss: 0.36\n",
      "Epoch: 067/100 | Batch 006/030 | Train/Val Loss: 0.23\n",
      "Epoch: 067/100 | Batch 007/030 | Train/Val Loss: 0.37\n",
      "Epoch: 067/100 | Batch 008/030 | Train/Val Loss: 0.27\n",
      "Epoch: 067/100 | Batch 009/030 | Train/Val Loss: 0.36\n",
      "Epoch: 067/100 | Batch 010/030 | Train/Val Loss: 0.42\n",
      "Epoch: 067/100 | Batch 011/030 | Train/Val Loss: 0.25\n",
      "Epoch: 067/100 | Batch 012/030 | Train/Val Loss: 0.35\n",
      "Epoch: 067/100 | Batch 013/030 | Train/Val Loss: 0.37\n",
      "Epoch: 067/100 | Batch 014/030 | Train/Val Loss: 0.28\n",
      "Epoch: 067/100 | Batch 015/030 | Train/Val Loss: 0.31\n",
      "Epoch: 067/100 | Batch 016/030 | Train/Val Loss: 0.21\n",
      "Epoch: 067/100 | Batch 017/030 | Train/Val Loss: 0.55\n",
      "Epoch: 067/100 | Batch 018/030 | Train/Val Loss: 0.35\n",
      "Epoch: 067/100 | Batch 019/030 | Train/Val Loss: 0.34\n",
      "Epoch: 067/100 | Batch 020/030 | Train/Val Loss: 0.43\n",
      "Epoch: 067/100 | Batch 021/030 | Train/Val Loss: 0.32\n",
      "Epoch: 067/100 | Batch 022/030 | Train/Val Loss: 0.30\n",
      "Epoch: 067/100 | Batch 023/030 | Train/Val Loss: 0.41\n",
      "Epoch: 067/100 | Batch 024/030 | Train/Val Loss: 0.35\n",
      "Epoch: 067/100 | Batch 025/030 | Train/Val Loss: 0.30\n",
      "Epoch: 067/100 | Batch 026/030 | Train/Val Loss: 0.32\n",
      "Epoch: 067/100 | Batch 027/030 | Train/Val Loss: 0.46\n",
      "Epoch: 067/100 | Batch 028/030 | Train/Val Loss: 0.32\n",
      "Epoch: 067/100 | Batch 029/030 | Train/Val Loss: 0.29\n",
      "Epoch: 067/100 | Batch 030/030 | Train/Val Loss: 0.47\n"
     ]
    },
    {
     "data": {
      "text/html": [
       "<pre style=\"white-space:pre;overflow-x:auto;line-height:normal;font-family:Menlo,'DejaVu Sans Mono',consolas,'Courier New',monospace\"><span style=\"color: #76ff7b; text-decoration-color: #76ff7b\">Train Acc: </span><span style=\"color: #008080; text-decoration-color: #008080; font-weight: bold\">85.78</span><span style=\"color: #76ff7b; text-decoration-color: #76ff7b\">% | Val Acc: </span><span style=\"color: #008080; text-decoration-color: #008080; font-weight: bold\">83.03</span><span style=\"color: #76ff7b; text-decoration-color: #76ff7b\">%</span>\n",
       "</pre>\n"
      ],
      "text/plain": [
       "\u001b[38;2;118;255;123mTrain Acc: \u001b[0m\u001b[1;36m85.78\u001b[0m\u001b[38;2;118;255;123m% | Val Acc: \u001b[0m\u001b[1;36m83.03\u001b[0m\u001b[38;2;118;255;123m%\u001b[0m\n"
      ]
     },
     "metadata": {},
     "output_type": "display_data"
    },
    {
     "name": "stdout",
     "output_type": "stream",
     "text": [
      "Epoch: 068/100 | Batch 001/030 | Train/Val Loss: 0.33\n",
      "Epoch: 068/100 | Batch 002/030 | Train/Val Loss: 0.23\n",
      "Epoch: 068/100 | Batch 003/030 | Train/Val Loss: 0.33\n",
      "Epoch: 068/100 | Batch 004/030 | Train/Val Loss: 0.34\n",
      "Epoch: 068/100 | Batch 005/030 | Train/Val Loss: 0.29\n",
      "Epoch: 068/100 | Batch 006/030 | Train/Val Loss: 0.42\n",
      "Epoch: 068/100 | Batch 007/030 | Train/Val Loss: 0.31\n",
      "Epoch: 068/100 | Batch 008/030 | Train/Val Loss: 0.29\n",
      "Epoch: 068/100 | Batch 009/030 | Train/Val Loss: 0.42\n",
      "Epoch: 068/100 | Batch 010/030 | Train/Val Loss: 0.29\n",
      "Epoch: 068/100 | Batch 011/030 | Train/Val Loss: 0.36\n",
      "Epoch: 068/100 | Batch 012/030 | Train/Val Loss: 0.30\n",
      "Epoch: 068/100 | Batch 013/030 | Train/Val Loss: 0.33\n",
      "Epoch: 068/100 | Batch 014/030 | Train/Val Loss: 0.18\n",
      "Epoch: 068/100 | Batch 015/030 | Train/Val Loss: 0.32\n",
      "Epoch: 068/100 | Batch 016/030 | Train/Val Loss: 0.32\n",
      "Epoch: 068/100 | Batch 017/030 | Train/Val Loss: 0.28\n",
      "Epoch: 068/100 | Batch 018/030 | Train/Val Loss: 0.29\n",
      "Epoch: 068/100 | Batch 019/030 | Train/Val Loss: 0.33\n",
      "Epoch: 068/100 | Batch 020/030 | Train/Val Loss: 0.38\n",
      "Epoch: 068/100 | Batch 021/030 | Train/Val Loss: 0.28\n",
      "Epoch: 068/100 | Batch 022/030 | Train/Val Loss: 0.62\n",
      "Epoch: 068/100 | Batch 023/030 | Train/Val Loss: 0.34\n",
      "Epoch: 068/100 | Batch 024/030 | Train/Val Loss: 0.28\n",
      "Epoch: 068/100 | Batch 025/030 | Train/Val Loss: 0.43\n",
      "Epoch: 068/100 | Batch 026/030 | Train/Val Loss: 0.32\n",
      "Epoch: 068/100 | Batch 027/030 | Train/Val Loss: 0.43\n",
      "Epoch: 068/100 | Batch 028/030 | Train/Val Loss: 0.27\n",
      "Epoch: 068/100 | Batch 029/030 | Train/Val Loss: 0.50\n",
      "Epoch: 068/100 | Batch 030/030 | Train/Val Loss: 0.13\n"
     ]
    },
    {
     "data": {
      "text/html": [
       "<pre style=\"white-space:pre;overflow-x:auto;line-height:normal;font-family:Menlo,'DejaVu Sans Mono',consolas,'Courier New',monospace\"><span style=\"color: #76ff7b; text-decoration-color: #76ff7b\">Train Acc: </span><span style=\"color: #008080; text-decoration-color: #008080; font-weight: bold\">85.99</span><span style=\"color: #76ff7b; text-decoration-color: #76ff7b\">% | Val Acc: </span><span style=\"color: #008080; text-decoration-color: #008080; font-weight: bold\">84.24</span><span style=\"color: #76ff7b; text-decoration-color: #76ff7b\">%</span>\n",
       "</pre>\n"
      ],
      "text/plain": [
       "\u001b[38;2;118;255;123mTrain Acc: \u001b[0m\u001b[1;36m85.99\u001b[0m\u001b[38;2;118;255;123m% | Val Acc: \u001b[0m\u001b[1;36m84.24\u001b[0m\u001b[38;2;118;255;123m%\u001b[0m\n"
      ]
     },
     "metadata": {},
     "output_type": "display_data"
    },
    {
     "name": "stdout",
     "output_type": "stream",
     "text": [
      "Epoch: 069/100 | Batch 001/030 | Train/Val Loss: 0.33\n",
      "Epoch: 069/100 | Batch 002/030 | Train/Val Loss: 0.30\n",
      "Epoch: 069/100 | Batch 003/030 | Train/Val Loss: 0.36\n",
      "Epoch: 069/100 | Batch 004/030 | Train/Val Loss: 0.23\n",
      "Epoch: 069/100 | Batch 005/030 | Train/Val Loss: 0.37\n",
      "Epoch: 069/100 | Batch 006/030 | Train/Val Loss: 0.42\n",
      "Epoch: 069/100 | Batch 007/030 | Train/Val Loss: 0.26\n",
      "Epoch: 069/100 | Batch 008/030 | Train/Val Loss: 0.34\n",
      "Epoch: 069/100 | Batch 009/030 | Train/Val Loss: 0.21\n",
      "Epoch: 069/100 | Batch 010/030 | Train/Val Loss: 0.20\n",
      "Epoch: 069/100 | Batch 011/030 | Train/Val Loss: 0.45\n",
      "Epoch: 069/100 | Batch 012/030 | Train/Val Loss: 0.42\n",
      "Epoch: 069/100 | Batch 013/030 | Train/Val Loss: 0.40\n",
      "Epoch: 069/100 | Batch 014/030 | Train/Val Loss: 0.29\n",
      "Epoch: 069/100 | Batch 015/030 | Train/Val Loss: 0.34\n",
      "Epoch: 069/100 | Batch 016/030 | Train/Val Loss: 0.40\n",
      "Epoch: 069/100 | Batch 017/030 | Train/Val Loss: 0.28\n",
      "Epoch: 069/100 | Batch 018/030 | Train/Val Loss: 0.24\n",
      "Epoch: 069/100 | Batch 019/030 | Train/Val Loss: 0.24\n",
      "Epoch: 069/100 | Batch 020/030 | Train/Val Loss: 0.35\n",
      "Epoch: 069/100 | Batch 021/030 | Train/Val Loss: 0.40\n",
      "Epoch: 069/100 | Batch 022/030 | Train/Val Loss: 0.27\n",
      "Epoch: 069/100 | Batch 023/030 | Train/Val Loss: 0.38\n",
      "Epoch: 069/100 | Batch 024/030 | Train/Val Loss: 0.42\n",
      "Epoch: 069/100 | Batch 025/030 | Train/Val Loss: 0.26\n",
      "Epoch: 069/100 | Batch 026/030 | Train/Val Loss: 0.31\n",
      "Epoch: 069/100 | Batch 027/030 | Train/Val Loss: 0.43\n",
      "Epoch: 069/100 | Batch 028/030 | Train/Val Loss: 0.36\n",
      "Epoch: 069/100 | Batch 029/030 | Train/Val Loss: 0.29\n",
      "Epoch: 069/100 | Batch 030/030 | Train/Val Loss: 0.28\n"
     ]
    },
    {
     "data": {
      "text/html": [
       "<pre style=\"white-space:pre;overflow-x:auto;line-height:normal;font-family:Menlo,'DejaVu Sans Mono',consolas,'Courier New',monospace\"><span style=\"color: #76ff7b; text-decoration-color: #76ff7b\">Train Acc: </span><span style=\"color: #008080; text-decoration-color: #008080; font-weight: bold\">86.42</span><span style=\"color: #76ff7b; text-decoration-color: #76ff7b\">% | Val Acc: </span><span style=\"color: #008080; text-decoration-color: #008080; font-weight: bold\">81.82</span><span style=\"color: #76ff7b; text-decoration-color: #76ff7b\">%</span>\n",
       "</pre>\n"
      ],
      "text/plain": [
       "\u001b[38;2;118;255;123mTrain Acc: \u001b[0m\u001b[1;36m86.42\u001b[0m\u001b[38;2;118;255;123m% | Val Acc: \u001b[0m\u001b[1;36m81.82\u001b[0m\u001b[38;2;118;255;123m%\u001b[0m\n"
      ]
     },
     "metadata": {},
     "output_type": "display_data"
    },
    {
     "name": "stdout",
     "output_type": "stream",
     "text": [
      "Epoch: 070/100 | Batch 001/030 | Train/Val Loss: 0.37\n",
      "Epoch: 070/100 | Batch 002/030 | Train/Val Loss: 0.24\n",
      "Epoch: 070/100 | Batch 003/030 | Train/Val Loss: 0.46\n",
      "Epoch: 070/100 | Batch 004/030 | Train/Val Loss: 0.42\n",
      "Epoch: 070/100 | Batch 005/030 | Train/Val Loss: 0.42\n",
      "Epoch: 070/100 | Batch 006/030 | Train/Val Loss: 0.41\n",
      "Epoch: 070/100 | Batch 007/030 | Train/Val Loss: 0.37\n",
      "Epoch: 070/100 | Batch 008/030 | Train/Val Loss: 0.36\n",
      "Epoch: 070/100 | Batch 009/030 | Train/Val Loss: 0.46\n",
      "Epoch: 070/100 | Batch 010/030 | Train/Val Loss: 0.26\n",
      "Epoch: 070/100 | Batch 011/030 | Train/Val Loss: 0.29\n",
      "Epoch: 070/100 | Batch 012/030 | Train/Val Loss: 0.29\n",
      "Epoch: 070/100 | Batch 013/030 | Train/Val Loss: 0.24\n",
      "Epoch: 070/100 | Batch 014/030 | Train/Val Loss: 0.35\n",
      "Epoch: 070/100 | Batch 015/030 | Train/Val Loss: 0.33\n",
      "Epoch: 070/100 | Batch 016/030 | Train/Val Loss: 0.34\n",
      "Epoch: 070/100 | Batch 017/030 | Train/Val Loss: 0.33\n",
      "Epoch: 070/100 | Batch 018/030 | Train/Val Loss: 0.43\n",
      "Epoch: 070/100 | Batch 019/030 | Train/Val Loss: 0.25\n",
      "Epoch: 070/100 | Batch 020/030 | Train/Val Loss: 0.25\n",
      "Epoch: 070/100 | Batch 021/030 | Train/Val Loss: 0.23\n",
      "Epoch: 070/100 | Batch 022/030 | Train/Val Loss: 0.26\n",
      "Epoch: 070/100 | Batch 023/030 | Train/Val Loss: 0.26\n",
      "Epoch: 070/100 | Batch 024/030 | Train/Val Loss: 0.22\n",
      "Epoch: 070/100 | Batch 025/030 | Train/Val Loss: 0.38\n",
      "Epoch: 070/100 | Batch 026/030 | Train/Val Loss: 0.69\n",
      "Epoch: 070/100 | Batch 027/030 | Train/Val Loss: 0.31\n",
      "Epoch: 070/100 | Batch 028/030 | Train/Val Loss: 0.25\n",
      "Epoch: 070/100 | Batch 029/030 | Train/Val Loss: 0.21\n",
      "Epoch: 070/100 | Batch 030/030 | Train/Val Loss: 0.38\n"
     ]
    },
    {
     "data": {
      "text/html": [
       "<pre style=\"white-space:pre;overflow-x:auto;line-height:normal;font-family:Menlo,'DejaVu Sans Mono',consolas,'Courier New',monospace\"><span style=\"color: #76ff7b; text-decoration-color: #76ff7b\">Train Acc: </span><span style=\"color: #008080; text-decoration-color: #008080; font-weight: bold\">85.67</span><span style=\"color: #76ff7b; text-decoration-color: #76ff7b\">% | Val Acc: </span><span style=\"color: #008080; text-decoration-color: #008080; font-weight: bold\">83.03</span><span style=\"color: #76ff7b; text-decoration-color: #76ff7b\">%</span>\n",
       "</pre>\n"
      ],
      "text/plain": [
       "\u001b[38;2;118;255;123mTrain Acc: \u001b[0m\u001b[1;36m85.67\u001b[0m\u001b[38;2;118;255;123m% | Val Acc: \u001b[0m\u001b[1;36m83.03\u001b[0m\u001b[38;2;118;255;123m%\u001b[0m\n"
      ]
     },
     "metadata": {},
     "output_type": "display_data"
    },
    {
     "name": "stdout",
     "output_type": "stream",
     "text": [
      "Epoch: 071/100 | Batch 001/030 | Train/Val Loss: 0.18\n",
      "Epoch: 071/100 | Batch 002/030 | Train/Val Loss: 0.35\n",
      "Epoch: 071/100 | Batch 003/030 | Train/Val Loss: 0.30\n",
      "Epoch: 071/100 | Batch 004/030 | Train/Val Loss: 0.34\n",
      "Epoch: 071/100 | Batch 005/030 | Train/Val Loss: 0.27\n",
      "Epoch: 071/100 | Batch 006/030 | Train/Val Loss: 0.44\n",
      "Epoch: 071/100 | Batch 007/030 | Train/Val Loss: 0.35\n",
      "Epoch: 071/100 | Batch 008/030 | Train/Val Loss: 0.37\n",
      "Epoch: 071/100 | Batch 009/030 | Train/Val Loss: 0.33\n",
      "Epoch: 071/100 | Batch 010/030 | Train/Val Loss: 0.29\n",
      "Epoch: 071/100 | Batch 011/030 | Train/Val Loss: 0.26\n",
      "Epoch: 071/100 | Batch 012/030 | Train/Val Loss: 0.29\n",
      "Epoch: 071/100 | Batch 013/030 | Train/Val Loss: 0.35\n",
      "Epoch: 071/100 | Batch 014/030 | Train/Val Loss: 0.36\n",
      "Epoch: 071/100 | Batch 015/030 | Train/Val Loss: 0.28\n",
      "Epoch: 071/100 | Batch 016/030 | Train/Val Loss: 0.38\n",
      "Epoch: 071/100 | Batch 017/030 | Train/Val Loss: 0.31\n",
      "Epoch: 071/100 | Batch 018/030 | Train/Val Loss: 0.35\n",
      "Epoch: 071/100 | Batch 019/030 | Train/Val Loss: 0.38\n",
      "Epoch: 071/100 | Batch 020/030 | Train/Val Loss: 0.45\n",
      "Epoch: 071/100 | Batch 021/030 | Train/Val Loss: 0.32\n",
      "Epoch: 071/100 | Batch 022/030 | Train/Val Loss: 0.38\n",
      "Epoch: 071/100 | Batch 023/030 | Train/Val Loss: 0.23\n",
      "Epoch: 071/100 | Batch 024/030 | Train/Val Loss: 0.34\n",
      "Epoch: 071/100 | Batch 025/030 | Train/Val Loss: 0.41\n",
      "Epoch: 071/100 | Batch 026/030 | Train/Val Loss: 0.43\n",
      "Epoch: 071/100 | Batch 027/030 | Train/Val Loss: 0.35\n",
      "Epoch: 071/100 | Batch 028/030 | Train/Val Loss: 0.18\n",
      "Epoch: 071/100 | Batch 029/030 | Train/Val Loss: 0.53\n",
      "Epoch: 071/100 | Batch 030/030 | Train/Val Loss: 0.40\n"
     ]
    },
    {
     "data": {
      "text/html": [
       "<pre style=\"white-space:pre;overflow-x:auto;line-height:normal;font-family:Menlo,'DejaVu Sans Mono',consolas,'Courier New',monospace\"><span style=\"color: #76ff7b; text-decoration-color: #76ff7b\">Train Acc: </span><span style=\"color: #008080; text-decoration-color: #008080; font-weight: bold\">85.99</span><span style=\"color: #76ff7b; text-decoration-color: #76ff7b\">% | Val Acc: </span><span style=\"color: #008080; text-decoration-color: #008080; font-weight: bold\">82.42</span><span style=\"color: #76ff7b; text-decoration-color: #76ff7b\">%</span>\n",
       "</pre>\n"
      ],
      "text/plain": [
       "\u001b[38;2;118;255;123mTrain Acc: \u001b[0m\u001b[1;36m85.99\u001b[0m\u001b[38;2;118;255;123m% | Val Acc: \u001b[0m\u001b[1;36m82.42\u001b[0m\u001b[38;2;118;255;123m%\u001b[0m\n"
      ]
     },
     "metadata": {},
     "output_type": "display_data"
    },
    {
     "name": "stdout",
     "output_type": "stream",
     "text": [
      "Epoch: 072/100 | Batch 001/030 | Train/Val Loss: 0.48\n",
      "Epoch: 072/100 | Batch 002/030 | Train/Val Loss: 0.13\n",
      "Epoch: 072/100 | Batch 003/030 | Train/Val Loss: 0.30\n",
      "Epoch: 072/100 | Batch 004/030 | Train/Val Loss: 0.28\n",
      "Epoch: 072/100 | Batch 005/030 | Train/Val Loss: 0.35\n",
      "Epoch: 072/100 | Batch 006/030 | Train/Val Loss: 0.37\n",
      "Epoch: 072/100 | Batch 007/030 | Train/Val Loss: 0.27\n",
      "Epoch: 072/100 | Batch 008/030 | Train/Val Loss: 0.34\n",
      "Epoch: 072/100 | Batch 009/030 | Train/Val Loss: 0.48\n",
      "Epoch: 072/100 | Batch 010/030 | Train/Val Loss: 0.26\n",
      "Epoch: 072/100 | Batch 011/030 | Train/Val Loss: 0.38\n",
      "Epoch: 072/100 | Batch 012/030 | Train/Val Loss: 0.35\n",
      "Epoch: 072/100 | Batch 013/030 | Train/Val Loss: 0.41\n",
      "Epoch: 072/100 | Batch 014/030 | Train/Val Loss: 0.21\n",
      "Epoch: 072/100 | Batch 015/030 | Train/Val Loss: 0.25\n",
      "Epoch: 072/100 | Batch 016/030 | Train/Val Loss: 0.18\n",
      "Epoch: 072/100 | Batch 017/030 | Train/Val Loss: 0.46\n",
      "Epoch: 072/100 | Batch 018/030 | Train/Val Loss: 0.19\n",
      "Epoch: 072/100 | Batch 019/030 | Train/Val Loss: 0.47\n",
      "Epoch: 072/100 | Batch 020/030 | Train/Val Loss: 0.34\n",
      "Epoch: 072/100 | Batch 021/030 | Train/Val Loss: 0.49\n",
      "Epoch: 072/100 | Batch 022/030 | Train/Val Loss: 0.30\n",
      "Epoch: 072/100 | Batch 023/030 | Train/Val Loss: 0.52\n",
      "Epoch: 072/100 | Batch 024/030 | Train/Val Loss: 0.35\n",
      "Epoch: 072/100 | Batch 025/030 | Train/Val Loss: 0.23\n",
      "Epoch: 072/100 | Batch 026/030 | Train/Val Loss: 0.33\n",
      "Epoch: 072/100 | Batch 027/030 | Train/Val Loss: 0.24\n",
      "Epoch: 072/100 | Batch 028/030 | Train/Val Loss: 0.51\n",
      "Epoch: 072/100 | Batch 029/030 | Train/Val Loss: 0.32\n",
      "Epoch: 072/100 | Batch 030/030 | Train/Val Loss: 0.18\n"
     ]
    },
    {
     "data": {
      "text/html": [
       "<pre style=\"white-space:pre;overflow-x:auto;line-height:normal;font-family:Menlo,'DejaVu Sans Mono',consolas,'Courier New',monospace\"><span style=\"color: #76ff7b; text-decoration-color: #76ff7b\">Train Acc: </span><span style=\"color: #008080; text-decoration-color: #008080; font-weight: bold\">85.03</span><span style=\"color: #76ff7b; text-decoration-color: #76ff7b\">% | Val Acc: </span><span style=\"color: #008080; text-decoration-color: #008080; font-weight: bold\">83.03</span><span style=\"color: #76ff7b; text-decoration-color: #76ff7b\">%</span>\n",
       "</pre>\n"
      ],
      "text/plain": [
       "\u001b[38;2;118;255;123mTrain Acc: \u001b[0m\u001b[1;36m85.03\u001b[0m\u001b[38;2;118;255;123m% | Val Acc: \u001b[0m\u001b[1;36m83.03\u001b[0m\u001b[38;2;118;255;123m%\u001b[0m\n"
      ]
     },
     "metadata": {},
     "output_type": "display_data"
    },
    {
     "name": "stdout",
     "output_type": "stream",
     "text": [
      "Epoch: 073/100 | Batch 001/030 | Train/Val Loss: 0.34\n",
      "Epoch: 073/100 | Batch 002/030 | Train/Val Loss: 0.36\n",
      "Epoch: 073/100 | Batch 003/030 | Train/Val Loss: 0.18\n",
      "Epoch: 073/100 | Batch 004/030 | Train/Val Loss: 0.31\n",
      "Epoch: 073/100 | Batch 005/030 | Train/Val Loss: 0.29\n",
      "Epoch: 073/100 | Batch 006/030 | Train/Val Loss: 0.37\n",
      "Epoch: 073/100 | Batch 007/030 | Train/Val Loss: 0.35\n",
      "Epoch: 073/100 | Batch 008/030 | Train/Val Loss: 0.19\n",
      "Epoch: 073/100 | Batch 009/030 | Train/Val Loss: 0.36\n",
      "Epoch: 073/100 | Batch 010/030 | Train/Val Loss: 0.36\n",
      "Epoch: 073/100 | Batch 011/030 | Train/Val Loss: 0.46\n",
      "Epoch: 073/100 | Batch 012/030 | Train/Val Loss: 0.41\n",
      "Epoch: 073/100 | Batch 013/030 | Train/Val Loss: 0.26\n",
      "Epoch: 073/100 | Batch 014/030 | Train/Val Loss: 0.35\n",
      "Epoch: 073/100 | Batch 015/030 | Train/Val Loss: 0.33\n",
      "Epoch: 073/100 | Batch 016/030 | Train/Val Loss: 0.43\n",
      "Epoch: 073/100 | Batch 017/030 | Train/Val Loss: 0.41\n",
      "Epoch: 073/100 | Batch 018/030 | Train/Val Loss: 0.32\n",
      "Epoch: 073/100 | Batch 019/030 | Train/Val Loss: 0.24\n",
      "Epoch: 073/100 | Batch 020/030 | Train/Val Loss: 0.51\n",
      "Epoch: 073/100 | Batch 021/030 | Train/Val Loss: 0.27\n",
      "Epoch: 073/100 | Batch 022/030 | Train/Val Loss: 0.27\n",
      "Epoch: 073/100 | Batch 023/030 | Train/Val Loss: 0.38\n",
      "Epoch: 073/100 | Batch 024/030 | Train/Val Loss: 0.27\n",
      "Epoch: 073/100 | Batch 025/030 | Train/Val Loss: 0.21\n",
      "Epoch: 073/100 | Batch 026/030 | Train/Val Loss: 0.31\n",
      "Epoch: 073/100 | Batch 027/030 | Train/Val Loss: 0.31\n",
      "Epoch: 073/100 | Batch 028/030 | Train/Val Loss: 0.39\n",
      "Epoch: 073/100 | Batch 029/030 | Train/Val Loss: 0.29\n",
      "Epoch: 073/100 | Batch 030/030 | Train/Val Loss: 0.47\n"
     ]
    },
    {
     "data": {
      "text/html": [
       "<pre style=\"white-space:pre;overflow-x:auto;line-height:normal;font-family:Menlo,'DejaVu Sans Mono',consolas,'Courier New',monospace\"><span style=\"color: #76ff7b; text-decoration-color: #76ff7b\">Train Acc: </span><span style=\"color: #008080; text-decoration-color: #008080; font-weight: bold\">85.99</span><span style=\"color: #76ff7b; text-decoration-color: #76ff7b\">% | Val Acc: </span><span style=\"color: #008080; text-decoration-color: #008080; font-weight: bold\">83.03</span><span style=\"color: #76ff7b; text-decoration-color: #76ff7b\">%</span>\n",
       "</pre>\n"
      ],
      "text/plain": [
       "\u001b[38;2;118;255;123mTrain Acc: \u001b[0m\u001b[1;36m85.99\u001b[0m\u001b[38;2;118;255;123m% | Val Acc: \u001b[0m\u001b[1;36m83.03\u001b[0m\u001b[38;2;118;255;123m%\u001b[0m\n"
      ]
     },
     "metadata": {},
     "output_type": "display_data"
    },
    {
     "name": "stdout",
     "output_type": "stream",
     "text": [
      "Epoch: 074/100 | Batch 001/030 | Train/Val Loss: 0.30\n",
      "Epoch: 074/100 | Batch 002/030 | Train/Val Loss: 0.32\n",
      "Epoch: 074/100 | Batch 003/030 | Train/Val Loss: 0.42\n",
      "Epoch: 074/100 | Batch 004/030 | Train/Val Loss: 0.22\n",
      "Epoch: 074/100 | Batch 005/030 | Train/Val Loss: 0.39\n",
      "Epoch: 074/100 | Batch 006/030 | Train/Val Loss: 0.29\n",
      "Epoch: 074/100 | Batch 007/030 | Train/Val Loss: 0.38\n",
      "Epoch: 074/100 | Batch 008/030 | Train/Val Loss: 0.24\n",
      "Epoch: 074/100 | Batch 009/030 | Train/Val Loss: 0.41\n",
      "Epoch: 074/100 | Batch 010/030 | Train/Val Loss: 0.43\n",
      "Epoch: 074/100 | Batch 011/030 | Train/Val Loss: 0.18\n",
      "Epoch: 074/100 | Batch 012/030 | Train/Val Loss: 0.40\n",
      "Epoch: 074/100 | Batch 013/030 | Train/Val Loss: 0.30\n",
      "Epoch: 074/100 | Batch 014/030 | Train/Val Loss: 0.34\n",
      "Epoch: 074/100 | Batch 015/030 | Train/Val Loss: 0.32\n",
      "Epoch: 074/100 | Batch 016/030 | Train/Val Loss: 0.30\n",
      "Epoch: 074/100 | Batch 017/030 | Train/Val Loss: 0.27\n",
      "Epoch: 074/100 | Batch 018/030 | Train/Val Loss: 0.27\n",
      "Epoch: 074/100 | Batch 019/030 | Train/Val Loss: 0.25\n",
      "Epoch: 074/100 | Batch 020/030 | Train/Val Loss: 0.26\n",
      "Epoch: 074/100 | Batch 021/030 | Train/Val Loss: 0.41\n",
      "Epoch: 074/100 | Batch 022/030 | Train/Val Loss: 0.36\n",
      "Epoch: 074/100 | Batch 023/030 | Train/Val Loss: 0.30\n",
      "Epoch: 074/100 | Batch 024/030 | Train/Val Loss: 0.35\n",
      "Epoch: 074/100 | Batch 025/030 | Train/Val Loss: 0.31\n",
      "Epoch: 074/100 | Batch 026/030 | Train/Val Loss: 0.27\n",
      "Epoch: 074/100 | Batch 027/030 | Train/Val Loss: 0.24\n",
      "Epoch: 074/100 | Batch 028/030 | Train/Val Loss: 0.45\n",
      "Epoch: 074/100 | Batch 029/030 | Train/Val Loss: 0.33\n",
      "Epoch: 074/100 | Batch 030/030 | Train/Val Loss: 0.72\n"
     ]
    },
    {
     "data": {
      "text/html": [
       "<pre style=\"white-space:pre;overflow-x:auto;line-height:normal;font-family:Menlo,'DejaVu Sans Mono',consolas,'Courier New',monospace\"><span style=\"color: #76ff7b; text-decoration-color: #76ff7b\">Train Acc: </span><span style=\"color: #008080; text-decoration-color: #008080; font-weight: bold\">86.10</span><span style=\"color: #76ff7b; text-decoration-color: #76ff7b\">% | Val Acc: </span><span style=\"color: #008080; text-decoration-color: #008080; font-weight: bold\">83.64</span><span style=\"color: #76ff7b; text-decoration-color: #76ff7b\">%</span>\n",
       "</pre>\n"
      ],
      "text/plain": [
       "\u001b[38;2;118;255;123mTrain Acc: \u001b[0m\u001b[1;36m86.10\u001b[0m\u001b[38;2;118;255;123m% | Val Acc: \u001b[0m\u001b[1;36m83.64\u001b[0m\u001b[38;2;118;255;123m%\u001b[0m\n"
      ]
     },
     "metadata": {},
     "output_type": "display_data"
    },
    {
     "name": "stdout",
     "output_type": "stream",
     "text": [
      "Epoch: 075/100 | Batch 001/030 | Train/Val Loss: 0.41\n",
      "Epoch: 075/100 | Batch 002/030 | Train/Val Loss: 0.49\n",
      "Epoch: 075/100 | Batch 003/030 | Train/Val Loss: 0.38\n",
      "Epoch: 075/100 | Batch 004/030 | Train/Val Loss: 0.27\n",
      "Epoch: 075/100 | Batch 005/030 | Train/Val Loss: 0.43\n",
      "Epoch: 075/100 | Batch 006/030 | Train/Val Loss: 0.24\n",
      "Epoch: 075/100 | Batch 007/030 | Train/Val Loss: 0.20\n",
      "Epoch: 075/100 | Batch 008/030 | Train/Val Loss: 0.31\n",
      "Epoch: 075/100 | Batch 009/030 | Train/Val Loss: 0.40\n",
      "Epoch: 075/100 | Batch 010/030 | Train/Val Loss: 0.48\n",
      "Epoch: 075/100 | Batch 011/030 | Train/Val Loss: 0.39\n",
      "Epoch: 075/100 | Batch 012/030 | Train/Val Loss: 0.45\n",
      "Epoch: 075/100 | Batch 013/030 | Train/Val Loss: 0.37\n",
      "Epoch: 075/100 | Batch 014/030 | Train/Val Loss: 0.27\n",
      "Epoch: 075/100 | Batch 015/030 | Train/Val Loss: 0.34\n",
      "Epoch: 075/100 | Batch 016/030 | Train/Val Loss: 0.42\n",
      "Epoch: 075/100 | Batch 017/030 | Train/Val Loss: 0.26\n",
      "Epoch: 075/100 | Batch 018/030 | Train/Val Loss: 0.22\n",
      "Epoch: 075/100 | Batch 019/030 | Train/Val Loss: 0.32\n",
      "Epoch: 075/100 | Batch 020/030 | Train/Val Loss: 0.35\n",
      "Epoch: 075/100 | Batch 021/030 | Train/Val Loss: 0.40\n",
      "Epoch: 075/100 | Batch 022/030 | Train/Val Loss: 0.29\n",
      "Epoch: 075/100 | Batch 023/030 | Train/Val Loss: 0.38\n",
      "Epoch: 075/100 | Batch 024/030 | Train/Val Loss: 0.34\n",
      "Epoch: 075/100 | Batch 025/030 | Train/Val Loss: 0.34\n",
      "Epoch: 075/100 | Batch 026/030 | Train/Val Loss: 0.39\n",
      "Epoch: 075/100 | Batch 027/030 | Train/Val Loss: 0.29\n",
      "Epoch: 075/100 | Batch 028/030 | Train/Val Loss: 0.50\n",
      "Epoch: 075/100 | Batch 029/030 | Train/Val Loss: 0.46\n",
      "Epoch: 075/100 | Batch 030/030 | Train/Val Loss: 0.23\n"
     ]
    },
    {
     "data": {
      "text/html": [
       "<pre style=\"white-space:pre;overflow-x:auto;line-height:normal;font-family:Menlo,'DejaVu Sans Mono',consolas,'Courier New',monospace\"><span style=\"color: #76ff7b; text-decoration-color: #76ff7b\">Train Acc: </span><span style=\"color: #008080; text-decoration-color: #008080; font-weight: bold\">84.92</span><span style=\"color: #76ff7b; text-decoration-color: #76ff7b\">% | Val Acc: </span><span style=\"color: #008080; text-decoration-color: #008080; font-weight: bold\">84.24</span><span style=\"color: #76ff7b; text-decoration-color: #76ff7b\">%</span>\n",
       "</pre>\n"
      ],
      "text/plain": [
       "\u001b[38;2;118;255;123mTrain Acc: \u001b[0m\u001b[1;36m84.92\u001b[0m\u001b[38;2;118;255;123m% | Val Acc: \u001b[0m\u001b[1;36m84.24\u001b[0m\u001b[38;2;118;255;123m%\u001b[0m\n"
      ]
     },
     "metadata": {},
     "output_type": "display_data"
    },
    {
     "name": "stdout",
     "output_type": "stream",
     "text": [
      "Epoch: 076/100 | Batch 001/030 | Train/Val Loss: 0.42\n",
      "Epoch: 076/100 | Batch 002/030 | Train/Val Loss: 0.37\n",
      "Epoch: 076/100 | Batch 003/030 | Train/Val Loss: 0.31\n",
      "Epoch: 076/100 | Batch 004/030 | Train/Val Loss: 0.34\n",
      "Epoch: 076/100 | Batch 005/030 | Train/Val Loss: 0.54\n",
      "Epoch: 076/100 | Batch 006/030 | Train/Val Loss: 0.21\n",
      "Epoch: 076/100 | Batch 007/030 | Train/Val Loss: 0.36\n",
      "Epoch: 076/100 | Batch 008/030 | Train/Val Loss: 0.26\n",
      "Epoch: 076/100 | Batch 009/030 | Train/Val Loss: 0.57\n",
      "Epoch: 076/100 | Batch 010/030 | Train/Val Loss: 0.38\n",
      "Epoch: 076/100 | Batch 011/030 | Train/Val Loss: 0.30\n",
      "Epoch: 076/100 | Batch 012/030 | Train/Val Loss: 0.60\n",
      "Epoch: 076/100 | Batch 013/030 | Train/Val Loss: 0.43\n",
      "Epoch: 076/100 | Batch 014/030 | Train/Val Loss: 0.37\n",
      "Epoch: 076/100 | Batch 015/030 | Train/Val Loss: 0.33\n",
      "Epoch: 076/100 | Batch 016/030 | Train/Val Loss: 0.34\n",
      "Epoch: 076/100 | Batch 017/030 | Train/Val Loss: 0.28\n",
      "Epoch: 076/100 | Batch 018/030 | Train/Val Loss: 0.40\n",
      "Epoch: 076/100 | Batch 019/030 | Train/Val Loss: 0.35\n",
      "Epoch: 076/100 | Batch 020/030 | Train/Val Loss: 0.39\n",
      "Epoch: 076/100 | Batch 021/030 | Train/Val Loss: 0.21\n",
      "Epoch: 076/100 | Batch 022/030 | Train/Val Loss: 0.33\n",
      "Epoch: 076/100 | Batch 023/030 | Train/Val Loss: 0.42\n",
      "Epoch: 076/100 | Batch 024/030 | Train/Val Loss: 0.21\n",
      "Epoch: 076/100 | Batch 025/030 | Train/Val Loss: 0.28\n",
      "Epoch: 076/100 | Batch 026/030 | Train/Val Loss: 0.29\n",
      "Epoch: 076/100 | Batch 027/030 | Train/Val Loss: 0.30\n",
      "Epoch: 076/100 | Batch 028/030 | Train/Val Loss: 0.30\n",
      "Epoch: 076/100 | Batch 029/030 | Train/Val Loss: 0.26\n",
      "Epoch: 076/100 | Batch 030/030 | Train/Val Loss: 0.16\n"
     ]
    },
    {
     "data": {
      "text/html": [
       "<pre style=\"white-space:pre;overflow-x:auto;line-height:normal;font-family:Menlo,'DejaVu Sans Mono',consolas,'Courier New',monospace\"><span style=\"color: #76ff7b; text-decoration-color: #76ff7b\">Train Acc: </span><span style=\"color: #008080; text-decoration-color: #008080; font-weight: bold\">86.10</span><span style=\"color: #76ff7b; text-decoration-color: #76ff7b\">% | Val Acc: </span><span style=\"color: #008080; text-decoration-color: #008080; font-weight: bold\">84.24</span><span style=\"color: #76ff7b; text-decoration-color: #76ff7b\">%</span>\n",
       "</pre>\n"
      ],
      "text/plain": [
       "\u001b[38;2;118;255;123mTrain Acc: \u001b[0m\u001b[1;36m86.10\u001b[0m\u001b[38;2;118;255;123m% | Val Acc: \u001b[0m\u001b[1;36m84.24\u001b[0m\u001b[38;2;118;255;123m%\u001b[0m\n"
      ]
     },
     "metadata": {},
     "output_type": "display_data"
    },
    {
     "name": "stdout",
     "output_type": "stream",
     "text": [
      "Epoch: 077/100 | Batch 001/030 | Train/Val Loss: 0.39\n",
      "Epoch: 077/100 | Batch 002/030 | Train/Val Loss: 0.45\n",
      "Epoch: 077/100 | Batch 003/030 | Train/Val Loss: 0.41\n",
      "Epoch: 077/100 | Batch 004/030 | Train/Val Loss: 0.32\n",
      "Epoch: 077/100 | Batch 005/030 | Train/Val Loss: 0.43\n",
      "Epoch: 077/100 | Batch 006/030 | Train/Val Loss: 0.32\n",
      "Epoch: 077/100 | Batch 007/030 | Train/Val Loss: 0.30\n",
      "Epoch: 077/100 | Batch 008/030 | Train/Val Loss: 0.69\n",
      "Epoch: 077/100 | Batch 009/030 | Train/Val Loss: 0.20\n",
      "Epoch: 077/100 | Batch 010/030 | Train/Val Loss: 0.28\n",
      "Epoch: 077/100 | Batch 011/030 | Train/Val Loss: 0.27\n",
      "Epoch: 077/100 | Batch 012/030 | Train/Val Loss: 0.22\n",
      "Epoch: 077/100 | Batch 013/030 | Train/Val Loss: 0.21\n",
      "Epoch: 077/100 | Batch 014/030 | Train/Val Loss: 0.30\n",
      "Epoch: 077/100 | Batch 015/030 | Train/Val Loss: 0.28\n",
      "Epoch: 077/100 | Batch 016/030 | Train/Val Loss: 0.44\n",
      "Epoch: 077/100 | Batch 017/030 | Train/Val Loss: 0.31\n",
      "Epoch: 077/100 | Batch 018/030 | Train/Val Loss: 0.34\n",
      "Epoch: 077/100 | Batch 019/030 | Train/Val Loss: 0.34\n",
      "Epoch: 077/100 | Batch 020/030 | Train/Val Loss: 0.26\n",
      "Epoch: 077/100 | Batch 021/030 | Train/Val Loss: 0.28\n",
      "Epoch: 077/100 | Batch 022/030 | Train/Val Loss: 0.39\n",
      "Epoch: 077/100 | Batch 023/030 | Train/Val Loss: 0.42\n",
      "Epoch: 077/100 | Batch 024/030 | Train/Val Loss: 0.22\n",
      "Epoch: 077/100 | Batch 025/030 | Train/Val Loss: 0.24\n",
      "Epoch: 077/100 | Batch 026/030 | Train/Val Loss: 0.29\n",
      "Epoch: 077/100 | Batch 027/030 | Train/Val Loss: 0.24\n",
      "Epoch: 077/100 | Batch 028/030 | Train/Val Loss: 0.27\n",
      "Epoch: 077/100 | Batch 029/030 | Train/Val Loss: 0.32\n",
      "Epoch: 077/100 | Batch 030/030 | Train/Val Loss: 0.63\n"
     ]
    },
    {
     "data": {
      "text/html": [
       "<pre style=\"white-space:pre;overflow-x:auto;line-height:normal;font-family:Menlo,'DejaVu Sans Mono',consolas,'Courier New',monospace\"><span style=\"color: #76ff7b; text-decoration-color: #76ff7b\">Train Acc: </span><span style=\"color: #008080; text-decoration-color: #008080; font-weight: bold\">85.88</span><span style=\"color: #76ff7b; text-decoration-color: #76ff7b\">% | Val Acc: </span><span style=\"color: #008080; text-decoration-color: #008080; font-weight: bold\">83.03</span><span style=\"color: #76ff7b; text-decoration-color: #76ff7b\">%</span>\n",
       "</pre>\n"
      ],
      "text/plain": [
       "\u001b[38;2;118;255;123mTrain Acc: \u001b[0m\u001b[1;36m85.88\u001b[0m\u001b[38;2;118;255;123m% | Val Acc: \u001b[0m\u001b[1;36m83.03\u001b[0m\u001b[38;2;118;255;123m%\u001b[0m\n"
      ]
     },
     "metadata": {},
     "output_type": "display_data"
    },
    {
     "name": "stdout",
     "output_type": "stream",
     "text": [
      "Epoch: 078/100 | Batch 001/030 | Train/Val Loss: 0.21\n",
      "Epoch: 078/100 | Batch 002/030 | Train/Val Loss: 0.21\n",
      "Epoch: 078/100 | Batch 003/030 | Train/Val Loss: 0.28\n",
      "Epoch: 078/100 | Batch 004/030 | Train/Val Loss: 0.21\n",
      "Epoch: 078/100 | Batch 005/030 | Train/Val Loss: 0.11\n",
      "Epoch: 078/100 | Batch 006/030 | Train/Val Loss: 0.31\n",
      "Epoch: 078/100 | Batch 007/030 | Train/Val Loss: 0.22\n",
      "Epoch: 078/100 | Batch 008/030 | Train/Val Loss: 0.47\n",
      "Epoch: 078/100 | Batch 009/030 | Train/Val Loss: 0.43\n",
      "Epoch: 078/100 | Batch 010/030 | Train/Val Loss: 0.24\n",
      "Epoch: 078/100 | Batch 011/030 | Train/Val Loss: 0.34\n",
      "Epoch: 078/100 | Batch 012/030 | Train/Val Loss: 0.52\n",
      "Epoch: 078/100 | Batch 013/030 | Train/Val Loss: 0.20\n",
      "Epoch: 078/100 | Batch 014/030 | Train/Val Loss: 0.34\n",
      "Epoch: 078/100 | Batch 015/030 | Train/Val Loss: 0.53\n",
      "Epoch: 078/100 | Batch 016/030 | Train/Val Loss: 0.31\n",
      "Epoch: 078/100 | Batch 017/030 | Train/Val Loss: 0.37\n",
      "Epoch: 078/100 | Batch 018/030 | Train/Val Loss: 0.48\n",
      "Epoch: 078/100 | Batch 019/030 | Train/Val Loss: 0.33\n",
      "Epoch: 078/100 | Batch 020/030 | Train/Val Loss: 0.41\n",
      "Epoch: 078/100 | Batch 021/030 | Train/Val Loss: 0.51\n",
      "Epoch: 078/100 | Batch 022/030 | Train/Val Loss: 0.29\n",
      "Epoch: 078/100 | Batch 023/030 | Train/Val Loss: 0.36\n",
      "Epoch: 078/100 | Batch 024/030 | Train/Val Loss: 0.22\n",
      "Epoch: 078/100 | Batch 025/030 | Train/Val Loss: 0.28\n",
      "Epoch: 078/100 | Batch 026/030 | Train/Val Loss: 0.37\n",
      "Epoch: 078/100 | Batch 027/030 | Train/Val Loss: 0.38\n",
      "Epoch: 078/100 | Batch 028/030 | Train/Val Loss: 0.41\n",
      "Epoch: 078/100 | Batch 029/030 | Train/Val Loss: 0.31\n",
      "Epoch: 078/100 | Batch 030/030 | Train/Val Loss: 0.31\n"
     ]
    },
    {
     "data": {
      "text/html": [
       "<pre style=\"white-space:pre;overflow-x:auto;line-height:normal;font-family:Menlo,'DejaVu Sans Mono',consolas,'Courier New',monospace\"><span style=\"color: #76ff7b; text-decoration-color: #76ff7b\">Train Acc: </span><span style=\"color: #008080; text-decoration-color: #008080; font-weight: bold\">86.10</span><span style=\"color: #76ff7b; text-decoration-color: #76ff7b\">% | Val Acc: </span><span style=\"color: #008080; text-decoration-color: #008080; font-weight: bold\">83.64</span><span style=\"color: #76ff7b; text-decoration-color: #76ff7b\">%</span>\n",
       "</pre>\n"
      ],
      "text/plain": [
       "\u001b[38;2;118;255;123mTrain Acc: \u001b[0m\u001b[1;36m86.10\u001b[0m\u001b[38;2;118;255;123m% | Val Acc: \u001b[0m\u001b[1;36m83.64\u001b[0m\u001b[38;2;118;255;123m%\u001b[0m\n"
      ]
     },
     "metadata": {},
     "output_type": "display_data"
    },
    {
     "name": "stdout",
     "output_type": "stream",
     "text": [
      "Epoch: 079/100 | Batch 001/030 | Train/Val Loss: 0.34\n",
      "Epoch: 079/100 | Batch 002/030 | Train/Val Loss: 0.25\n",
      "Epoch: 079/100 | Batch 003/030 | Train/Val Loss: 0.37\n",
      "Epoch: 079/100 | Batch 004/030 | Train/Val Loss: 0.27\n",
      "Epoch: 079/100 | Batch 005/030 | Train/Val Loss: 0.30\n",
      "Epoch: 079/100 | Batch 006/030 | Train/Val Loss: 0.40\n",
      "Epoch: 079/100 | Batch 007/030 | Train/Val Loss: 0.33\n",
      "Epoch: 079/100 | Batch 008/030 | Train/Val Loss: 0.28\n",
      "Epoch: 079/100 | Batch 009/030 | Train/Val Loss: 0.42\n",
      "Epoch: 079/100 | Batch 010/030 | Train/Val Loss: 0.35\n",
      "Epoch: 079/100 | Batch 011/030 | Train/Val Loss: 0.27\n",
      "Epoch: 079/100 | Batch 012/030 | Train/Val Loss: 0.27\n",
      "Epoch: 079/100 | Batch 013/030 | Train/Val Loss: 0.38\n",
      "Epoch: 079/100 | Batch 014/030 | Train/Val Loss: 0.29\n",
      "Epoch: 079/100 | Batch 015/030 | Train/Val Loss: 0.27\n",
      "Epoch: 079/100 | Batch 016/030 | Train/Val Loss: 0.20\n",
      "Epoch: 079/100 | Batch 017/030 | Train/Val Loss: 0.30\n",
      "Epoch: 079/100 | Batch 018/030 | Train/Val Loss: 0.38\n",
      "Epoch: 079/100 | Batch 019/030 | Train/Val Loss: 0.35\n",
      "Epoch: 079/100 | Batch 020/030 | Train/Val Loss: 0.30\n",
      "Epoch: 079/100 | Batch 021/030 | Train/Val Loss: 0.39\n",
      "Epoch: 079/100 | Batch 022/030 | Train/Val Loss: 0.21\n",
      "Epoch: 079/100 | Batch 023/030 | Train/Val Loss: 0.29\n",
      "Epoch: 079/100 | Batch 024/030 | Train/Val Loss: 0.31\n",
      "Epoch: 079/100 | Batch 025/030 | Train/Val Loss: 0.34\n",
      "Epoch: 079/100 | Batch 026/030 | Train/Val Loss: 0.37\n",
      "Epoch: 079/100 | Batch 027/030 | Train/Val Loss: 0.52\n",
      "Epoch: 079/100 | Batch 028/030 | Train/Val Loss: 0.27\n",
      "Epoch: 079/100 | Batch 029/030 | Train/Val Loss: 0.35\n",
      "Epoch: 079/100 | Batch 030/030 | Train/Val Loss: 0.15\n"
     ]
    },
    {
     "data": {
      "text/html": [
       "<pre style=\"white-space:pre;overflow-x:auto;line-height:normal;font-family:Menlo,'DejaVu Sans Mono',consolas,'Courier New',monospace\"><span style=\"color: #76ff7b; text-decoration-color: #76ff7b\">Train Acc: </span><span style=\"color: #008080; text-decoration-color: #008080; font-weight: bold\">86.52</span><span style=\"color: #76ff7b; text-decoration-color: #76ff7b\">% | Val Acc: </span><span style=\"color: #008080; text-decoration-color: #008080; font-weight: bold\">82.42</span><span style=\"color: #76ff7b; text-decoration-color: #76ff7b\">%</span>\n",
       "</pre>\n"
      ],
      "text/plain": [
       "\u001b[38;2;118;255;123mTrain Acc: \u001b[0m\u001b[1;36m86.52\u001b[0m\u001b[38;2;118;255;123m% | Val Acc: \u001b[0m\u001b[1;36m82.42\u001b[0m\u001b[38;2;118;255;123m%\u001b[0m\n"
      ]
     },
     "metadata": {},
     "output_type": "display_data"
    },
    {
     "name": "stdout",
     "output_type": "stream",
     "text": [
      "Epoch: 080/100 | Batch 001/030 | Train/Val Loss: 0.38\n",
      "Epoch: 080/100 | Batch 002/030 | Train/Val Loss: 0.36\n",
      "Epoch: 080/100 | Batch 003/030 | Train/Val Loss: 0.27\n",
      "Epoch: 080/100 | Batch 004/030 | Train/Val Loss: 0.41\n",
      "Epoch: 080/100 | Batch 005/030 | Train/Val Loss: 0.19\n",
      "Epoch: 080/100 | Batch 006/030 | Train/Val Loss: 0.36\n",
      "Epoch: 080/100 | Batch 007/030 | Train/Val Loss: 0.26\n",
      "Epoch: 080/100 | Batch 008/030 | Train/Val Loss: 0.44\n",
      "Epoch: 080/100 | Batch 009/030 | Train/Val Loss: 0.42\n",
      "Epoch: 080/100 | Batch 010/030 | Train/Val Loss: 0.27\n",
      "Epoch: 080/100 | Batch 011/030 | Train/Val Loss: 0.55\n",
      "Epoch: 080/100 | Batch 012/030 | Train/Val Loss: 0.36\n",
      "Epoch: 080/100 | Batch 013/030 | Train/Val Loss: 0.18\n",
      "Epoch: 080/100 | Batch 014/030 | Train/Val Loss: 0.35\n",
      "Epoch: 080/100 | Batch 015/030 | Train/Val Loss: 0.27\n",
      "Epoch: 080/100 | Batch 016/030 | Train/Val Loss: 0.33\n",
      "Epoch: 080/100 | Batch 017/030 | Train/Val Loss: 0.22\n",
      "Epoch: 080/100 | Batch 018/030 | Train/Val Loss: 0.17\n",
      "Epoch: 080/100 | Batch 019/030 | Train/Val Loss: 0.23\n",
      "Epoch: 080/100 | Batch 020/030 | Train/Val Loss: 0.38\n",
      "Epoch: 080/100 | Batch 021/030 | Train/Val Loss: 0.25\n",
      "Epoch: 080/100 | Batch 022/030 | Train/Val Loss: 0.28\n",
      "Epoch: 080/100 | Batch 023/030 | Train/Val Loss: 0.36\n",
      "Epoch: 080/100 | Batch 024/030 | Train/Val Loss: 0.33\n",
      "Epoch: 080/100 | Batch 025/030 | Train/Val Loss: 0.36\n",
      "Epoch: 080/100 | Batch 026/030 | Train/Val Loss: 0.25\n",
      "Epoch: 080/100 | Batch 027/030 | Train/Val Loss: 0.26\n",
      "Epoch: 080/100 | Batch 028/030 | Train/Val Loss: 0.48\n",
      "Epoch: 080/100 | Batch 029/030 | Train/Val Loss: 0.59\n",
      "Epoch: 080/100 | Batch 030/030 | Train/Val Loss: 0.09\n"
     ]
    },
    {
     "data": {
      "text/html": [
       "<pre style=\"white-space:pre;overflow-x:auto;line-height:normal;font-family:Menlo,'DejaVu Sans Mono',consolas,'Courier New',monospace\"><span style=\"color: #76ff7b; text-decoration-color: #76ff7b\">Train Acc: </span><span style=\"color: #008080; text-decoration-color: #008080; font-weight: bold\">85.88</span><span style=\"color: #76ff7b; text-decoration-color: #76ff7b\">% | Val Acc: </span><span style=\"color: #008080; text-decoration-color: #008080; font-weight: bold\">82.42</span><span style=\"color: #76ff7b; text-decoration-color: #76ff7b\">%</span>\n",
       "</pre>\n"
      ],
      "text/plain": [
       "\u001b[38;2;118;255;123mTrain Acc: \u001b[0m\u001b[1;36m85.88\u001b[0m\u001b[38;2;118;255;123m% | Val Acc: \u001b[0m\u001b[1;36m82.42\u001b[0m\u001b[38;2;118;255;123m%\u001b[0m\n"
      ]
     },
     "metadata": {},
     "output_type": "display_data"
    },
    {
     "name": "stdout",
     "output_type": "stream",
     "text": [
      "Epoch: 081/100 | Batch 001/030 | Train/Val Loss: 0.37\n",
      "Epoch: 081/100 | Batch 002/030 | Train/Val Loss: 0.46\n",
      "Epoch: 081/100 | Batch 003/030 | Train/Val Loss: 0.44\n",
      "Epoch: 081/100 | Batch 004/030 | Train/Val Loss: 0.41\n",
      "Epoch: 081/100 | Batch 005/030 | Train/Val Loss: 0.27\n",
      "Epoch: 081/100 | Batch 006/030 | Train/Val Loss: 0.34\n",
      "Epoch: 081/100 | Batch 007/030 | Train/Val Loss: 0.50\n",
      "Epoch: 081/100 | Batch 008/030 | Train/Val Loss: 0.19\n",
      "Epoch: 081/100 | Batch 009/030 | Train/Val Loss: 0.25\n",
      "Epoch: 081/100 | Batch 010/030 | Train/Val Loss: 0.16\n",
      "Epoch: 081/100 | Batch 011/030 | Train/Val Loss: 0.25\n",
      "Epoch: 081/100 | Batch 012/030 | Train/Val Loss: 0.25\n",
      "Epoch: 081/100 | Batch 013/030 | Train/Val Loss: 0.19\n",
      "Epoch: 081/100 | Batch 014/030 | Train/Val Loss: 0.37\n",
      "Epoch: 081/100 | Batch 015/030 | Train/Val Loss: 0.41\n",
      "Epoch: 081/100 | Batch 016/030 | Train/Val Loss: 0.23\n",
      "Epoch: 081/100 | Batch 017/030 | Train/Val Loss: 0.28\n",
      "Epoch: 081/100 | Batch 018/030 | Train/Val Loss: 0.26\n",
      "Epoch: 081/100 | Batch 019/030 | Train/Val Loss: 0.41\n",
      "Epoch: 081/100 | Batch 020/030 | Train/Val Loss: 0.27\n",
      "Epoch: 081/100 | Batch 021/030 | Train/Val Loss: 0.38\n",
      "Epoch: 081/100 | Batch 022/030 | Train/Val Loss: 0.34\n",
      "Epoch: 081/100 | Batch 023/030 | Train/Val Loss: 0.42\n",
      "Epoch: 081/100 | Batch 024/030 | Train/Val Loss: 0.19\n",
      "Epoch: 081/100 | Batch 025/030 | Train/Val Loss: 0.28\n",
      "Epoch: 081/100 | Batch 026/030 | Train/Val Loss: 0.26\n",
      "Epoch: 081/100 | Batch 027/030 | Train/Val Loss: 0.42\n",
      "Epoch: 081/100 | Batch 028/030 | Train/Val Loss: 0.37\n",
      "Epoch: 081/100 | Batch 029/030 | Train/Val Loss: 0.42\n",
      "Epoch: 081/100 | Batch 030/030 | Train/Val Loss: 0.32\n"
     ]
    },
    {
     "data": {
      "text/html": [
       "<pre style=\"white-space:pre;overflow-x:auto;line-height:normal;font-family:Menlo,'DejaVu Sans Mono',consolas,'Courier New',monospace\"><span style=\"color: #76ff7b; text-decoration-color: #76ff7b\">Train Acc: </span><span style=\"color: #008080; text-decoration-color: #008080; font-weight: bold\">86.10</span><span style=\"color: #76ff7b; text-decoration-color: #76ff7b\">% | Val Acc: </span><span style=\"color: #008080; text-decoration-color: #008080; font-weight: bold\">84.24</span><span style=\"color: #76ff7b; text-decoration-color: #76ff7b\">%</span>\n",
       "</pre>\n"
      ],
      "text/plain": [
       "\u001b[38;2;118;255;123mTrain Acc: \u001b[0m\u001b[1;36m86.10\u001b[0m\u001b[38;2;118;255;123m% | Val Acc: \u001b[0m\u001b[1;36m84.24\u001b[0m\u001b[38;2;118;255;123m%\u001b[0m\n"
      ]
     },
     "metadata": {},
     "output_type": "display_data"
    },
    {
     "name": "stdout",
     "output_type": "stream",
     "text": [
      "Epoch: 082/100 | Batch 001/030 | Train/Val Loss: 0.36\n",
      "Epoch: 082/100 | Batch 002/030 | Train/Val Loss: 0.39\n",
      "Epoch: 082/100 | Batch 003/030 | Train/Val Loss: 0.29\n",
      "Epoch: 082/100 | Batch 004/030 | Train/Val Loss: 0.31\n",
      "Epoch: 082/100 | Batch 005/030 | Train/Val Loss: 0.38\n",
      "Epoch: 082/100 | Batch 006/030 | Train/Val Loss: 0.32\n",
      "Epoch: 082/100 | Batch 007/030 | Train/Val Loss: 0.31\n",
      "Epoch: 082/100 | Batch 008/030 | Train/Val Loss: 0.25\n",
      "Epoch: 082/100 | Batch 009/030 | Train/Val Loss: 0.24\n",
      "Epoch: 082/100 | Batch 010/030 | Train/Val Loss: 0.44\n",
      "Epoch: 082/100 | Batch 011/030 | Train/Val Loss: 0.23\n",
      "Epoch: 082/100 | Batch 012/030 | Train/Val Loss: 0.36\n",
      "Epoch: 082/100 | Batch 013/030 | Train/Val Loss: 0.26\n",
      "Epoch: 082/100 | Batch 014/030 | Train/Val Loss: 0.42\n",
      "Epoch: 082/100 | Batch 015/030 | Train/Val Loss: 0.32\n",
      "Epoch: 082/100 | Batch 016/030 | Train/Val Loss: 0.22\n",
      "Epoch: 082/100 | Batch 017/030 | Train/Val Loss: 0.21\n",
      "Epoch: 082/100 | Batch 018/030 | Train/Val Loss: 0.36\n",
      "Epoch: 082/100 | Batch 019/030 | Train/Val Loss: 0.25\n",
      "Epoch: 082/100 | Batch 020/030 | Train/Val Loss: 0.21\n",
      "Epoch: 082/100 | Batch 021/030 | Train/Val Loss: 0.30\n",
      "Epoch: 082/100 | Batch 022/030 | Train/Val Loss: 0.33\n",
      "Epoch: 082/100 | Batch 023/030 | Train/Val Loss: 0.49\n",
      "Epoch: 082/100 | Batch 024/030 | Train/Val Loss: 0.46\n",
      "Epoch: 082/100 | Batch 025/030 | Train/Val Loss: 0.28\n",
      "Epoch: 082/100 | Batch 026/030 | Train/Val Loss: 0.32\n",
      "Epoch: 082/100 | Batch 027/030 | Train/Val Loss: 0.38\n",
      "Epoch: 082/100 | Batch 028/030 | Train/Val Loss: 0.35\n",
      "Epoch: 082/100 | Batch 029/030 | Train/Val Loss: 0.21\n",
      "Epoch: 082/100 | Batch 030/030 | Train/Val Loss: 0.25\n"
     ]
    },
    {
     "data": {
      "text/html": [
       "<pre style=\"white-space:pre;overflow-x:auto;line-height:normal;font-family:Menlo,'DejaVu Sans Mono',consolas,'Courier New',monospace\"><span style=\"color: #76ff7b; text-decoration-color: #76ff7b\">Train Acc: </span><span style=\"color: #008080; text-decoration-color: #008080; font-weight: bold\">85.56</span><span style=\"color: #76ff7b; text-decoration-color: #76ff7b\">% | Val Acc: </span><span style=\"color: #008080; text-decoration-color: #008080; font-weight: bold\">81.82</span><span style=\"color: #76ff7b; text-decoration-color: #76ff7b\">%</span>\n",
       "</pre>\n"
      ],
      "text/plain": [
       "\u001b[38;2;118;255;123mTrain Acc: \u001b[0m\u001b[1;36m85.56\u001b[0m\u001b[38;2;118;255;123m% | Val Acc: \u001b[0m\u001b[1;36m81.82\u001b[0m\u001b[38;2;118;255;123m%\u001b[0m\n"
      ]
     },
     "metadata": {},
     "output_type": "display_data"
    },
    {
     "name": "stdout",
     "output_type": "stream",
     "text": [
      "Epoch: 083/100 | Batch 001/030 | Train/Val Loss: 0.30\n",
      "Epoch: 083/100 | Batch 002/030 | Train/Val Loss: 0.18\n",
      "Epoch: 083/100 | Batch 003/030 | Train/Val Loss: 0.39\n",
      "Epoch: 083/100 | Batch 004/030 | Train/Val Loss: 0.23\n",
      "Epoch: 083/100 | Batch 005/030 | Train/Val Loss: 0.22\n",
      "Epoch: 083/100 | Batch 006/030 | Train/Val Loss: 0.36\n",
      "Epoch: 083/100 | Batch 007/030 | Train/Val Loss: 0.43\n",
      "Epoch: 083/100 | Batch 008/030 | Train/Val Loss: 0.46\n",
      "Epoch: 083/100 | Batch 009/030 | Train/Val Loss: 0.36\n",
      "Epoch: 083/100 | Batch 010/030 | Train/Val Loss: 0.33\n",
      "Epoch: 083/100 | Batch 011/030 | Train/Val Loss: 0.29\n",
      "Epoch: 083/100 | Batch 012/030 | Train/Val Loss: 0.25\n",
      "Epoch: 083/100 | Batch 013/030 | Train/Val Loss: 0.19\n",
      "Epoch: 083/100 | Batch 014/030 | Train/Val Loss: 0.27\n",
      "Epoch: 083/100 | Batch 015/030 | Train/Val Loss: 0.35\n",
      "Epoch: 083/100 | Batch 016/030 | Train/Val Loss: 0.20\n",
      "Epoch: 083/100 | Batch 017/030 | Train/Val Loss: 0.28\n",
      "Epoch: 083/100 | Batch 018/030 | Train/Val Loss: 0.56\n",
      "Epoch: 083/100 | Batch 019/030 | Train/Val Loss: 0.43\n",
      "Epoch: 083/100 | Batch 020/030 | Train/Val Loss: 0.66\n",
      "Epoch: 083/100 | Batch 021/030 | Train/Val Loss: 0.26\n",
      "Epoch: 083/100 | Batch 022/030 | Train/Val Loss: 0.51\n",
      "Epoch: 083/100 | Batch 023/030 | Train/Val Loss: 0.42\n",
      "Epoch: 083/100 | Batch 024/030 | Train/Val Loss: 0.34\n",
      "Epoch: 083/100 | Batch 025/030 | Train/Val Loss: 0.33\n",
      "Epoch: 083/100 | Batch 026/030 | Train/Val Loss: 0.29\n",
      "Epoch: 083/100 | Batch 027/030 | Train/Val Loss: 0.32\n",
      "Epoch: 083/100 | Batch 028/030 | Train/Val Loss: 0.33\n",
      "Epoch: 083/100 | Batch 029/030 | Train/Val Loss: 0.38\n",
      "Epoch: 083/100 | Batch 030/030 | Train/Val Loss: 0.09\n"
     ]
    },
    {
     "data": {
      "text/html": [
       "<pre style=\"white-space:pre;overflow-x:auto;line-height:normal;font-family:Menlo,'DejaVu Sans Mono',consolas,'Courier New',monospace\"><span style=\"color: #76ff7b; text-decoration-color: #76ff7b\">Train Acc: </span><span style=\"color: #008080; text-decoration-color: #008080; font-weight: bold\">86.31</span><span style=\"color: #76ff7b; text-decoration-color: #76ff7b\">% | Val Acc: </span><span style=\"color: #008080; text-decoration-color: #008080; font-weight: bold\">83.64</span><span style=\"color: #76ff7b; text-decoration-color: #76ff7b\">%</span>\n",
       "</pre>\n"
      ],
      "text/plain": [
       "\u001b[38;2;118;255;123mTrain Acc: \u001b[0m\u001b[1;36m86.31\u001b[0m\u001b[38;2;118;255;123m% | Val Acc: \u001b[0m\u001b[1;36m83.64\u001b[0m\u001b[38;2;118;255;123m%\u001b[0m\n"
      ]
     },
     "metadata": {},
     "output_type": "display_data"
    },
    {
     "name": "stdout",
     "output_type": "stream",
     "text": [
      "Epoch: 084/100 | Batch 001/030 | Train/Val Loss: 0.44\n",
      "Epoch: 084/100 | Batch 002/030 | Train/Val Loss: 0.28\n",
      "Epoch: 084/100 | Batch 003/030 | Train/Val Loss: 0.22\n",
      "Epoch: 084/100 | Batch 004/030 | Train/Val Loss: 0.17\n",
      "Epoch: 084/100 | Batch 005/030 | Train/Val Loss: 0.28\n",
      "Epoch: 084/100 | Batch 006/030 | Train/Val Loss: 0.41\n",
      "Epoch: 084/100 | Batch 007/030 | Train/Val Loss: 0.43\n",
      "Epoch: 084/100 | Batch 008/030 | Train/Val Loss: 0.40\n",
      "Epoch: 084/100 | Batch 009/030 | Train/Val Loss: 0.36\n",
      "Epoch: 084/100 | Batch 010/030 | Train/Val Loss: 0.33\n",
      "Epoch: 084/100 | Batch 011/030 | Train/Val Loss: 0.30\n",
      "Epoch: 084/100 | Batch 012/030 | Train/Val Loss: 0.20\n",
      "Epoch: 084/100 | Batch 013/030 | Train/Val Loss: 0.30\n",
      "Epoch: 084/100 | Batch 014/030 | Train/Val Loss: 0.28\n",
      "Epoch: 084/100 | Batch 015/030 | Train/Val Loss: 0.36\n",
      "Epoch: 084/100 | Batch 016/030 | Train/Val Loss: 0.37\n",
      "Epoch: 084/100 | Batch 017/030 | Train/Val Loss: 0.26\n",
      "Epoch: 084/100 | Batch 018/030 | Train/Val Loss: 0.56\n",
      "Epoch: 084/100 | Batch 019/030 | Train/Val Loss: 0.28\n",
      "Epoch: 084/100 | Batch 020/030 | Train/Val Loss: 0.31\n",
      "Epoch: 084/100 | Batch 021/030 | Train/Val Loss: 0.42\n",
      "Epoch: 084/100 | Batch 022/030 | Train/Val Loss: 0.39\n",
      "Epoch: 084/100 | Batch 023/030 | Train/Val Loss: 0.30\n",
      "Epoch: 084/100 | Batch 024/030 | Train/Val Loss: 0.31\n",
      "Epoch: 084/100 | Batch 025/030 | Train/Val Loss: 0.22\n",
      "Epoch: 084/100 | Batch 026/030 | Train/Val Loss: 0.44\n",
      "Epoch: 084/100 | Batch 027/030 | Train/Val Loss: 0.27\n",
      "Epoch: 084/100 | Batch 028/030 | Train/Val Loss: 0.26\n",
      "Epoch: 084/100 | Batch 029/030 | Train/Val Loss: 0.19\n",
      "Epoch: 084/100 | Batch 030/030 | Train/Val Loss: 0.29\n"
     ]
    },
    {
     "data": {
      "text/html": [
       "<pre style=\"white-space:pre;overflow-x:auto;line-height:normal;font-family:Menlo,'DejaVu Sans Mono',consolas,'Courier New',monospace\"><span style=\"color: #76ff7b; text-decoration-color: #76ff7b\">Train Acc: </span><span style=\"color: #008080; text-decoration-color: #008080; font-weight: bold\">86.63</span><span style=\"color: #76ff7b; text-decoration-color: #76ff7b\">% | Val Acc: </span><span style=\"color: #008080; text-decoration-color: #008080; font-weight: bold\">83.03</span><span style=\"color: #76ff7b; text-decoration-color: #76ff7b\">%</span>\n",
       "</pre>\n"
      ],
      "text/plain": [
       "\u001b[38;2;118;255;123mTrain Acc: \u001b[0m\u001b[1;36m86.63\u001b[0m\u001b[38;2;118;255;123m% | Val Acc: \u001b[0m\u001b[1;36m83.03\u001b[0m\u001b[38;2;118;255;123m%\u001b[0m\n"
      ]
     },
     "metadata": {},
     "output_type": "display_data"
    },
    {
     "name": "stdout",
     "output_type": "stream",
     "text": [
      "Epoch: 085/100 | Batch 001/030 | Train/Val Loss: 0.54\n",
      "Epoch: 085/100 | Batch 002/030 | Train/Val Loss: 0.24\n",
      "Epoch: 085/100 | Batch 003/030 | Train/Val Loss: 0.33\n",
      "Epoch: 085/100 | Batch 004/030 | Train/Val Loss: 0.29\n",
      "Epoch: 085/100 | Batch 005/030 | Train/Val Loss: 0.34\n",
      "Epoch: 085/100 | Batch 006/030 | Train/Val Loss: 0.32\n",
      "Epoch: 085/100 | Batch 007/030 | Train/Val Loss: 0.41\n",
      "Epoch: 085/100 | Batch 008/030 | Train/Val Loss: 0.27\n",
      "Epoch: 085/100 | Batch 009/030 | Train/Val Loss: 0.34\n",
      "Epoch: 085/100 | Batch 010/030 | Train/Val Loss: 0.25\n",
      "Epoch: 085/100 | Batch 011/030 | Train/Val Loss: 0.52\n",
      "Epoch: 085/100 | Batch 012/030 | Train/Val Loss: 0.35\n",
      "Epoch: 085/100 | Batch 013/030 | Train/Val Loss: 0.22\n",
      "Epoch: 085/100 | Batch 014/030 | Train/Val Loss: 0.37\n",
      "Epoch: 085/100 | Batch 015/030 | Train/Val Loss: 0.40\n",
      "Epoch: 085/100 | Batch 016/030 | Train/Val Loss: 0.32\n",
      "Epoch: 085/100 | Batch 017/030 | Train/Val Loss: 0.34\n",
      "Epoch: 085/100 | Batch 018/030 | Train/Val Loss: 0.23\n",
      "Epoch: 085/100 | Batch 019/030 | Train/Val Loss: 0.32\n",
      "Epoch: 085/100 | Batch 020/030 | Train/Val Loss: 0.36\n",
      "Epoch: 085/100 | Batch 021/030 | Train/Val Loss: 0.20\n",
      "Epoch: 085/100 | Batch 022/030 | Train/Val Loss: 0.33\n",
      "Epoch: 085/100 | Batch 023/030 | Train/Val Loss: 0.28\n",
      "Epoch: 085/100 | Batch 024/030 | Train/Val Loss: 0.19\n",
      "Epoch: 085/100 | Batch 025/030 | Train/Val Loss: 0.30\n",
      "Epoch: 085/100 | Batch 026/030 | Train/Val Loss: 0.26\n",
      "Epoch: 085/100 | Batch 027/030 | Train/Val Loss: 0.23\n",
      "Epoch: 085/100 | Batch 028/030 | Train/Val Loss: 0.24\n",
      "Epoch: 085/100 | Batch 029/030 | Train/Val Loss: 0.46\n",
      "Epoch: 085/100 | Batch 030/030 | Train/Val Loss: 0.36\n"
     ]
    },
    {
     "data": {
      "text/html": [
       "<pre style=\"white-space:pre;overflow-x:auto;line-height:normal;font-family:Menlo,'DejaVu Sans Mono',consolas,'Courier New',monospace\"><span style=\"color: #76ff7b; text-decoration-color: #76ff7b\">Train Acc: </span><span style=\"color: #008080; text-decoration-color: #008080; font-weight: bold\">86.20</span><span style=\"color: #76ff7b; text-decoration-color: #76ff7b\">% | Val Acc: </span><span style=\"color: #008080; text-decoration-color: #008080; font-weight: bold\">83.64</span><span style=\"color: #76ff7b; text-decoration-color: #76ff7b\">%</span>\n",
       "</pre>\n"
      ],
      "text/plain": [
       "\u001b[38;2;118;255;123mTrain Acc: \u001b[0m\u001b[1;36m86.20\u001b[0m\u001b[38;2;118;255;123m% | Val Acc: \u001b[0m\u001b[1;36m83.64\u001b[0m\u001b[38;2;118;255;123m%\u001b[0m\n"
      ]
     },
     "metadata": {},
     "output_type": "display_data"
    },
    {
     "name": "stdout",
     "output_type": "stream",
     "text": [
      "Epoch: 086/100 | Batch 001/030 | Train/Val Loss: 0.48\n",
      "Epoch: 086/100 | Batch 002/030 | Train/Val Loss: 0.22\n",
      "Epoch: 086/100 | Batch 003/030 | Train/Val Loss: 0.22\n",
      "Epoch: 086/100 | Batch 004/030 | Train/Val Loss: 0.16\n",
      "Epoch: 086/100 | Batch 005/030 | Train/Val Loss: 0.23\n",
      "Epoch: 086/100 | Batch 006/030 | Train/Val Loss: 0.33\n",
      "Epoch: 086/100 | Batch 007/030 | Train/Val Loss: 0.31\n",
      "Epoch: 086/100 | Batch 008/030 | Train/Val Loss: 0.38\n",
      "Epoch: 086/100 | Batch 009/030 | Train/Val Loss: 0.21\n",
      "Epoch: 086/100 | Batch 010/030 | Train/Val Loss: 0.33\n",
      "Epoch: 086/100 | Batch 011/030 | Train/Val Loss: 0.41\n",
      "Epoch: 086/100 | Batch 012/030 | Train/Val Loss: 0.47\n",
      "Epoch: 086/100 | Batch 013/030 | Train/Val Loss: 0.26\n",
      "Epoch: 086/100 | Batch 014/030 | Train/Val Loss: 0.52\n",
      "Epoch: 086/100 | Batch 015/030 | Train/Val Loss: 0.27\n",
      "Epoch: 086/100 | Batch 016/030 | Train/Val Loss: 0.26\n",
      "Epoch: 086/100 | Batch 017/030 | Train/Val Loss: 0.24\n",
      "Epoch: 086/100 | Batch 018/030 | Train/Val Loss: 0.32\n",
      "Epoch: 086/100 | Batch 019/030 | Train/Val Loss: 0.39\n",
      "Epoch: 086/100 | Batch 020/030 | Train/Val Loss: 0.18\n",
      "Epoch: 086/100 | Batch 021/030 | Train/Val Loss: 0.16\n",
      "Epoch: 086/100 | Batch 022/030 | Train/Val Loss: 0.36\n",
      "Epoch: 086/100 | Batch 023/030 | Train/Val Loss: 0.36\n",
      "Epoch: 086/100 | Batch 024/030 | Train/Val Loss: 0.28\n",
      "Epoch: 086/100 | Batch 025/030 | Train/Val Loss: 0.46\n",
      "Epoch: 086/100 | Batch 026/030 | Train/Val Loss: 0.32\n",
      "Epoch: 086/100 | Batch 027/030 | Train/Val Loss: 0.35\n",
      "Epoch: 086/100 | Batch 028/030 | Train/Val Loss: 0.38\n",
      "Epoch: 086/100 | Batch 029/030 | Train/Val Loss: 0.30\n",
      "Epoch: 086/100 | Batch 030/030 | Train/Val Loss: 0.27\n"
     ]
    },
    {
     "data": {
      "text/html": [
       "<pre style=\"white-space:pre;overflow-x:auto;line-height:normal;font-family:Menlo,'DejaVu Sans Mono',consolas,'Courier New',monospace\"><span style=\"color: #76ff7b; text-decoration-color: #76ff7b\">Train Acc: </span><span style=\"color: #008080; text-decoration-color: #008080; font-weight: bold\">86.42</span><span style=\"color: #76ff7b; text-decoration-color: #76ff7b\">% | Val Acc: </span><span style=\"color: #008080; text-decoration-color: #008080; font-weight: bold\">84.24</span><span style=\"color: #76ff7b; text-decoration-color: #76ff7b\">%</span>\n",
       "</pre>\n"
      ],
      "text/plain": [
       "\u001b[38;2;118;255;123mTrain Acc: \u001b[0m\u001b[1;36m86.42\u001b[0m\u001b[38;2;118;255;123m% | Val Acc: \u001b[0m\u001b[1;36m84.24\u001b[0m\u001b[38;2;118;255;123m%\u001b[0m\n"
      ]
     },
     "metadata": {},
     "output_type": "display_data"
    },
    {
     "name": "stdout",
     "output_type": "stream",
     "text": [
      "Epoch: 087/100 | Batch 001/030 | Train/Val Loss: 0.37\n",
      "Epoch: 087/100 | Batch 002/030 | Train/Val Loss: 0.38\n",
      "Epoch: 087/100 | Batch 003/030 | Train/Val Loss: 0.31\n",
      "Epoch: 087/100 | Batch 004/030 | Train/Val Loss: 0.44\n",
      "Epoch: 087/100 | Batch 005/030 | Train/Val Loss: 0.23\n",
      "Epoch: 087/100 | Batch 006/030 | Train/Val Loss: 0.36\n",
      "Epoch: 087/100 | Batch 007/030 | Train/Val Loss: 0.37\n",
      "Epoch: 087/100 | Batch 008/030 | Train/Val Loss: 0.36\n",
      "Epoch: 087/100 | Batch 009/030 | Train/Val Loss: 0.24\n",
      "Epoch: 087/100 | Batch 010/030 | Train/Val Loss: 0.30\n",
      "Epoch: 087/100 | Batch 011/030 | Train/Val Loss: 0.32\n",
      "Epoch: 087/100 | Batch 012/030 | Train/Val Loss: 0.38\n",
      "Epoch: 087/100 | Batch 013/030 | Train/Val Loss: 0.29\n",
      "Epoch: 087/100 | Batch 014/030 | Train/Val Loss: 0.31\n",
      "Epoch: 087/100 | Batch 015/030 | Train/Val Loss: 0.34\n",
      "Epoch: 087/100 | Batch 016/030 | Train/Val Loss: 0.36\n",
      "Epoch: 087/100 | Batch 017/030 | Train/Val Loss: 0.44\n",
      "Epoch: 087/100 | Batch 018/030 | Train/Val Loss: 0.32\n",
      "Epoch: 087/100 | Batch 019/030 | Train/Val Loss: 0.22\n",
      "Epoch: 087/100 | Batch 020/030 | Train/Val Loss: 0.27\n",
      "Epoch: 087/100 | Batch 021/030 | Train/Val Loss: 0.32\n",
      "Epoch: 087/100 | Batch 022/030 | Train/Val Loss: 0.23\n",
      "Epoch: 087/100 | Batch 023/030 | Train/Val Loss: 0.50\n",
      "Epoch: 087/100 | Batch 024/030 | Train/Val Loss: 0.45\n",
      "Epoch: 087/100 | Batch 025/030 | Train/Val Loss: 0.26\n",
      "Epoch: 087/100 | Batch 026/030 | Train/Val Loss: 0.17\n",
      "Epoch: 087/100 | Batch 027/030 | Train/Val Loss: 0.23\n",
      "Epoch: 087/100 | Batch 028/030 | Train/Val Loss: 0.19\n",
      "Epoch: 087/100 | Batch 029/030 | Train/Val Loss: 0.36\n",
      "Epoch: 087/100 | Batch 030/030 | Train/Val Loss: 0.45\n"
     ]
    },
    {
     "data": {
      "text/html": [
       "<pre style=\"white-space:pre;overflow-x:auto;line-height:normal;font-family:Menlo,'DejaVu Sans Mono',consolas,'Courier New',monospace\"><span style=\"color: #76ff7b; text-decoration-color: #76ff7b\">Train Acc: </span><span style=\"color: #008080; text-decoration-color: #008080; font-weight: bold\">86.31</span><span style=\"color: #76ff7b; text-decoration-color: #76ff7b\">% | Val Acc: </span><span style=\"color: #008080; text-decoration-color: #008080; font-weight: bold\">84.85</span><span style=\"color: #76ff7b; text-decoration-color: #76ff7b\">%</span>\n",
       "</pre>\n"
      ],
      "text/plain": [
       "\u001b[38;2;118;255;123mTrain Acc: \u001b[0m\u001b[1;36m86.31\u001b[0m\u001b[38;2;118;255;123m% | Val Acc: \u001b[0m\u001b[1;36m84.85\u001b[0m\u001b[38;2;118;255;123m%\u001b[0m\n"
      ]
     },
     "metadata": {},
     "output_type": "display_data"
    },
    {
     "name": "stdout",
     "output_type": "stream",
     "text": [
      "Epoch: 088/100 | Batch 001/030 | Train/Val Loss: 0.29\n",
      "Epoch: 088/100 | Batch 002/030 | Train/Val Loss: 0.21\n",
      "Epoch: 088/100 | Batch 003/030 | Train/Val Loss: 0.25\n",
      "Epoch: 088/100 | Batch 004/030 | Train/Val Loss: 0.53\n",
      "Epoch: 088/100 | Batch 005/030 | Train/Val Loss: 0.35\n",
      "Epoch: 088/100 | Batch 006/030 | Train/Val Loss: 0.27\n",
      "Epoch: 088/100 | Batch 007/030 | Train/Val Loss: 0.37\n",
      "Epoch: 088/100 | Batch 008/030 | Train/Val Loss: 0.35\n",
      "Epoch: 088/100 | Batch 009/030 | Train/Val Loss: 0.37\n",
      "Epoch: 088/100 | Batch 010/030 | Train/Val Loss: 0.36\n",
      "Epoch: 088/100 | Batch 011/030 | Train/Val Loss: 0.36\n",
      "Epoch: 088/100 | Batch 012/030 | Train/Val Loss: 0.26\n",
      "Epoch: 088/100 | Batch 013/030 | Train/Val Loss: 0.21\n",
      "Epoch: 088/100 | Batch 014/030 | Train/Val Loss: 0.17\n",
      "Epoch: 088/100 | Batch 015/030 | Train/Val Loss: 0.24\n",
      "Epoch: 088/100 | Batch 016/030 | Train/Val Loss: 0.40\n",
      "Epoch: 088/100 | Batch 017/030 | Train/Val Loss: 0.35\n",
      "Epoch: 088/100 | Batch 018/030 | Train/Val Loss: 0.45\n",
      "Epoch: 088/100 | Batch 019/030 | Train/Val Loss: 0.39\n",
      "Epoch: 088/100 | Batch 020/030 | Train/Val Loss: 0.23\n",
      "Epoch: 088/100 | Batch 021/030 | Train/Val Loss: 0.50\n",
      "Epoch: 088/100 | Batch 022/030 | Train/Val Loss: 0.47\n",
      "Epoch: 088/100 | Batch 023/030 | Train/Val Loss: 0.37\n",
      "Epoch: 088/100 | Batch 024/030 | Train/Val Loss: 0.38\n",
      "Epoch: 088/100 | Batch 025/030 | Train/Val Loss: 0.29\n",
      "Epoch: 088/100 | Batch 026/030 | Train/Val Loss: 0.37\n",
      "Epoch: 088/100 | Batch 027/030 | Train/Val Loss: 0.25\n",
      "Epoch: 088/100 | Batch 028/030 | Train/Val Loss: 0.22\n",
      "Epoch: 088/100 | Batch 029/030 | Train/Val Loss: 0.49\n",
      "Epoch: 088/100 | Batch 030/030 | Train/Val Loss: 0.11\n"
     ]
    },
    {
     "data": {
      "text/html": [
       "<pre style=\"white-space:pre;overflow-x:auto;line-height:normal;font-family:Menlo,'DejaVu Sans Mono',consolas,'Courier New',monospace\"><span style=\"color: #76ff7b; text-decoration-color: #76ff7b\">Train Acc: </span><span style=\"color: #008080; text-decoration-color: #008080; font-weight: bold\">86.84</span><span style=\"color: #76ff7b; text-decoration-color: #76ff7b\">% | Val Acc: </span><span style=\"color: #008080; text-decoration-color: #008080; font-weight: bold\">84.24</span><span style=\"color: #76ff7b; text-decoration-color: #76ff7b\">%</span>\n",
       "</pre>\n"
      ],
      "text/plain": [
       "\u001b[38;2;118;255;123mTrain Acc: \u001b[0m\u001b[1;36m86.84\u001b[0m\u001b[38;2;118;255;123m% | Val Acc: \u001b[0m\u001b[1;36m84.24\u001b[0m\u001b[38;2;118;255;123m%\u001b[0m\n"
      ]
     },
     "metadata": {},
     "output_type": "display_data"
    },
    {
     "name": "stdout",
     "output_type": "stream",
     "text": [
      "Epoch: 089/100 | Batch 001/030 | Train/Val Loss: 0.29\n",
      "Epoch: 089/100 | Batch 002/030 | Train/Val Loss: 0.39\n",
      "Epoch: 089/100 | Batch 003/030 | Train/Val Loss: 0.31\n",
      "Epoch: 089/100 | Batch 004/030 | Train/Val Loss: 0.39\n",
      "Epoch: 089/100 | Batch 005/030 | Train/Val Loss: 0.29\n",
      "Epoch: 089/100 | Batch 006/030 | Train/Val Loss: 0.32\n",
      "Epoch: 089/100 | Batch 007/030 | Train/Val Loss: 0.33\n",
      "Epoch: 089/100 | Batch 008/030 | Train/Val Loss: 0.28\n",
      "Epoch: 089/100 | Batch 009/030 | Train/Val Loss: 0.22\n",
      "Epoch: 089/100 | Batch 010/030 | Train/Val Loss: 0.34\n",
      "Epoch: 089/100 | Batch 011/030 | Train/Val Loss: 0.27\n",
      "Epoch: 089/100 | Batch 012/030 | Train/Val Loss: 0.27\n",
      "Epoch: 089/100 | Batch 013/030 | Train/Val Loss: 0.18\n",
      "Epoch: 089/100 | Batch 014/030 | Train/Val Loss: 0.34\n",
      "Epoch: 089/100 | Batch 015/030 | Train/Val Loss: 0.32\n",
      "Epoch: 089/100 | Batch 016/030 | Train/Val Loss: 0.20\n",
      "Epoch: 089/100 | Batch 017/030 | Train/Val Loss: 0.26\n",
      "Epoch: 089/100 | Batch 018/030 | Train/Val Loss: 0.54\n",
      "Epoch: 089/100 | Batch 019/030 | Train/Val Loss: 0.18\n",
      "Epoch: 089/100 | Batch 020/030 | Train/Val Loss: 0.31\n",
      "Epoch: 089/100 | Batch 021/030 | Train/Val Loss: 0.29\n",
      "Epoch: 089/100 | Batch 022/030 | Train/Val Loss: 0.56\n",
      "Epoch: 089/100 | Batch 023/030 | Train/Val Loss: 0.33\n",
      "Epoch: 089/100 | Batch 024/030 | Train/Val Loss: 0.27\n",
      "Epoch: 089/100 | Batch 025/030 | Train/Val Loss: 0.40\n",
      "Epoch: 089/100 | Batch 026/030 | Train/Val Loss: 0.43\n",
      "Epoch: 089/100 | Batch 027/030 | Train/Val Loss: 0.36\n",
      "Epoch: 089/100 | Batch 028/030 | Train/Val Loss: 0.34\n",
      "Epoch: 089/100 | Batch 029/030 | Train/Val Loss: 0.31\n",
      "Epoch: 089/100 | Batch 030/030 | Train/Val Loss: 0.12\n"
     ]
    },
    {
     "data": {
      "text/html": [
       "<pre style=\"white-space:pre;overflow-x:auto;line-height:normal;font-family:Menlo,'DejaVu Sans Mono',consolas,'Courier New',monospace\"><span style=\"color: #76ff7b; text-decoration-color: #76ff7b\">Train Acc: </span><span style=\"color: #008080; text-decoration-color: #008080; font-weight: bold\">86.31</span><span style=\"color: #76ff7b; text-decoration-color: #76ff7b\">% | Val Acc: </span><span style=\"color: #008080; text-decoration-color: #008080; font-weight: bold\">83.64</span><span style=\"color: #76ff7b; text-decoration-color: #76ff7b\">%</span>\n",
       "</pre>\n"
      ],
      "text/plain": [
       "\u001b[38;2;118;255;123mTrain Acc: \u001b[0m\u001b[1;36m86.31\u001b[0m\u001b[38;2;118;255;123m% | Val Acc: \u001b[0m\u001b[1;36m83.64\u001b[0m\u001b[38;2;118;255;123m%\u001b[0m\n"
      ]
     },
     "metadata": {},
     "output_type": "display_data"
    },
    {
     "name": "stdout",
     "output_type": "stream",
     "text": [
      "Epoch: 090/100 | Batch 001/030 | Train/Val Loss: 0.30\n",
      "Epoch: 090/100 | Batch 002/030 | Train/Val Loss: 0.37\n",
      "Epoch: 090/100 | Batch 003/030 | Train/Val Loss: 0.34\n",
      "Epoch: 090/100 | Batch 004/030 | Train/Val Loss: 0.23\n",
      "Epoch: 090/100 | Batch 005/030 | Train/Val Loss: 0.19\n",
      "Epoch: 090/100 | Batch 006/030 | Train/Val Loss: 0.40\n",
      "Epoch: 090/100 | Batch 007/030 | Train/Val Loss: 0.29\n",
      "Epoch: 090/100 | Batch 008/030 | Train/Val Loss: 0.20\n",
      "Epoch: 090/100 | Batch 009/030 | Train/Val Loss: 0.29\n",
      "Epoch: 090/100 | Batch 010/030 | Train/Val Loss: 0.34\n",
      "Epoch: 090/100 | Batch 011/030 | Train/Val Loss: 0.24\n",
      "Epoch: 090/100 | Batch 012/030 | Train/Val Loss: 0.35\n",
      "Epoch: 090/100 | Batch 013/030 | Train/Val Loss: 0.28\n",
      "Epoch: 090/100 | Batch 014/030 | Train/Val Loss: 0.19\n",
      "Epoch: 090/100 | Batch 015/030 | Train/Val Loss: 0.32\n",
      "Epoch: 090/100 | Batch 016/030 | Train/Val Loss: 0.32\n",
      "Epoch: 090/100 | Batch 017/030 | Train/Val Loss: 0.29\n",
      "Epoch: 090/100 | Batch 018/030 | Train/Val Loss: 0.33\n",
      "Epoch: 090/100 | Batch 019/030 | Train/Val Loss: 0.35\n",
      "Epoch: 090/100 | Batch 020/030 | Train/Val Loss: 0.46\n",
      "Epoch: 090/100 | Batch 021/030 | Train/Val Loss: 0.21\n",
      "Epoch: 090/100 | Batch 022/030 | Train/Val Loss: 0.40\n",
      "Epoch: 090/100 | Batch 023/030 | Train/Val Loss: 0.42\n",
      "Epoch: 090/100 | Batch 024/030 | Train/Val Loss: 0.32\n",
      "Epoch: 090/100 | Batch 025/030 | Train/Val Loss: 0.35\n",
      "Epoch: 090/100 | Batch 026/030 | Train/Val Loss: 0.38\n",
      "Epoch: 090/100 | Batch 027/030 | Train/Val Loss: 0.26\n",
      "Epoch: 090/100 | Batch 028/030 | Train/Val Loss: 0.31\n",
      "Epoch: 090/100 | Batch 029/030 | Train/Val Loss: 0.32\n",
      "Epoch: 090/100 | Batch 030/030 | Train/Val Loss: 0.44\n"
     ]
    },
    {
     "data": {
      "text/html": [
       "<pre style=\"white-space:pre;overflow-x:auto;line-height:normal;font-family:Menlo,'DejaVu Sans Mono',consolas,'Courier New',monospace\"><span style=\"color: #76ff7b; text-decoration-color: #76ff7b\">Train Acc: </span><span style=\"color: #008080; text-decoration-color: #008080; font-weight: bold\">86.52</span><span style=\"color: #76ff7b; text-decoration-color: #76ff7b\">% | Val Acc: </span><span style=\"color: #008080; text-decoration-color: #008080; font-weight: bold\">83.64</span><span style=\"color: #76ff7b; text-decoration-color: #76ff7b\">%</span>\n",
       "</pre>\n"
      ],
      "text/plain": [
       "\u001b[38;2;118;255;123mTrain Acc: \u001b[0m\u001b[1;36m86.52\u001b[0m\u001b[38;2;118;255;123m% | Val Acc: \u001b[0m\u001b[1;36m83.64\u001b[0m\u001b[38;2;118;255;123m%\u001b[0m\n"
      ]
     },
     "metadata": {},
     "output_type": "display_data"
    },
    {
     "name": "stdout",
     "output_type": "stream",
     "text": [
      "Epoch: 091/100 | Batch 001/030 | Train/Val Loss: 0.23\n",
      "Epoch: 091/100 | Batch 002/030 | Train/Val Loss: 0.18\n",
      "Epoch: 091/100 | Batch 003/030 | Train/Val Loss: 0.30\n",
      "Epoch: 091/100 | Batch 004/030 | Train/Val Loss: 0.33\n",
      "Epoch: 091/100 | Batch 005/030 | Train/Val Loss: 0.29\n",
      "Epoch: 091/100 | Batch 006/030 | Train/Val Loss: 0.21\n",
      "Epoch: 091/100 | Batch 007/030 | Train/Val Loss: 0.27\n",
      "Epoch: 091/100 | Batch 008/030 | Train/Val Loss: 0.55\n",
      "Epoch: 091/100 | Batch 009/030 | Train/Val Loss: 0.42\n",
      "Epoch: 091/100 | Batch 010/030 | Train/Val Loss: 0.21\n",
      "Epoch: 091/100 | Batch 011/030 | Train/Val Loss: 0.32\n",
      "Epoch: 091/100 | Batch 012/030 | Train/Val Loss: 0.33\n",
      "Epoch: 091/100 | Batch 013/030 | Train/Val Loss: 0.32\n",
      "Epoch: 091/100 | Batch 014/030 | Train/Val Loss: 0.36\n",
      "Epoch: 091/100 | Batch 015/030 | Train/Val Loss: 0.25\n",
      "Epoch: 091/100 | Batch 016/030 | Train/Val Loss: 0.24\n",
      "Epoch: 091/100 | Batch 017/030 | Train/Val Loss: 0.23\n",
      "Epoch: 091/100 | Batch 018/030 | Train/Val Loss: 0.25\n",
      "Epoch: 091/100 | Batch 019/030 | Train/Val Loss: 0.47\n",
      "Epoch: 091/100 | Batch 020/030 | Train/Val Loss: 0.20\n",
      "Epoch: 091/100 | Batch 021/030 | Train/Val Loss: 0.22\n",
      "Epoch: 091/100 | Batch 022/030 | Train/Val Loss: 0.27\n",
      "Epoch: 091/100 | Batch 023/030 | Train/Val Loss: 0.21\n",
      "Epoch: 091/100 | Batch 024/030 | Train/Val Loss: 0.44\n",
      "Epoch: 091/100 | Batch 025/030 | Train/Val Loss: 0.40\n",
      "Epoch: 091/100 | Batch 026/030 | Train/Val Loss: 0.53\n",
      "Epoch: 091/100 | Batch 027/030 | Train/Val Loss: 0.39\n",
      "Epoch: 091/100 | Batch 028/030 | Train/Val Loss: 0.39\n",
      "Epoch: 091/100 | Batch 029/030 | Train/Val Loss: 0.37\n",
      "Epoch: 091/100 | Batch 030/030 | Train/Val Loss: 0.39\n"
     ]
    },
    {
     "data": {
      "text/html": [
       "<pre style=\"white-space:pre;overflow-x:auto;line-height:normal;font-family:Menlo,'DejaVu Sans Mono',consolas,'Courier New',monospace\"><span style=\"color: #76ff7b; text-decoration-color: #76ff7b\">Train Acc: </span><span style=\"color: #008080; text-decoration-color: #008080; font-weight: bold\">86.52</span><span style=\"color: #76ff7b; text-decoration-color: #76ff7b\">% | Val Acc: </span><span style=\"color: #008080; text-decoration-color: #008080; font-weight: bold\">82.42</span><span style=\"color: #76ff7b; text-decoration-color: #76ff7b\">%</span>\n",
       "</pre>\n"
      ],
      "text/plain": [
       "\u001b[38;2;118;255;123mTrain Acc: \u001b[0m\u001b[1;36m86.52\u001b[0m\u001b[38;2;118;255;123m% | Val Acc: \u001b[0m\u001b[1;36m82.42\u001b[0m\u001b[38;2;118;255;123m%\u001b[0m\n"
      ]
     },
     "metadata": {},
     "output_type": "display_data"
    },
    {
     "name": "stdout",
     "output_type": "stream",
     "text": [
      "Epoch: 092/100 | Batch 001/030 | Train/Val Loss: 0.28\n",
      "Epoch: 092/100 | Batch 002/030 | Train/Val Loss: 0.21\n",
      "Epoch: 092/100 | Batch 003/030 | Train/Val Loss: 0.42\n",
      "Epoch: 092/100 | Batch 004/030 | Train/Val Loss: 0.30\n",
      "Epoch: 092/100 | Batch 005/030 | Train/Val Loss: 0.31\n",
      "Epoch: 092/100 | Batch 006/030 | Train/Val Loss: 0.27\n",
      "Epoch: 092/100 | Batch 007/030 | Train/Val Loss: 0.31\n",
      "Epoch: 092/100 | Batch 008/030 | Train/Val Loss: 0.34\n",
      "Epoch: 092/100 | Batch 009/030 | Train/Val Loss: 0.24\n",
      "Epoch: 092/100 | Batch 010/030 | Train/Val Loss: 0.53\n",
      "Epoch: 092/100 | Batch 011/030 | Train/Val Loss: 0.41\n",
      "Epoch: 092/100 | Batch 012/030 | Train/Val Loss: 0.26\n",
      "Epoch: 092/100 | Batch 013/030 | Train/Val Loss: 0.37\n",
      "Epoch: 092/100 | Batch 014/030 | Train/Val Loss: 0.26\n",
      "Epoch: 092/100 | Batch 015/030 | Train/Val Loss: 0.20\n",
      "Epoch: 092/100 | Batch 016/030 | Train/Val Loss: 0.40\n",
      "Epoch: 092/100 | Batch 017/030 | Train/Val Loss: 0.09\n",
      "Epoch: 092/100 | Batch 018/030 | Train/Val Loss: 0.17\n",
      "Epoch: 092/100 | Batch 019/030 | Train/Val Loss: 0.20\n",
      "Epoch: 092/100 | Batch 020/030 | Train/Val Loss: 0.35\n",
      "Epoch: 092/100 | Batch 021/030 | Train/Val Loss: 0.64\n",
      "Epoch: 092/100 | Batch 022/030 | Train/Val Loss: 0.24\n",
      "Epoch: 092/100 | Batch 023/030 | Train/Val Loss: 0.33\n",
      "Epoch: 092/100 | Batch 024/030 | Train/Val Loss: 0.44\n",
      "Epoch: 092/100 | Batch 025/030 | Train/Val Loss: 0.20\n",
      "Epoch: 092/100 | Batch 026/030 | Train/Val Loss: 0.37\n",
      "Epoch: 092/100 | Batch 027/030 | Train/Val Loss: 0.39\n",
      "Epoch: 092/100 | Batch 028/030 | Train/Val Loss: 0.37\n",
      "Epoch: 092/100 | Batch 029/030 | Train/Val Loss: 0.32\n",
      "Epoch: 092/100 | Batch 030/030 | Train/Val Loss: 0.08\n"
     ]
    },
    {
     "data": {
      "text/html": [
       "<pre style=\"white-space:pre;overflow-x:auto;line-height:normal;font-family:Menlo,'DejaVu Sans Mono',consolas,'Courier New',monospace\"><span style=\"color: #76ff7b; text-decoration-color: #76ff7b\">Train Acc: </span><span style=\"color: #008080; text-decoration-color: #008080; font-weight: bold\">86.42</span><span style=\"color: #76ff7b; text-decoration-color: #76ff7b\">% | Val Acc: </span><span style=\"color: #008080; text-decoration-color: #008080; font-weight: bold\">84.24</span><span style=\"color: #76ff7b; text-decoration-color: #76ff7b\">%</span>\n",
       "</pre>\n"
      ],
      "text/plain": [
       "\u001b[38;2;118;255;123mTrain Acc: \u001b[0m\u001b[1;36m86.42\u001b[0m\u001b[38;2;118;255;123m% | Val Acc: \u001b[0m\u001b[1;36m84.24\u001b[0m\u001b[38;2;118;255;123m%\u001b[0m\n"
      ]
     },
     "metadata": {},
     "output_type": "display_data"
    },
    {
     "name": "stdout",
     "output_type": "stream",
     "text": [
      "Epoch: 093/100 | Batch 001/030 | Train/Val Loss: 0.39\n",
      "Epoch: 093/100 | Batch 002/030 | Train/Val Loss: 0.39\n",
      "Epoch: 093/100 | Batch 003/030 | Train/Val Loss: 0.22\n",
      "Epoch: 093/100 | Batch 004/030 | Train/Val Loss: 0.25\n",
      "Epoch: 093/100 | Batch 005/030 | Train/Val Loss: 0.28\n",
      "Epoch: 093/100 | Batch 006/030 | Train/Val Loss: 0.23\n",
      "Epoch: 093/100 | Batch 007/030 | Train/Val Loss: 0.36\n",
      "Epoch: 093/100 | Batch 008/030 | Train/Val Loss: 0.24\n",
      "Epoch: 093/100 | Batch 009/030 | Train/Val Loss: 0.29\n",
      "Epoch: 093/100 | Batch 010/030 | Train/Val Loss: 0.23\n",
      "Epoch: 093/100 | Batch 011/030 | Train/Val Loss: 0.35\n",
      "Epoch: 093/100 | Batch 012/030 | Train/Val Loss: 0.38\n",
      "Epoch: 093/100 | Batch 013/030 | Train/Val Loss: 0.29\n",
      "Epoch: 093/100 | Batch 014/030 | Train/Val Loss: 0.34\n",
      "Epoch: 093/100 | Batch 015/030 | Train/Val Loss: 0.32\n",
      "Epoch: 093/100 | Batch 016/030 | Train/Val Loss: 0.39\n",
      "Epoch: 093/100 | Batch 017/030 | Train/Val Loss: 0.32\n",
      "Epoch: 093/100 | Batch 018/030 | Train/Val Loss: 0.24\n",
      "Epoch: 093/100 | Batch 019/030 | Train/Val Loss: 0.32\n",
      "Epoch: 093/100 | Batch 020/030 | Train/Val Loss: 0.26\n",
      "Epoch: 093/100 | Batch 021/030 | Train/Val Loss: 0.30\n",
      "Epoch: 093/100 | Batch 022/030 | Train/Val Loss: 0.34\n",
      "Epoch: 093/100 | Batch 023/030 | Train/Val Loss: 0.58\n",
      "Epoch: 093/100 | Batch 024/030 | Train/Val Loss: 0.32\n",
      "Epoch: 093/100 | Batch 025/030 | Train/Val Loss: 0.29\n",
      "Epoch: 093/100 | Batch 026/030 | Train/Val Loss: 0.14\n",
      "Epoch: 093/100 | Batch 027/030 | Train/Val Loss: 0.33\n",
      "Epoch: 093/100 | Batch 028/030 | Train/Val Loss: 0.41\n",
      "Epoch: 093/100 | Batch 029/030 | Train/Val Loss: 0.26\n",
      "Epoch: 093/100 | Batch 030/030 | Train/Val Loss: 0.23\n"
     ]
    },
    {
     "data": {
      "text/html": [
       "<pre style=\"white-space:pre;overflow-x:auto;line-height:normal;font-family:Menlo,'DejaVu Sans Mono',consolas,'Courier New',monospace\"><span style=\"color: #76ff7b; text-decoration-color: #76ff7b\">Train Acc: </span><span style=\"color: #008080; text-decoration-color: #008080; font-weight: bold\">86.63</span><span style=\"color: #76ff7b; text-decoration-color: #76ff7b\">% | Val Acc: </span><span style=\"color: #008080; text-decoration-color: #008080; font-weight: bold\">84.85</span><span style=\"color: #76ff7b; text-decoration-color: #76ff7b\">%</span>\n",
       "</pre>\n"
      ],
      "text/plain": [
       "\u001b[38;2;118;255;123mTrain Acc: \u001b[0m\u001b[1;36m86.63\u001b[0m\u001b[38;2;118;255;123m% | Val Acc: \u001b[0m\u001b[1;36m84.85\u001b[0m\u001b[38;2;118;255;123m%\u001b[0m\n"
      ]
     },
     "metadata": {},
     "output_type": "display_data"
    },
    {
     "name": "stdout",
     "output_type": "stream",
     "text": [
      "Epoch: 094/100 | Batch 001/030 | Train/Val Loss: 0.29\n",
      "Epoch: 094/100 | Batch 002/030 | Train/Val Loss: 0.43\n",
      "Epoch: 094/100 | Batch 003/030 | Train/Val Loss: 0.35\n",
      "Epoch: 094/100 | Batch 004/030 | Train/Val Loss: 0.31\n",
      "Epoch: 094/100 | Batch 005/030 | Train/Val Loss: 0.21\n",
      "Epoch: 094/100 | Batch 006/030 | Train/Val Loss: 0.40\n",
      "Epoch: 094/100 | Batch 007/030 | Train/Val Loss: 0.38\n",
      "Epoch: 094/100 | Batch 008/030 | Train/Val Loss: 0.29\n",
      "Epoch: 094/100 | Batch 009/030 | Train/Val Loss: 0.34\n",
      "Epoch: 094/100 | Batch 010/030 | Train/Val Loss: 0.29\n",
      "Epoch: 094/100 | Batch 011/030 | Train/Val Loss: 0.27\n",
      "Epoch: 094/100 | Batch 012/030 | Train/Val Loss: 0.48\n",
      "Epoch: 094/100 | Batch 013/030 | Train/Val Loss: 0.40\n",
      "Epoch: 094/100 | Batch 014/030 | Train/Val Loss: 0.22\n",
      "Epoch: 094/100 | Batch 015/030 | Train/Val Loss: 0.55\n",
      "Epoch: 094/100 | Batch 016/030 | Train/Val Loss: 0.24\n",
      "Epoch: 094/100 | Batch 017/030 | Train/Val Loss: 0.37\n",
      "Epoch: 094/100 | Batch 018/030 | Train/Val Loss: 0.41\n",
      "Epoch: 094/100 | Batch 019/030 | Train/Val Loss: 0.24\n",
      "Epoch: 094/100 | Batch 020/030 | Train/Val Loss: 0.40\n",
      "Epoch: 094/100 | Batch 021/030 | Train/Val Loss: 0.25\n",
      "Epoch: 094/100 | Batch 022/030 | Train/Val Loss: 0.23\n",
      "Epoch: 094/100 | Batch 023/030 | Train/Val Loss: 0.14\n",
      "Epoch: 094/100 | Batch 024/030 | Train/Val Loss: 0.37\n",
      "Epoch: 094/100 | Batch 025/030 | Train/Val Loss: 0.26\n",
      "Epoch: 094/100 | Batch 026/030 | Train/Val Loss: 0.27\n",
      "Epoch: 094/100 | Batch 027/030 | Train/Val Loss: 0.38\n",
      "Epoch: 094/100 | Batch 028/030 | Train/Val Loss: 0.29\n",
      "Epoch: 094/100 | Batch 029/030 | Train/Val Loss: 0.15\n",
      "Epoch: 094/100 | Batch 030/030 | Train/Val Loss: 0.12\n"
     ]
    },
    {
     "data": {
      "text/html": [
       "<pre style=\"white-space:pre;overflow-x:auto;line-height:normal;font-family:Menlo,'DejaVu Sans Mono',consolas,'Courier New',monospace\"><span style=\"color: #76ff7b; text-decoration-color: #76ff7b\">Train Acc: </span><span style=\"color: #008080; text-decoration-color: #008080; font-weight: bold\">86.74</span><span style=\"color: #76ff7b; text-decoration-color: #76ff7b\">% | Val Acc: </span><span style=\"color: #008080; text-decoration-color: #008080; font-weight: bold\">84.85</span><span style=\"color: #76ff7b; text-decoration-color: #76ff7b\">%</span>\n",
       "</pre>\n"
      ],
      "text/plain": [
       "\u001b[38;2;118;255;123mTrain Acc: \u001b[0m\u001b[1;36m86.74\u001b[0m\u001b[38;2;118;255;123m% | Val Acc: \u001b[0m\u001b[1;36m84.85\u001b[0m\u001b[38;2;118;255;123m%\u001b[0m\n"
      ]
     },
     "metadata": {},
     "output_type": "display_data"
    },
    {
     "name": "stdout",
     "output_type": "stream",
     "text": [
      "Epoch: 095/100 | Batch 001/030 | Train/Val Loss: 0.30\n",
      "Epoch: 095/100 | Batch 002/030 | Train/Val Loss: 0.30\n",
      "Epoch: 095/100 | Batch 003/030 | Train/Val Loss: 0.34\n",
      "Epoch: 095/100 | Batch 004/030 | Train/Val Loss: 0.39\n",
      "Epoch: 095/100 | Batch 005/030 | Train/Val Loss: 0.32\n",
      "Epoch: 095/100 | Batch 006/030 | Train/Val Loss: 0.43\n",
      "Epoch: 095/100 | Batch 007/030 | Train/Val Loss: 0.30\n",
      "Epoch: 095/100 | Batch 008/030 | Train/Val Loss: 0.37\n",
      "Epoch: 095/100 | Batch 009/030 | Train/Val Loss: 0.46\n",
      "Epoch: 095/100 | Batch 010/030 | Train/Val Loss: 0.25\n",
      "Epoch: 095/100 | Batch 011/030 | Train/Val Loss: 0.22\n",
      "Epoch: 095/100 | Batch 012/030 | Train/Val Loss: 0.29\n",
      "Epoch: 095/100 | Batch 013/030 | Train/Val Loss: 0.40\n",
      "Epoch: 095/100 | Batch 014/030 | Train/Val Loss: 0.41\n",
      "Epoch: 095/100 | Batch 015/030 | Train/Val Loss: 0.26\n",
      "Epoch: 095/100 | Batch 016/030 | Train/Val Loss: 0.25\n",
      "Epoch: 095/100 | Batch 017/030 | Train/Val Loss: 0.26\n",
      "Epoch: 095/100 | Batch 018/030 | Train/Val Loss: 0.27\n",
      "Epoch: 095/100 | Batch 019/030 | Train/Val Loss: 0.21\n",
      "Epoch: 095/100 | Batch 020/030 | Train/Val Loss: 0.27\n",
      "Epoch: 095/100 | Batch 021/030 | Train/Val Loss: 0.43\n",
      "Epoch: 095/100 | Batch 022/030 | Train/Val Loss: 0.35\n",
      "Epoch: 095/100 | Batch 023/030 | Train/Val Loss: 0.37\n",
      "Epoch: 095/100 | Batch 024/030 | Train/Val Loss: 0.11\n",
      "Epoch: 095/100 | Batch 025/030 | Train/Val Loss: 0.42\n",
      "Epoch: 095/100 | Batch 026/030 | Train/Val Loss: 0.25\n",
      "Epoch: 095/100 | Batch 027/030 | Train/Val Loss: 0.24\n",
      "Epoch: 095/100 | Batch 028/030 | Train/Val Loss: 0.21\n",
      "Epoch: 095/100 | Batch 029/030 | Train/Val Loss: 0.29\n",
      "Epoch: 095/100 | Batch 030/030 | Train/Val Loss: 0.06\n"
     ]
    },
    {
     "data": {
      "text/html": [
       "<pre style=\"white-space:pre;overflow-x:auto;line-height:normal;font-family:Menlo,'DejaVu Sans Mono',consolas,'Courier New',monospace\"><span style=\"color: #76ff7b; text-decoration-color: #76ff7b\">Train Acc: </span><span style=\"color: #008080; text-decoration-color: #008080; font-weight: bold\">86.52</span><span style=\"color: #76ff7b; text-decoration-color: #76ff7b\">% | Val Acc: </span><span style=\"color: #008080; text-decoration-color: #008080; font-weight: bold\">84.85</span><span style=\"color: #76ff7b; text-decoration-color: #76ff7b\">%</span>\n",
       "</pre>\n"
      ],
      "text/plain": [
       "\u001b[38;2;118;255;123mTrain Acc: \u001b[0m\u001b[1;36m86.52\u001b[0m\u001b[38;2;118;255;123m% | Val Acc: \u001b[0m\u001b[1;36m84.85\u001b[0m\u001b[38;2;118;255;123m%\u001b[0m\n"
      ]
     },
     "metadata": {},
     "output_type": "display_data"
    },
    {
     "name": "stdout",
     "output_type": "stream",
     "text": [
      "Epoch: 096/100 | Batch 001/030 | Train/Val Loss: 0.33\n",
      "Epoch: 096/100 | Batch 002/030 | Train/Val Loss: 0.14\n",
      "Epoch: 096/100 | Batch 003/030 | Train/Val Loss: 0.27\n",
      "Epoch: 096/100 | Batch 004/030 | Train/Val Loss: 0.24\n",
      "Epoch: 096/100 | Batch 005/030 | Train/Val Loss: 0.44\n",
      "Epoch: 096/100 | Batch 006/030 | Train/Val Loss: 0.24\n",
      "Epoch: 096/100 | Batch 007/030 | Train/Val Loss: 0.12\n",
      "Epoch: 096/100 | Batch 008/030 | Train/Val Loss: 0.36\n",
      "Epoch: 096/100 | Batch 009/030 | Train/Val Loss: 0.43\n",
      "Epoch: 096/100 | Batch 010/030 | Train/Val Loss: 0.30\n",
      "Epoch: 096/100 | Batch 011/030 | Train/Val Loss: 0.16\n",
      "Epoch: 096/100 | Batch 012/030 | Train/Val Loss: 0.19\n",
      "Epoch: 096/100 | Batch 013/030 | Train/Val Loss: 0.44\n",
      "Epoch: 096/100 | Batch 014/030 | Train/Val Loss: 0.22\n",
      "Epoch: 096/100 | Batch 015/030 | Train/Val Loss: 0.35\n",
      "Epoch: 096/100 | Batch 016/030 | Train/Val Loss: 0.42\n",
      "Epoch: 096/100 | Batch 017/030 | Train/Val Loss: 0.31\n",
      "Epoch: 096/100 | Batch 018/030 | Train/Val Loss: 0.26\n",
      "Epoch: 096/100 | Batch 019/030 | Train/Val Loss: 0.52\n",
      "Epoch: 096/100 | Batch 020/030 | Train/Val Loss: 0.11\n",
      "Epoch: 096/100 | Batch 021/030 | Train/Val Loss: 0.49\n",
      "Epoch: 096/100 | Batch 022/030 | Train/Val Loss: 0.40\n",
      "Epoch: 096/100 | Batch 023/030 | Train/Val Loss: 0.32\n",
      "Epoch: 096/100 | Batch 024/030 | Train/Val Loss: 0.48\n",
      "Epoch: 096/100 | Batch 025/030 | Train/Val Loss: 0.27\n",
      "Epoch: 096/100 | Batch 026/030 | Train/Val Loss: 0.35\n",
      "Epoch: 096/100 | Batch 027/030 | Train/Val Loss: 0.21\n",
      "Epoch: 096/100 | Batch 028/030 | Train/Val Loss: 0.26\n",
      "Epoch: 096/100 | Batch 029/030 | Train/Val Loss: 0.31\n",
      "Epoch: 096/100 | Batch 030/030 | Train/Val Loss: 0.35\n"
     ]
    },
    {
     "data": {
      "text/html": [
       "<pre style=\"white-space:pre;overflow-x:auto;line-height:normal;font-family:Menlo,'DejaVu Sans Mono',consolas,'Courier New',monospace\"><span style=\"color: #76ff7b; text-decoration-color: #76ff7b\">Train Acc: </span><span style=\"color: #008080; text-decoration-color: #008080; font-weight: bold\">86.52</span><span style=\"color: #76ff7b; text-decoration-color: #76ff7b\">% | Val Acc: </span><span style=\"color: #008080; text-decoration-color: #008080; font-weight: bold\">81.82</span><span style=\"color: #76ff7b; text-decoration-color: #76ff7b\">%</span>\n",
       "</pre>\n"
      ],
      "text/plain": [
       "\u001b[38;2;118;255;123mTrain Acc: \u001b[0m\u001b[1;36m86.52\u001b[0m\u001b[38;2;118;255;123m% | Val Acc: \u001b[0m\u001b[1;36m81.82\u001b[0m\u001b[38;2;118;255;123m%\u001b[0m\n"
      ]
     },
     "metadata": {},
     "output_type": "display_data"
    },
    {
     "name": "stdout",
     "output_type": "stream",
     "text": [
      "Epoch: 097/100 | Batch 001/030 | Train/Val Loss: 0.41\n",
      "Epoch: 097/100 | Batch 002/030 | Train/Val Loss: 0.37\n",
      "Epoch: 097/100 | Batch 003/030 | Train/Val Loss: 0.28\n",
      "Epoch: 097/100 | Batch 004/030 | Train/Val Loss: 0.34\n",
      "Epoch: 097/100 | Batch 005/030 | Train/Val Loss: 0.34\n",
      "Epoch: 097/100 | Batch 006/030 | Train/Val Loss: 0.29\n",
      "Epoch: 097/100 | Batch 007/030 | Train/Val Loss: 0.29\n",
      "Epoch: 097/100 | Batch 008/030 | Train/Val Loss: 0.19\n",
      "Epoch: 097/100 | Batch 009/030 | Train/Val Loss: 0.12\n",
      "Epoch: 097/100 | Batch 010/030 | Train/Val Loss: 0.35\n",
      "Epoch: 097/100 | Batch 011/030 | Train/Val Loss: 0.24\n",
      "Epoch: 097/100 | Batch 012/030 | Train/Val Loss: 0.28\n",
      "Epoch: 097/100 | Batch 013/030 | Train/Val Loss: 0.38\n",
      "Epoch: 097/100 | Batch 014/030 | Train/Val Loss: 0.31\n",
      "Epoch: 097/100 | Batch 015/030 | Train/Val Loss: 0.25\n",
      "Epoch: 097/100 | Batch 016/030 | Train/Val Loss: 0.33\n",
      "Epoch: 097/100 | Batch 017/030 | Train/Val Loss: 0.27\n",
      "Epoch: 097/100 | Batch 018/030 | Train/Val Loss: 0.31\n",
      "Epoch: 097/100 | Batch 019/030 | Train/Val Loss: 0.41\n",
      "Epoch: 097/100 | Batch 020/030 | Train/Val Loss: 0.21\n",
      "Epoch: 097/100 | Batch 021/030 | Train/Val Loss: 0.40\n",
      "Epoch: 097/100 | Batch 022/030 | Train/Val Loss: 0.36\n",
      "Epoch: 097/100 | Batch 023/030 | Train/Val Loss: 0.27\n",
      "Epoch: 097/100 | Batch 024/030 | Train/Val Loss: 0.40\n",
      "Epoch: 097/100 | Batch 025/030 | Train/Val Loss: 0.35\n",
      "Epoch: 097/100 | Batch 026/030 | Train/Val Loss: 0.28\n",
      "Epoch: 097/100 | Batch 027/030 | Train/Val Loss: 0.35\n",
      "Epoch: 097/100 | Batch 028/030 | Train/Val Loss: 0.27\n",
      "Epoch: 097/100 | Batch 029/030 | Train/Val Loss: 0.44\n",
      "Epoch: 097/100 | Batch 030/030 | Train/Val Loss: 0.36\n"
     ]
    },
    {
     "data": {
      "text/html": [
       "<pre style=\"white-space:pre;overflow-x:auto;line-height:normal;font-family:Menlo,'DejaVu Sans Mono',consolas,'Courier New',monospace\"><span style=\"color: #76ff7b; text-decoration-color: #76ff7b\">Train Acc: </span><span style=\"color: #008080; text-decoration-color: #008080; font-weight: bold\">83.74</span><span style=\"color: #76ff7b; text-decoration-color: #76ff7b\">% | Val Acc: </span><span style=\"color: #008080; text-decoration-color: #008080; font-weight: bold\">79.39</span><span style=\"color: #76ff7b; text-decoration-color: #76ff7b\">%</span>\n",
       "</pre>\n"
      ],
      "text/plain": [
       "\u001b[38;2;118;255;123mTrain Acc: \u001b[0m\u001b[1;36m83.74\u001b[0m\u001b[38;2;118;255;123m% | Val Acc: \u001b[0m\u001b[1;36m79.39\u001b[0m\u001b[38;2;118;255;123m%\u001b[0m\n"
      ]
     },
     "metadata": {},
     "output_type": "display_data"
    },
    {
     "name": "stdout",
     "output_type": "stream",
     "text": [
      "Epoch: 098/100 | Batch 001/030 | Train/Val Loss: 0.44\n",
      "Epoch: 098/100 | Batch 002/030 | Train/Val Loss: 0.18\n",
      "Epoch: 098/100 | Batch 003/030 | Train/Val Loss: 0.56\n",
      "Epoch: 098/100 | Batch 004/030 | Train/Val Loss: 0.27\n",
      "Epoch: 098/100 | Batch 005/030 | Train/Val Loss: 0.45\n",
      "Epoch: 098/100 | Batch 006/030 | Train/Val Loss: 0.45\n",
      "Epoch: 098/100 | Batch 007/030 | Train/Val Loss: 0.33\n",
      "Epoch: 098/100 | Batch 008/030 | Train/Val Loss: 0.23\n",
      "Epoch: 098/100 | Batch 009/030 | Train/Val Loss: 0.34\n",
      "Epoch: 098/100 | Batch 010/030 | Train/Val Loss: 0.27\n",
      "Epoch: 098/100 | Batch 011/030 | Train/Val Loss: 0.34\n",
      "Epoch: 098/100 | Batch 012/030 | Train/Val Loss: 0.17\n",
      "Epoch: 098/100 | Batch 013/030 | Train/Val Loss: 0.37\n",
      "Epoch: 098/100 | Batch 014/030 | Train/Val Loss: 0.17\n",
      "Epoch: 098/100 | Batch 015/030 | Train/Val Loss: 0.34\n",
      "Epoch: 098/100 | Batch 016/030 | Train/Val Loss: 0.65\n",
      "Epoch: 098/100 | Batch 017/030 | Train/Val Loss: 0.40\n",
      "Epoch: 098/100 | Batch 018/030 | Train/Val Loss: 0.31\n",
      "Epoch: 098/100 | Batch 019/030 | Train/Val Loss: 0.33\n",
      "Epoch: 098/100 | Batch 020/030 | Train/Val Loss: 0.39\n",
      "Epoch: 098/100 | Batch 021/030 | Train/Val Loss: 0.37\n",
      "Epoch: 098/100 | Batch 022/030 | Train/Val Loss: 0.45\n",
      "Epoch: 098/100 | Batch 023/030 | Train/Val Loss: 0.20\n",
      "Epoch: 098/100 | Batch 024/030 | Train/Val Loss: 0.32\n",
      "Epoch: 098/100 | Batch 025/030 | Train/Val Loss: 0.35\n",
      "Epoch: 098/100 | Batch 026/030 | Train/Val Loss: 0.33\n",
      "Epoch: 098/100 | Batch 027/030 | Train/Val Loss: 0.24\n",
      "Epoch: 098/100 | Batch 028/030 | Train/Val Loss: 0.25\n",
      "Epoch: 098/100 | Batch 029/030 | Train/Val Loss: 0.21\n",
      "Epoch: 098/100 | Batch 030/030 | Train/Val Loss: 0.41\n"
     ]
    },
    {
     "data": {
      "text/html": [
       "<pre style=\"white-space:pre;overflow-x:auto;line-height:normal;font-family:Menlo,'DejaVu Sans Mono',consolas,'Courier New',monospace\"><span style=\"color: #76ff7b; text-decoration-color: #76ff7b\">Train Acc: </span><span style=\"color: #008080; text-decoration-color: #008080; font-weight: bold\">85.78</span><span style=\"color: #76ff7b; text-decoration-color: #76ff7b\">% | Val Acc: </span><span style=\"color: #008080; text-decoration-color: #008080; font-weight: bold\">80.61</span><span style=\"color: #76ff7b; text-decoration-color: #76ff7b\">%</span>\n",
       "</pre>\n"
      ],
      "text/plain": [
       "\u001b[38;2;118;255;123mTrain Acc: \u001b[0m\u001b[1;36m85.78\u001b[0m\u001b[38;2;118;255;123m% | Val Acc: \u001b[0m\u001b[1;36m80.61\u001b[0m\u001b[38;2;118;255;123m%\u001b[0m\n"
      ]
     },
     "metadata": {},
     "output_type": "display_data"
    },
    {
     "name": "stdout",
     "output_type": "stream",
     "text": [
      "Epoch: 099/100 | Batch 001/030 | Train/Val Loss: 0.39\n",
      "Epoch: 099/100 | Batch 002/030 | Train/Val Loss: 0.28\n",
      "Epoch: 099/100 | Batch 003/030 | Train/Val Loss: 0.30\n",
      "Epoch: 099/100 | Batch 004/030 | Train/Val Loss: 0.35\n",
      "Epoch: 099/100 | Batch 005/030 | Train/Val Loss: 0.24\n",
      "Epoch: 099/100 | Batch 006/030 | Train/Val Loss: 0.29\n",
      "Epoch: 099/100 | Batch 007/030 | Train/Val Loss: 0.21\n",
      "Epoch: 099/100 | Batch 008/030 | Train/Val Loss: 0.35\n",
      "Epoch: 099/100 | Batch 009/030 | Train/Val Loss: 0.19\n",
      "Epoch: 099/100 | Batch 010/030 | Train/Val Loss: 0.23\n",
      "Epoch: 099/100 | Batch 011/030 | Train/Val Loss: 0.36\n",
      "Epoch: 099/100 | Batch 012/030 | Train/Val Loss: 0.34\n",
      "Epoch: 099/100 | Batch 013/030 | Train/Val Loss: 0.42\n",
      "Epoch: 099/100 | Batch 014/030 | Train/Val Loss: 0.24\n",
      "Epoch: 099/100 | Batch 015/030 | Train/Val Loss: 0.25\n",
      "Epoch: 099/100 | Batch 016/030 | Train/Val Loss: 0.13\n",
      "Epoch: 099/100 | Batch 017/030 | Train/Val Loss: 0.35\n",
      "Epoch: 099/100 | Batch 018/030 | Train/Val Loss: 0.31\n",
      "Epoch: 099/100 | Batch 019/030 | Train/Val Loss: 0.24\n",
      "Epoch: 099/100 | Batch 020/030 | Train/Val Loss: 0.46\n",
      "Epoch: 099/100 | Batch 021/030 | Train/Val Loss: 0.30\n",
      "Epoch: 099/100 | Batch 022/030 | Train/Val Loss: 0.62\n",
      "Epoch: 099/100 | Batch 023/030 | Train/Val Loss: 0.37\n",
      "Epoch: 099/100 | Batch 024/030 | Train/Val Loss: 0.71\n",
      "Epoch: 099/100 | Batch 025/030 | Train/Val Loss: 0.24\n",
      "Epoch: 099/100 | Batch 026/030 | Train/Val Loss: 0.29\n",
      "Epoch: 099/100 | Batch 027/030 | Train/Val Loss: 0.34\n",
      "Epoch: 099/100 | Batch 028/030 | Train/Val Loss: 0.36\n",
      "Epoch: 099/100 | Batch 029/030 | Train/Val Loss: 0.28\n",
      "Epoch: 099/100 | Batch 030/030 | Train/Val Loss: 0.37\n"
     ]
    },
    {
     "data": {
      "text/html": [
       "<pre style=\"white-space:pre;overflow-x:auto;line-height:normal;font-family:Menlo,'DejaVu Sans Mono',consolas,'Courier New',monospace\"><span style=\"color: #76ff7b; text-decoration-color: #76ff7b\">Train Acc: </span><span style=\"color: #008080; text-decoration-color: #008080; font-weight: bold\">85.35</span><span style=\"color: #76ff7b; text-decoration-color: #76ff7b\">% | Val Acc: </span><span style=\"color: #008080; text-decoration-color: #008080; font-weight: bold\">80.61</span><span style=\"color: #76ff7b; text-decoration-color: #76ff7b\">%</span>\n",
       "</pre>\n"
      ],
      "text/plain": [
       "\u001b[38;2;118;255;123mTrain Acc: \u001b[0m\u001b[1;36m85.35\u001b[0m\u001b[38;2;118;255;123m% | Val Acc: \u001b[0m\u001b[1;36m80.61\u001b[0m\u001b[38;2;118;255;123m%\u001b[0m\n"
      ]
     },
     "metadata": {},
     "output_type": "display_data"
    },
    {
     "name": "stdout",
     "output_type": "stream",
     "text": [
      "Epoch: 100/100 | Batch 001/030 | Train/Val Loss: 0.33\n",
      "Epoch: 100/100 | Batch 002/030 | Train/Val Loss: 0.28\n",
      "Epoch: 100/100 | Batch 003/030 | Train/Val Loss: 0.24\n",
      "Epoch: 100/100 | Batch 004/030 | Train/Val Loss: 0.27\n",
      "Epoch: 100/100 | Batch 005/030 | Train/Val Loss: 0.39\n",
      "Epoch: 100/100 | Batch 006/030 | Train/Val Loss: 0.33\n",
      "Epoch: 100/100 | Batch 007/030 | Train/Val Loss: 0.31\n",
      "Epoch: 100/100 | Batch 008/030 | Train/Val Loss: 0.20\n",
      "Epoch: 100/100 | Batch 009/030 | Train/Val Loss: 0.45\n",
      "Epoch: 100/100 | Batch 010/030 | Train/Val Loss: 0.28\n",
      "Epoch: 100/100 | Batch 011/030 | Train/Val Loss: 0.42\n",
      "Epoch: 100/100 | Batch 012/030 | Train/Val Loss: 0.37\n",
      "Epoch: 100/100 | Batch 013/030 | Train/Val Loss: 0.31\n",
      "Epoch: 100/100 | Batch 014/030 | Train/Val Loss: 0.38\n",
      "Epoch: 100/100 | Batch 015/030 | Train/Val Loss: 0.29\n",
      "Epoch: 100/100 | Batch 016/030 | Train/Val Loss: 0.32\n",
      "Epoch: 100/100 | Batch 017/030 | Train/Val Loss: 0.32\n",
      "Epoch: 100/100 | Batch 018/030 | Train/Val Loss: 0.25\n",
      "Epoch: 100/100 | Batch 019/030 | Train/Val Loss: 0.34\n",
      "Epoch: 100/100 | Batch 020/030 | Train/Val Loss: 0.46\n",
      "Epoch: 100/100 | Batch 021/030 | Train/Val Loss: 0.38\n",
      "Epoch: 100/100 | Batch 022/030 | Train/Val Loss: 0.31\n",
      "Epoch: 100/100 | Batch 023/030 | Train/Val Loss: 0.31\n",
      "Epoch: 100/100 | Batch 024/030 | Train/Val Loss: 0.24\n",
      "Epoch: 100/100 | Batch 025/030 | Train/Val Loss: 0.31\n",
      "Epoch: 100/100 | Batch 026/030 | Train/Val Loss: 0.31\n",
      "Epoch: 100/100 | Batch 027/030 | Train/Val Loss: 0.24\n",
      "Epoch: 100/100 | Batch 028/030 | Train/Val Loss: 0.37\n",
      "Epoch: 100/100 | Batch 029/030 | Train/Val Loss: 0.18\n",
      "Epoch: 100/100 | Batch 030/030 | Train/Val Loss: 0.18\n"
     ]
    },
    {
     "data": {
      "text/html": [
       "<pre style=\"white-space:pre;overflow-x:auto;line-height:normal;font-family:Menlo,'DejaVu Sans Mono',consolas,'Courier New',monospace\"><span style=\"color: #76ff7b; text-decoration-color: #76ff7b\">Train Acc: </span><span style=\"color: #008080; text-decoration-color: #008080; font-weight: bold\">86.84</span><span style=\"color: #76ff7b; text-decoration-color: #76ff7b\">% | Val Acc: </span><span style=\"color: #008080; text-decoration-color: #008080; font-weight: bold\">83.64</span><span style=\"color: #76ff7b; text-decoration-color: #76ff7b\">%</span>\n",
       "</pre>\n"
      ],
      "text/plain": [
       "\u001b[38;2;118;255;123mTrain Acc: \u001b[0m\u001b[1;36m86.84\u001b[0m\u001b[38;2;118;255;123m% | Val Acc: \u001b[0m\u001b[1;36m83.64\u001b[0m\u001b[38;2;118;255;123m%\u001b[0m\n"
      ]
     },
     "metadata": {},
     "output_type": "display_data"
    }
   ],
   "source": [
    "# Set seed for reproducibility\n",
    "torch.manual_seed(1)\n",
    "\n",
    "epochs: int = 100\n",
    "learning_rate: float = 0.01\n",
    "\n",
    "model = TitanicClassifier(input_size=11, hidden_units=32, num_classes=2)\n",
    "optimizer = torch.optim.Adam(model.parameters(), lr=learning_rate)\n",
    "\n",
    "for epoch in tqdm(range(epochs)):\n",
    "\n",
    "    # Training mode\n",
    "    model = model.train()\n",
    "    for batch_idx, (features, labels) in enumerate(train_loader):\n",
    "\n",
    "        # Forward propagation\n",
    "        optimizer.zero_grad()\n",
    "        logits = model(features)\n",
    "        \n",
    "        # Compute loss\n",
    "        loss = nn.CrossEntropyLoss(reduction=\"mean\")(logits, labels)  # Loss function\n",
    "\n",
    "        # Back propagation\n",
    "        loss.backward()\n",
    "        optimizer.step()  # Update the weights\n",
    "\n",
    "        ### LOGGING\n",
    "        print(\n",
    "            f\"Epoch: {epoch+1:03d}/{epochs:03d}\"\n",
    "            f\" | Batch {batch_idx+1:03d}/{len(train_loader):03d}\"\n",
    "            f\" | Train/Val Loss: {loss:.2f}\"\n",
    "        )\n",
    "\n",
    "    # Compute accuracy\n",
    "    train_acc = compute_accuracy(model, train_loader)\n",
    "    val_acc = compute_accuracy(model, val_loader)\n",
    "    console.print(\n",
    "        f\"Train Acc: {train_acc*100:.2f}% | Val Acc: {val_acc*100:.2f}%\", style=\"info\"\n",
    "    )"
   ]
  },
  {
   "cell_type": "code",
   "execution_count": 13,
   "metadata": {},
   "outputs": [
    {
     "name": "stdout",
     "output_type": "stream",
     "text": [
      "Train Acc: 86.84%\n",
      "Val Acc: 83.64%\n",
      "Test Acc: 81.71%\n"
     ]
    }
   ],
   "source": [
    "train_acc: float = compute_accuracy(model, train_loader)\n",
    "val_acc: float = compute_accuracy(model, val_loader)\n",
    "test_acc: float = compute_accuracy(model, test_loader)\n",
    "\n",
    "print(f\"Train Acc: {train_acc*100:.2f}%\")\n",
    "print(f\"Val Acc: {val_acc*100:.2f}%\")\n",
    "print(f\"Test Acc: {test_acc*100:.2f}%\")"
   ]
  },
  {
   "cell_type": "code",
   "execution_count": 14,
   "metadata": {},
   "outputs": [],
   "source": [
    "from sklearn.metrics import roc_auc_score\n",
    "\n",
    "\n",
    "def compute_auc(model: Model, dataloader: DataLoader) -> float:\n",
    "\n",
    "    model = model.eval()\n",
    "\n",
    "    correct: list[Any] = []\n",
    "    predictions: list[Any] = []\n",
    "\n",
    "    for _, (features, labels) in enumerate(dataloader):\n",
    "\n",
    "        with torch.inference_mode():  # Same as torch.no_grad\n",
    "            logits = model(features)\n",
    "            preds = F.sigmoid(logits)[:, 1]\n",
    "\n",
    "        correct.append(list(labels.numpy()))\n",
    "        predictions.append(list(preds))\n",
    "\n",
    "    correct = [v for list_x in correct for v in list_x]\n",
    "    predictions = [v for list_x in predictions for v in list_x]\n",
    "\n",
    "    auc_score = roc_auc_score(y_true=correct, y_score=predictions)\n",
    "    return auc_score"
   ]
  },
  {
   "cell_type": "code",
   "execution_count": 15,
   "metadata": {},
   "outputs": [
    {
     "data": {
      "text/html": [
       "<pre style=\"white-space:pre;overflow-x:auto;line-height:normal;font-family:Menlo,'DejaVu Sans Mono',consolas,'Courier New',monospace\">Train AUC: <span style=\"color: #008080; text-decoration-color: #008080; font-weight: bold\">94.51</span>%\n",
       "</pre>\n"
      ],
      "text/plain": [
       "Train AUC: \u001b[1;36m94.51\u001b[0m%\n"
      ]
     },
     "metadata": {},
     "output_type": "display_data"
    },
    {
     "data": {
      "text/html": [
       "<pre style=\"white-space:pre;overflow-x:auto;line-height:normal;font-family:Menlo,'DejaVu Sans Mono',consolas,'Courier New',monospace\">Val AUC: <span style=\"color: #008080; text-decoration-color: #008080; font-weight: bold\">88.66</span>%\n",
       "</pre>\n"
      ],
      "text/plain": [
       "Val AUC: \u001b[1;36m88.66\u001b[0m%\n"
      ]
     },
     "metadata": {},
     "output_type": "display_data"
    },
    {
     "data": {
      "text/html": [
       "<pre style=\"white-space:pre;overflow-x:auto;line-height:normal;font-family:Menlo,'DejaVu Sans Mono',consolas,'Courier New',monospace\">Test AUC: <span style=\"color: #008080; text-decoration-color: #008080; font-weight: bold\">85.92</span>%\n",
       "</pre>\n"
      ],
      "text/plain": [
       "Test AUC: \u001b[1;36m85.92\u001b[0m%\n"
      ]
     },
     "metadata": {},
     "output_type": "display_data"
    }
   ],
   "source": [
    "train_auc: float = compute_auc(model, train_loader)\n",
    "val_auc: float = compute_auc(model, val_loader)\n",
    "test_auc: float = compute_auc(model, test_loader)\n",
    "\n",
    "console.print(f\"Train AUC: {train_auc*100:.2f}%\")\n",
    "console.print(f\"Val AUC: {val_auc*100:.2f}%\")\n",
    "console.print(f\"Test AUC: {test_auc*100:.2f}%\")"
   ]
  },
  {
   "cell_type": "code",
   "execution_count": null,
   "metadata": {},
   "outputs": [],
   "source": []
  },
  {
   "cell_type": "code",
   "execution_count": null,
   "metadata": {},
   "outputs": [],
   "source": []
  },
  {
   "cell_type": "code",
   "execution_count": null,
   "metadata": {},
   "outputs": [],
   "source": []
  },
  {
   "cell_type": "code",
   "execution_count": null,
   "metadata": {},
   "outputs": [],
   "source": []
  },
  {
   "cell_type": "code",
   "execution_count": null,
   "metadata": {},
   "outputs": [],
   "source": []
  },
  {
   "cell_type": "code",
   "execution_count": null,
   "metadata": {},
   "outputs": [],
   "source": []
  },
  {
   "cell_type": "code",
   "execution_count": null,
   "metadata": {},
   "outputs": [],
   "source": []
  },
  {
   "cell_type": "code",
   "execution_count": null,
   "metadata": {},
   "outputs": [],
   "source": []
  },
  {
   "cell_type": "code",
   "execution_count": null,
   "metadata": {},
   "outputs": [],
   "source": []
  }
 ],
 "metadata": {
  "kernelspec": {
   "display_name": "torch_p11",
   "language": "python",
   "name": "python3"
  },
  "language_info": {
   "codemirror_mode": {
    "name": "ipython",
    "version": 3
   },
   "file_extension": ".py",
   "mimetype": "text/x-python",
   "name": "python",
   "nbconvert_exporter": "python",
   "pygments_lexer": "ipython3",
   "version": "3.11.8"
  }
 },
 "nbformat": 4,
 "nbformat_minor": 2
}
