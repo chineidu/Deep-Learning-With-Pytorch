{
 "cells": [
  {
   "attachments": {},
   "cell_type": "markdown",
   "metadata": {},
   "source": [
    "## Pytorch Basics"
   ]
  },
  {
   "cell_type": "code",
   "execution_count": 1,
   "metadata": {},
   "outputs": [],
   "source": [
    "# Built-in library\n",
    "from typing import Any, Optional, Sequence, Union\n",
    "\n",
    "# Standard imports\n",
    "import numpy as np\n",
    "import torch\n",
    "import pandas as pd\n",
    "import matplotlib.pyplot as plt\n",
    "\n",
    "\n",
    "# pandas settings\n",
    "pd.options.display.max_rows = 1_000\n",
    "pd.options.display.max_columns = 1_000\n",
    "pd.options.display.max_colwidth = 2_000\n",
    "\n",
    "# Black code formatter (Optional)\n",
    "%load_ext lab_black\n",
    "# auto reload imports\n",
    "%load_ext autoreload\n",
    "%autoreload 2"
   ]
  },
  {
   "cell_type": "markdown",
   "metadata": {},
   "source": [
    "### Create A Vector (1-D)"
   ]
  },
  {
   "cell_type": "code",
   "execution_count": 2,
   "metadata": {},
   "outputs": [
    {
     "data": {
      "text/plain": [
       "array([2, 4, 6])"
      ]
     },
     "execution_count": 2,
     "metadata": {},
     "output_type": "execute_result"
    }
   ],
   "source": [
    "# Using NumPy\n",
    "np_arr = np.array([2, 4, 6])\n",
    "np_arr"
   ]
  },
  {
   "cell_type": "code",
   "execution_count": 3,
   "metadata": {},
   "outputs": [
    {
     "data": {
      "text/plain": [
       "tensor([2, 4, 6])"
      ]
     },
     "execution_count": 3,
     "metadata": {},
     "output_type": "execute_result"
    }
   ],
   "source": [
    "# Using Pytorch\n",
    "py_arr = torch.tensor([2, 4, 6])\n",
    "py_arr"
   ]
  },
  {
   "cell_type": "markdown",
   "metadata": {},
   "source": [
    "### Create Matrixes"
   ]
  },
  {
   "cell_type": "code",
   "execution_count": 4,
   "metadata": {},
   "outputs": [
    {
     "data": {
      "text/plain": [
       "array([[ 2,  3,  4],\n",
       "       [10, 12, 14]])"
      ]
     },
     "execution_count": 4,
     "metadata": {},
     "output_type": "execute_result"
    }
   ],
   "source": [
    "np_arr1 = np.array([[2, 3, 4], [10, 12, 14]])\n",
    "np_arr1"
   ]
  },
  {
   "cell_type": "code",
   "execution_count": 5,
   "metadata": {},
   "outputs": [
    {
     "data": {
      "text/plain": [
       "tensor([[ 2,  3,  4],\n",
       "        [10, 12, 14]])"
      ]
     },
     "execution_count": 5,
     "metadata": {},
     "output_type": "execute_result"
    }
   ],
   "source": [
    "py_arr1 = torch.tensor([[2, 3, 4], [10, 12, 14]])\n",
    "py_arr1"
   ]
  },
  {
   "cell_type": "code",
   "execution_count": 6,
   "metadata": {},
   "outputs": [
    {
     "data": {
      "text/plain": [
       "array([[ 2, 10],\n",
       "       [ 3, 12],\n",
       "       [ 4, 14]])"
      ]
     },
     "execution_count": 6,
     "metadata": {},
     "output_type": "execute_result"
    }
   ],
   "source": [
    "np_arr1.T"
   ]
  },
  {
   "cell_type": "code",
   "execution_count": 7,
   "metadata": {},
   "outputs": [
    {
     "data": {
      "text/plain": [
       "tensor([[ 2, 10],\n",
       "        [ 3, 12],\n",
       "        [ 4, 14]])"
      ]
     },
     "execution_count": 7,
     "metadata": {},
     "output_type": "execute_result"
    }
   ],
   "source": [
    "py_arr1.T"
   ]
  },
  {
   "cell_type": "code",
   "execution_count": 8,
   "metadata": {},
   "outputs": [
    {
     "data": {
      "text/plain": [
       "(numpy.ndarray, torch.Tensor)"
      ]
     },
     "execution_count": 8,
     "metadata": {},
     "output_type": "execute_result"
    }
   ],
   "source": [
    "type(np_arr1), type(py_arr1)"
   ]
  },
  {
   "cell_type": "markdown",
   "metadata": {},
   "source": [
    "### Dot Product"
   ]
  },
  {
   "cell_type": "code",
   "execution_count": 9,
   "metadata": {},
   "outputs": [
    {
     "name": "stdout",
     "output_type": "stream",
     "text": [
      "-2\n"
     ]
    },
    {
     "data": {
      "text/plain": [
       "-2"
      ]
     },
     "execution_count": 9,
     "metadata": {},
     "output_type": "execute_result"
    }
   ],
   "source": [
    "# Using NumPy\n",
    "np_arr, np_arr1 = np.array([1, 2, 3, 4]), np.array([0, 1, 0, -1])\n",
    "\n",
    "print(np.dot(np_arr, np_arr1))\n",
    "\n",
    "# Using vanilla Python and NumPy\n",
    "np.sum(np_arr * np_arr1)"
   ]
  },
  {
   "cell_type": "code",
   "execution_count": 10,
   "metadata": {},
   "outputs": [
    {
     "name": "stdout",
     "output_type": "stream",
     "text": [
      "tensor(-2)\n"
     ]
    },
    {
     "data": {
      "text/plain": [
       "tensor(-2)"
      ]
     },
     "execution_count": 10,
     "metadata": {},
     "output_type": "execute_result"
    }
   ],
   "source": [
    "# Using Pytorch\n",
    "py_arr, py_arr1 = torch.tensor([1, 2, 3, 4]), torch.tensor([0, 1, 0, -1])\n",
    "print(torch.dot(py_arr, py_arr1))\n",
    "\n",
    "# Using vanilla Python and Pytorch\n",
    "torch.sum(py_arr * py_arr1)"
   ]
  },
  {
   "cell_type": "markdown",
   "metadata": {},
   "source": [
    "### Matrix Multiplication"
   ]
  },
  {
   "cell_type": "code",
   "execution_count": 11,
   "metadata": {},
   "outputs": [
    {
     "data": {
      "text/plain": [
       "((2, 3), (3, 2), (3, 3))"
      ]
     },
     "execution_count": 11,
     "metadata": {},
     "output_type": "execute_result"
    }
   ],
   "source": [
    "# Using NumPy\n",
    "np_arr, np_arr1 = (\n",
    "    np.array([[2, 3, 4], [7, 8, 9]]),\n",
    "    np.array([[2, 45], [7, 11], [-1, 1]]),\n",
    ")\n",
    "np_arr2 = np.array([[19, 3, 34], [-2, 7, 11], [-3, 3, 0]])\n",
    "\n",
    "np_arr.shape, np_arr1.shape, np_arr2.shape"
   ]
  },
  {
   "cell_type": "code",
   "execution_count": 12,
   "metadata": {},
   "outputs": [
    {
     "name": "stdout",
     "output_type": "stream",
     "text": [
      "[[ 21 127]\n",
      " [ 61 412]]\n",
      "[[ 21 127]\n",
      " [ 61 412]]\n"
     ]
    },
    {
     "data": {
      "text/plain": [
       "array([[  27,   52,  145],\n",
       "       [ 830,  215, 1651]])"
      ]
     },
     "execution_count": 12,
     "metadata": {},
     "output_type": "execute_result"
    }
   ],
   "source": [
    "# Using the method\n",
    "print(np.matmul(np_arr, np_arr1))\n",
    "\n",
    "# Using another notation\n",
    "print(np_arr @ np_arr1)\n",
    "\n",
    "np.matmul(np_arr1.T, np_arr2)"
   ]
  },
  {
   "cell_type": "code",
   "execution_count": 13,
   "metadata": {},
   "outputs": [
    {
     "data": {
      "text/plain": [
       "(torch.Size([2, 3]), torch.Size([3, 2]), torch.Size([3, 3]))"
      ]
     },
     "execution_count": 13,
     "metadata": {},
     "output_type": "execute_result"
    }
   ],
   "source": [
    "# Using Pytorch\n",
    "# Using NumPy\n",
    "py_arr, py_arr1 = (\n",
    "    torch.tensor([[2, 3, 4], [7, 8, 9]]),\n",
    "    torch.tensor([[2, 45], [7, 11], [-1, 1]]),\n",
    ")\n",
    "py_arr2 = torch.tensor([[19, 3, 34], [-2, 7, 11], [-3, 3, 0]])\n",
    "\n",
    "py_arr.shape, py_arr1.shape, py_arr2.shape"
   ]
  },
  {
   "cell_type": "code",
   "execution_count": 14,
   "metadata": {},
   "outputs": [
    {
     "name": "stdout",
     "output_type": "stream",
     "text": [
      "tensor([[ 21, 127],\n",
      "        [ 61, 412]])\n",
      "tensor([[ 21, 127],\n",
      "        [ 61, 412]])\n"
     ]
    },
    {
     "data": {
      "text/plain": [
       "tensor([[  27,   52,  145],\n",
       "        [ 830,  215, 1651]])"
      ]
     },
     "execution_count": 14,
     "metadata": {},
     "output_type": "execute_result"
    }
   ],
   "source": [
    "# Using the method\n",
    "print(torch.matmul(py_arr, py_arr1))\n",
    "\n",
    "# Using another notation\n",
    "print(py_arr @ py_arr1)\n",
    "\n",
    "np.matmul(py_arr1.T, py_arr2)"
   ]
  },
  {
   "attachments": {},
   "cell_type": "markdown",
   "metadata": {},
   "source": [
    "### Softmax\n",
    "\n",
    "$$ \\sigma_{i} = \\frac{e^{z_i}}{\\sum{e^{z_i}}} $$"
   ]
  },
  {
   "cell_type": "code",
   "execution_count": 15,
   "metadata": {},
   "outputs": [],
   "source": [
    "import torch.nn as nn"
   ]
  },
  {
   "cell_type": "code",
   "execution_count": 16,
   "metadata": {},
   "outputs": [
    {
     "data": {
      "text/plain": [
       "(array([0.09003057, 0.24472847, 0.66524096]), 1.0)"
      ]
     },
     "execution_count": 16,
     "metadata": {},
     "output_type": "execute_result"
    }
   ],
   "source": [
    "# Compute sofmax manually in NumPy\n",
    "z = [1, 2, 3]\n",
    "\n",
    "numerator = np.exp(z)\n",
    "denominator = np.sum(np.exp(z))\n",
    "\n",
    "softmax = numerator / denominator\n",
    "softmax, np.sum(softmax)"
   ]
  },
  {
   "cell_type": "code",
   "execution_count": 17,
   "metadata": {},
   "outputs": [
    {
     "name": "stdout",
     "output_type": "stream",
     "text": [
      "[ 8 -1 -5 13 11 -4  2 11 12 -5  2 11  3  1 -2 -5  2  9  2 -2  7  9  7  1\n",
      "  0]\n"
     ]
    },
    {
     "data": {
      "text/plain": [
       "(array([3.69741424e-03, 4.56297167e-07, 8.35737414e-09, 5.48744928e-01,\n",
       "        7.42645503e-02, 2.27176983e-08, 9.16497360e-06, 7.42645503e-02,\n",
       "        2.01871977e-01, 8.35737414e-09, 9.16497360e-06, 7.42645503e-02,\n",
       "        2.49129812e-05, 3.37160537e-06, 1.67862347e-07, 8.35737414e-09,\n",
       "        9.16497360e-06, 1.00506139e-02, 9.16497360e-06, 1.67862347e-07,\n",
       "        1.36020268e-03, 1.00506139e-02, 1.36020268e-03, 3.37160537e-06,\n",
       "        1.24034430e-06]),\n",
       " 0.9999999999999998)"
      ]
     },
     "execution_count": 17,
     "metadata": {},
     "output_type": "execute_result"
    }
   ],
   "source": [
    "# Repeat with some random numbers\n",
    "z = np.random.randint(low=-5, high=15, size=25)\n",
    "print(z)\n",
    "\n",
    "# Compute the softmax\n",
    "numerator = np.exp(z)\n",
    "denominator = np.sum(np.exp(z))\n",
    "\n",
    "softmax = numerator / denominator\n",
    "softmax, np.sum(softmax)"
   ]
  },
  {
   "cell_type": "code",
   "execution_count": 18,
   "metadata": {},
   "outputs": [
    {
     "data": {
      "image/png": "[encoded data removed]",
      "text/plain": [
       "<Figure size 640x480 with 1 Axes>"
      ]
     },
     "metadata": {},
     "output_type": "display_data"
    }
   ],
   "source": [
    "# Visualize\n",
    "plt.plot(z, softmax, \"ko\")\n",
    "plt.xlabel(\"Input\")\n",
    "plt.ylabel(\"Softmax Output $\\sigma$\")\n",
    "plt.title(f\"$\\sum\\sigma$ = {np.sum(softmax)}\")\n",
    "plt.show()"
   ]
  },
  {
   "cell_type": "code",
   "execution_count": 19,
   "metadata": {},
   "outputs": [
    {
     "data": {
      "image/png": "[encoded data removed]",
      "text/plain": [
       "<Figure size 640x480 with 1 Axes>"
      ]
     },
     "metadata": {},
     "output_type": "display_data"
    }
   ],
   "source": [
    "# Visualize\n",
    "plt.plot(z, softmax, \"ko\")\n",
    "plt.xlabel(\"Input\")\n",
    "plt.ylabel(\"Softmax Output $\\sigma$\")\n",
    "plt.yscale(\"log\")\n",
    "plt.title(f\"$\\sum\\sigma$ = {np.sum(softmax)} (Log Scale)\")\n",
    "plt.show()"
   ]
  },
  {
   "cell_type": "markdown",
   "metadata": {},
   "source": [
    "### Softmax Using Pytorch"
   ]
  },
  {
   "cell_type": "code",
   "execution_count": 20,
   "metadata": {},
   "outputs": [
    {
     "name": "stdout",
     "output_type": "stream",
     "text": [
      "tensor([0.0900, 0.2447, 0.6652])\n"
     ]
    }
   ],
   "source": [
    "z = [1, 2, 3]\n",
    "softmax_result = nn.Softmax(dim=0)\n",
    "sigma_pytorch = softmax_result(torch.Tensor(z))\n",
    "print(sigma_pytorch)"
   ]
  },
  {
   "cell_type": "code",
   "execution_count": 21,
   "metadata": {},
   "outputs": [
    {
     "data": {
      "text/plain": [
       "(tensor([1, 2, 3]), tensor([1., 2., 3.]))"
      ]
     },
     "execution_count": 21,
     "metadata": {},
     "output_type": "execute_result"
    }
   ],
   "source": [
    "torch.tensor([1, 2, 3]), torch.Tensor([1, 2, 3]),"
   ]
  },
  {
   "cell_type": "code",
   "execution_count": 22,
   "metadata": {},
   "outputs": [
    {
     "data": {
      "text/plain": [
       "tensor([0.0900, 0.2447, 0.6652], dtype=torch.float64)"
      ]
     },
     "execution_count": 22,
     "metadata": {},
     "output_type": "execute_result"
    }
   ],
   "source": [
    "nn.Softmax(dim=0)(torch.tensor(z, dtype=float))"
   ]
  },
  {
   "attachments": {},
   "cell_type": "markdown",
   "metadata": {},
   "source": [
    "### Entropy (H)\n",
    "\n",
    "```\n",
    "- it has the highest value (1.0) at p(x) = 0.5\n",
    "- high value of entropy means a lot of variability while low entropy means that most of the values in the dataset repeat.\n",
    "- The formula of entropy as a negative value because the log of values between 0 and 1 is negative. i.e -ve x -ve = +ve\n",
    "```\n",
    "\n",
    "$$H = - \\sum^n_{i = 1}{p(x_i)log_2(p(x_i))}$$\n",
    "\n",
    "<br>"
   ]
  },
  {
   "cell_type": "code",
   "execution_count": 23,
   "metadata": {},
   "outputs": [
    {
     "data": {
      "text/plain": [
       "0.5"
      ]
     },
     "execution_count": 23,
     "metadata": {},
     "output_type": "execute_result"
    }
   ],
   "source": [
    "# Wrong computation of entropy\n",
    "p = 0.25  # prob of an event happening\n",
    "\n",
    "H = -(p * np.log2(p))\n",
    "H"
   ]
  },
  {
   "cell_type": "code",
   "execution_count": 24,
   "metadata": {},
   "outputs": [
    {
     "data": {
      "text/plain": [
       "0.8112781244591328"
      ]
     },
     "execution_count": 24,
     "metadata": {},
     "output_type": "execute_result"
    }
   ],
   "source": [
    "# The correct computation of entropy\n",
    "p = [0.25, 0.75]  # prob of event happening and NOT happening.\n",
    "H = -(np.sum(p * np.log2(p)))\n",
    "H"
   ]
  },
  {
   "cell_type": "code",
   "execution_count": 25,
   "metadata": {},
   "outputs": [
    {
     "data": {
      "text/plain": [
       "0.8112781244591328"
      ]
     },
     "execution_count": 25,
     "metadata": {},
     "output_type": "execute_result"
    }
   ],
   "source": [
    "# OR\n",
    "# Binary Cross entropy\n",
    "H = -((0.25 * np.log2(0.25)) + (0.75 * np.log2(0.75)))\n",
    "H"
   ]
  },
  {
   "attachments": {},
   "cell_type": "markdown",
   "metadata": {},
   "source": [
    "### Cross Entropy\n",
    "\n",
    "```\n",
    "- It describes the relationship between two probability distributions.\n",
    "- In DL, it's used to evaluate the model.\n",
    "```\n",
    "\n",
    "$$H(p, q) = - \\sum^n_{i = 1}{p(x_i)log_2(q(x_i))}$$"
   ]
  },
  {
   "cell_type": "code",
   "execution_count": 26,
   "metadata": {},
   "outputs": [
    {
     "data": {
      "text/plain": [
       "2.0"
      ]
     },
     "execution_count": 26,
     "metadata": {},
     "output_type": "execute_result"
    }
   ],
   "source": [
    "# Cross entropy\n",
    "p = [1, 0.0]  # sum=1.0 i.e prob that an image is a dog and NOT a dog\n",
    "q = [0.25, 0.75]  # sum=1.0 i.e prob that the model thinks image is a dog and NOT a dog\n",
    "\n",
    "H = -(np.sum(p * np.log2(q)))\n",
    "H"
   ]
  },
  {
   "cell_type": "code",
   "execution_count": 27,
   "metadata": {},
   "outputs": [
    {
     "data": {
      "text/plain": [
       "2.0"
      ]
     },
     "execution_count": 27,
     "metadata": {},
     "output_type": "execute_result"
    }
   ],
   "source": [
    "# Binary cross entropy: It's used as a loss function\n",
    "H = -((1 * np.log2(0.25)) + (0 * np.log2(0.75)))\n",
    "H"
   ]
  },
  {
   "cell_type": "code",
   "execution_count": 28,
   "metadata": {},
   "outputs": [
    {
     "data": {
      "text/plain": [
       "tensor(75.)"
      ]
     },
     "execution_count": 28,
     "metadata": {},
     "output_type": "execute_result"
    }
   ],
   "source": [
    "# Using Pytorch\n",
    "import torch.nn.functional as F\n",
    "\n",
    "# Incorrect: q has to come before p\n",
    "F.binary_cross_entropy(torch.tensor(p), torch.tensor(q))"
   ]
  },
  {
   "cell_type": "code",
   "execution_count": 29,
   "metadata": {},
   "outputs": [
    {
     "data": {
      "text/plain": [
       "tensor(1.3863)"
      ]
     },
     "execution_count": 29,
     "metadata": {},
     "output_type": "execute_result"
    }
   ],
   "source": [
    "# Correct: q has to come before p\n",
    "H_py = F.binary_cross_entropy(torch.tensor(q), torch.tensor(p))\n",
    "H_py"
   ]
  },
  {
   "cell_type": "markdown",
   "metadata": {},
   "source": [
    "### Seeding"
   ]
  },
  {
   "cell_type": "code",
   "execution_count": 30,
   "metadata": {},
   "outputs": [
    {
     "name": "stdout",
     "output_type": "stream",
     "text": [
      "[-1.0856306   0.99734545  0.2829785  -1.50629471 -0.57860025]\n",
      "[ 1.65143654 -2.42667924 -0.42891263  1.26593626 -0.8667404 ]\n"
     ]
    }
   ],
   "source": [
    "# NumPy\n",
    "# Method 1\n",
    "np.random.seed(123)\n",
    "print(np.random.randn(5))\n",
    "print(np.random.randn(5))"
   ]
  },
  {
   "cell_type": "code",
   "execution_count": 31,
   "metadata": {},
   "outputs": [
    {
     "name": "stdout",
     "output_type": "stream",
     "text": [
      "[ 1.62434536 -0.61175641 -0.52817175 -1.07296862  0.86540763]\n",
      "[-0.41675785 -0.05626683 -2.1361961   1.64027081 -1.79343559]\n",
      "\n",
      "[-2.3015387   1.74481176 -0.7612069   0.3190391  -0.24937038]\n",
      "[-0.84174737  0.50288142 -1.24528809 -1.05795222 -0.90900761]\n"
     ]
    }
   ],
   "source": [
    "# Method 2\n",
    "rnd_seed_1 = np.random.RandomState(1)\n",
    "rnd_seed_2 = np.random.RandomState(2)\n",
    "\n",
    "print(rnd_seed_1.randn(5))\n",
    "print(rnd_seed_2.randn(5))\n",
    "print()\n",
    "print(rnd_seed_1.randn(5))\n",
    "print(rnd_seed_2.randn(5))"
   ]
  },
  {
   "cell_type": "code",
   "execution_count": 32,
   "metadata": {},
   "outputs": [
    {
     "data": {
      "text/plain": [
       "tensor([-0.1115,  0.1204, -0.3696, -0.2404, -1.1969])"
      ]
     },
     "execution_count": 32,
     "metadata": {},
     "output_type": "execute_result"
    }
   ],
   "source": [
    "# Pytorch\n",
    "torch.random.manual_seed(123)\n",
    "\n",
    "torch.randn(5)"
   ]
  },
  {
   "cell_type": "code",
   "execution_count": null,
   "metadata": {},
   "outputs": [],
   "source": []
  },
  {
   "cell_type": "code",
   "execution_count": null,
   "metadata": {},
   "outputs": [],
   "source": []
  },
  {
   "cell_type": "code",
   "execution_count": null,
   "metadata": {},
   "outputs": [],
   "source": []
  },
  {
   "cell_type": "code",
   "execution_count": null,
   "metadata": {},
   "outputs": [],
   "source": []
  },
  {
   "cell_type": "code",
   "execution_count": null,
   "metadata": {},
   "outputs": [],
   "source": []
  },
  {
   "cell_type": "code",
   "execution_count": null,
   "metadata": {},
   "outputs": [],
   "source": []
  },
  {
   "cell_type": "code",
   "execution_count": null,
   "metadata": {},
   "outputs": [],
   "source": []
  },
  {
   "cell_type": "code",
   "execution_count": null,
   "metadata": {},
   "outputs": [],
   "source": []
  },
  {
   "cell_type": "code",
   "execution_count": null,
   "metadata": {},
   "outputs": [],
   "source": []
  }
 ],
 "metadata": {
  "kernelspec": {
   "display_name": "torch_p310",
   "language": "python",
   "name": "python3"
  },
  "language_info": {
   "codemirror_mode": {
    "name": "ipython",
    "version": 3
   },
   "file_extension": ".py",
   "mimetype": "text/x-python",
   "name": "python",
   "nbconvert_exporter": "python",
   "pygments_lexer": "ipython3",
   "version": "3.10.10"
  },
  "orig_nbformat": 4
 },
 "nbformat": 4,
 "nbformat_minor": 2
}
