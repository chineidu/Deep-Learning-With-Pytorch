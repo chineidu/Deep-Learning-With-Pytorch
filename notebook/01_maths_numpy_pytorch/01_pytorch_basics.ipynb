{
 "cells": [
  {
   "attachments": {},
   "cell_type": "markdown",
   "metadata": {},
   "source": [
    "## Pytorch Basics"
   ]
  },
  {
   "cell_type": "code",
   "execution_count": 1,
   "metadata": {},
   "outputs": [],
   "source": [
    "# Built-in library\n",
    "from typing import Any, Optional, Sequence, Union\n",
    "\n",
    "# Standard imports\n",
    "import numpy as np\n",
    "import torch\n",
    "import pandas as pd\n",
    "import matplotlib.pyplot as plt\n",
    "\n",
    "\n",
    "# pandas settings\n",
    "pd.options.display.max_rows = 1_000\n",
    "pd.options.display.max_columns = 1_000\n",
    "pd.options.display.max_colwidth = 2_000\n",
    "\n",
    "# Black code formatter (Optional)\n",
    "%load_ext lab_black\n",
    "# auto reload imports\n",
    "%load_ext autoreload\n",
    "%autoreload 2"
   ]
  },
  {
   "cell_type": "markdown",
   "metadata": {},
   "source": [
    "### Create A Vector (1-D)"
   ]
  },
  {
   "cell_type": "code",
   "execution_count": 2,
   "metadata": {},
   "outputs": [
    {
     "data": {
      "text/plain": [
       "array([2, 4, 6])"
      ]
     },
     "execution_count": 2,
     "metadata": {},
     "output_type": "execute_result"
    }
   ],
   "source": [
    "# Using NumPy\n",
    "np_arr = np.array([2, 4, 6])\n",
    "np_arr"
   ]
  },
  {
   "cell_type": "code",
   "execution_count": 3,
   "metadata": {},
   "outputs": [
    {
     "data": {
      "text/plain": [
       "tensor([2, 4, 6])"
      ]
     },
     "execution_count": 3,
     "metadata": {},
     "output_type": "execute_result"
    }
   ],
   "source": [
    "# Using Pytorch\n",
    "py_arr = torch.tensor([2, 4, 6])\n",
    "py_arr"
   ]
  },
  {
   "cell_type": "markdown",
   "metadata": {},
   "source": [
    "### Create Matrixes"
   ]
  },
  {
   "cell_type": "code",
   "execution_count": 4,
   "metadata": {},
   "outputs": [
    {
     "data": {
      "text/plain": [
       "array([[ 2,  3,  4],\n",
       "       [10, 12, 14]])"
      ]
     },
     "execution_count": 4,
     "metadata": {},
     "output_type": "execute_result"
    }
   ],
   "source": [
    "np_arr1 = np.array([[2, 3, 4], [10, 12, 14]])\n",
    "np_arr1"
   ]
  },
  {
   "cell_type": "code",
   "execution_count": 5,
   "metadata": {},
   "outputs": [
    {
     "data": {
      "text/plain": [
       "tensor([[ 2,  3,  4],\n",
       "        [10, 12, 14]])"
      ]
     },
     "execution_count": 5,
     "metadata": {},
     "output_type": "execute_result"
    }
   ],
   "source": [
    "py_arr1 = torch.tensor([[2, 3, 4], [10, 12, 14]])\n",
    "py_arr1"
   ]
  },
  {
   "cell_type": "code",
   "execution_count": 6,
   "metadata": {},
   "outputs": [
    {
     "data": {
      "text/plain": [
       "array([[ 2, 10],\n",
       "       [ 3, 12],\n",
       "       [ 4, 14]])"
      ]
     },
     "execution_count": 6,
     "metadata": {},
     "output_type": "execute_result"
    }
   ],
   "source": [
    "np_arr1.T"
   ]
  },
  {
   "cell_type": "code",
   "execution_count": 7,
   "metadata": {},
   "outputs": [
    {
     "data": {
      "text/plain": [
       "tensor([[ 2, 10],\n",
       "        [ 3, 12],\n",
       "        [ 4, 14]])"
      ]
     },
     "execution_count": 7,
     "metadata": {},
     "output_type": "execute_result"
    }
   ],
   "source": [
    "py_arr1.T"
   ]
  },
  {
   "cell_type": "code",
   "execution_count": 8,
   "metadata": {},
   "outputs": [
    {
     "data": {
      "text/plain": [
       "(numpy.ndarray, torch.Tensor)"
      ]
     },
     "execution_count": 8,
     "metadata": {},
     "output_type": "execute_result"
    }
   ],
   "source": [
    "type(np_arr1), type(py_arr1)"
   ]
  },
  {
   "cell_type": "markdown",
   "metadata": {},
   "source": [
    "### Dot Product"
   ]
  },
  {
   "cell_type": "code",
   "execution_count": 9,
   "metadata": {},
   "outputs": [
    {
     "name": "stdout",
     "output_type": "stream",
     "text": [
      "-2\n"
     ]
    },
    {
     "data": {
      "text/plain": [
       "-2"
      ]
     },
     "execution_count": 9,
     "metadata": {},
     "output_type": "execute_result"
    }
   ],
   "source": [
    "# Using NumPy\n",
    "np_arr, np_arr1 = np.array([1, 2, 3, 4]), np.array([0, 1, 0, -1])\n",
    "\n",
    "print(np.dot(np_arr, np_arr1))\n",
    "\n",
    "# Using vanilla Python and NumPy\n",
    "np.sum(np_arr * np_arr1)"
   ]
  },
  {
   "cell_type": "code",
   "execution_count": 10,
   "metadata": {},
   "outputs": [
    {
     "name": "stdout",
     "output_type": "stream",
     "text": [
      "tensor(-2)\n"
     ]
    },
    {
     "data": {
      "text/plain": [
       "tensor(-2)"
      ]
     },
     "execution_count": 10,
     "metadata": {},
     "output_type": "execute_result"
    }
   ],
   "source": [
    "# Using Pytorch\n",
    "py_arr, py_arr1 = torch.tensor([1, 2, 3, 4]), torch.tensor([0, 1, 0, -1])\n",
    "print(torch.dot(py_arr, py_arr1))\n",
    "\n",
    "# Using vanilla Python and Pytorch\n",
    "torch.sum(py_arr * py_arr1)"
   ]
  },
  {
   "cell_type": "markdown",
   "metadata": {},
   "source": [
    "### Matrix Multiplication"
   ]
  },
  {
   "cell_type": "code",
   "execution_count": 11,
   "metadata": {},
   "outputs": [
    {
     "data": {
      "text/plain": [
       "((2, 3), (3, 2), (3, 3))"
      ]
     },
     "execution_count": 11,
     "metadata": {},
     "output_type": "execute_result"
    }
   ],
   "source": [
    "# Using NumPy\n",
    "np_arr, np_arr1 = (\n",
    "    np.array([[2, 3, 4], [7, 8, 9]]),\n",
    "    np.array([[2, 45], [7, 11], [-1, 1]]),\n",
    ")\n",
    "np_arr2 = np.array([[19, 3, 34], [-2, 7, 11], [-3, 3, 0]])\n",
    "\n",
    "np_arr.shape, np_arr1.shape, np_arr2.shape"
   ]
  },
  {
   "cell_type": "code",
   "execution_count": 12,
   "metadata": {},
   "outputs": [
    {
     "name": "stdout",
     "output_type": "stream",
     "text": [
      "[[ 21 127]\n",
      " [ 61 412]]\n",
      "[[ 21 127]\n",
      " [ 61 412]]\n"
     ]
    },
    {
     "data": {
      "text/plain": [
       "array([[  27,   52,  145],\n",
       "       [ 830,  215, 1651]])"
      ]
     },
     "execution_count": 12,
     "metadata": {},
     "output_type": "execute_result"
    }
   ],
   "source": [
    "# Using the method\n",
    "print(np.matmul(np_arr, np_arr1))\n",
    "\n",
    "# Using another notation\n",
    "print(np_arr @ np_arr1)\n",
    "\n",
    "np.matmul(np_arr1.T, np_arr2)"
   ]
  },
  {
   "cell_type": "code",
   "execution_count": 13,
   "metadata": {},
   "outputs": [
    {
     "data": {
      "text/plain": [
       "(torch.Size([2, 3]), torch.Size([3, 2]), torch.Size([3, 3]))"
      ]
     },
     "execution_count": 13,
     "metadata": {},
     "output_type": "execute_result"
    }
   ],
   "source": [
    "# Using Pytorch\n",
    "# Using NumPy\n",
    "py_arr, py_arr1 = (\n",
    "    torch.tensor([[2, 3, 4], [7, 8, 9]]),\n",
    "    torch.tensor([[2, 45], [7, 11], [-1, 1]]),\n",
    ")\n",
    "py_arr2 = torch.tensor([[19, 3, 34], [-2, 7, 11], [-3, 3, 0]])\n",
    "\n",
    "py_arr.shape, py_arr1.shape, py_arr2.shape"
   ]
  },
  {
   "cell_type": "code",
   "execution_count": 14,
   "metadata": {},
   "outputs": [
    {
     "name": "stdout",
     "output_type": "stream",
     "text": [
      "tensor([[ 21, 127],\n",
      "        [ 61, 412]])\n",
      "tensor([[ 21, 127],\n",
      "        [ 61, 412]])\n"
     ]
    },
    {
     "data": {
      "text/plain": [
       "tensor([[  27,   52,  145],\n",
       "        [ 830,  215, 1651]])"
      ]
     },
     "execution_count": 14,
     "metadata": {},
     "output_type": "execute_result"
    }
   ],
   "source": [
    "# Using the method\n",
    "print(torch.matmul(py_arr, py_arr1))\n",
    "\n",
    "# Using another notation\n",
    "print(py_arr @ py_arr1)\n",
    "\n",
    "np.matmul(py_arr1.T, py_arr2)"
   ]
  },
  {
   "attachments": {},
   "cell_type": "markdown",
   "metadata": {},
   "source": [
    "### Softmax\n",
    "\n",
    "$$ \\sigma_{i} = \\frac{e^{z_i}}{\\sum{e^{z_i}}} $$"
   ]
  },
  {
   "cell_type": "code",
   "execution_count": 15,
   "metadata": {},
   "outputs": [],
   "source": [
    "import torch.nn as nn"
   ]
  },
  {
   "cell_type": "code",
   "execution_count": 16,
   "metadata": {},
   "outputs": [
    {
     "data": {
      "text/plain": [
       "(array([0.09003057, 0.24472847, 0.66524096]), 1.0)"
      ]
     },
     "execution_count": 16,
     "metadata": {},
     "output_type": "execute_result"
    }
   ],
   "source": [
    "# Compute sofmax manually in NumPy\n",
    "z = [1, 2, 3]\n",
    "\n",
    "numerator = np.exp(z)\n",
    "denominator = np.sum(np.exp(z))\n",
    "\n",
    "softmax = numerator / denominator\n",
    "softmax, np.sum(softmax)"
   ]
  },
  {
   "cell_type": "code",
   "execution_count": 17,
   "metadata": {},
   "outputs": [
    {
     "name": "stdout",
     "output_type": "stream",
     "text": [
      "[ 9  4 11 -1  9 13  5  6 14  9  5 -3 -3 -2 -1  4  1 -1  3 -4  5  4  2 -2\n",
      " 12]\n"
     ]
    },
    {
     "data": {
      "text/plain": [
       "(array([4.28055145e-03, 2.88421288e-05, 3.16292348e-02, 1.94336735e-07,\n",
       "        4.28055145e-03, 2.33710190e-01, 7.84010346e-05, 2.13116108e-04,\n",
       "        6.35290163e-01, 4.28055145e-03, 7.84010346e-05, 2.63006171e-08,\n",
       "        2.63006171e-08, 7.14924895e-08, 1.94336735e-07, 2.88421288e-05,\n",
       "        1.43596504e-06, 1.94336735e-07, 1.06104262e-05, 9.67545631e-09,\n",
       "        7.84010346e-05, 2.88421288e-05, 3.90335767e-06, 7.14924895e-08,\n",
       "        8.59771741e-02]),\n",
       " 1.0)"
      ]
     },
     "execution_count": 17,
     "metadata": {},
     "output_type": "execute_result"
    }
   ],
   "source": [
    "# Repeat with some random numbers\n",
    "z = np.random.randint(low=-5, high=15, size=25)\n",
    "print(z)\n",
    "\n",
    "# Compute the softmax\n",
    "numerator = np.exp(z)\n",
    "denominator = np.sum(np.exp(z))\n",
    "\n",
    "softmax = numerator / denominator\n",
    "softmax, np.sum(softmax)"
   ]
  },
  {
   "cell_type": "code",
   "execution_count": 18,
   "metadata": {},
   "outputs": [
    {
     "data": {
      "image/png": "[encoded data removed]",
      "text/plain": [
       "<Figure size 640x480 with 1 Axes>"
      ]
     },
     "metadata": {},
     "output_type": "display_data"
    }
   ],
   "source": [
    "# Visualize\n",
    "plt.plot(z, softmax, \"ko\")\n",
    "plt.xlabel(\"Input\")\n",
    "plt.ylabel(\"Softmax Output $\\sigma$\")\n",
    "plt.title(f\"$\\sum\\sigma$ = {np.sum(softmax)}\")\n",
    "plt.show()"
   ]
  },
  {
   "cell_type": "code",
   "execution_count": 19,
   "metadata": {},
   "outputs": [
    {
     "data": {
      "image/png": "[encoded data removed]",
      "text/plain": [
       "<Figure size 640x480 with 1 Axes>"
      ]
     },
     "metadata": {},
     "output_type": "display_data"
    }
   ],
   "source": [
    "# Visualize\n",
    "plt.plot(z, softmax, \"ko\")\n",
    "plt.xlabel(\"Input\")\n",
    "plt.ylabel(\"Softmax Output $\\sigma$\")\n",
    "plt.yscale(\"log\")\n",
    "plt.title(f\"$\\sum\\sigma$ = {np.sum(softmax)} (Log Scale)\")\n",
    "plt.show()"
   ]
  },
  {
   "cell_type": "markdown",
   "metadata": {},
   "source": [
    "### Softmax Using Pytorch"
   ]
  },
  {
   "cell_type": "code",
   "execution_count": 20,
   "metadata": {},
   "outputs": [
    {
     "name": "stdout",
     "output_type": "stream",
     "text": [
      "tensor([0.0900, 0.2447, 0.6652])\n"
     ]
    }
   ],
   "source": [
    "z = [1, 2, 3]\n",
    "softmax_result = nn.Softmax(dim=0)\n",
    "sigma_pytorch = softmax_result(torch.Tensor(z))\n",
    "print(sigma_pytorch)"
   ]
  },
  {
   "cell_type": "code",
   "execution_count": 21,
   "metadata": {},
   "outputs": [
    {
     "data": {
      "text/plain": [
       "(tensor([1, 2, 3]), tensor([1., 2., 3.]))"
      ]
     },
     "execution_count": 21,
     "metadata": {},
     "output_type": "execute_result"
    }
   ],
   "source": [
    "torch.tensor([1, 2, 3]), torch.Tensor([1, 2, 3]),"
   ]
  },
  {
   "cell_type": "code",
   "execution_count": 22,
   "metadata": {},
   "outputs": [
    {
     "data": {
      "text/plain": [
       "tensor([0.0900, 0.2447, 0.6652], dtype=torch.float64)"
      ]
     },
     "execution_count": 22,
     "metadata": {},
     "output_type": "execute_result"
    }
   ],
   "source": [
    "nn.Softmax(dim=0)(torch.tensor(z, dtype=float))"
   ]
  },
  {
   "attachments": {},
   "cell_type": "markdown",
   "metadata": {},
   "source": [
    "### Entropy (H)\n",
    "\n",
    "```\n",
    "- it has the highest value (1.0) at p(x) = 0.5\n",
    "- high value of entropy means a lot of variability while low entropy means that most of the values in the dataset repeat.\n",
    "- The formula of entropy as a negative value because the log of values between 0 and 1 is negative. i.e -ve x -ve = +ve\n",
    "```\n",
    "\n",
    "$$H = - \\sum^n_{i = 1}{p(x_i)log_2(p(x_i))}$$\n",
    "\n",
    "<br>"
   ]
  },
  {
   "cell_type": "code",
   "execution_count": 23,
   "metadata": {},
   "outputs": [
    {
     "data": {
      "text/plain": [
       "0.5"
      ]
     },
     "execution_count": 23,
     "metadata": {},
     "output_type": "execute_result"
    }
   ],
   "source": [
    "# Wrong computation of entropy\n",
    "p = 0.25  # prob of an event happening\n",
    "\n",
    "H = -(p * np.log2(p))\n",
    "H"
   ]
  },
  {
   "cell_type": "code",
   "execution_count": 24,
   "metadata": {},
   "outputs": [
    {
     "data": {
      "text/plain": [
       "0.8112781244591328"
      ]
     },
     "execution_count": 24,
     "metadata": {},
     "output_type": "execute_result"
    }
   ],
   "source": [
    "# The correct computation of entropy\n",
    "p = [0.25, 0.75]  # prob of event happening and NOT happening.\n",
    "H = -(np.sum(p * np.log2(p)))\n",
    "H"
   ]
  },
  {
   "cell_type": "code",
   "execution_count": 25,
   "metadata": {},
   "outputs": [
    {
     "data": {
      "text/plain": [
       "0.8112781244591328"
      ]
     },
     "execution_count": 25,
     "metadata": {},
     "output_type": "execute_result"
    }
   ],
   "source": [
    "# OR\n",
    "# Binary Cross entropy\n",
    "H = -((0.25 * np.log2(0.25)) + (0.75 * np.log2(0.75)))\n",
    "H"
   ]
  },
  {
   "attachments": {},
   "cell_type": "markdown",
   "metadata": {},
   "source": [
    "### Cross Entropy\n",
    "\n",
    "```\n",
    "- It describes the relationship between two probability distributions.\n",
    "- In DL, it's used to evaluate the model.\n",
    "```\n",
    "\n",
    "$$H(p, q) = - \\sum^n_{i = 1}{p(x_i)log_2(q(x_i))}$$"
   ]
  },
  {
   "cell_type": "code",
   "execution_count": 26,
   "metadata": {},
   "outputs": [
    {
     "data": {
      "text/plain": [
       "2.0"
      ]
     },
     "execution_count": 26,
     "metadata": {},
     "output_type": "execute_result"
    }
   ],
   "source": [
    "# Cross entropy\n",
    "p = [1, 0.0]  # sum=1.0 i.e prob that an image is a dog and NOT a dog\n",
    "q = [0.25, 0.75]  # sum=1.0 i.e prob that the model thinks image is a dog and NOT a dog\n",
    "\n",
    "H = -(np.sum(p * np.log2(q)))\n",
    "H"
   ]
  },
  {
   "cell_type": "code",
   "execution_count": 27,
   "metadata": {},
   "outputs": [
    {
     "data": {
      "text/plain": [
       "2.0"
      ]
     },
     "execution_count": 27,
     "metadata": {},
     "output_type": "execute_result"
    }
   ],
   "source": [
    "# Binary cross entropy: It's used as a loss function\n",
    "H = -((1 * np.log2(0.25)) + (0 * np.log2(0.75)))\n",
    "H"
   ]
  },
  {
   "cell_type": "code",
   "execution_count": 28,
   "metadata": {},
   "outputs": [
    {
     "data": {
      "text/plain": [
       "tensor(75.)"
      ]
     },
     "execution_count": 28,
     "metadata": {},
     "output_type": "execute_result"
    }
   ],
   "source": [
    "# Using Pytorch\n",
    "import torch.nn.functional as F\n",
    "\n",
    "# Incorrect: q has to come before p\n",
    "F.binary_cross_entropy(torch.tensor(p), torch.tensor(q))"
   ]
  },
  {
   "cell_type": "code",
   "execution_count": 29,
   "metadata": {},
   "outputs": [
    {
     "data": {
      "text/plain": [
       "tensor(1.3863)"
      ]
     },
     "execution_count": 29,
     "metadata": {},
     "output_type": "execute_result"
    }
   ],
   "source": [
    "# Correct: q has to come before p\n",
    "H_py = F.binary_cross_entropy(torch.tensor(q), torch.tensor(p))\n",
    "H_py"
   ]
  },
  {
   "cell_type": "markdown",
   "metadata": {},
   "source": [
    "### Seeding"
   ]
  },
  {
   "cell_type": "code",
   "execution_count": 30,
   "metadata": {},
   "outputs": [
    {
     "name": "stdout",
     "output_type": "stream",
     "text": [
      "[-1.0856306   0.99734545  0.2829785  -1.50629471 -0.57860025]\n",
      "[ 1.65143654 -2.42667924 -0.42891263  1.26593626 -0.8667404 ]\n"
     ]
    }
   ],
   "source": [
    "# NumPy\n",
    "# Method 1\n",
    "np.random.seed(123)\n",
    "print(np.random.randn(5))\n",
    "print(np.random.randn(5))"
   ]
  },
  {
   "cell_type": "code",
   "execution_count": 31,
   "metadata": {},
   "outputs": [
    {
     "name": "stdout",
     "output_type": "stream",
     "text": [
      "[ 1.62434536 -0.61175641 -0.52817175 -1.07296862  0.86540763]\n",
      "[-0.41675785 -0.05626683 -2.1361961   1.64027081 -1.79343559]\n",
      "\n",
      "[-2.3015387   1.74481176 -0.7612069   0.3190391  -0.24937038]\n",
      "[-0.84174737  0.50288142 -1.24528809 -1.05795222 -0.90900761]\n"
     ]
    }
   ],
   "source": [
    "# Method 2\n",
    "rnd_seed_1 = np.random.RandomState(1)\n",
    "rnd_seed_2 = np.random.RandomState(2)\n",
    "\n",
    "print(rnd_seed_1.randn(5))\n",
    "print(rnd_seed_2.randn(5))\n",
    "print()\n",
    "print(rnd_seed_1.randn(5))\n",
    "print(rnd_seed_2.randn(5))"
   ]
  },
  {
   "cell_type": "code",
   "execution_count": 32,
   "metadata": {},
   "outputs": [
    {
     "data": {
      "text/plain": [
       "tensor([-0.1115,  0.1204, -0.3696, -0.2404, -1.1969])"
      ]
     },
     "execution_count": 32,
     "metadata": {},
     "output_type": "execute_result"
    }
   ],
   "source": [
    "# Pytorch\n",
    "torch.random.manual_seed(123)\n",
    "\n",
    "torch.randn(5)"
   ]
  },
  {
   "attachments": {},
   "cell_type": "markdown",
   "metadata": {},
   "source": [
    "### T Test\n",
    "\n",
    "```\n",
    "- It's used to determine whether data drawn from one distribution is significantly different from data drawn from another distribution.\n",
    "```\n",
    "\n",
    "$$t_k = \\frac{\\bar{x} - \\bar{y}}{\\frac{s}{\\sqrt{n}}}$$"
   ]
  },
  {
   "cell_type": "code",
   "execution_count": 33,
   "metadata": {},
   "outputs": [],
   "source": [
    "import scipy.stats as stats\n",
    "\n",
    "# Number of samples\n",
    "n_1, n_2 = 30, 40\n",
    "# Population means\n",
    "mu_1, mu_2 = 1, 2\n",
    "\n",
    "# Generate data\n",
    "data_1 = mu_1 + np.random.randn(n_1)\n",
    "data_2 = mu_2 + np.random.randn(n_2)"
   ]
  },
  {
   "cell_type": "code",
   "execution_count": 34,
   "metadata": {},
   "outputs": [
    {
     "data": {
      "text/plain": [
       "array([0., 0., 0., 0., 0., 0., 0., 0., 0., 0., 0., 0., 0., 0., 0., 0., 0.,\n",
       "       0., 0., 0., 0., 0., 0., 0., 0., 0., 0., 0., 0., 0.])"
      ]
     },
     "execution_count": 34,
     "metadata": {},
     "output_type": "execute_result"
    }
   ],
   "source": [
    "np.zeros(n_1)"
   ]
  },
  {
   "cell_type": "code",
   "execution_count": 35,
   "metadata": {},
   "outputs": [
    {
     "data": {
      "image/png": "[encoded data removed]",
      "text/plain": [
       "<Figure size 800x600 with 1 Axes>"
      ]
     },
     "metadata": {},
     "output_type": "display_data"
    }
   ],
   "source": [
    "# Visualize\n",
    "plt.figure(figsize=(8, 6))\n",
    "\n",
    "plt.plot(np.zeros(n_1), data_1, \"ro\", mfc=\"w\", ms=14)\n",
    "plt.plot(np.ones(n_2), data_2, \"bs\", mfc=\"w\", ms=14)\n",
    "plt.xlim([-1, 2])\n",
    "plt.xticks(ticks=[0, 1], labels=[\"Group 1 (0)\", \"Group 2 (1)\"])\n",
    "plt.show()"
   ]
  },
  {
   "cell_type": "code",
   "execution_count": 36,
   "metadata": {},
   "outputs": [
    {
     "data": {
      "text/plain": [
       "(-4.117797280825477, 0.00010582025990984099)"
      ]
     },
     "execution_count": 36,
     "metadata": {},
     "output_type": "execute_result"
    }
   ],
   "source": [
    "# Calculate t-test\n",
    "# Independent variable: Calculate the T-test for the means of *two independent* samples of scores.\n",
    "t_value, p_value = stats.ttest_ind(data_1, data_2)\n",
    "t_value, p_value"
   ]
  },
  {
   "attachments": {},
   "cell_type": "markdown",
   "metadata": {},
   "source": [
    "#### Comment(s)\n",
    "\n",
    "```\n",
    "- Group 2 has a larger mean compared to group 1. i.e the means are statistically different.\n",
    "- For the p value to be statistically different, the pvalue should be less than 0.05.\n",
    "```"
   ]
  },
  {
   "cell_type": "code",
   "execution_count": null,
   "metadata": {},
   "outputs": [],
   "source": []
  },
  {
   "attachments": {},
   "cell_type": "markdown",
   "metadata": {},
   "source": [
    "### Derivatives\n",
    "\n",
    "```\n",
    "- This is the slope of the function at each point.\n",
    "- Derivatives point in the direction of increases and decreases in a mathematical function.\n",
    "- In DL, the task (classification, regression, etc) is represented as an error function and the best solution is the point with the smallest error.\n",
    "- The derivative tells us the direction to 'move' in that error landscape in order to find the optimal solution.\n",
    "```"
   ]
  },
  {
   "cell_type": "code",
   "execution_count": 37,
   "metadata": {},
   "outputs": [],
   "source": [
    "import sympy as sym  # Symbolic Python\n",
    "import sympy.plotting.plot as symplot\n",
    "\n",
    "# make the equations look nicer\n",
    "from IPython.display import display"
   ]
  },
  {
   "cell_type": "code",
   "execution_count": 38,
   "metadata": {},
   "outputs": [],
   "source": [
    "# Create symbolic variables\n",
    "x = sym.symbols(\"x\")\n",
    "\n",
    "# Create functions\n",
    "fx = 2 * x**2\n",
    "gx = 4 + (x**3) - (3 * x**4)"
   ]
  },
  {
   "cell_type": "code",
   "execution_count": 39,
   "metadata": {},
   "outputs": [
    {
     "name": "stdout",
     "output_type": "stream",
     "text": [
      "fx:\n"
     ]
    },
    {
     "data": {
      "text/latex": [
       "$\\displaystyle 2 x^{2}$"
      ],
      "text/plain": [
       "2*x**2"
      ]
     },
     "metadata": {},
     "output_type": "display_data"
    },
    {
     "name": "stdout",
     "output_type": "stream",
     "text": [
      "\n",
      "gx:\n"
     ]
    },
    {
     "data": {
      "text/latex": [
       "$\\displaystyle - 3 x^{4} + x^{3} + 4$"
      ],
      "text/plain": [
       "-3*x**4 + x**3 + 4"
      ]
     },
     "metadata": {},
     "output_type": "display_data"
    }
   ],
   "source": [
    "print(\"fx:\")\n",
    "display(fx)\n",
    "print()\n",
    "print(\"gx:\")\n",
    "display(gx)"
   ]
  },
  {
   "cell_type": "code",
   "execution_count": 40,
   "metadata": {},
   "outputs": [
    {
     "data": {
      "text/latex": [
       "$\\displaystyle 4 x$"
      ],
      "text/plain": [
       "4*x"
      ]
     },
     "metadata": {},
     "output_type": "display_data"
    },
    {
     "data": {
      "text/latex": [
       "$\\displaystyle - 12 x^{3} + 3 x^{2}$"
      ],
      "text/plain": [
       "-12*x**3 + 3*x**2"
      ]
     },
     "metadata": {},
     "output_type": "display_data"
    }
   ],
   "source": [
    "# Compute the individual derivatives\n",
    "df = sym.diff(fx)\n",
    "dg = sym.diff(gx)\n",
    "\n",
    "\n",
    "display(df)\n",
    "display(dg)"
   ]
  },
  {
   "cell_type": "code",
   "execution_count": 41,
   "metadata": {},
   "outputs": [
    {
     "data": {
      "image/png": "[encoded data removed]",
      "text/plain": [
       "<Figure size 640x480 with 1 Axes>"
      ]
     },
     "metadata": {},
     "output_type": "display_data"
    },
    {
     "data": {
      "image/png": "[encoded data removed]",
      "text/plain": [
       "<Figure size 640x480 with 1 Axes>"
      ]
     },
     "metadata": {},
     "output_type": "display_data"
    }
   ],
   "source": [
    "# plot them\n",
    "symplot(fx, (x, -4, 4), title=\"The function: f(x)\")\n",
    "plt.show()\n",
    "\n",
    "symplot(df, (x, -4, 4), title=\"Its derivative: $\\\\frac{df}{dx}$\")\n",
    "plt.show()"
   ]
  },
  {
   "cell_type": "code",
   "execution_count": 42,
   "metadata": {},
   "outputs": [
    {
     "data": {
      "text/latex": [
       "$\\displaystyle \\max\\left(0, x\\right)$"
      ],
      "text/plain": [
       "Max(0, x)"
      ]
     },
     "metadata": {},
     "output_type": "display_data"
    },
    {
     "data": {
      "text/latex": [
       "$\\displaystyle \\frac{1}{1 + e^{- x}}$"
      ],
      "text/plain": [
       "1/(1 + exp(-x))"
      ]
     },
     "metadata": {},
     "output_type": "display_data"
    }
   ],
   "source": [
    "# ReLU and Sigmoid Functions\n",
    "relu = sym.Max(0, x)\n",
    "sigmoid = 1 / (1 + sym.exp(-x))\n",
    "\n",
    "display(relu)\n",
    "display(sigmoid)"
   ]
  },
  {
   "cell_type": "code",
   "execution_count": 43,
   "metadata": {},
   "outputs": [
    {
     "data": {
      "image/png": "[encoded data removed]",
      "text/plain": [
       "<Figure size 640x480 with 1 Axes>"
      ]
     },
     "metadata": {},
     "output_type": "display_data"
    }
   ],
   "source": [
    "# Visualize the functions\n",
    "# source: udemy.com/course/deeplearning_x/?couponCode=202303\n",
    "p = symplot(relu, (x, -4, 4), label=\"ReLU\", show=False, line_color=\"blue\")\n",
    "p.extend(symplot(sigmoid, (x, -4, 4), label=\"Sigmoid\", show=False, line_color=\"red\"))\n",
    "p.legend = True\n",
    "p.title = \"The functions\"\n",
    "p.show()"
   ]
  },
  {
   "cell_type": "code",
   "execution_count": 44,
   "metadata": {},
   "outputs": [
    {
     "data": {
      "image/png": "[encoded data removed]",
      "text/plain": [
       "<Figure size 640x480 with 1 Axes>"
      ]
     },
     "metadata": {},
     "output_type": "display_data"
    }
   ],
   "source": [
    "# Visualize the derivatives\n",
    "# source: udemy.com/course/deeplearning_x/?couponCode=202303\n",
    "p = symplot(\n",
    "    sym.diff(relu),\n",
    "    (x, -4, 4),\n",
    "    label=\"$\\\\frac{df(ReLU)}{dx}$\",\n",
    "    show=False,\n",
    "    line_color=\"blue\",\n",
    ")\n",
    "p.extend(\n",
    "    symplot(\n",
    "        sym.diff(sigmoid),\n",
    "        (x, -4, 4),\n",
    "        label=\"$\\\\frac{df(Sigmoid)}{dx}$\",\n",
    "        show=False,\n",
    "        line_color=\"red\",\n",
    "    )\n",
    ")\n",
    "p.legend = True\n",
    "p.title = \"The derivatives\"\n",
    "p.show()"
   ]
  },
  {
   "cell_type": "code",
   "execution_count": null,
   "metadata": {},
   "outputs": [],
   "source": []
  },
  {
   "attachments": {},
   "cell_type": "markdown",
   "metadata": {},
   "source": [
    "#### Product Rule\n",
    "\n",
    "if $$ y = uv $$ then:\n",
    "\n",
    "$$ \\frac{dy}{dx} = u \\frac{dv}{dx} + v \\frac{du}{dx}$$"
   ]
  },
  {
   "cell_type": "code",
   "execution_count": 45,
   "metadata": {},
   "outputs": [
    {
     "data": {
      "text/latex": [
       "$\\displaystyle 2 x^{2} \\left(- 12 x^{3} + 3 x^{2}\\right) + 4 x \\left(- 3 x^{4} + x^{3} + 4\\right)$"
      ],
      "text/plain": [
       "2*x**2*(-12*x**3 + 3*x**2) + 4*x*(-3*x**4 + x**3 + 4)"
      ]
     },
     "execution_count": 45,
     "metadata": {},
     "output_type": "execute_result"
    }
   ],
   "source": [
    "# Apply product rule manually\n",
    "# y = fx.gx; y' = fx.dg + gx.df\n",
    "\n",
    "manual_diff = (fx * dg) + (gx * df)\n",
    "manual_diff"
   ]
  },
  {
   "cell_type": "code",
   "execution_count": 46,
   "metadata": {},
   "outputs": [
    {
     "data": {
      "text/latex": [
       "$\\displaystyle 2 x^{2} \\left(- 12 x^{3} + 3 x^{2}\\right) + 4 x \\left(- 3 x^{4} + x^{3} + 4\\right)$"
      ],
      "text/plain": [
       "2*x**2*(-12*x**3 + 3*x**2) + 4*x*(-3*x**4 + x**3 + 4)"
      ]
     },
     "execution_count": 46,
     "metadata": {},
     "output_type": "execute_result"
    }
   ],
   "source": [
    "via_sympy = sym.diff(fx * gx)\n",
    "via_sympy"
   ]
  },
  {
   "attachments": {},
   "cell_type": "markdown",
   "metadata": {},
   "source": [
    "#### Chain Rule\n",
    "\n",
    "if $$ y = f(u) $$ and $$ u = g(x) $$ then:\n",
    "\n",
    "$$ \\frac{dy}{dx} = \\frac{dy}{du} . \\frac{du}{dx}$$\n",
    "\n",
    "<hr><br>\n",
    "\n",
    "```\n",
    "e.g.\n",
    "```\n",
    "\n",
    "$$ gx = x^2 + 4x^3 $$\n",
    "$$ fx = (gx)^5 $$"
   ]
  },
  {
   "cell_type": "code",
   "execution_count": 47,
   "metadata": {},
   "outputs": [
    {
     "data": {
      "text/latex": [
       "$\\displaystyle 4 x^{3} + x^{2}$"
      ],
      "text/plain": [
       "4*x**3 + x**2"
      ]
     },
     "metadata": {},
     "output_type": "display_data"
    },
    {
     "data": {
      "text/latex": [
       "$\\displaystyle \\left(4 x^{3} + x^{2}\\right)^{5}$"
      ],
      "text/plain": [
       "(4*x**3 + x**2)**5"
      ]
     },
     "metadata": {},
     "output_type": "display_data"
    }
   ],
   "source": [
    "gx = x**2 + (4 * x**3)\n",
    "fx = (gx) ** 5\n",
    "\n",
    "display(gx)\n",
    "display(fx)"
   ]
  },
  {
   "cell_type": "code",
   "execution_count": 48,
   "metadata": {},
   "outputs": [
    {
     "data": {
      "text/latex": [
       "$\\displaystyle \\left(60 x^{2} + 10 x\\right) \\left(4 x^{3} + x^{2}\\right)^{4}$"
      ],
      "text/plain": [
       "(60*x**2 + 10*x)*(4*x**3 + x**2)**4"
      ]
     },
     "execution_count": 48,
     "metadata": {},
     "output_type": "execute_result"
    }
   ],
   "source": [
    "# Compute the derivative\n",
    "via_sympy = sym.diff(fx)\n",
    "via_sympy"
   ]
  },
  {
   "cell_type": "code",
   "execution_count": 49,
   "metadata": {},
   "outputs": [
    {
     "data": {
      "image/png": "[encoded data removed]",
      "text/plain": [
       "<Figure size 640x480 with 1 Axes>"
      ]
     },
     "metadata": {},
     "output_type": "display_data"
    },
    {
     "data": {
      "image/png": "[encoded data removed]",
      "text/plain": [
       "<Figure size 640x480 with 1 Axes>"
      ]
     },
     "metadata": {},
     "output_type": "display_data"
    }
   ],
   "source": [
    "import sympy.plotting.plot as symplot\n",
    "\n",
    "# plot them\n",
    "symplot(fx, (x, -4, 4), title=\"The function\")\n",
    "plt.show()\n",
    "\n",
    "symplot(df, (x, -4, 4), title=\"Its derivative\")\n",
    "plt.show()"
   ]
  },
  {
   "cell_type": "code",
   "execution_count": null,
   "metadata": {},
   "outputs": [],
   "source": []
  },
  {
   "cell_type": "code",
   "execution_count": null,
   "metadata": {},
   "outputs": [],
   "source": []
  }
 ],
 "metadata": {
  "kernelspec": {
   "display_name": "torch_p310",
   "language": "python",
   "name": "python3"
  },
  "language_info": {
   "codemirror_mode": {
    "name": "ipython",
    "version": 3
   },
   "file_extension": ".py",
   "mimetype": "text/x-python",
   "name": "python",
   "nbconvert_exporter": "python",
   "pygments_lexer": "ipython3",
   "version": "3.10.10"
  },
  "orig_nbformat": 4
 },
 "nbformat": 4,
 "nbformat_minor": 2
}
