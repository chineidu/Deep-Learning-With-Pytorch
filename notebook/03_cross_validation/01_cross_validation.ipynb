{
 "cells": [
  {
   "attachments": {},
   "cell_type": "markdown",
   "metadata": {},
   "source": [
    "# Cross Validation"
   ]
  },
  {
   "cell_type": "code",
   "execution_count": 1,
   "metadata": {},
   "outputs": [],
   "source": [
    "# Built-in library\n",
    "from typing import Any, Optional, Sequence, Union\n",
    "\n",
    "# Standard imports\n",
    "import numpy as np\n",
    "import torch\n",
    "import torch.nn as nn\n",
    "import torch.nn.functional as F\n",
    "import pandas as pd\n",
    "import matplotlib.pyplot as plt\n",
    "\n",
    "# Black code formatter (Optional)\n",
    "%load_ext lab_black\n",
    "# auto reload imports\n",
    "%load_ext autoreload\n",
    "%autoreload 2"
   ]
  },
  {
   "cell_type": "code",
   "execution_count": 2,
   "metadata": {},
   "outputs": [],
   "source": [
    "# Configure the backend\n",
    "import matplotlib_inline.backend_inline\n",
    "\n",
    "matplotlib_inline.backend_inline.set_matplotlib_formats(\"svg\")\n",
    "import seaborn as sns"
   ]
  },
  {
   "cell_type": "code",
   "execution_count": 3,
   "metadata": {},
   "outputs": [],
   "source": [
    "def create_iris_data() -> tuple[np.ndarray, np.ndarray]:\n",
    "    \"\"\"This returns the independent and the target features.\"\"\"\n",
    "    # load data\n",
    "    iris_data = sns.load_dataset(\"iris\")\n",
    "\n",
    "    # Preprocess the data\n",
    "    condlist = [\n",
    "        (iris_data[\"species\"] == \"setosa\"),\n",
    "        (iris_data[\"species\"] == \"versicolor\"),\n",
    "        iris_data[\"species\"] == \"virginica\",\n",
    "    ]\n",
    "    choicelist = [0, 1, 2]\n",
    "    iris_data[\"target\"] = np.select(condlist=condlist, choicelist=choicelist)\n",
    "\n",
    "    # Convert the data to Torch tensor\n",
    "    X = torch.tensor(iris_data.loc[:, iris_data.columns[:4]].values).float()\n",
    "    y = torch.tensor(iris_data[\"target\"].values).long()\n",
    "\n",
    "    print(f\"Shape of X: {X.shape}, Shape of X: {y.shape}\")\n",
    "    return (X, y)"
   ]
  },
  {
   "cell_type": "code",
   "execution_count": 4,
   "metadata": {},
   "outputs": [
    {
     "name": "stdout",
     "output_type": "stream",
     "text": [
      "Shape of X: torch.Size([150, 4]), Shape of X: torch.Size([150])\n"
     ]
    }
   ],
   "source": [
    "# Load data\n",
    "X, y = create_iris_data()"
   ]
  },
  {
   "cell_type": "markdown",
   "metadata": {},
   "source": [
    "#### Separate Into Train and Test"
   ]
  },
  {
   "cell_type": "code",
   "execution_count": 5,
   "metadata": {},
   "outputs": [
    {
     "data": {
      "text/plain": [
       "array([0.51182162, 0.9504637 , 0.14415961, 0.94864945, 0.31183145,\n",
       "       0.42332645, 0.82770259, 0.40919914, 0.54959369, 0.02755911])"
      ]
     },
     "execution_count": 5,
     "metadata": {},
     "output_type": "execute_result"
    }
   ],
   "source": [
    "rng = np.random.default_rng(seed=1)\n",
    "arr = rng.random(10)\n",
    "arr"
   ]
  },
  {
   "cell_type": "code",
   "execution_count": 6,
   "metadata": {},
   "outputs": [
    {
     "data": {
      "text/plain": [
       "array([6, 4, 1, 3, 7, 5, 8, 0])"
      ]
     },
     "execution_count": 6,
     "metadata": {},
     "output_type": "execute_result"
    }
   ],
   "source": [
    "training_pct = 0.8\n",
    "training_size = int(arr.shape[0] * training_pct)\n",
    "\n",
    "data_bools = np.zeros(shape=(arr.shape[0]), dtype=bool)\n",
    "\n",
    "# Select the training indices\n",
    "training_idxs = np.random.choice(\n",
    "    a=range(arr.shape[0]), size=training_size, replace=False\n",
    ")\n",
    "training_idxs"
   ]
  },
  {
   "cell_type": "code",
   "execution_count": 7,
   "metadata": {},
   "outputs": [
    {
     "data": {
      "text/plain": [
       "array([ True,  True, False,  True,  True,  True,  True,  True,  True,\n",
       "       False])"
      ]
     },
     "execution_count": 7,
     "metadata": {},
     "output_type": "execute_result"
    }
   ],
   "source": [
    "# Add the training indices and equate them to True\n",
    "data_bools[training_idxs] = True\n",
    "data_bools"
   ]
  },
  {
   "cell_type": "code",
   "execution_count": 8,
   "metadata": {},
   "outputs": [
    {
     "data": {
      "text/plain": [
       "array([0.51182162, 0.9504637 , 0.94864945, 0.31183145, 0.42332645,\n",
       "       0.82770259, 0.40919914, 0.54959369])"
      ]
     },
     "execution_count": 8,
     "metadata": {},
     "output_type": "execute_result"
    }
   ],
   "source": [
    "# Select the training data\n",
    "training_data = arr[data_bools]\n",
    "training_data"
   ]
  },
  {
   "cell_type": "code",
   "execution_count": 9,
   "metadata": {},
   "outputs": [
    {
     "data": {
      "text/plain": [
       "array([0.14415961, 0.02755911])"
      ]
     },
     "execution_count": 9,
     "metadata": {},
     "output_type": "execute_result"
    }
   ],
   "source": [
    "# Select the inverse\n",
    "test_data = arr[~data_bools]\n",
    "test_data"
   ]
  },
  {
   "cell_type": "code",
   "execution_count": 10,
   "metadata": {},
   "outputs": [],
   "source": [
    "# Putting it together\n",
    "def split_data_into_train_test(\n",
    "    input_arr: np.ndarray, training_pct: float\n",
    ") -> tuple[np.ndarray, np.ndarray]:\n",
    "\n",
    "    training_size = int(input_arr.shape[0] * training_pct)\n",
    "    # Array containing the training and test indices\n",
    "    data_bools = np.zeros(shape=(input_arr.shape[0]), dtype=bool)\n",
    "\n",
    "    # Select the training indices\n",
    "    training_idxs = np.random.choice(\n",
    "        a=range(input_arr.shape[0]), size=training_size, replace=False\n",
    "    )\n",
    "    # Add the training indices and equate them to True\n",
    "    data_bools[training_idxs] = True\n",
    "    # Select the training data\n",
    "    training_data = input_arr[data_bools]\n",
    "    # Select the inverse\n",
    "    test_data = input_arr[~data_bools]\n",
    "    return (training_data, test_data)"
   ]
  },
  {
   "cell_type": "code",
   "execution_count": 11,
   "metadata": {},
   "outputs": [
    {
     "data": {
      "text/plain": [
       "(torch.Size([120, 4]), torch.Size([30, 4]))"
      ]
     },
     "execution_count": 11,
     "metadata": {},
     "output_type": "execute_result"
    }
   ],
   "source": [
    "X_train, X_test = split_data_into_train_test(input_arr=X, training_pct=0.8)\n",
    "\n",
    "X_train.shape, X_test.shape"
   ]
  },
  {
   "cell_type": "code",
   "execution_count": 12,
   "metadata": {},
   "outputs": [
    {
     "data": {
      "text/plain": [
       "(torch.Size([120]), torch.Size([30]))"
      ]
     },
     "execution_count": 12,
     "metadata": {},
     "output_type": "execute_result"
    }
   ],
   "source": [
    "y_train, y_test = split_data_into_train_test(input_arr=y, training_pct=0.8)\n",
    "y_train.shape, y_test.shape"
   ]
  },
  {
   "cell_type": "code",
   "execution_count": 13,
   "metadata": {},
   "outputs": [],
   "source": [
    "# Build ANN\n",
    "class Net(nn.Module):\n",
    "    \"\"\"Artificial Neural Network.\"\"\"\n",
    "\n",
    "    def __init__(self, n_units: int, *args, **kwargs) -> None:\n",
    "        super().__init__(*args, **kwargs)\n",
    "        self.input = nn.Linear(4, n_units)\n",
    "        self.output = nn.Linear(n_units, 3)\n",
    "\n",
    "    def forward(self, X: torch.Tensor) -> torch.Tensor:\n",
    "        \"\"\"This is used to perform forward propagation.\"\"\"\n",
    "        X = self.input(X)\n",
    "        X = F.relu(X)\n",
    "        X = self.output(X)\n",
    "        X = F.softmax(X)\n",
    "        return X"
   ]
  },
  {
   "cell_type": "code",
   "execution_count": 14,
   "metadata": {},
   "outputs": [
    {
     "data": {
      "text/plain": [
       "Net(\n",
       "  (input): Linear(in_features=4, out_features=32, bias=True)\n",
       "  (output): Linear(in_features=32, out_features=3, bias=True)\n",
       ")"
      ]
     },
     "execution_count": 14,
     "metadata": {},
     "output_type": "execute_result"
    }
   ],
   "source": [
    "net = Net(n_units=32)\n",
    "net"
   ]
  },
  {
   "cell_type": "code",
   "execution_count": 15,
   "metadata": {},
   "outputs": [
    {
     "name": "stderr",
     "output_type": "stream",
     "text": [
      "/var/folders/ny/dl75sc_x2tb54lsymt5bh5p00000gn/T/ipykernel_94548/3250296758.py:15: UserWarning: Implicit dimension choice for softmax has been deprecated. Change the call to include dim=X as an argument.\n",
      "  X = F.softmax(X)\n"
     ]
    },
    {
     "data": {
      "text/plain": [
       "(tensor(92.5000), tensor(96.6667))"
      ]
     },
     "execution_count": 15,
     "metadata": {},
     "output_type": "execute_result"
    }
   ],
   "source": [
    "# Train the model\n",
    "learning_rate, epochs = 0.01, 1_000\n",
    "optimizer = torch.optim.SGD(params=net.parameters(), lr=learning_rate)\n",
    "criterion = nn.CrossEntropyLoss()\n",
    "losses = torch.zeros(size=(epochs,))\n",
    "\n",
    "for epoch_idx in np.arange(epochs):\n",
    "    # Reset the gradients from prev. back prop\n",
    "    optimizer.zero_grad()\n",
    "\n",
    "    # Fwd prop\n",
    "    _y_pred = net(X_train)\n",
    "\n",
    "    # Compute loss\n",
    "    loss = criterion(_y_pred, y_train)\n",
    "    losses[epoch_idx] = loss\n",
    "\n",
    "    # Back prop\n",
    "    loss.backward()\n",
    "    optimizer.step()\n",
    "\n",
    "\n",
    "# Make predictions\n",
    "# Training data\n",
    "y_proba_train = net(X_train)\n",
    "y_pred_train = torch.argmax(y_proba_train, axis=1)\n",
    "accuracy_train = torch.mean((y_pred_train == y_train).float()) * 100\n",
    "\n",
    "# Test data\n",
    "y_proba_test = net(X_test)\n",
    "y_pred_test = torch.argmax(y_proba_test, axis=1)\n",
    "accuracy_test = torch.mean((y_pred_test == y_test).float()) * 100\n",
    "\n",
    "\n",
    "accuracy_train, accuracy_test"
   ]
  },
  {
   "cell_type": "code",
   "execution_count": 16,
   "metadata": {},
   "outputs": [
    {
     "data": {
      "text/plain": [
       "Counter({0: 8, 1: 14, 2: 8})"
      ]
     },
     "execution_count": 16,
     "metadata": {},
     "output_type": "execute_result"
    }
   ],
   "source": [
    "torch.unique(y_train)\n",
    "\n",
    "from collections import Counter\n",
    "\n",
    "Counter(list(np.array(y_test)))"
   ]
  },
  {
   "cell_type": "code",
   "execution_count": null,
   "metadata": {},
   "outputs": [],
   "source": []
  },
  {
   "cell_type": "code",
   "execution_count": null,
   "metadata": {},
   "outputs": [],
   "source": []
  },
  {
   "cell_type": "code",
   "execution_count": null,
   "metadata": {},
   "outputs": [],
   "source": []
  },
  {
   "cell_type": "code",
   "execution_count": null,
   "metadata": {},
   "outputs": [],
   "source": []
  },
  {
   "cell_type": "code",
   "execution_count": null,
   "metadata": {},
   "outputs": [],
   "source": []
  },
  {
   "cell_type": "code",
   "execution_count": null,
   "metadata": {},
   "outputs": [],
   "source": []
  },
  {
   "cell_type": "code",
   "execution_count": null,
   "metadata": {},
   "outputs": [],
   "source": []
  },
  {
   "cell_type": "code",
   "execution_count": null,
   "metadata": {},
   "outputs": [],
   "source": []
  }
 ],
 "metadata": {
  "kernelspec": {
   "display_name": "torch_p310",
   "language": "python",
   "name": "python3"
  },
  "language_info": {
   "codemirror_mode": {
    "name": "ipython",
    "version": 3
   },
   "file_extension": ".py",
   "mimetype": "text/x-python",
   "name": "python",
   "nbconvert_exporter": "python",
   "pygments_lexer": "ipython3",
   "version": "3.10.10"
  },
  "orig_nbformat": 4
 },
 "nbformat": 4,
 "nbformat_minor": 2
}
